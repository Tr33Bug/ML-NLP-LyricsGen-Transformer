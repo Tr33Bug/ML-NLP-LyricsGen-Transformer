{
 "cells": [
  {
   "cell_type": "markdown",
   "metadata": {},
   "source": [
    "# Evaluate Model"
   ]
  },
  {
   "cell_type": "markdown",
   "metadata": {},
   "source": [
    "---\n",
    "\n",
    "## init\n"
   ]
  },
  {
   "cell_type": "code",
   "execution_count": 1,
   "metadata": {},
   "outputs": [
    {
     "name": "stdout",
     "output_type": "stream",
     "text": [
      "Requirement already satisfied: pandas in c:\\users\\micha\\appdata\\local\\programs\\python\\python38\\lib\\site-packages (1.4.2)\n",
      "Requirement already satisfied: pytz>=2020.1 in c:\\users\\micha\\appdata\\local\\programs\\python\\python38\\lib\\site-packages (from pandas) (2022.1)\n",
      "Requirement already satisfied: numpy>=1.18.5 in c:\\users\\micha\\appdata\\local\\programs\\python\\python38\\lib\\site-packages (from pandas) (1.22.3)\n",
      "Requirement already satisfied: python-dateutil>=2.8.1 in c:\\users\\micha\\appdata\\local\\programs\\python\\python38\\lib\\site-packages (from pandas) (2.8.2)\n",
      "Requirement already satisfied: six>=1.5 in c:\\users\\micha\\appdata\\local\\programs\\python\\python38\\lib\\site-packages (from python-dateutil>=2.8.1->pandas) (1.16.0)\n",
      "Requirement already satisfied: transformers in c:\\users\\micha\\appdata\\local\\programs\\python\\python38\\lib\\site-packages (4.24.0)\n",
      "Requirement already satisfied: requests in c:\\users\\micha\\appdata\\local\\programs\\python\\python38\\lib\\site-packages (from transformers) (2.28.1)\n",
      "Requirement already satisfied: packaging>=20.0 in c:\\users\\micha\\appdata\\local\\programs\\python\\python38\\lib\\site-packages (from transformers) (21.3)\n",
      "Requirement already satisfied: pyyaml>=5.1 in c:\\users\\micha\\appdata\\local\\programs\\python\\python38\\lib\\site-packages (from transformers) (6.0)\n",
      "Requirement already satisfied: numpy>=1.17 in c:\\users\\micha\\appdata\\local\\programs\\python\\python38\\lib\\site-packages (from transformers) (1.22.3)\n",
      "Requirement already satisfied: tqdm>=4.27 in c:\\users\\micha\\appdata\\local\\programs\\python\\python38\\lib\\site-packages (from transformers) (4.64.1)\n",
      "Requirement already satisfied: tokenizers!=0.11.3,<0.14,>=0.11.1 in c:\\users\\micha\\appdata\\local\\programs\\python\\python38\\lib\\site-packages (from transformers) (0.13.2)\n",
      "Requirement already satisfied: huggingface-hub<1.0,>=0.10.0 in c:\\users\\micha\\appdata\\local\\programs\\python\\python38\\lib\\site-packages (from transformers) (0.11.1)\n",
      "Requirement already satisfied: regex!=2019.12.17 in c:\\users\\micha\\appdata\\local\\programs\\python\\python38\\lib\\site-packages (from transformers) (2022.10.31)\n",
      "Requirement already satisfied: filelock in c:\\users\\micha\\appdata\\local\\programs\\python\\python38\\lib\\site-packages (from transformers) (3.8.0)\n",
      "Requirement already satisfied: typing-extensions>=3.7.4.3 in c:\\users\\micha\\appdata\\local\\programs\\python\\python38\\lib\\site-packages (from huggingface-hub<1.0,>=0.10.0->transformers) (4.4.0)\n",
      "Requirement already satisfied: pyparsing!=3.0.5,>=2.0.2 in c:\\users\\micha\\appdata\\local\\programs\\python\\python38\\lib\\site-packages (from packaging>=20.0->transformers) (3.0.9)\n",
      "Requirement already satisfied: colorama in c:\\users\\micha\\appdata\\local\\programs\\python\\python38\\lib\\site-packages (from tqdm>=4.27->transformers) (0.4.4)\n",
      "Requirement already satisfied: charset-normalizer<3,>=2 in c:\\users\\micha\\appdata\\local\\programs\\python\\python38\\lib\\site-packages (from requests->transformers) (2.1.1)\n",
      "Requirement already satisfied: idna<4,>=2.5 in c:\\users\\micha\\appdata\\local\\programs\\python\\python38\\lib\\site-packages (from requests->transformers) (3.4)\n",
      "Requirement already satisfied: urllib3<1.27,>=1.21.1 in c:\\users\\micha\\appdata\\local\\programs\\python\\python38\\lib\\site-packages (from requests->transformers) (1.26.12)\n",
      "Requirement already satisfied: certifi>=2017.4.17 in c:\\users\\micha\\appdata\\local\\programs\\python\\python38\\lib\\site-packages (from requests->transformers) (2022.9.24)\n",
      "Requirement already satisfied: seaborn in c:\\users\\micha\\appdata\\local\\programs\\python\\python38\\lib\\site-packages (0.11.2)\n",
      "Requirement already satisfied: scipy>=1.0 in c:\\users\\micha\\appdata\\local\\programs\\python\\python38\\lib\\site-packages (from seaborn) (1.8.0)\n",
      "Requirement already satisfied: pandas>=0.23 in c:\\users\\micha\\appdata\\local\\programs\\python\\python38\\lib\\site-packages (from seaborn) (1.4.2)\n",
      "Requirement already satisfied: matplotlib>=2.2 in c:\\users\\micha\\appdata\\local\\programs\\python\\python38\\lib\\site-packages (from seaborn) (3.5.2)\n",
      "Requirement already satisfied: numpy>=1.15 in c:\\users\\micha\\appdata\\local\\programs\\python\\python38\\lib\\site-packages (from seaborn) (1.22.3)\n",
      "Requirement already satisfied: python-dateutil>=2.7 in c:\\users\\micha\\appdata\\local\\programs\\python\\python38\\lib\\site-packages (from matplotlib>=2.2->seaborn) (2.8.2)\n",
      "Requirement already satisfied: packaging>=20.0 in c:\\users\\micha\\appdata\\local\\programs\\python\\python38\\lib\\site-packages (from matplotlib>=2.2->seaborn) (21.3)\n",
      "Requirement already satisfied: fonttools>=4.22.0 in c:\\users\\micha\\appdata\\local\\programs\\python\\python38\\lib\\site-packages (from matplotlib>=2.2->seaborn) (4.33.3)\n",
      "Requirement already satisfied: kiwisolver>=1.0.1 in c:\\users\\micha\\appdata\\local\\programs\\python\\python38\\lib\\site-packages (from matplotlib>=2.2->seaborn) (1.4.2)\n",
      "Requirement already satisfied: pillow>=6.2.0 in c:\\users\\micha\\appdata\\local\\programs\\python\\python38\\lib\\site-packages (from matplotlib>=2.2->seaborn) (9.1.0)\n",
      "Requirement already satisfied: cycler>=0.10 in c:\\users\\micha\\appdata\\local\\programs\\python\\python38\\lib\\site-packages (from matplotlib>=2.2->seaborn) (0.11.0)\n",
      "Requirement already satisfied: pyparsing>=2.2.1 in c:\\users\\micha\\appdata\\local\\programs\\python\\python38\\lib\\site-packages (from matplotlib>=2.2->seaborn) (3.0.9)\n",
      "Requirement already satisfied: pytz>=2020.1 in c:\\users\\micha\\appdata\\local\\programs\\python\\python38\\lib\\site-packages (from pandas>=0.23->seaborn) (2022.1)\n",
      "Requirement already satisfied: six>=1.5 in c:\\users\\micha\\appdata\\local\\programs\\python\\python38\\lib\\site-packages (from python-dateutil>=2.7->matplotlib>=2.2->seaborn) (1.16.0)\n",
      "Requirement already satisfied: matplotlib in c:\\users\\micha\\appdata\\local\\programs\\python\\python38\\lib\\site-packages (3.5.2)\n",
      "Requirement already satisfied: cycler>=0.10 in c:\\users\\micha\\appdata\\local\\programs\\python\\python38\\lib\\site-packages (from matplotlib) (0.11.0)\n",
      "Requirement already satisfied: pyparsing>=2.2.1 in c:\\users\\micha\\appdata\\local\\programs\\python\\python38\\lib\\site-packages (from matplotlib) (3.0.9)\n",
      "Requirement already satisfied: python-dateutil>=2.7 in c:\\users\\micha\\appdata\\local\\programs\\python\\python38\\lib\\site-packages (from matplotlib) (2.8.2)\n",
      "Requirement already satisfied: pillow>=6.2.0 in c:\\users\\micha\\appdata\\local\\programs\\python\\python38\\lib\\site-packages (from matplotlib) (9.1.0)\n",
      "Requirement already satisfied: packaging>=20.0 in c:\\users\\micha\\appdata\\local\\programs\\python\\python38\\lib\\site-packages (from matplotlib) (21.3)\n",
      "Requirement already satisfied: numpy>=1.17 in c:\\users\\micha\\appdata\\local\\programs\\python\\python38\\lib\\site-packages (from matplotlib) (1.22.3)\n",
      "Requirement already satisfied: fonttools>=4.22.0 in c:\\users\\micha\\appdata\\local\\programs\\python\\python38\\lib\\site-packages (from matplotlib) (4.33.3)\n",
      "Requirement already satisfied: kiwisolver>=1.0.1 in c:\\users\\micha\\appdata\\local\\programs\\python\\python38\\lib\\site-packages (from matplotlib) (1.4.2)\n",
      "Requirement already satisfied: six>=1.5 in c:\\users\\micha\\appdata\\local\\programs\\python\\python38\\lib\\site-packages (from python-dateutil>=2.7->matplotlib) (1.16.0)\n",
      "Requirement already satisfied: numpy in c:\\users\\micha\\appdata\\local\\programs\\python\\python38\\lib\\site-packages (1.22.3)\n",
      "Requirement already satisfied: evaluate in c:\\users\\micha\\appdata\\local\\programs\\python\\python38\\lib\\site-packages (0.3.0)\n",
      "Requirement already satisfied: huggingface-hub>=0.7.0 in c:\\users\\micha\\appdata\\local\\programs\\python\\python38\\lib\\site-packages (from evaluate) (0.11.1)\n",
      "Requirement already satisfied: responses<0.19 in c:\\users\\micha\\appdata\\local\\programs\\python\\python38\\lib\\site-packages (from evaluate) (0.18.0)\n",
      "Requirement already satisfied: tqdm>=4.62.1 in c:\\users\\micha\\appdata\\local\\programs\\python\\python38\\lib\\site-packages (from evaluate) (4.64.1)\n",
      "Requirement already satisfied: xxhash in c:\\users\\micha\\appdata\\local\\programs\\python\\python38\\lib\\site-packages (from evaluate) (3.1.0)\n",
      "Requirement already satisfied: numpy>=1.17 in c:\\users\\micha\\appdata\\local\\programs\\python\\python38\\lib\\site-packages (from evaluate) (1.22.3)\n",
      "Requirement already satisfied: multiprocess in c:\\users\\micha\\appdata\\local\\programs\\python\\python38\\lib\\site-packages (from evaluate) (0.70.14)\n",
      "Requirement already satisfied: requests>=2.19.0 in c:\\users\\micha\\appdata\\local\\programs\\python\\python38\\lib\\site-packages (from evaluate) (2.28.1)\n",
      "Requirement already satisfied: dill in c:\\users\\micha\\appdata\\local\\programs\\python\\python38\\lib\\site-packages (from evaluate) (0.3.6)\n",
      "Requirement already satisfied: pandas in c:\\users\\micha\\appdata\\local\\programs\\python\\python38\\lib\\site-packages (from evaluate) (1.4.2)\n",
      "Requirement already satisfied: fsspec[http]>=2021.05.0 in c:\\users\\micha\\appdata\\local\\programs\\python\\python38\\lib\\site-packages (from evaluate) (2022.11.0)\n",
      "Requirement already satisfied: packaging in c:\\users\\micha\\appdata\\local\\programs\\python\\python38\\lib\\site-packages (from evaluate) (21.3)\n",
      "Requirement already satisfied: datasets>=2.0.0 in c:\\users\\micha\\appdata\\local\\programs\\python\\python38\\lib\\site-packages (from evaluate) (2.7.1)\n",
      "Requirement already satisfied: pyyaml>=5.1 in c:\\users\\micha\\appdata\\local\\programs\\python\\python38\\lib\\site-packages (from datasets>=2.0.0->evaluate) (6.0)\n",
      "Requirement already satisfied: aiohttp in c:\\users\\micha\\appdata\\local\\programs\\python\\python38\\lib\\site-packages (from datasets>=2.0.0->evaluate) (3.8.3)\n",
      "Requirement already satisfied: pyarrow>=6.0.0 in c:\\users\\micha\\appdata\\local\\programs\\python\\python38\\lib\\site-packages (from datasets>=2.0.0->evaluate) (10.0.1)\n",
      "Requirement already satisfied: filelock in c:\\users\\micha\\appdata\\local\\programs\\python\\python38\\lib\\site-packages (from huggingface-hub>=0.7.0->evaluate) (3.8.0)\n",
      "Requirement already satisfied: typing-extensions>=3.7.4.3 in c:\\users\\micha\\appdata\\local\\programs\\python\\python38\\lib\\site-packages (from huggingface-hub>=0.7.0->evaluate) (4.4.0)\n",
      "Requirement already satisfied: pyparsing!=3.0.5,>=2.0.2 in c:\\users\\micha\\appdata\\local\\programs\\python\\python38\\lib\\site-packages (from packaging->evaluate) (3.0.9)\n",
      "Requirement already satisfied: idna<4,>=2.5 in c:\\users\\micha\\appdata\\local\\programs\\python\\python38\\lib\\site-packages (from requests>=2.19.0->evaluate) (3.4)\n",
      "Requirement already satisfied: charset-normalizer<3,>=2 in c:\\users\\micha\\appdata\\local\\programs\\python\\python38\\lib\\site-packages (from requests>=2.19.0->evaluate) (2.1.1)\n",
      "Requirement already satisfied: certifi>=2017.4.17 in c:\\users\\micha\\appdata\\local\\programs\\python\\python38\\lib\\site-packages (from requests>=2.19.0->evaluate) (2022.9.24)\n",
      "Requirement already satisfied: urllib3<1.27,>=1.21.1 in c:\\users\\micha\\appdata\\local\\programs\\python\\python38\\lib\\site-packages (from requests>=2.19.0->evaluate) (1.26.12)\n",
      "Requirement already satisfied: colorama in c:\\users\\micha\\appdata\\local\\programs\\python\\python38\\lib\\site-packages (from tqdm>=4.62.1->evaluate) (0.4.4)\n",
      "Requirement already satisfied: python-dateutil>=2.8.1 in c:\\users\\micha\\appdata\\local\\programs\\python\\python38\\lib\\site-packages (from pandas->evaluate) (2.8.2)\n",
      "Requirement already satisfied: pytz>=2020.1 in c:\\users\\micha\\appdata\\local\\programs\\python\\python38\\lib\\site-packages (from pandas->evaluate) (2022.1)\n",
      "Requirement already satisfied: frozenlist>=1.1.1 in c:\\users\\micha\\appdata\\local\\programs\\python\\python38\\lib\\site-packages (from aiohttp->datasets>=2.0.0->evaluate) (1.3.3)\n",
      "Requirement already satisfied: async-timeout<5.0,>=4.0.0a3 in c:\\users\\micha\\appdata\\local\\programs\\python\\python38\\lib\\site-packages (from aiohttp->datasets>=2.0.0->evaluate) (4.0.2)\n",
      "Requirement already satisfied: attrs>=17.3.0 in c:\\users\\micha\\appdata\\local\\programs\\python\\python38\\lib\\site-packages (from aiohttp->datasets>=2.0.0->evaluate) (21.4.0)\n",
      "Requirement already satisfied: aiosignal>=1.1.2 in c:\\users\\micha\\appdata\\local\\programs\\python\\python38\\lib\\site-packages (from aiohttp->datasets>=2.0.0->evaluate) (1.3.1)\n",
      "Requirement already satisfied: yarl<2.0,>=1.0 in c:\\users\\micha\\appdata\\local\\programs\\python\\python38\\lib\\site-packages (from aiohttp->datasets>=2.0.0->evaluate) (1.8.1)\n",
      "Requirement already satisfied: multidict<7.0,>=4.5 in c:\\users\\micha\\appdata\\local\\programs\\python\\python38\\lib\\site-packages (from aiohttp->datasets>=2.0.0->evaluate) (6.0.2)\n",
      "Requirement already satisfied: six>=1.5 in c:\\users\\micha\\appdata\\local\\programs\\python\\python38\\lib\\site-packages (from python-dateutil>=2.8.1->pandas->evaluate) (1.16.0)\n"
     ]
    }
   ],
   "source": [
    "! pip install pandas\n",
    "! pip install transformers\n",
    "! pip install seaborn\n",
    "! pip install matplotlib\n",
    "! pip install numpy\n",
    "! pip install evaluate"
   ]
  },
  {
   "cell_type": "code",
   "execution_count": 15,
   "metadata": {},
   "outputs": [],
   "source": [
    "# imports\n",
    "import transformers\n",
    "import pandas as pd\n",
    "import seaborn as sns\n",
    "import matplotlib.pyplot as plt\n",
    "import numpy as np\n",
    "\n",
    "from transformers import GPT2Tokenizer, GPT2LMHeadModel\n",
    "from transformers import pipeline\n",
    "import evaluate"
   ]
  },
  {
   "cell_type": "markdown",
   "metadata": {},
   "source": [
    "---\n",
    "\n",
    "## Load training results"
   ]
  },
  {
   "cell_type": "code",
   "execution_count": 3,
   "metadata": {
    "scrolled": false
   },
   "outputs": [
    {
     "data": {
      "text/html": [
       "<div>\n",
       "<style scoped>\n",
       "    .dataframe tbody tr th:only-of-type {\n",
       "        vertical-align: middle;\n",
       "    }\n",
       "\n",
       "    .dataframe tbody tr th {\n",
       "        vertical-align: top;\n",
       "    }\n",
       "\n",
       "    .dataframe thead th {\n",
       "        text-align: right;\n",
       "    }\n",
       "</style>\n",
       "<table border=\"1\" class=\"dataframe\">\n",
       "  <thead>\n",
       "    <tr style=\"text-align: right;\">\n",
       "      <th></th>\n",
       "      <th>Training Loss</th>\n",
       "      <th>Valid. Loss</th>\n",
       "      <th>Training Time</th>\n",
       "      <th>Validation Time</th>\n",
       "    </tr>\n",
       "    <tr>\n",
       "      <th>epoch</th>\n",
       "      <th></th>\n",
       "      <th></th>\n",
       "      <th></th>\n",
       "      <th></th>\n",
       "    </tr>\n",
       "  </thead>\n",
       "  <tbody>\n",
       "    <tr>\n",
       "      <th>1</th>\n",
       "      <td>3.450655</td>\n",
       "      <td>2.332221</td>\n",
       "      <td>0:08:57</td>\n",
       "      <td>0:00:17</td>\n",
       "    </tr>\n",
       "    <tr>\n",
       "      <th>2</th>\n",
       "      <td>2.356057</td>\n",
       "      <td>2.245966</td>\n",
       "      <td>0:08:54</td>\n",
       "      <td>0:00:17</td>\n",
       "    </tr>\n",
       "    <tr>\n",
       "      <th>3</th>\n",
       "      <td>2.277222</td>\n",
       "      <td>2.206400</td>\n",
       "      <td>0:08:54</td>\n",
       "      <td>0:00:17</td>\n",
       "    </tr>\n",
       "    <tr>\n",
       "      <th>4</th>\n",
       "      <td>2.219143</td>\n",
       "      <td>2.181368</td>\n",
       "      <td>0:08:53</td>\n",
       "      <td>0:00:17</td>\n",
       "    </tr>\n",
       "    <tr>\n",
       "      <th>5</th>\n",
       "      <td>2.172749</td>\n",
       "      <td>2.166468</td>\n",
       "      <td>0:08:57</td>\n",
       "      <td>0:00:17</td>\n",
       "    </tr>\n",
       "  </tbody>\n",
       "</table>\n",
       "</div>"
      ],
      "text/plain": [
       "       Training Loss  Valid. Loss Training Time Validation Time\n",
       "epoch                                                          \n",
       "1           3.450655     2.332221       0:08:57         0:00:17\n",
       "2           2.356057     2.245966       0:08:54         0:00:17\n",
       "3           2.277222     2.206400       0:08:54         0:00:17\n",
       "4           2.219143     2.181368       0:08:53         0:00:17\n",
       "5           2.172749     2.166468       0:08:57         0:00:17"
      ]
     },
     "execution_count": 3,
     "metadata": {},
     "output_type": "execute_result"
    }
   ],
   "source": [
    "# load trainin.csv\n",
    "df_stats = pd.read_csv('./trainingRuns/22_12_03_Run_02_E40_BS_2/training_stats.csv')\n",
    "df_stats = df_stats.set_index('epoch')\n",
    "df_stats.head()"
   ]
  },
  {
   "cell_type": "code",
   "execution_count": 4,
   "metadata": {},
   "outputs": [
    {
     "data": {
      "image/png": "[encoded data removed]",
      "text/plain": [
       "<Figure size 432x288 with 1 Axes>"
      ]
     },
     "metadata": {
      "needs_background": "light"
     },
     "output_type": "display_data"
    }
   ],
   "source": [
    "# Plot graph\n",
    "sns.set(style='darkgrid')\n",
    "\n",
    "# Increase the plot size and font size.\n",
    "sns.set(font_scale=1.5)\n",
    "plt.rcParams[\"figure.figsize\"] = (18,6)\n",
    "\n",
    "# Plot the learning curve.\n",
    "plt.plot(df_stats['Training Loss'], 'b-o', label=\"Training\")\n",
    "plt.plot(df_stats['Valid. Loss'], 'g-o', label=\"Validation\")\n",
    "\n",
    "# Label the plot.\n",
    "plt.title(\"Training & Validation Loss\")\n",
    "plt.xlabel(\"Epoch\")\n",
    "plt.ylabel(\"Loss\")\n",
    "plt.legend()\n",
    "plt.xticks(np.arange(len(df_stats)))\n",
    "\n",
    "plt.show()"
   ]
  },
  {
   "cell_type": "markdown",
   "metadata": {},
   "source": [
    "---\n",
    "\n",
    "## Load model\n"
   ]
  },
  {
   "cell_type": "code",
   "execution_count": 5,
   "metadata": {},
   "outputs": [
    {
     "data": {
      "text/plain": [
       "Embedding(50257, 768)"
      ]
     },
     "execution_count": 5,
     "metadata": {},
     "output_type": "execute_result"
    }
   ],
   "source": [
    "# load model from file\n",
    "tokenizer = GPT2Tokenizer.from_pretrained('gpt2') #gpt2-medium\n",
    "model = GPT2LMHeadModel.from_pretrained('./trainingRuns/22_12_03_Run_02_E40_BS_2/model_save/')\n",
    "\n",
    "model.resize_token_embeddings(len(tokenizer))"
   ]
  },
  {
   "cell_type": "code",
   "execution_count": 6,
   "metadata": {},
   "outputs": [
    {
     "name": "stderr",
     "output_type": "stream",
     "text": [
      "Setting `pad_token_id` to `eos_token_id`:50256 for open-end generation.\n"
     ]
    }
   ],
   "source": [
    "# pipline for text generation\n",
    "\n",
    "lyrics_pipeline = pipeline('text-generation',model=model, tokenizer=tokenizer)\n",
    "\n",
    "song_input = 'We need lyrics..'\n",
    "\n",
    "result = lyrics_pipeline(song_input, max_length=1024,min_length=512)[0]['generated_text']"
   ]
  },
  {
   "cell_type": "code",
   "execution_count": 7,
   "metadata": {},
   "outputs": [
    {
     "name": "stdout",
     "output_type": "stream",
     "text": [
      "We need lyrics..you are the type that Im like What the fuck is wrong with you \n",
      "Trying to get a feelin that you got what I need \n",
      "I dont usually get down but you got somethin to say\n",
      "To start ya talkin you need ta be a leader for the whole squad\n",
      "Yall dont know the game you shoulda been told it was wack\n",
      "We on the upanddown with your game you was never taught\n",
      "I was down for what I fella did to the game you aint never been a part of this clan\n",
      "Told you Ive been in and out of jails puttin hits in magazines front of cameras\n",
      "You couldnt tell me nothin nigga you was tryna sell was gold nigga\n",
      "Niggas was tryna sell but were just tryna sell mines\n",
      "Now you gettin paid off and I heard that youll go to jail gettin pardons\n",
      "So you put out your music you be slingin verses at everybody\n",
      "Fuckin in my section nigga you niggas goin too far\n",
      "Nigga go get it nigga Ill never let that shit slide away\n",
      "You never knew then you couldnt learn\n",
      "From all my mistakes and all I will do is get better\n",
      "I keep on keepin on keep on\n",
      "Havin love for the city\n",
      "Dont let that man fool you\n",
      "You know I love the streets like a fucking thong\n",
      "I dont play around wit niggas who I fuck wit\n",
      "Cause every night you comin back with a nigga you know what Im sayin\n",
      "Nigga you know what Im sayin\n",
      "Nigga I be the first to come off in your spot and be like Fuck it\n",
      "All I want is the respect that you get when you come back\n",
      "Told you you had a right to be my witness\n",
      "Im tellin you now\n",
      "You gots to act mature and not fake\n",
      "And never use your position to get respect disrespect\n",
      "And never say\n",
      "Get respect in the first place dont get respect\n",
      "You aint on no side of the line\n",
      "No nigga gots to do shit more than they got\n",
      "To get respect you never had to do shit at all\n",
      "And you aint gotta be stupid to think about it\n",
      "And you aint got nothin\n",
      "That can fuck with ya respect\n",
      "Trying to get respect in the first place\n",
      "You aint got to be on no side of the line\n",
      "No nigga gots to do shit more than they got\n",
      "To get respect you never had to do shit at all\n",
      "And you aint gotta be stupid to think about it\n",
      "I put out my records for the people\n",
      "Truckin for the people\n",
      "I was on my shit for the people I put out my albums for the people\n",
      "Truckin for the people\n",
      "For the people\n",
      "Fuck a nigga disrespecting these streets\n",
      "You dont know what a nigga get when he come around here tryin to say shit\n",
      "Fuck a nigga disrespecting these streets\n",
      "Nigga you aint learnin from this shit\n",
      "Fuck a nigga disrespecting these streets\n",
      "Nigga you aint learnin from this shit\n",
      "Nigga you aint learnin from this shit\n",
      "Suck my dick\n",
      "Dont get respect\n",
      "No\n",
      "No respect\n",
      "No respect\n",
      "Trying to get respect\n",
      "Never\n",
      "Trying to get respect\n",
      "Never\n",
      "Trying to get respect\n",
      "Never\n",
      "\n"
     ]
    }
   ],
   "source": [
    "print(result)"
   ]
  },
  {
   "cell_type": "code",
   "execution_count": 8,
   "metadata": {},
   "outputs": [],
   "source": [
    "x = tokenizer(result)"
   ]
  },
  {
   "cell_type": "code",
   "execution_count": 9,
   "metadata": {
    "scrolled": false
   },
   "outputs": [
    {
     "name": "stdout",
     "output_type": "stream",
     "text": [
      "711\n"
     ]
    }
   ],
   "source": [
    "print(len(x['input_ids']))"
   ]
  },
  {
   "cell_type": "markdown",
   "metadata": {},
   "source": [
    "---\n",
    "\n",
    "## Calculate BLEU Score"
   ]
  },
  {
   "cell_type": "code",
   "execution_count": 25,
   "metadata": {},
   "outputs": [],
   "source": [
    "lyrics_test_df = pd.read_csv('./datasets/lyrics_test_samples.csv')\n",
    "lyrics_test_df = lyrics_test_df.drop(['Unnamed: 0'], axis=1)"
   ]
  },
  {
   "cell_type": "code",
   "execution_count": 26,
   "metadata": {
    "scrolled": true
   },
   "outputs": [
    {
     "data": {
      "text/html": [
       "<div>\n",
       "<style scoped>\n",
       "    .dataframe tbody tr th:only-of-type {\n",
       "        vertical-align: middle;\n",
       "    }\n",
       "\n",
       "    .dataframe tbody tr th {\n",
       "        vertical-align: top;\n",
       "    }\n",
       "\n",
       "    .dataframe thead th {\n",
       "        text-align: right;\n",
       "    }\n",
       "</style>\n",
       "<table border=\"1\" class=\"dataframe\">\n",
       "  <thead>\n",
       "    <tr style=\"text-align: right;\">\n",
       "      <th></th>\n",
       "      <th>Lyrics</th>\n",
       "      <th>True_end_lyrics</th>\n",
       "      <th>Lyrics_Cut</th>\n",
       "    </tr>\n",
       "  </thead>\n",
       "  <tbody>\n",
       "    <tr>\n",
       "      <th>0</th>\n",
       "      <td>The Queen of Light took her bow And then she t...</td>\n",
       "      <td>now Bring it bring it bring it bring it Bring ...</td>\n",
       "      <td>The Queen of Light took her bow And then she t...</td>\n",
       "    </tr>\n",
       "    <tr>\n",
       "      <th>1</th>\n",
       "      <td>Rhiannon rings like a bell through the night A...</td>\n",
       "      <td>by taken by the sky Taken by taken by the sky ...</td>\n",
       "      <td>Rhiannon rings like a bell through the night A...</td>\n",
       "    </tr>\n",
       "    <tr>\n",
       "      <th>2</th>\n",
       "      <td>TranslationsPortugus Swaying room as the music...</td>\n",
       "      <td>crazy for you And you know its true Yeah Im cr...</td>\n",
       "      <td>TranslationsPortugus Swaying room as the music...</td>\n",
       "    </tr>\n",
       "    <tr>\n",
       "      <th>3</th>\n",
       "      <td>Louise take it all back to town Aint it a sham...</td>\n",
       "      <td>do Louise Louise ooh Ooh ooh ooh oh Louise ooh...</td>\n",
       "      <td>Louise take it all back to town Aint it a sham...</td>\n",
       "    </tr>\n",
       "    <tr>\n",
       "      <th>4</th>\n",
       "      <td>How can you refuse Him now how can you refuse ...</td>\n",
       "      <td>How can you turn away from His side With tears...</td>\n",
       "      <td>How can you refuse Him now how can you refuse ...</td>\n",
       "    </tr>\n",
       "  </tbody>\n",
       "</table>\n",
       "</div>"
      ],
      "text/plain": [
       "                                              Lyrics  \\\n",
       "0  The Queen of Light took her bow And then she t...   \n",
       "1  Rhiannon rings like a bell through the night A...   \n",
       "2  TranslationsPortugus Swaying room as the music...   \n",
       "3  Louise take it all back to town Aint it a sham...   \n",
       "4  How can you refuse Him now how can you refuse ...   \n",
       "\n",
       "                                     True_end_lyrics  \\\n",
       "0  now Bring it bring it bring it bring it Bring ...   \n",
       "1  by taken by the sky Taken by taken by the sky ...   \n",
       "2  crazy for you And you know its true Yeah Im cr...   \n",
       "3  do Louise Louise ooh Ooh ooh ooh oh Louise ooh...   \n",
       "4  How can you turn away from His side With tears...   \n",
       "\n",
       "                                          Lyrics_Cut  \n",
       "0  The Queen of Light took her bow And then she t...  \n",
       "1  Rhiannon rings like a bell through the night A...  \n",
       "2  TranslationsPortugus Swaying room as the music...  \n",
       "3  Louise take it all back to town Aint it a sham...  \n",
       "4  How can you refuse Him now how can you refuse ...  "
      ]
     },
     "execution_count": 26,
     "metadata": {},
     "output_type": "execute_result"
    }
   ],
   "source": [
    "lyrics_test_df.head()"
   ]
  },
  {
   "cell_type": "code",
   "execution_count": 34,
   "metadata": {},
   "outputs": [
    {
     "data": {
      "text/html": [
       "<div>\n",
       "<style scoped>\n",
       "    .dataframe tbody tr th:only-of-type {\n",
       "        vertical-align: middle;\n",
       "    }\n",
       "\n",
       "    .dataframe tbody tr th {\n",
       "        vertical-align: top;\n",
       "    }\n",
       "\n",
       "    .dataframe thead th {\n",
       "        text-align: right;\n",
       "    }\n",
       "</style>\n",
       "<table border=\"1\" class=\"dataframe\">\n",
       "  <thead>\n",
       "    <tr style=\"text-align: right;\">\n",
       "      <th></th>\n",
       "      <th>Lyrics</th>\n",
       "      <th>True_end_lyrics</th>\n",
       "      <th>Lyrics_Cut</th>\n",
       "    </tr>\n",
       "  </thead>\n",
       "  <tbody>\n",
       "    <tr>\n",
       "      <th>0</th>\n",
       "      <td>The Queen of Light took her bow And then she t...</td>\n",
       "      <td>now Bring it bring it bring it bring it Bring ...</td>\n",
       "      <td>The Queen of Light took her bow And then she t...</td>\n",
       "    </tr>\n",
       "    <tr>\n",
       "      <th>1</th>\n",
       "      <td>Rhiannon rings like a bell through the night A...</td>\n",
       "      <td>by taken by the sky Taken by taken by the sky ...</td>\n",
       "      <td>Rhiannon rings like a bell through the night A...</td>\n",
       "    </tr>\n",
       "    <tr>\n",
       "      <th>2</th>\n",
       "      <td>TranslationsPortugus Swaying room as the music...</td>\n",
       "      <td>crazy for you And you know its true Yeah Im cr...</td>\n",
       "      <td>TranslationsPortugus Swaying room as the music...</td>\n",
       "    </tr>\n",
       "    <tr>\n",
       "      <th>3</th>\n",
       "      <td>Louise take it all back to town Aint it a sham...</td>\n",
       "      <td>do Louise Louise ooh Ooh ooh ooh oh Louise ooh...</td>\n",
       "      <td>Louise take it all back to town Aint it a sham...</td>\n",
       "    </tr>\n",
       "    <tr>\n",
       "      <th>4</th>\n",
       "      <td>How can you refuse Him now how can you refuse ...</td>\n",
       "      <td>How can you turn away from His side With tears...</td>\n",
       "      <td>How can you refuse Him now how can you refuse ...</td>\n",
       "    </tr>\n",
       "    <tr>\n",
       "      <th>5</th>\n",
       "      <td>Mary had a baby oh Lord Mary had a baby oh Lor...</td>\n",
       "      <td>had a baby oh Lord Mary had a baby oh Lord Mar...</td>\n",
       "      <td>Mary had a baby oh Lord Mary had a baby oh Lor...</td>\n",
       "    </tr>\n",
       "    <tr>\n",
       "      <th>6</th>\n",
       "      <td>Hand full of haters Know when I stop em surviv...</td>\n",
       "      <td>when the cops watchin These niggas will not st...</td>\n",
       "      <td>Hand full of haters Know when I stop em surviv...</td>\n",
       "    </tr>\n",
       "    <tr>\n",
       "      <th>7</th>\n",
       "      <td>Yo too advanced Digi stance made the CD enhanc...</td>\n",
       "      <td>tied to bombs on posts On commercial breaks pi...</td>\n",
       "      <td>Yo too advanced Digi stance made the CD enhanc...</td>\n",
       "    </tr>\n",
       "    <tr>\n",
       "      <th>8</th>\n",
       "      <td>Something is wrong in this nation When a child...</td>\n",
       "      <td>darkness falls and oh Your heart beats rapidly...</td>\n",
       "      <td>Something is wrong in this nation When a child...</td>\n",
       "    </tr>\n",
       "    <tr>\n",
       "      <th>9</th>\n",
       "      <td>They say youre nothing but a party girl Just l...</td>\n",
       "      <td>hard to find I could give you anything I would...</td>\n",
       "      <td>They say youre nothing but a party girl Just l...</td>\n",
       "    </tr>\n",
       "  </tbody>\n",
       "</table>\n",
       "</div>"
      ],
      "text/plain": [
       "                                              Lyrics  \\\n",
       "0  The Queen of Light took her bow And then she t...   \n",
       "1  Rhiannon rings like a bell through the night A...   \n",
       "2  TranslationsPortugus Swaying room as the music...   \n",
       "3  Louise take it all back to town Aint it a sham...   \n",
       "4  How can you refuse Him now how can you refuse ...   \n",
       "5  Mary had a baby oh Lord Mary had a baby oh Lor...   \n",
       "6  Hand full of haters Know when I stop em surviv...   \n",
       "7  Yo too advanced Digi stance made the CD enhanc...   \n",
       "8  Something is wrong in this nation When a child...   \n",
       "9  They say youre nothing but a party girl Just l...   \n",
       "\n",
       "                                     True_end_lyrics  \\\n",
       "0  now Bring it bring it bring it bring it Bring ...   \n",
       "1  by taken by the sky Taken by taken by the sky ...   \n",
       "2  crazy for you And you know its true Yeah Im cr...   \n",
       "3  do Louise Louise ooh Ooh ooh ooh oh Louise ooh...   \n",
       "4  How can you turn away from His side With tears...   \n",
       "5  had a baby oh Lord Mary had a baby oh Lord Mar...   \n",
       "6  when the cops watchin These niggas will not st...   \n",
       "7  tied to bombs on posts On commercial breaks pi...   \n",
       "8  darkness falls and oh Your heart beats rapidly...   \n",
       "9  hard to find I could give you anything I would...   \n",
       "\n",
       "                                          Lyrics_Cut  \n",
       "0  The Queen of Light took her bow And then she t...  \n",
       "1  Rhiannon rings like a bell through the night A...  \n",
       "2  TranslationsPortugus Swaying room as the music...  \n",
       "3  Louise take it all back to town Aint it a sham...  \n",
       "4  How can you refuse Him now how can you refuse ...  \n",
       "5  Mary had a baby oh Lord Mary had a baby oh Lor...  \n",
       "6  Hand full of haters Know when I stop em surviv...  \n",
       "7  Yo too advanced Digi stance made the CD enhanc...  \n",
       "8  Something is wrong in this nation When a child...  \n",
       "9  They say youre nothing but a party girl Just l...  "
      ]
     },
     "execution_count": 34,
     "metadata": {},
     "output_type": "execute_result"
    }
   ],
   "source": [
    "# Cut so that there are only 10 samples\n",
    "lyrics_test_df = lyrics_test_df.drop(lyrics_test_df.index[10:])"
   ]
  },
  {
   "cell_type": "code",
   "execution_count": 36,
   "metadata": {
    "scrolled": true
   },
   "outputs": [
    {
     "name": "stderr",
     "output_type": "stream",
     "text": [
      "Setting `pad_token_id` to `eos_token_id`:50256 for open-end generation.\n",
      "Setting `pad_token_id` to `eos_token_id`:50256 for open-end generation.\n",
      "Setting `pad_token_id` to `eos_token_id`:50256 for open-end generation.\n",
      "Setting `pad_token_id` to `eos_token_id`:50256 for open-end generation.\n",
      "Setting `pad_token_id` to `eos_token_id`:50256 for open-end generation.\n",
      "Setting `pad_token_id` to `eos_token_id`:50256 for open-end generation.\n",
      "Setting `pad_token_id` to `eos_token_id`:50256 for open-end generation.\n",
      "Setting `pad_token_id` to `eos_token_id`:50256 for open-end generation.\n",
      "Setting `pad_token_id` to `eos_token_id`:50256 for open-end generation.\n",
      "Setting `pad_token_id` to `eos_token_id`:50256 for open-end generation.\n"
     ]
    }
   ],
   "source": [
    "# Wird wahrscheinlich sehr lange laufen\n",
    "predictions = []\n",
    "references = []\n",
    "\n",
    "# TODO: Umschreiben, sodass nur der generierte Teil verglichen wird\n",
    "\n",
    "for row in lyrics_test_df.iterrows():\n",
    "    # Append original songtext\n",
    "    references.append(row[1][0])\n",
    "    # Find out how many tokens to generate\n",
    "    tokenized_lyric = tokenizer(row[1][0])\n",
    "    output_length = len(tokenized_lyric['input_ids'])\n",
    "    # Generate Song lyrics based on cutted lyrics\n",
    "    result = lyrics_pipeline(row[1][2], max_length=output_length, min_length=output_length)[0]['generated_text']\n",
    "    predictions.append(result)"
   ]
  },
  {
   "cell_type": "code",
   "execution_count": 23,
   "metadata": {},
   "outputs": [
    {
     "name": "stdout",
     "output_type": "stream",
     "text": [
      "['The Queen of Light took her bow And then she turned to go The Prince of Peace embraced the gloom And walked the night alone Oh dance in the dark of night Sing to the morning light The dark Lord rides in force tonight And time will tell us all Oh throw down your plow and hoe Rest not to lock your homes Side by side we wait the might of the darkest of them all Ohoh I hear the horses thunder down in the valley below Im waiting for the angels of Avalon Waiting for the eastern glow The apples of the valley hold the seeds of happiness The ground is rich from tender care Repay do not forget no no Dance in the dark of night Sing to the morning light The apples turn to brown and black The tyrants face is red Oh war is the common cry Pick up your swords and fly The sky is filled with good and bad Mortals never know oh Oh well the night is long the beads of time pass slow Tired eyes on the sunrise Waiting for the eastern glow The pain of war cannot exceed The woe of aftermath The drums will shake the castle wall The ring wraiths ride in black ride on Sing as you raise your bow Ride on Shoot straighter than before No comfort has the fire at night That lights the face so cold Oh dance in the dark of night Sing to the morning light The magic runes are writ in gold To bring the balance back Bring it back At last the sun is shining The clouds of blue roll by With flames from the dragon of darkness The sunlight blinds his eyes Ahhhhh Ahhhhhhhhhh Bring it back bring it back Bring it back bring it back Bring it back bring it back Bring it back bring it back Oh now oh now oh now oh Oh now oh now oh now Bring it back bring it back Bring it back bring it back Ooh now oh now oh now oh Oh now oh now oh\\nOh now oh now Oh now oh now oh now\\nDo you now\\nOoh now Do you now\\nBring it back']\n",
      "['The Queen of Light took her bow And then she turned to go The Prince of Peace embraced the gloom And walked the night alone Oh dance in the dark of night Sing to the morning light The dark Lord rides in force tonight And time will tell us all Oh throw down your plow and hoe Rest not to lock your homes Side by side we wait the might of the darkest of them all Ohoh I hear the horses thunder down in the valley below Im waiting for the angels of Avalon Waiting for the eastern glow The apples of the valley hold the seeds of happiness The ground is rich from tender care Repay do not forget no no Dance in the dark of night Sing to the morning light The apples turn to brown and black The tyrants face is red Oh war is the common cry Pick up your swords and fly The sky is filled with good and bad Mortals never know oh Oh well the night is long the beads of time pass slow Tired eyes on the sunrise Waiting for the eastern glow The pain of war cannot exceed The woe of aftermath The drums will shake the castle wall The ring wraiths ride in black ride on Sing as you raise your bow Ride on Shoot straighter than before No comfort has the fire at night That lights the face so cold Oh dance in the dark of night Sing to the morning light The magic runes are writ in gold To bring the balance back Bring it back  At last the sun is shining The clouds of blue roll by With flames from the dragon of darkness The sunlight blinds his eyes Ahhhhh Ahhhhhhhhhh Bring it back bring it back Bring it back bring it back Bring it back bring it back Bring it back bring it back Oh now oh now oh now oh Oh now oh now oh now Bring it back bring it back Bring it back bring it back Ooh now oh now oh now oh Oh now oh now oh now Bring it bring it bring it bring it Bring it bring it bring it bring it Bring it bring it bring it bring it']\n"
     ]
    }
   ],
   "source": [
    "print(predictions)\n",
    "print(reference)"
   ]
  },
  {
   "cell_type": "code",
   "execution_count": 37,
   "metadata": {},
   "outputs": [],
   "source": [
    "bleu = evaluate.load(\"bleu\")"
   ]
  },
  {
   "cell_type": "code",
   "execution_count": 38,
   "metadata": {},
   "outputs": [
    {
     "name": "stdout",
     "output_type": "stream",
     "text": [
      "{'bleu': 0.9441384568230595, 'precisions': [0.9499849352214522, 0.9446962828649139, 0.9421036677781146, 0.939799331103679], 'brevity_penalty': 1.0, 'length_ratio': 1.0018110473890733, 'translation_length': 3319, 'reference_length': 3313}\n"
     ]
    }
   ],
   "source": [
    "results = bleu.compute(predictions=predictions, references=references)\n",
    "print(results)"
   ]
  },
  {
   "cell_type": "markdown",
   "metadata": {},
   "source": [
    "---\n",
    "\n",
    "## Prompting"
   ]
  },
  {
   "cell_type": "markdown",
   "metadata": {},
   "source": [
    "Sebastians part!"
   ]
  },
  {
   "cell_type": "markdown",
   "metadata": {},
   "source": [
    "---\n",
    "\n",
    "## Demo lyrics generation"
   ]
  },
  {
   "cell_type": "markdown",
   "metadata": {},
   "source": [
    "Bennys part!"
   ]
  },
  {
   "cell_type": "markdown",
   "metadata": {},
   "source": []
  }
 ],
 "metadata": {
  "kernelspec": {
   "display_name": "Python 3 (ipykernel)",
   "language": "python",
   "name": "python3"
  },
  "language_info": {
   "codemirror_mode": {
    "name": "ipython",
    "version": 3
   },
   "file_extension": ".py",
   "mimetype": "text/x-python",
   "name": "python",
   "nbconvert_exporter": "python",
   "pygments_lexer": "ipython3",
   "version": "3.8.3"
  },
  "vscode": {
   "interpreter": {
    "hash": "401949f8f22344ab70dfcd116b53776ca8bac82eaa601e9464a5719ba1fa738c"
   }
  }
 },
 "nbformat": 4,
 "nbformat_minor": 2
}
