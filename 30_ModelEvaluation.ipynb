{
 "cells": [
  {
   "cell_type": "markdown",
   "metadata": {},
   "source": [
    "# Evaluate Model"
   ]
  },
  {
   "cell_type": "markdown",
   "metadata": {},
   "source": [
    "---\n",
    "\n",
    "## init\n"
   ]
  },
  {
   "cell_type": "code",
   "execution_count": 17,
   "metadata": {},
   "outputs": [
    {
     "name": "stdout",
     "output_type": "stream",
     "text": [
      "Requirement already satisfied: pandas in /Users/tree/miniconda3/envs/Ki-Lab3.9/lib/python3.9/site-packages (1.5.2)\n",
      "Requirement already satisfied: python-dateutil>=2.8.1 in /Users/tree/miniconda3/envs/Ki-Lab3.9/lib/python3.9/site-packages (from pandas) (2.8.2)\n",
      "Requirement already satisfied: numpy>=1.20.3 in /Users/tree/miniconda3/envs/Ki-Lab3.9/lib/python3.9/site-packages (from pandas) (1.23.5)\n",
      "Requirement already satisfied: pytz>=2020.1 in /Users/tree/miniconda3/envs/Ki-Lab3.9/lib/python3.9/site-packages (from pandas) (2022.6)\n",
      "Requirement already satisfied: six>=1.5 in /Users/tree/miniconda3/envs/Ki-Lab3.9/lib/python3.9/site-packages (from python-dateutil>=2.8.1->pandas) (1.16.0)\n",
      "Requirement already satisfied: transformers in /Users/tree/miniconda3/envs/Ki-Lab3.9/lib/python3.9/site-packages (4.25.1)\n",
      "Requirement already satisfied: numpy>=1.17 in /Users/tree/miniconda3/envs/Ki-Lab3.9/lib/python3.9/site-packages (from transformers) (1.23.5)\n",
      "Requirement already satisfied: regex!=2019.12.17 in /Users/tree/miniconda3/envs/Ki-Lab3.9/lib/python3.9/site-packages (from transformers) (2022.10.31)\n",
      "Requirement already satisfied: tqdm>=4.27 in /Users/tree/miniconda3/envs/Ki-Lab3.9/lib/python3.9/site-packages (from transformers) (4.64.1)\n",
      "Requirement already satisfied: packaging>=20.0 in /Users/tree/miniconda3/envs/Ki-Lab3.9/lib/python3.9/site-packages (from transformers) (21.3)\n",
      "Requirement already satisfied: huggingface-hub<1.0,>=0.10.0 in /Users/tree/miniconda3/envs/Ki-Lab3.9/lib/python3.9/site-packages (from transformers) (0.11.1)\n",
      "Requirement already satisfied: filelock in /Users/tree/miniconda3/envs/Ki-Lab3.9/lib/python3.9/site-packages (from transformers) (3.8.0)\n",
      "Requirement already satisfied: requests in /Users/tree/miniconda3/envs/Ki-Lab3.9/lib/python3.9/site-packages (from transformers) (2.28.1)\n",
      "Requirement already satisfied: tokenizers!=0.11.3,<0.14,>=0.11.1 in /Users/tree/miniconda3/envs/Ki-Lab3.9/lib/python3.9/site-packages (from transformers) (0.13.2)\n",
      "Requirement already satisfied: pyyaml>=5.1 in /Users/tree/miniconda3/envs/Ki-Lab3.9/lib/python3.9/site-packages (from transformers) (6.0)\n",
      "Requirement already satisfied: typing-extensions>=3.7.4.3 in /Users/tree/miniconda3/envs/Ki-Lab3.9/lib/python3.9/site-packages (from huggingface-hub<1.0,>=0.10.0->transformers) (4.4.0)\n",
      "Requirement already satisfied: pyparsing!=3.0.5,>=2.0.2 in /Users/tree/miniconda3/envs/Ki-Lab3.9/lib/python3.9/site-packages (from packaging>=20.0->transformers) (3.0.9)\n",
      "Requirement already satisfied: idna<4,>=2.5 in /Users/tree/miniconda3/envs/Ki-Lab3.9/lib/python3.9/site-packages (from requests->transformers) (3.4)\n",
      "Requirement already satisfied: urllib3<1.27,>=1.21.1 in /Users/tree/miniconda3/envs/Ki-Lab3.9/lib/python3.9/site-packages (from requests->transformers) (1.26.13)\n",
      "Requirement already satisfied: charset-normalizer<3,>=2 in /Users/tree/miniconda3/envs/Ki-Lab3.9/lib/python3.9/site-packages (from requests->transformers) (2.1.1)\n",
      "Requirement already satisfied: certifi>=2017.4.17 in /Users/tree/miniconda3/envs/Ki-Lab3.9/lib/python3.9/site-packages (from requests->transformers) (2022.9.24)\n",
      "Requirement already satisfied: seaborn in /Users/tree/miniconda3/envs/Ki-Lab3.9/lib/python3.9/site-packages (0.12.1)\n",
      "Requirement already satisfied: numpy>=1.17 in /Users/tree/miniconda3/envs/Ki-Lab3.9/lib/python3.9/site-packages (from seaborn) (1.23.5)\n",
      "Requirement already satisfied: matplotlib!=3.6.1,>=3.1 in /Users/tree/miniconda3/envs/Ki-Lab3.9/lib/python3.9/site-packages (from seaborn) (3.6.2)\n",
      "Requirement already satisfied: pandas>=0.25 in /Users/tree/miniconda3/envs/Ki-Lab3.9/lib/python3.9/site-packages (from seaborn) (1.5.2)\n",
      "Requirement already satisfied: packaging>=20.0 in /Users/tree/miniconda3/envs/Ki-Lab3.9/lib/python3.9/site-packages (from matplotlib!=3.6.1,>=3.1->seaborn) (21.3)\n",
      "Requirement already satisfied: fonttools>=4.22.0 in /Users/tree/miniconda3/envs/Ki-Lab3.9/lib/python3.9/site-packages (from matplotlib!=3.6.1,>=3.1->seaborn) (4.38.0)\n",
      "Requirement already satisfied: pillow>=6.2.0 in /Users/tree/miniconda3/envs/Ki-Lab3.9/lib/python3.9/site-packages (from matplotlib!=3.6.1,>=3.1->seaborn) (9.3.0)\n",
      "Requirement already satisfied: cycler>=0.10 in /Users/tree/miniconda3/envs/Ki-Lab3.9/lib/python3.9/site-packages (from matplotlib!=3.6.1,>=3.1->seaborn) (0.11.0)\n",
      "Requirement already satisfied: pyparsing>=2.2.1 in /Users/tree/miniconda3/envs/Ki-Lab3.9/lib/python3.9/site-packages (from matplotlib!=3.6.1,>=3.1->seaborn) (3.0.9)\n",
      "Requirement already satisfied: contourpy>=1.0.1 in /Users/tree/miniconda3/envs/Ki-Lab3.9/lib/python3.9/site-packages (from matplotlib!=3.6.1,>=3.1->seaborn) (1.0.6)\n",
      "Requirement already satisfied: python-dateutil>=2.7 in /Users/tree/miniconda3/envs/Ki-Lab3.9/lib/python3.9/site-packages (from matplotlib!=3.6.1,>=3.1->seaborn) (2.8.2)\n",
      "Requirement already satisfied: kiwisolver>=1.0.1 in /Users/tree/miniconda3/envs/Ki-Lab3.9/lib/python3.9/site-packages (from matplotlib!=3.6.1,>=3.1->seaborn) (1.4.4)\n",
      "Requirement already satisfied: pytz>=2020.1 in /Users/tree/miniconda3/envs/Ki-Lab3.9/lib/python3.9/site-packages (from pandas>=0.25->seaborn) (2022.6)\n",
      "Requirement already satisfied: six>=1.5 in /Users/tree/miniconda3/envs/Ki-Lab3.9/lib/python3.9/site-packages (from python-dateutil>=2.7->matplotlib!=3.6.1,>=3.1->seaborn) (1.16.0)\n",
      "Requirement already satisfied: matplotlib in /Users/tree/miniconda3/envs/Ki-Lab3.9/lib/python3.9/site-packages (3.6.2)\n",
      "Requirement already satisfied: cycler>=0.10 in /Users/tree/miniconda3/envs/Ki-Lab3.9/lib/python3.9/site-packages (from matplotlib) (0.11.0)\n",
      "Requirement already satisfied: fonttools>=4.22.0 in /Users/tree/miniconda3/envs/Ki-Lab3.9/lib/python3.9/site-packages (from matplotlib) (4.38.0)\n",
      "Requirement already satisfied: packaging>=20.0 in /Users/tree/miniconda3/envs/Ki-Lab3.9/lib/python3.9/site-packages (from matplotlib) (21.3)\n",
      "Requirement already satisfied: pillow>=6.2.0 in /Users/tree/miniconda3/envs/Ki-Lab3.9/lib/python3.9/site-packages (from matplotlib) (9.3.0)\n",
      "Requirement already satisfied: numpy>=1.19 in /Users/tree/miniconda3/envs/Ki-Lab3.9/lib/python3.9/site-packages (from matplotlib) (1.23.5)\n",
      "Requirement already satisfied: pyparsing>=2.2.1 in /Users/tree/miniconda3/envs/Ki-Lab3.9/lib/python3.9/site-packages (from matplotlib) (3.0.9)\n",
      "Requirement already satisfied: python-dateutil>=2.7 in /Users/tree/miniconda3/envs/Ki-Lab3.9/lib/python3.9/site-packages (from matplotlib) (2.8.2)\n",
      "Requirement already satisfied: contourpy>=1.0.1 in /Users/tree/miniconda3/envs/Ki-Lab3.9/lib/python3.9/site-packages (from matplotlib) (1.0.6)\n",
      "Requirement already satisfied: kiwisolver>=1.0.1 in /Users/tree/miniconda3/envs/Ki-Lab3.9/lib/python3.9/site-packages (from matplotlib) (1.4.4)\n",
      "Requirement already satisfied: six>=1.5 in /Users/tree/miniconda3/envs/Ki-Lab3.9/lib/python3.9/site-packages (from python-dateutil>=2.7->matplotlib) (1.16.0)\n",
      "Requirement already satisfied: numpy in /Users/tree/miniconda3/envs/Ki-Lab3.9/lib/python3.9/site-packages (1.23.5)\n",
      "Requirement already satisfied: evaluate in /Users/tree/miniconda3/envs/Ki-Lab3.9/lib/python3.9/site-packages (0.3.0)\n",
      "Requirement already satisfied: datasets>=2.0.0 in /Users/tree/miniconda3/envs/Ki-Lab3.9/lib/python3.9/site-packages (from evaluate) (2.7.1)\n",
      "Requirement already satisfied: huggingface-hub>=0.7.0 in /Users/tree/miniconda3/envs/Ki-Lab3.9/lib/python3.9/site-packages (from evaluate) (0.11.1)\n",
      "Requirement already satisfied: requests>=2.19.0 in /Users/tree/miniconda3/envs/Ki-Lab3.9/lib/python3.9/site-packages (from evaluate) (2.28.1)\n",
      "Requirement already satisfied: pandas in /Users/tree/miniconda3/envs/Ki-Lab3.9/lib/python3.9/site-packages (from evaluate) (1.5.2)\n",
      "Requirement already satisfied: numpy>=1.17 in /Users/tree/miniconda3/envs/Ki-Lab3.9/lib/python3.9/site-packages (from evaluate) (1.23.5)\n",
      "Requirement already satisfied: xxhash in /Users/tree/miniconda3/envs/Ki-Lab3.9/lib/python3.9/site-packages (from evaluate) (3.1.0)\n",
      "Requirement already satisfied: multiprocess in /Users/tree/miniconda3/envs/Ki-Lab3.9/lib/python3.9/site-packages (from evaluate) (0.70.14)\n",
      "Requirement already satisfied: responses<0.19 in /Users/tree/miniconda3/envs/Ki-Lab3.9/lib/python3.9/site-packages (from evaluate) (0.18.0)\n",
      "Requirement already satisfied: tqdm>=4.62.1 in /Users/tree/miniconda3/envs/Ki-Lab3.9/lib/python3.9/site-packages (from evaluate) (4.64.1)\n",
      "Requirement already satisfied: packaging in /Users/tree/miniconda3/envs/Ki-Lab3.9/lib/python3.9/site-packages (from evaluate) (21.3)\n",
      "Requirement already satisfied: dill in /Users/tree/miniconda3/envs/Ki-Lab3.9/lib/python3.9/site-packages (from evaluate) (0.3.6)\n",
      "Requirement already satisfied: fsspec[http]>=2021.05.0 in /Users/tree/miniconda3/envs/Ki-Lab3.9/lib/python3.9/site-packages (from evaluate) (2022.11.0)\n",
      "Requirement already satisfied: pyyaml>=5.1 in /Users/tree/miniconda3/envs/Ki-Lab3.9/lib/python3.9/site-packages (from datasets>=2.0.0->evaluate) (6.0)\n",
      "Requirement already satisfied: pyarrow>=6.0.0 in /Users/tree/miniconda3/envs/Ki-Lab3.9/lib/python3.9/site-packages (from datasets>=2.0.0->evaluate) (10.0.1)\n",
      "Requirement already satisfied: aiohttp in /Users/tree/miniconda3/envs/Ki-Lab3.9/lib/python3.9/site-packages (from datasets>=2.0.0->evaluate) (3.8.3)\n",
      "Requirement already satisfied: filelock in /Users/tree/miniconda3/envs/Ki-Lab3.9/lib/python3.9/site-packages (from huggingface-hub>=0.7.0->evaluate) (3.8.0)\n",
      "Requirement already satisfied: typing-extensions>=3.7.4.3 in /Users/tree/miniconda3/envs/Ki-Lab3.9/lib/python3.9/site-packages (from huggingface-hub>=0.7.0->evaluate) (4.4.0)\n",
      "Requirement already satisfied: pyparsing!=3.0.5,>=2.0.2 in /Users/tree/miniconda3/envs/Ki-Lab3.9/lib/python3.9/site-packages (from packaging->evaluate) (3.0.9)\n",
      "Requirement already satisfied: urllib3<1.27,>=1.21.1 in /Users/tree/miniconda3/envs/Ki-Lab3.9/lib/python3.9/site-packages (from requests>=2.19.0->evaluate) (1.26.13)\n",
      "Requirement already satisfied: certifi>=2017.4.17 in /Users/tree/miniconda3/envs/Ki-Lab3.9/lib/python3.9/site-packages (from requests>=2.19.0->evaluate) (2022.9.24)\n",
      "Requirement already satisfied: idna<4,>=2.5 in /Users/tree/miniconda3/envs/Ki-Lab3.9/lib/python3.9/site-packages (from requests>=2.19.0->evaluate) (3.4)\n",
      "Requirement already satisfied: charset-normalizer<3,>=2 in /Users/tree/miniconda3/envs/Ki-Lab3.9/lib/python3.9/site-packages (from requests>=2.19.0->evaluate) (2.1.1)\n",
      "Requirement already satisfied: python-dateutil>=2.8.1 in /Users/tree/miniconda3/envs/Ki-Lab3.9/lib/python3.9/site-packages (from pandas->evaluate) (2.8.2)\n",
      "Requirement already satisfied: pytz>=2020.1 in /Users/tree/miniconda3/envs/Ki-Lab3.9/lib/python3.9/site-packages (from pandas->evaluate) (2022.6)\n",
      "Requirement already satisfied: aiosignal>=1.1.2 in /Users/tree/miniconda3/envs/Ki-Lab3.9/lib/python3.9/site-packages (from aiohttp->datasets>=2.0.0->evaluate) (1.3.1)\n",
      "Requirement already satisfied: yarl<2.0,>=1.0 in /Users/tree/miniconda3/envs/Ki-Lab3.9/lib/python3.9/site-packages (from aiohttp->datasets>=2.0.0->evaluate) (1.8.2)\n",
      "Requirement already satisfied: async-timeout<5.0,>=4.0.0a3 in /Users/tree/miniconda3/envs/Ki-Lab3.9/lib/python3.9/site-packages (from aiohttp->datasets>=2.0.0->evaluate) (4.0.2)\n",
      "Requirement already satisfied: multidict<7.0,>=4.5 in /Users/tree/miniconda3/envs/Ki-Lab3.9/lib/python3.9/site-packages (from aiohttp->datasets>=2.0.0->evaluate) (6.0.3)\n",
      "Requirement already satisfied: attrs>=17.3.0 in /Users/tree/miniconda3/envs/Ki-Lab3.9/lib/python3.9/site-packages (from aiohttp->datasets>=2.0.0->evaluate) (22.1.0)\n",
      "Requirement already satisfied: frozenlist>=1.1.1 in /Users/tree/miniconda3/envs/Ki-Lab3.9/lib/python3.9/site-packages (from aiohttp->datasets>=2.0.0->evaluate) (1.3.3)\n",
      "Requirement already satisfied: six>=1.5 in /Users/tree/miniconda3/envs/Ki-Lab3.9/lib/python3.9/site-packages (from python-dateutil>=2.8.1->pandas->evaluate) (1.16.0)\n"
     ]
    }
   ],
   "source": [
    "! pip install pandas\n",
    "! pip install transformers\n",
    "! pip install seaborn\n",
    "! pip install matplotlib\n",
    "! pip install numpy\n",
    "! pip install evaluate"
   ]
  },
  {
   "cell_type": "code",
   "execution_count": 2,
   "metadata": {},
   "outputs": [
    {
     "name": "stderr",
     "output_type": "stream",
     "text": [
      "/Users/tree/miniconda3/envs/Ki-Lab3.9/lib/python3.9/site-packages/tqdm/auto.py:22: TqdmWarning: IProgress not found. Please update jupyter and ipywidgets. See https://ipywidgets.readthedocs.io/en/stable/user_install.html\n",
      "  from .autonotebook import tqdm as notebook_tqdm\n"
     ]
    }
   ],
   "source": [
    "# imports\n",
    "import pandas as pd\n",
    "import seaborn as sns\n",
    "import matplotlib.pyplot as plt\n",
    "import numpy as np\n",
    "\n",
    "from transformers import GPT2Tokenizer, GPT2LMHeadModel\n",
    "from transformers import pipeline\n",
    "import evaluate"
   ]
  },
  {
   "cell_type": "code",
   "execution_count": 3,
   "metadata": {},
   "outputs": [],
   "source": [
    "# paths\n",
    "root = './'\n",
    "driveFolder = root + 'trainingRuns/TrainRuns-DriveSync/'\n",
    "runFolder = '22_12_05_Run_04_E10_BS_2_TopRapBoth/'\n",
    "trainingBothCsv = driveFolder + runFolder + 'training_stats_both.csv'\n",
    "trainingRapCsv = driveFolder + runFolder + 'training_stats_rap.csv'\n",
    "trainingTopCsv = driveFolder + runFolder + 'training_stats_top.csv'\n",
    "savedModelBoth = driveFolder + runFolder + 'model_save/both/'\n",
    "savedModelRap = driveFolder + runFolder + 'model_save/rap/'\n",
    "savedModelTop = driveFolder + runFolder + 'model_save/top/'\n",
    "testLyricsCsv = root + 'datasets/lyrics_test_samples.csv'"
   ]
  },
  {
   "cell_type": "markdown",
   "metadata": {},
   "source": [
    "---\n",
    "\n",
    "## Load training results"
   ]
  },
  {
   "cell_type": "code",
   "execution_count": 4,
   "metadata": {
    "scrolled": false
   },
   "outputs": [
    {
     "data": {
      "text/html": [
       "<div>\n",
       "<style scoped>\n",
       "    .dataframe tbody tr th:only-of-type {\n",
       "        vertical-align: middle;\n",
       "    }\n",
       "\n",
       "    .dataframe tbody tr th {\n",
       "        vertical-align: top;\n",
       "    }\n",
       "\n",
       "    .dataframe thead th {\n",
       "        text-align: right;\n",
       "    }\n",
       "</style>\n",
       "<table border=\"1\" class=\"dataframe\">\n",
       "  <thead>\n",
       "    <tr style=\"text-align: right;\">\n",
       "      <th></th>\n",
       "      <th>Training Loss</th>\n",
       "      <th>Valid. Loss</th>\n",
       "      <th>Training Time</th>\n",
       "      <th>Validation Time</th>\n",
       "    </tr>\n",
       "    <tr>\n",
       "      <th>epoch</th>\n",
       "      <th></th>\n",
       "      <th></th>\n",
       "      <th></th>\n",
       "      <th></th>\n",
       "    </tr>\n",
       "  </thead>\n",
       "  <tbody>\n",
       "    <tr>\n",
       "      <th>1</th>\n",
       "      <td>2.176176</td>\n",
       "      <td>1.303955</td>\n",
       "      <td>0:07:29</td>\n",
       "      <td>0:00:14</td>\n",
       "    </tr>\n",
       "    <tr>\n",
       "      <th>2</th>\n",
       "      <td>1.347894</td>\n",
       "      <td>1.259068</td>\n",
       "      <td>0:07:26</td>\n",
       "      <td>0:00:14</td>\n",
       "    </tr>\n",
       "    <tr>\n",
       "      <th>3</th>\n",
       "      <td>1.301242</td>\n",
       "      <td>1.224136</td>\n",
       "      <td>0:07:28</td>\n",
       "      <td>0:00:14</td>\n",
       "    </tr>\n",
       "    <tr>\n",
       "      <th>4</th>\n",
       "      <td>1.267759</td>\n",
       "      <td>1.208877</td>\n",
       "      <td>0:07:25</td>\n",
       "      <td>0:00:14</td>\n",
       "    </tr>\n",
       "    <tr>\n",
       "      <th>5</th>\n",
       "      <td>1.241236</td>\n",
       "      <td>1.199837</td>\n",
       "      <td>0:07:25</td>\n",
       "      <td>0:00:14</td>\n",
       "    </tr>\n",
       "  </tbody>\n",
       "</table>\n",
       "</div>"
      ],
      "text/plain": [
       "       Training Loss  Valid. Loss Training Time Validation Time\n",
       "epoch                                                          \n",
       "1           2.176176     1.303955       0:07:29         0:00:14\n",
       "2           1.347894     1.259068       0:07:26         0:00:14\n",
       "3           1.301242     1.224136       0:07:28         0:00:14\n",
       "4           1.267759     1.208877       0:07:25         0:00:14\n",
       "5           1.241236     1.199837       0:07:25         0:00:14"
      ]
     },
     "execution_count": 4,
     "metadata": {},
     "output_type": "execute_result"
    }
   ],
   "source": [
    "# load trainin.csv\n",
    "df_stats = pd.read_csv(trainingTopCsv)\n",
    "df_stats = df_stats.set_index('epoch')\n",
    "df_stats.head()"
   ]
  },
  {
   "cell_type": "code",
   "execution_count": 5,
   "metadata": {},
   "outputs": [
    {
     "data": {
      "image/png": "[encoded data removed]",
      "text/plain": [
       "<Figure size 1800x600 with 1 Axes>"
      ]
     },
     "metadata": {},
     "output_type": "display_data"
    }
   ],
   "source": [
    "# Plot graph\n",
    "sns.set(style='darkgrid')\n",
    "\n",
    "# Increase the plot size and font size.\n",
    "sns.set(font_scale=1.5)\n",
    "plt.rcParams[\"figure.figsize\"] = (18,6)\n",
    "\n",
    "# Plot the learning curve.\n",
    "plt.plot(df_stats['Training Loss'], 'b-o', label=\"Training\")\n",
    "plt.plot(df_stats['Valid. Loss'], 'g-o', label=\"Validation\")\n",
    "\n",
    "# Label the plot.\n",
    "plt.title(\"Training & Validation Loss\")\n",
    "plt.xlabel(\"Epoch\")\n",
    "plt.ylabel(\"Loss\")\n",
    "plt.legend()\n",
    "plt.xticks(np.arange(len(df_stats)))\n",
    "\n",
    "plt.show()"
   ]
  },
  {
   "cell_type": "markdown",
   "metadata": {},
   "source": [
    "---\n",
    "\n",
    "## Load model\n"
   ]
  },
  {
   "cell_type": "markdown",
   "metadata": {},
   "source": [
    "### Load trained model"
   ]
  },
  {
   "cell_type": "code",
   "execution_count": 24,
   "metadata": {},
   "outputs": [
    {
     "data": {
      "text/plain": [
       "Embedding(50257, 768)"
      ]
     },
     "execution_count": 24,
     "metadata": {},
     "output_type": "execute_result"
    }
   ],
   "source": [
    "# load model from file\n",
    "tokenizer = GPT2Tokenizer.from_pretrained('gpt2') #gpt2-medium\n",
    "model = GPT2LMHeadModel.from_pretrained(savedModelTop)\n",
    "\n",
    "model.resize_token_embeddings(len(tokenizer))"
   ]
  },
  {
   "cell_type": "code",
   "execution_count": 45,
   "metadata": {},
   "outputs": [
    {
     "name": "stderr",
     "output_type": "stream",
     "text": [
      "Setting `pad_token_id` to `eos_token_id`:50256 for open-end generation.\n"
     ]
    }
   ],
   "source": [
    "# pipline for text generation\n",
    "\n",
    "lyrics_pipeline = pipeline('text-generation',model=model, tokenizer=tokenizer)\n",
    "\n",
    "song_input = 'can you generate me some songlyrics\\n'\n",
    "\n",
    "result = lyrics_pipeline(song_input, max_length=1024,min_length=512)[0]['generated_text']"
   ]
  },
  {
   "cell_type": "code",
   "execution_count": 46,
   "metadata": {},
   "outputs": [
    {
     "name": "stdout",
     "output_type": "stream",
     "text": [
      "can you generate me some songlyrics\n",
      "\n",
      "you need a good backup, my song lyrics are also on the backburner and should be edited in the same way on my album as well\n",
      "\n",
      "\n",
      "I hope you find my song lyrics helpful. Also to let me know if you try writing something else on your page or not\n",
      "\n",
      "\n",
      "Thanks as much as you do!\n",
      "\n",
      "\n",
      "*I'll post a short message to tell you what is currently in progress in our band, I'd love to hear from you!Thanks as much as you do!\n",
      "\n",
      "Kurono (RiffTrax)\n",
      "\n",
      "Jun 14th, 2015 ( edit ) 15 posts\n",
      "\n",
      "Elderly to You.\n",
      "\n",
      "Punishers\n",
      "\n",
      "M.L.\n",
      "\n",
      "Sugarhill\n",
      "\n",
      "Reef-Man\n",
      "\n",
      "No-Breather\n",
      "\n",
      "I Don't Want To Go\n",
      "\n",
      "\n",
      "Post Extras:\n",
      "\n",
      "\n",
      "I have some good information, what you say in the same sentence may sound funny, but I never wrote the lyrics. I had a hard time thinking that would be in the same sentence...\n",
      "\n",
      "\n",
      "If you like the songs sound awesome and have a good review I highly recommend this site.\n",
      "\n",
      "\n",
      "--------------------\n",
      "\n",
      "\n",
      "When I was 12, a friend and I just found out about Jeff's band in Las Vegas who they called Dream Theater. This is where I started learning how to sing. I've been there for most of my life, and have learned as good or better than anyone else on earth.\n",
      "\n",
      "\n",
      "If there's one thing that makes all the dreamer bands I'm affiliated with different, it's that it's like, \"you have to meet people just like me.\" The next person is like me, they have a real sense of purpose with their life. A true dreamer, a true dreamer. They want to sing with a new personality or their own musicality while you play the instruments. If you want to sing with some real charisma and some real integrity with your vocals, don't be afraid to give these people a try.\n",
      "\n",
      "\n",
      "This is a dream that I'll always remember.\n",
      "\n",
      "\n",
      "This is my first time working as a musician.\n",
      "\n",
      "Kurono I can't thank you enough for this one.\n",
      "\n",
      "This is what it means to be a dreamer, that you need to share the world with someone you really believe in, be it a dream or someone who only sounds like you. That alone is the strength that binds you together when you try to come to terms with love, loss, loneliness, fear, fear of the unknown and love for those around you.\n",
      "\n",
      "Thanks also to all you artists that help keep us alive, to all those people who give to us and all those great friends,\n",
      "\n",
      "and to all the people that let us make this a dream of our own.\n",
      "\n",
      "pfft yeah I have done a very good job, I have my very best job to start with.\n",
      "\n",
      "\n",
      "I am sure they have all told me that in other music, you have to write a song.\n",
      "\n",
      "So what I am saying is that you can't sing and sing while thinking about love, loss, loneliness, fear, hate, fear, fear of the unknown and love for others around you.\n",
      "\n",
      "I never want you to have that experience and I don't want to ever forget it.\n",
      "\n",
      "\n",
      "A true dreamer\n",
      "\n",
      "\n",
      "Punishers\n",
      "\n",
      "\n",
      "A song that is not at all in your head. A dream song with no lyrics at all.\n",
      "\n",
      "You know you do know that you love us and feel your passion for our work and you have some very specific, \"dreamy\" ideas, that you want to do.\n",
      "\n",
      "\n",
      "And when people hear you sing a dream that is hard for you, people feel they will do you a favor by thinking \"that song would be good\".\n",
      "\n",
      "\n",
      "Well, I heard it. I think it is a dream song.\n",
      "\n",
      "I didn't even know it was in the dream, I was just not expecting it, but hey I hope.\n",
      "\n",
      "\n",
      "I don't care how hard you sing and sing. Don't get me wrong the dreamer song sound was great about being able to sing at home and I did really appreciate that it was great about playing with people and singing with you.\n",
      "\n",
      "\n",
      "But they want this song to be the best thing they ever got on this planet.\n",
      "\n",
      "I wish they could play it in their home.\n",
      "\n",
      "PUNISHES: (a word that was said a lot in our music school in the '80s)\n",
      "\n",
      "\n",
      "So you can sing when you feel you know what you want to sing and sing when you have no desire to sing or sing.\n",
      "\n",
      "You may sing at your own discretion, I just can't think of one song with the same effect.\n",
      "\n",
      "Punishes that sound good to me or make people feel like they are getting stuck when they sit together.\n",
      "\n",
      "\n",
      "When someone gives you an opportunity to sing,\n"
     ]
    }
   ],
   "source": [
    "print(result)"
   ]
  },
  {
   "cell_type": "code",
   "execution_count": 47,
   "metadata": {},
   "outputs": [],
   "source": [
    "x = tokenizer(result)"
   ]
  },
  {
   "cell_type": "code",
   "execution_count": 48,
   "metadata": {
    "scrolled": false
   },
   "outputs": [
    {
     "name": "stdout",
     "output_type": "stream",
     "text": [
      "1022\n"
     ]
    }
   ],
   "source": [
    "print(len(x['input_ids']))"
   ]
  },
  {
   "cell_type": "markdown",
   "metadata": {},
   "source": [
    "### load vanilla gpt2 to compare"
   ]
  },
  {
   "cell_type": "code",
   "execution_count": 6,
   "metadata": {},
   "outputs": [
    {
     "data": {
      "text/plain": [
       "Embedding(50257, 768)"
      ]
     },
     "execution_count": 6,
     "metadata": {},
     "output_type": "execute_result"
    }
   ],
   "source": [
    "## load vanilla GPT2 from huggingface\n",
    "tokenizerGPT2 = GPT2Tokenizer.from_pretrained('gpt2') #gpt2-medium\n",
    "modelGPT2 = GPT2LMHeadModel.from_pretrained('gpt2')\n",
    "\n",
    "modelGPT2.resize_token_embeddings(len(tokenizerGPT2))"
   ]
  },
  {
   "cell_type": "code",
   "execution_count": 7,
   "metadata": {},
   "outputs": [
    {
     "name": "stderr",
     "output_type": "stream",
     "text": [
      "Setting `pad_token_id` to `eos_token_id`:50256 for open-end generation.\n"
     ]
    }
   ],
   "source": [
    "# pipline for text generation\n",
    "gpt_pipeline = pipeline('text-generation',model=modelGPT2, tokenizer=tokenizerGPT2)\n",
    "\n",
    "song_input = 'can you generate me some songlyrics\\n'\n",
    "\n",
    "gpt2Result = gpt_pipeline(song_input, max_length=1024,min_length=512)[0]['generated_text']"
   ]
  },
  {
   "cell_type": "code",
   "execution_count": 9,
   "metadata": {},
   "outputs": [
    {
     "name": "stdout",
     "output_type": "stream",
     "text": [
      "can you generate me some songlyrics\n",
      "\n",
      "But here is where he's playing at this moment. It sounds kind of off but as far as he's concerned he's playing the same tune for four or five minutes.\n",
      "\n",
      "As he takes some deep breaths, the song changes and it kind of bounces off the board. With the right notes he wins the game, it doesn't matter how many times you're wrong or how it sounds when you played it. I knew it would be there, but how do I tell it doesn't seem like he intended it to be that way.\n",
      "\n",
      "It might just be that I was just trying to get a chance and not have one of those moments where he might call to me, 'Do you come back?' It's just that I think there was a bit more of a sense here that I needed that moment. You know, you'll have a chance like that if you're not careful and take proper care of your playing as a drummer, not only in the room but in the community and to be more of an artist.\n",
      "\n",
      "It kind of makes sense at least because these guys have said it before. There are some big names that are playing here and they have got a good set-up already because these guys all have a good set-up. They just want the time, they want to play music and they like to have a set-up that is something to be proud of.\n",
      "\n",
      "It also makes me think sometimes it can be better to have different rhythms, different playing styles but I think as we're all trying to decide how much fun we want to be making, I think it's really important that people understand why they're playing this music and also what they want. And when you come here, what they find you most want to play.\n",
      "\n",
      "I don't know of anybody around here now that does that as well as Ode To The Lights. They're great at building sets that give you everything you need and then taking care of it. With music like these, it feels great with no excuses.\n",
      "\n",
      "I love playing on a regular basis with people like this because it gives you more opportunities to express yourself and to give yourself some energy and fun. But if it's a band that's going in the same direction as this sort of album, when you're playing a set and suddenly you realize we've got to do new things with this band you'd thought were going nowhere.\n",
      "\n",
      "Ode To The Lights are a big band on one hand and is going to have their own thing and it will not play at your funeral. It will be for each other to do the things they're going to do and I'm pretty sure it won't be for us. It sounds like they were really hoping it happened eventually and it probably will not. But if we do do it and we've got a lot of money to spend, maybe someday that will happen and maybe it won't, I'm sure we'll have a chance to share that with the world and hopefully we'll be able to play a much bigger show.\n",
      "\n",
      "The other thing I love about Ode To The Lights is that you can have the whole thing. You can have it as a video tour or as a collection. When you're playing with your own band or like any group you play with and you start thinking about different things and you want to show up and do things for each other then you start working together and it becomes a new thing. It means so much to me as musicians and musicians. All the amazing things that we've found together as a group, whether it's making new music or making a band or whatever for one another then it's so much fun that you can work in so many different ways and all the other things.\n",
      "\n",
      "I know that I've been a fan of their work since I first heard it in college, I know I've looked at bands on every record label and every album over and over again and I thought when I listened to their music I was always gonna be really excited to do this and see what the new music could do. Like my dad taught me when he passed away, he taught me to go out and listen to old books and write songs that we liked. I love listening to Ode To The Lights as a band. Now it's about music and I'm really excited for their music!\n"
     ]
    }
   ],
   "source": [
    "print(gpt2Result)"
   ]
  },
  {
   "cell_type": "markdown",
   "metadata": {},
   "source": [
    "---\n",
    "\n",
    "## Calculate BLEU Score"
   ]
  },
  {
   "cell_type": "code",
   "execution_count": 20,
   "metadata": {},
   "outputs": [],
   "source": [
    "lyrics_test_df = pd.read_csv(testLyricsCsv)\n",
    "lyrics_test_df = lyrics_test_df.drop(['Unnamed: 0'], axis=1)"
   ]
  },
  {
   "cell_type": "code",
   "execution_count": 21,
   "metadata": {
    "scrolled": true
   },
   "outputs": [
    {
     "data": {
      "text/html": [
       "<div>\n",
       "<style scoped>\n",
       "    .dataframe tbody tr th:only-of-type {\n",
       "        vertical-align: middle;\n",
       "    }\n",
       "\n",
       "    .dataframe tbody tr th {\n",
       "        vertical-align: top;\n",
       "    }\n",
       "\n",
       "    .dataframe thead th {\n",
       "        text-align: right;\n",
       "    }\n",
       "</style>\n",
       "<table border=\"1\" class=\"dataframe\">\n",
       "  <thead>\n",
       "    <tr style=\"text-align: right;\">\n",
       "      <th></th>\n",
       "      <th>Lyrics</th>\n",
       "      <th>True_end_lyrics</th>\n",
       "      <th>Lyrics_Cut</th>\n",
       "    </tr>\n",
       "  </thead>\n",
       "  <tbody>\n",
       "    <tr>\n",
       "      <th>0</th>\n",
       "      <td>The Queen of Light took her bow And then she t...</td>\n",
       "      <td>now Bring it bring it bring it bring it Bring ...</td>\n",
       "      <td>The Queen of Light took her bow And then she t...</td>\n",
       "    </tr>\n",
       "    <tr>\n",
       "      <th>1</th>\n",
       "      <td>Rhiannon rings like a bell through the night A...</td>\n",
       "      <td>by taken by the sky Taken by taken by the sky ...</td>\n",
       "      <td>Rhiannon rings like a bell through the night A...</td>\n",
       "    </tr>\n",
       "    <tr>\n",
       "      <th>2</th>\n",
       "      <td>TranslationsPortugus Swaying room as the music...</td>\n",
       "      <td>crazy for you And you know its true Yeah Im cr...</td>\n",
       "      <td>TranslationsPortugus Swaying room as the music...</td>\n",
       "    </tr>\n",
       "    <tr>\n",
       "      <th>3</th>\n",
       "      <td>Louise take it all back to town Aint it a sham...</td>\n",
       "      <td>do Louise Louise ooh Ooh ooh ooh oh Louise ooh...</td>\n",
       "      <td>Louise take it all back to town Aint it a sham...</td>\n",
       "    </tr>\n",
       "    <tr>\n",
       "      <th>4</th>\n",
       "      <td>How can you refuse Him now how can you refuse ...</td>\n",
       "      <td>How can you turn away from His side With tears...</td>\n",
       "      <td>How can you refuse Him now how can you refuse ...</td>\n",
       "    </tr>\n",
       "  </tbody>\n",
       "</table>\n",
       "</div>"
      ],
      "text/plain": [
       "                                              Lyrics  \\\n",
       "0  The Queen of Light took her bow And then she t...   \n",
       "1  Rhiannon rings like a bell through the night A...   \n",
       "2  TranslationsPortugus Swaying room as the music...   \n",
       "3  Louise take it all back to town Aint it a sham...   \n",
       "4  How can you refuse Him now how can you refuse ...   \n",
       "\n",
       "                                     True_end_lyrics  \\\n",
       "0  now Bring it bring it bring it bring it Bring ...   \n",
       "1  by taken by the sky Taken by taken by the sky ...   \n",
       "2  crazy for you And you know its true Yeah Im cr...   \n",
       "3  do Louise Louise ooh Ooh ooh ooh oh Louise ooh...   \n",
       "4  How can you turn away from His side With tears...   \n",
       "\n",
       "                                          Lyrics_Cut  \n",
       "0  The Queen of Light took her bow And then she t...  \n",
       "1  Rhiannon rings like a bell through the night A...  \n",
       "2  TranslationsPortugus Swaying room as the music...  \n",
       "3  Louise take it all back to town Aint it a sham...  \n",
       "4  How can you refuse Him now how can you refuse ...  "
      ]
     },
     "execution_count": 21,
     "metadata": {},
     "output_type": "execute_result"
    }
   ],
   "source": [
    "lyrics_test_df.head()"
   ]
  },
  {
   "cell_type": "code",
   "execution_count": 22,
   "metadata": {},
   "outputs": [],
   "source": [
    "# Cut so that there are only 10 samples\n",
    "lyrics_test_df = lyrics_test_df.drop(lyrics_test_df.index[10:])"
   ]
  },
  {
   "cell_type": "code",
   "execution_count": 26,
   "metadata": {
    "scrolled": true
   },
   "outputs": [
    {
     "name": "stderr",
     "output_type": "stream",
     "text": [
      "Setting `pad_token_id` to `eos_token_id`:50256 for open-end generation.\n",
      "Setting `pad_token_id` to `eos_token_id`:50256 for open-end generation.\n",
      "Setting `pad_token_id` to `eos_token_id`:50256 for open-end generation.\n",
      "Setting `pad_token_id` to `eos_token_id`:50256 for open-end generation.\n",
      "Setting `pad_token_id` to `eos_token_id`:50256 for open-end generation.\n",
      "Setting `pad_token_id` to `eos_token_id`:50256 for open-end generation.\n",
      "Setting `pad_token_id` to `eos_token_id`:50256 for open-end generation.\n",
      "Setting `pad_token_id` to `eos_token_id`:50256 for open-end generation.\n",
      "Setting `pad_token_id` to `eos_token_id`:50256 for open-end generation.\n",
      "Setting `pad_token_id` to `eos_token_id`:50256 for open-end generation.\n"
     ]
    }
   ],
   "source": [
    "# Wird wahrscheinlich sehr lange laufen\n",
    "predictions = []\n",
    "references = []\n",
    "\n",
    "# TODO: Umschreiben, sodass nur der generierte Teil verglichen wird\n",
    "\n",
    "for row in lyrics_test_df.iterrows():\n",
    "    # Append original songtext\n",
    "    references.append(row[1][0])\n",
    "    # Find out how many tokens to generate\n",
    "    tokenized_lyric = tokenizer(row[1][0])\n",
    "    output_length = len(tokenized_lyric['input_ids'])\n",
    "    # Generate Song lyrics based on cutted lyrics\n",
    "    result = lyrics_pipeline(row[1][2], max_length=output_length, min_length=output_length)[0]['generated_text']\n",
    "    predictions.append(result)"
   ]
  },
  {
   "cell_type": "code",
   "execution_count": 28,
   "metadata": {},
   "outputs": [
    {
     "name": "stdout",
     "output_type": "stream",
     "text": [
      "['The Queen of Light took her bow And then she turned to go The Prince of Peace embraced the gloom And walked the night alone Oh dance in the dark of night Sing to the morning light The dark Lord rides in force tonight And time will tell us all Oh throw down your plow and hoe Rest not to lock your homes Side by side we wait the might of the darkest of them all Ohoh I hear the horses thunder down in the valley below Im waiting for the angels of Avalon Waiting for the eastern glow The apples of the valley hold the seeds of happiness The ground is rich from tender care Repay do not forget no no Dance in the dark of night Sing to the morning light The apples turn to brown and black The tyrants face is red Oh war is the common cry Pick up your swords and fly The sky is filled with good and bad Mortals never know oh Oh well the night is long the beads of time pass slow Tired eyes on the sunrise Waiting for the eastern glow The pain of war cannot exceed The woe of aftermath The drums will shake the castle wall The ring wraiths ride in black ride on Sing as you raise your bow Ride on Shoot straighter than before No comfort has the fire at night That lights the face so cold Oh dance in the dark of night Sing to the morning light The magic runes are writ in gold To bring the balance back Bring it back At last the sun is shining The clouds of blue roll by With flames from the dragon of darkness The sunlight blinds his eyes Ahhhhh Ahhhhhhhhhh Bring it back bring it back Bring it back bring it back Bring it back bring it back Bring it back bring it back Oh now oh now oh now oh Oh now oh now oh now Bring it back bring it back Bring it back bring it back Ooh now oh now oh now oh Oh now oh now oh now oh\\nThe magic runes are writ in gold to bring the balance back Bring it back Bring it back Bring it back bring it', 'Rhiannon rings like a bell through the night And wouldnt you love to love her Takes to the sky like a bird in flight And who will be her lover All your life youve never seen a woman Taken by the wind Would you stay if she promised you heaven Will you ever win She is like a cat in the dark And then she is the darkness She rules her life like a fine skylark And when the sky is starless Once in a million years a lady like her rises Oh no Rhiannon you cry but shes gone Your life knows no answer your life knows no answer All your life youve never seen a woman Taken by the wind Would you stay if she promised you heaven Will you ever win Will you ever win Rhiannon Rhiannon Rhiannon Rhiannon She rings like a bell through the night And wouldnt you love to love her She rules her life like a bird in flight And who will be her lover All your life youve never seen a woman Taken by the wind Would you stay if she promised you heaven Will you ever win Will you ever win Rhiannon Rhiannon Rhiannon Taken by taken by the sky Taken by the sky \\nFollow me now or cry till I die\\nFollow me now or cry till I die\\nI wouldnt you love to love', 'TranslationsPortugus Swaying room as the music starts Strangers making the most of the dark Two by two their bodies become one I see you through the smokey air Cant you feel the weight of my stare Youre so close but still a world away What Im dying to say is that Im crazy for you Touch me once and youll know its true I never wanted anyone like this Its all brand new Youll feel it in my kiss Im crazy for you Crazy for you Trying hard to control my heart I walk over to where you are Eye to eye we need no words at all Slowly now we begin to move Every breath Im deeper into you Soon we two are standing still in time If you read my mind youll see Im crazy for you Touch me once and youll know its true I never wanted anyone like this Its all brand new Youll feel it in my kiss Youll feel it in my kiss Because Im crazy for you Touch me once and youll know its true I never wanted anyone like this Its all brand new Youll feel it in my kiss Im crazy for you Crazy for you Crazy for you Crazy for you Its all brand new Im crazy for you And you know its true Im crazy crazy for you Its all brand new Im crazy for you\\nOh Im crazy for you\\nYoure crazy\\nYoure crazy\\nYoure crazy yeah\\nYou know Im', 'Louise take it all back to town Aint it a shame youre too old to get around But everybody knows you used to dance the hoochy coo Just cant shake it like you used to do Louise Louise you used to work so hard No one could compare Always used to build a house They came from everywhere Men would scream the ladies faint The childrens werent allowed No one on another bill could ever draw a crowd That was a long time ago How you keep it up I just dont know Louise take it all back to town Aint it a shame youre too old to get around But everybody knows you used to dance the hoochy coo Just cant shake it like you used to do Louise Louise Younger girls keep coming up anxious for a chance Theyve all been to college got degrees in modern dance Things keep getting rougher now Where they once was slick Old routines are getting tired Tassels just dont stick That was a long time ago How you keep it up I just dont know Louise take it all back to town Aint it a shame youre too old to get around But everybody knows you used to dance the hoochy coo Just cant shake it like you used to do Louise Louise you used to build a house They came from everywhere Men would scream the ladies faint The childrens wouldnt ever draw a crowd\\nLouise', 'How can you refuse Him now how can you refuse Him now How can you turn away from His side With tears in His eyes on the cross there He died How can you refuse Jesus now Theres a story old that has often been told Of how our Saviour died as they nailed His hands He cried they dont understand As the blood flowed from His side How can you refuse Him now how can you refuse Him now How can you turn away from His side With tears in His eyes on the cross there He died How can you refuse Jesus now As He hung there on the tree He prayed for you and me There was no one His pain to ease Before He died He faintly cried Father forgive them please How can you refuse Him now how can you refuse Him now How can you turn away from His side With tears in His eyes on the cross there He died How can you refuse Him now Why', 'Mary had a baby oh Lord Mary had a baby oh Lord Mary had a baby Mary had a baby Mary had a baby oh Lord She laid Him in a manger oh Lord She laid Him in a manger oh Lord She laid Him in a manger She laid Him in a manger She laid Him in a manger oh Lord What did she name Him oh Lord What did she name Him oh Lord What did she name Him What did she name Him What did she name Him oh Lord She named Him King Jesus oh Lord She named Him King Jesus oh Lord She named Him King Jesus She named Him King Jesus She named Him King Jesus oh Lord Mary Mary had a baby\\nThey say the world is a better place if the Lord God was alive\\nShe said Yes Lord She did', 'Hand full of haters Know when I stop em survivor of close calls though Im feelin like deaths knockin Insides numb Thank God for music my heads rockin Wasnt for that Id be lost now racin against the clock And I can see it in your smile you dont mean it livin foul is your secret Want me down on the cement talent found Imma keep it My brothers keeper Keepin my head above the water Lifes a bitch beggin but I got nothin for her Slaughter bitches outta order from my ora I need my angel to come when I call her and save the baller Rock sporter gimme floor space Imma need a stupid flip Theres money cars bitches and jewels to get lets do this shit Look how my music hits I got that loud on Sour diesel in a cloud gone get ya style torn Heart crosses for body losses Stay in a better place probably bosses w ferrari horses Im just as nice as anyone that wore the crown Livin my dream keep what you think dont spoil it now I can sense the hate before the frown ya born a clown Droppin all em bricks off toilet bound n watered down I got the anger to set it off ya feather soft In and out the b tracks intercourse through metaphors The mac bridge she get across I met her jaws 5 star flaws and better tours and chedda toss My work bodies like a shotty let off in the party Pardon my partner he pumped and ready to hurt somebody You send ya bitch to line me you gon lose ya Bonnie He noknow rude awakening you find me with the ruger round me RIP my nigga ima see ya wen I see ya Im holdin it down here n niggas still tryna be ya but But theyll never be another crew like us Bottles in the air gettin high all I do is crush And till the day Im dust Theyll be no love No love No love They aint no more left Damn pops I miss you Ill see you wen I get there Wish I can tell you you were right cuz you aint missin shit here Fans turned on me never thought itd be this weird Guess they thought I wouldnt keep up look how I switch gears Swung the last ten Imma kill em the next 6 years Tryna block the pain with the liquor my nigga sick scared RIP to Roster salute with the chopper Remember us young boys too loose of the vodka Smokin like I smoke now now its part of my intro Same shit that we used to brush off hard on my mental Beast mode they led me to snap target my pencil They been borrowin a while now countin the years I lent you I got the block poppin big ass rock coppin G throwin and top droppin just know the price\\n\\nYeah bitch nigga\\nIm a bossa\\nIm a bossa\\nMatter of fact Im a bossa\\nIma be a', 'Yo too advanced Digi stance made the CD enhanced I move with the speed and strength of ants Identical in form with the Bees they swarm Hold up the cold current appear warm My first verbal brawl started on some yes yes yall To the beat yall break your windshield your jeep stall Mr Traffic dumbin shit from ecclesiastic Cashier holdin out fine cut off the plastic See the logo A monument in Hip Hop Carved out in the giant landscape of broken rocks Whether heard in herb spots jukebox or malt shops Uncut live drop eightyfive in one shot Spotlight hits the metal mic majority stare Heard the Wu snare while my iris cut down the glare Walk a road the great length you find too long to measure My Clanll make me rhyme like D Banner under pressure No surprise double disc touched five Those elements kept environments colonized With the high flyin deathdefyin flow like the Rebel Right there but youre one light year from my level Uhhuh yeah yo check it yo Bottles goin off in the church we broke the wine Slapped the pastor didnt know Pop had asthma He pulled out his blue bible change fell out his coat Three condoms two dice one bag of dope Oooh Rev aint right his church aint right Deacon is a pimp tell by his ice Mrs Parks said Brother Starks meet you at the numbers spot Heard you got red tops out and I want a lot Shirley fainted dead on the spot Two ushers slipped eighty dollars right out the pot Oh shit Egyptian brown skin brown suede Timbs Masqueradin Xrated throw blades all occasions Round nozzle touchdown HaagenDazs goggles White House Gucci flag on the roof call us rock groups Mere intelligent buy Neiman Marcus out No doubt all we saw he bought Lori moms all blow Was simple blamp instrumentals run camps the stamps get you The way we lamp fans come and get you Play fullback strapped like a fuck war at The black Carlo Gambinos stash house in Hackensack Pack capsules Green Bay em lay em down like wax do Its all actual we build like Crash Crew Coconut incense one sentence aiyyo Control the holy flinch hit this new whips Roman numerals sun splash them niggas like Tango and Cash Alcatraz cats roll out fast Wu thousand nuthin but hardcore We tryin to get land riches and more Ghost put me on to it We just do it floss or whatever Take care of the business theres too many roughnecks Give two of these to Flex tell him its real rap like Ghost Had to beat niggas with toast Cause we got clientele we lay it down flat Pulled out on yall kid now where your mans at Fakin the real like Damn I cant stand Cappa Then my wardrobe flooded the next chapter Yall heard about us like we heard about you Bless the mic with reality hit you with the virtue Calm down not tryin to hurt you burst through Fat shit fatter than all yall niggas outfits We the glitch like Y2K Catch the ball when it drop guns pop yall have a nice day Doctor Kanabuta Iron Man he is invincible His remarkable armor is supreme Yo sometimes Im liable to spaz and break fool Grab my gun select one snatch son Put the barrel by his face blast one by his eardrum Piss run you drop thinkin youre shot Screamin like a bitch kicks to your face Shots to the body that shake like the bass Im Ghostfaced up military style down Nuff ammunitions of rounds across the chest Skip to the intro rap through post Smashed a fresh ball of wax Caesar Flashy penthouse that overlooks the vista Wally Moc half tied swimmin trunks Three chunks of ice sit in Johnny Walker for advice Catch the moment fundraiser at will work with the homeless Polish diamond edge Flintstone shit sealed in a comb pick Carefully swing the B seven series Christmas lights Too bright Ghost is comin yall fix the mirrors Relax like pudding confidence strangle my man couldnt Exile he no longer in the hood Bless the kid that max the most Me I turn a wedding into hoax Roses yall better get more features Maybe my next video Somebody move up to me Maybe this is too much Me Im too hard for ya Say it loud\\n', 'Something is wrong in this nation When a child can grab a gunsgrab a gun so easily And shoot a bullet Into the middle of a childs face as my daughter experienced Something is wrong First the gun draws and you know That somethings happening Then darkness falls and oh Your heart beats rapidly Be prepared because War is coming You cant be scared now When the streets is calling you Good evening my names Mr Bullet I respond to the index when you pull it The trigger so make a note take a vote Quick man nicknames Quaker Oats cause Whether domestic violence or coke deals See I lust to change brain matter to oatmeal And when I kill kids they say shame on me Who the fuck told you to put they names on me White man made me venom to eliminate Especially when Im in the hood I never discriminate Just get in em then I renovate Flesh bone aint nothin for me to penetrate And it can happen so swiftly One false move just might shift me If Im enlodged and your souls not claimed I will remind that ass when its about to rain like First the gun draws and you know That somethings happening Then darkness falls and oh Your heart beats rapidly Be prepared because War is coming You cant be scared now When the streets is calling you Would the new method of murder be arson or firebombs If the cost of a single bullet was more than the firearm Strange that is when all exits are final Point blank range that is My attitude is cold and callous Killed kings in Tennessee presidents in Dallas And if the past be known at last we know What happened that afternoon on the Grassy Knoll Its what made a widow of Jackie O The government hired Lee Harvey to blast me though Fatality shot entered from the right temple Was not fired from a sixstory window Can it be that it was all so simple But yet remains so painful to rekindle I come through your city Im hot Whether youre jiggy or not whether youre Biggie or Pac When the gun draws First the gun draws and you know That somethings happening Then darkness falls and oh Your heart beats rapidly Good evening\\nIm a black man in the hood who lives it as hard as it gets', 'They say youre nothing but a party girl Just like a million more all over the world I know I shouldnt be raising my hopes so high But I have seen the hungry look in their eyes Theyd settle for anything in disguise of love Seen the party girls look me over Seen em leaving when the partys over They cant touch me now You say you dont mind Were so hard to find I could give you anything but time Give it just one more try Give it a chance Starts like fascination Ends up like a trance Oh youll never be the guilty party girl Maybe someday we can go hiding from this world Maybe Ill never get over the change in style But I dont wanna lock you up and say youre mine Dont wanna lose you or say goodbye Im the guilty party and I want my slice But I know youve got me and Im in a griplike vise They cant touch me now You say you dont mind Were so hard to find I could give you anything but time Give it just one more try Give it a chance Starts like fascination\\nEnd with fascination']\n",
      "['The Queen of Light took her bow And then she turned to go The Prince of Peace embraced the gloom And walked the night alone Oh dance in the dark of night Sing to the morning light The dark Lord rides in force tonight And time will tell us all Oh throw down your plow and hoe Rest not to lock your homes Side by side we wait the might of the darkest of them all Ohoh I hear the horses thunder down in the valley below Im waiting for the angels of Avalon Waiting for the eastern glow The apples of the valley hold the seeds of happiness The ground is rich from tender care Repay do not forget no no Dance in the dark of night Sing to the morning light The apples turn to brown and black The tyrants face is red Oh war is the common cry Pick up your swords and fly The sky is filled with good and bad Mortals never know oh Oh well the night is long the beads of time pass slow Tired eyes on the sunrise Waiting for the eastern glow The pain of war cannot exceed The woe of aftermath The drums will shake the castle wall The ring wraiths ride in black ride on Sing as you raise your bow Ride on Shoot straighter than before No comfort has the fire at night That lights the face so cold Oh dance in the dark of night Sing to the morning light The magic runes are writ in gold To bring the balance back Bring it back  At last the sun is shining The clouds of blue roll by With flames from the dragon of darkness The sunlight blinds his eyes Ahhhhh Ahhhhhhhhhh Bring it back bring it back Bring it back bring it back Bring it back bring it back Bring it back bring it back Oh now oh now oh now oh Oh now oh now oh now Bring it back bring it back Bring it back bring it back Ooh now oh now oh now oh Oh now oh now oh now Bring it bring it bring it bring it Bring it bring it bring it bring it Bring it bring it bring it bring it', 'Rhiannon rings like a bell through the night And wouldnt you love to love her Takes to the sky like a bird in flight And who will be her lover All your life youve never seen a woman Taken by the wind Would you stay if she promised you heaven Will you ever win She is like a cat in the dark And then she is the darkness She rules her life like a fine skylark And when the sky is starless Once in a million years a lady like her rises Oh no Rhiannon you cry but shes gone Your life knows no answer your life knows no answer All your life youve never seen a woman Taken by the wind Would you stay if she promised you heaven Will you ever win Will you ever win Rhiannon Rhiannon Rhiannon Rhiannon She rings like a bell through the night And wouldnt you love to love her She rules her life like a bird in flight And who will be her lover  All your life youve never seen a woman Taken by the wind Would you stay if she promised you heaven Will you ever win Will you ever win Rhiannon Rhiannon Rhiannon Taken by taken by the sky Taken by taken by the sky Taken by taken by the sky Dreams unwind Loves a state of mind Dreams unwind Loves a state of mind', 'TranslationsPortugus Swaying room as the music starts Strangers making the most of the dark Two by two their bodies become one I see you through the smokey air Cant you feel the weight of my stare Youre so close but still a world away What Im dying to say is that Im crazy for you Touch me once and youll know its true I never wanted anyone like this Its all brand new Youll feel it in my kiss Im crazy for you Crazy for you Trying hard to control my heart I walk over to where you are Eye to eye we need no words at all Slowly now we begin to move Every breath Im deeper into you Soon we two are standing still in time If you read my mind youll see Im crazy for you Touch me once and youll know its true I never wanted anyone like this Its all brand new Youll feel it in my kiss Youll feel it in my kiss Because Im crazy for you Touch me once and youll know its true I never wanted anyone like this Its all brand new Youll feel it in my kiss Im crazy for you Crazy for you Crazy for you Crazy for you  Its all brand new Im crazy for you And you know its true Im crazy crazy for you Its all brand new Im crazy for you And you know its true Yeah Im crazy for you Crazy for you baby Im crazy for you Crazy for you baby', 'Louise take it all back to town Aint it a shame youre too old to get around But everybody knows you used to dance the hoochy coo Just cant shake it like you used to do Louise Louise you used to work so hard No one could compare Always used to build a house They came from everywhere Men would scream the ladies faint The childrens werent allowed No one on another bill could ever draw a crowd That was a long time ago How you keep it up I just dont know Louise take it all back to town Aint it a shame youre too old to get around But everybody knows you used to dance the hoochy coo Just cant shake it like you used to do Louise Louise Younger girls keep coming up anxious for a chance Theyve all been to college got degrees in modern dance Things keep getting rougher now Where they once was slick Old routines are getting tired Tassels just dont stick That was a long time ago How you keep it up I just dont know  Louise take it all back to town Aint it a shame youre too old to get around But everybody knows you used to dance the hoochy coo Just cant shake it like you used to do Louise Louise ooh Ooh ooh ooh oh Louise ooh Its so very hard Every day slips away Away away Oh oh oh oh oh', 'How can you refuse Him now how can you refuse Him now How can you turn away from His side With tears in His eyes on the cross there He died How can you refuse Jesus now Theres a story old that has often been told Of how our Saviour died as they nailed His hands He cried they dont understand As the blood flowed from His side How can you refuse Him now how can you refuse Him now How can you turn away from His side With tears in His eyes on the cross there He died How can you refuse Jesus now As He hung there on the tree He prayed for you and me There was no one His pain to ease Before He died He faintly cried Father forgive them please How can you refuse Him now how can you refuse Him now How can you turn away from His side With tears in His eyes on the cross there He died How can you refuse Jesus now ', 'Mary had a baby oh Lord Mary had a baby oh Lord Mary had a baby Mary had a baby Mary had a baby oh Lord She laid Him in a manger oh Lord She laid Him in a manger oh Lord She laid Him in a manger She laid Him in a manger She laid Him in a manger oh Lord What did she name Him oh Lord What did she name Him oh Lord What did she name Him What did she name Him What did she name Him oh Lord She named Him King Jesus oh Lord She named Him King Jesus oh Lord She named Him King Jesus She named Him King Jesus She named Him King Jesus oh Lord Mary had a baby oh Lord Mary had a baby oh Lord Mary had a baby Mary had a baby Mary had a baby oh Lord ', 'Hand full of haters Know when I stop em survivor of close calls though Im feelin like deaths knockin Insides numb Thank God for music my heads rockin Wasnt for that Id be lost now racin against the clock And I can see it in your smile you dont mean it livin foul is your secret Want me down on the cement talent found Imma keep it My brothers keeper Keepin my head above the water Lifes a bitch beggin but I got nothin for her Slaughter bitches outta order from my ora I need my angel to come when I call her and save the baller Rock sporter gimme floor space Imma need a stupid flip Theres money cars bitches and jewels to get lets do this shit Look how my music hits I got that loud on Sour diesel in a cloud gone get ya style torn Heart crosses for body losses Stay in a better place probably bosses w ferrari horses Im just as nice as anyone that wore the crown Livin my dream keep what you think dont spoil it now I can sense the hate before the frown ya born a clown Droppin all em bricks off toilet bound n watered down I got the anger to set it off ya feather soft In and out the b tracks intercourse through metaphors The mac bridge she get across I met her jaws 5 star flaws and better tours and chedda toss My work bodies like a shotty let off in the party Pardon my partner he pumped and ready to hurt somebody You send ya bitch to line me you gon lose ya Bonnie He noknow rude awakening you find me with the ruger round me RIP my nigga ima see ya wen I see ya Im holdin it down here n niggas still tryna be ya but But theyll never be another crew like us Bottles in the air gettin high all I do is crush And till the day Im dust Theyll be no love No love No love They aint no more left Damn pops I miss you Ill see you wen I get there Wish I can tell you you were right cuz you aint missin shit here Fans turned on me never thought itd be this weird Guess they thought I wouldnt keep up look how I switch gears Swung the last ten Imma kill em the next 6 years Tryna block the pain with the liquor my nigga sick scared RIP to Roster salute with the chopper Remember us young boys too loose of the vodka Smokin like I smoke now now its part of my intro Same shit that we used to brush off hard on my mental Beast mode they led me to snap target my pencil They been borrowin a while now countin the years I lent you I got the block poppin big ass rock coppin G throwin and top droppin just know when the cops watchin These niggas will not stop him struggle to find a way From birds eye jockin Im puffin a dime a day ', 'Yo too advanced Digi stance made the CD enhanced I move with the speed and strength of ants Identical in form with the Bees they swarm Hold up the cold current appear warm My first verbal brawl started on some yes yes yall To the beat yall break your windshield your jeep stall Mr Traffic dumbin shit from ecclesiastic Cashier holdin out fine cut off the plastic See the logo A monument in Hip Hop Carved out in the giant landscape of broken rocks Whether heard in herb spots jukebox or malt shops Uncut live drop eightyfive in one shot Spotlight hits the metal mic majority stare Heard the Wu snare while my iris cut down the glare Walk a road the great length you find too long to measure My Clanll make me rhyme like D Banner under pressure No surprise double disc touched five Those elements kept environments colonized With the high flyin deathdefyin flow like the Rebel Right there but youre one light year from my level Uhhuh yeah yo check it yo Bottles goin off in the church we broke the wine Slapped the pastor didnt know Pop had asthma He pulled out his blue bible change fell out his coat Three condoms two dice one bag of dope Oooh Rev aint right his church aint right Deacon is a pimp tell by his ice Mrs Parks said Brother Starks meet you at the numbers spot Heard you got red tops out and I want a lot Shirley fainted dead on the spot Two ushers slipped eighty dollars right out the pot Oh shit Egyptian brown skin brown suede Timbs Masqueradin Xrated throw blades all occasions Round nozzle touchdown HaagenDazs goggles White House Gucci flag on the roof call us rock groups Mere intelligent buy Neiman Marcus out No doubt all we saw he bought Lori moms all blow Was simple blamp instrumentals run camps the stamps get you The way we lamp fans come and get you Play fullback strapped like a fuck war at The black Carlo Gambinos stash house in Hackensack Pack capsules Green Bay em lay em down like wax do Its all actual we build like Crash Crew Coconut incense one sentence aiyyo Control the holy flinch hit this new whips Roman numerals sun splash them niggas like Tango and Cash Alcatraz cats roll out fast Wu thousand nuthin but hardcore We tryin to get land riches and more Ghost put me on to it We just do it floss or whatever Take care of the business theres too many roughnecks Give two of these to Flex tell him its real rap like Ghost Had to beat niggas with toast Cause we got clientele we lay it down flat Pulled out on yall kid now where your mans at Fakin the real like Damn I cant stand Cappa Then my wardrobe flooded the next chapter Yall heard about us like we heard about you Bless the mic with reality hit you with the virtue Calm down not tryin to hurt you burst through Fat shit fatter than all yall niggas outfits We the glitch like Y2K Catch the ball when it drop guns pop yall have a nice day Doctor Kanabuta Iron Man he is invincible His remarkable armor is supreme Yo sometimes Im liable to spaz and break fool Grab my gun select one snatch son Put the barrel by his face blast one by his eardrum Piss run you drop thinkin youre shot Screamin like a bitch kicks to your face Shots to the body that shake like the bass Im Ghostfaced up military style down Nuff ammunitions of rounds across the chest Skip to the intro rap through post Smashed a fresh ball of wax Caesar Flashy penthouse that overlooks the vista Wally Moc half tied swimmin trunks Three chunks of ice sit in Johnny Walker for advice Catch the moment fundraiser at will work with the homeless Polish diamond edge Flintstone shit sealed in a comb pick Carefully swing the B seven series Christmas lights Too bright Ghost is comin yall fix the mirrors Relax like pudding confidence strangle my man couldnt Exile he no longer in the hood Bless the kid that max the most Me I turn a wedding into hoax Roses tied to bombs on posts On commercial breaks piss in the apple juice Rasta nigga rock the big dos Jiffy Pop its only chant Wu ', 'Something is wrong in this nation When a child can grab a gunsgrab a gun so easily And shoot a bullet Into the middle of a childs face as my daughter experienced Something is wrong First the gun draws and you know That somethings happening Then darkness falls and oh Your heart beats rapidly Be prepared because War is coming You cant be scared now When the streets is calling you Good evening my names Mr Bullet I respond to the index when you pull it The trigger so make a note take a vote Quick man nicknames Quaker Oats cause Whether domestic violence or coke deals See I lust to change brain matter to oatmeal And when I kill kids they say shame on me Who the fuck told you to put they names on me White man made me venom to eliminate Especially when Im in the hood I never discriminate Just get in em then I renovate Flesh bone aint nothin for me to penetrate And it can happen so swiftly One false move just might shift me If Im enlodged and your souls not claimed I will remind that ass when its about to rain like First the gun draws and you know That somethings happening Then darkness falls and oh Your heart beats rapidly Be prepared because War is coming You cant be scared now When the streets is calling you Would the new method of murder be arson or firebombs If the cost of a single bullet was more than the firearm Strange that is when all exits are final Point blank range that is My attitude is cold and callous Killed kings in Tennessee presidents in Dallas And if the past be known at last we know What happened that afternoon on the Grassy Knoll Its what made a widow of Jackie O The government hired Lee Harvey to blast me though Fatality shot entered from the right temple Was not fired from a sixstory window Can it be that it was all so simple But yet remains so painful to rekindle I come through your city Im hot Whether youre jiggy or not whether youre Biggie or Pac When the gun draws First the gun draws and you know That somethings happening Then darkness falls and oh Your heart beats rapidly Be prepared because War is coming You cant be scared now When the streets is calling you ', 'They say youre nothing but a party girl Just like a million more all over the world I know I shouldnt be raising my hopes so high But I have seen the hungry look in their eyes Theyd settle for anything in disguise of love Seen the party girls look me over Seen em leaving when the partys over They cant touch me now You say you dont mind Were so hard to find I could give you anything but time Give it just one more try Give it a chance Starts like fascination Ends up like a trance Oh youll never be the guilty party girl Maybe someday we can go hiding from this world Maybe Ill never get over the change in style But I dont wanna lock you up and say youre mine Dont wanna lose you or say goodbye Im the guilty party and I want my slice But I know youve got me and Im in a griplike vise They cant touch me now You say you dont mind Were so hard to find I could give you anything I would give you anything I can give you anything but time Give you anything but time  ']\n"
     ]
    }
   ],
   "source": [
    "print(predictions)\n",
    "print(references)"
   ]
  },
  {
   "cell_type": "code",
   "execution_count": 29,
   "metadata": {},
   "outputs": [
    {
     "name": "stderr",
     "output_type": "stream",
     "text": [
      "Downloading builder script: 100%|██████████| 5.94k/5.94k [00:00<00:00, 2.12MB/s]\n",
      "Downloading extra modules: 4.07kB [00:00, 2.24MB/s]                   \n",
      "Downloading extra modules: 100%|██████████| 3.34k/3.34k [00:00<00:00, 3.36MB/s]\n"
     ]
    }
   ],
   "source": [
    "bleu = evaluate.load(\"bleu\")"
   ]
  },
  {
   "cell_type": "code",
   "execution_count": 30,
   "metadata": {},
   "outputs": [
    {
     "name": "stdout",
     "output_type": "stream",
     "text": [
      "{'bleu': 0.9433602381278325, 'precisions': [0.9516177804656789, 0.9447983014861996, 0.9425007605719501, 0.9414098260604211], 'brevity_penalty': 0.9981873116750484, 'length_ratio': 0.9981889526109267, 'translation_length': 3307, 'reference_length': 3313}\n"
     ]
    }
   ],
   "source": [
    "results = bleu.compute(predictions=predictions, references=references)\n",
    "print(results)"
   ]
  },
  {
   "cell_type": "markdown",
   "metadata": {},
   "source": [
    "---\n",
    "\n",
    "## Prompting"
   ]
  },
  {
   "cell_type": "markdown",
   "metadata": {},
   "source": [
    "Sebastians part!"
   ]
  },
  {
   "cell_type": "markdown",
   "metadata": {},
   "source": [
    "---\n",
    "\n",
    "## Demo lyrics generation"
   ]
  },
  {
   "cell_type": "markdown",
   "metadata": {},
   "source": [
    "Bennys part!"
   ]
  },
  {
   "cell_type": "markdown",
   "metadata": {},
   "source": []
  }
 ],
 "metadata": {
  "kernelspec": {
   "display_name": "Python 3 (ipykernel)",
   "language": "python",
   "name": "python3"
  },
  "language_info": {
   "codemirror_mode": {
    "name": "ipython",
    "version": 3
   },
   "file_extension": ".py",
   "mimetype": "text/x-python",
   "name": "python",
   "nbconvert_exporter": "python",
   "pygments_lexer": "ipython3",
   "version": "3.9.13"
  },
  "vscode": {
   "interpreter": {
    "hash": "401949f8f22344ab70dfcd116b53776ca8bac82eaa601e9464a5719ba1fa738c"
   }
  }
 },
 "nbformat": 4,
 "nbformat_minor": 2
}
