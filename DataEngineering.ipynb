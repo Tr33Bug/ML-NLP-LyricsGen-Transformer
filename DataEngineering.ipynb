{
 "cells": [
  {
   "cell_type": "markdown",
   "metadata": {},
   "source": [
    "# Data Engineering\n",
    "`Donwloading and creating the dataset for the LyricsGenerator task.`"
   ]
  },
  {
   "cell_type": "code",
   "execution_count": 1,
   "metadata": {},
   "outputs": [
    {
     "name": "stdout",
     "output_type": "stream",
     "text": [
      "Collecting lyricsgenius\n",
      "  Downloading lyricsgenius-3.0.1-py3-none-any.whl (59 kB)\n",
      "     ---------------------------------------- 59.4/59.4 kB 3.1 MB/s eta 0:00:00\n",
      "Requirement already satisfied: requests>=2.20.0 in c:\\users\\kreat\\miniconda3\\envs\\tf-gpu\\lib\\site-packages (from lyricsgenius) (2.28.1)\n",
      "Requirement already satisfied: beautifulsoup4>=4.6.0 in c:\\users\\kreat\\miniconda3\\envs\\tf-gpu\\lib\\site-packages (from lyricsgenius) (4.11.1)\n",
      "Requirement already satisfied: soupsieve>1.2 in c:\\users\\kreat\\miniconda3\\envs\\tf-gpu\\lib\\site-packages (from beautifulsoup4>=4.6.0->lyricsgenius) (2.3.2.post1)\n",
      "Requirement already satisfied: charset-normalizer<3,>=2 in c:\\users\\kreat\\miniconda3\\envs\\tf-gpu\\lib\\site-packages (from requests>=2.20.0->lyricsgenius) (2.1.1)\n",
      "Requirement already satisfied: idna<4,>=2.5 in c:\\users\\kreat\\miniconda3\\envs\\tf-gpu\\lib\\site-packages (from requests>=2.20.0->lyricsgenius) (3.4)\n",
      "Requirement already satisfied: urllib3<1.27,>=1.21.1 in c:\\users\\kreat\\miniconda3\\envs\\tf-gpu\\lib\\site-packages (from requests>=2.20.0->lyricsgenius) (1.26.12)\n",
      "Requirement already satisfied: certifi>=2017.4.17 in c:\\users\\kreat\\miniconda3\\envs\\tf-gpu\\lib\\site-packages (from requests>=2.20.0->lyricsgenius) (2022.9.24)\n",
      "Installing collected packages: lyricsgenius\n",
      "Successfully installed lyricsgenius-3.0.1\n",
      "Requirement already satisfied: pandas in c:\\users\\kreat\\miniconda3\\envs\\tf-gpu\\lib\\site-packages (1.5.1)\n",
      "Requirement already satisfied: pytz>=2020.1 in c:\\users\\kreat\\miniconda3\\envs\\tf-gpu\\lib\\site-packages (from pandas) (2022.6)\n",
      "Requirement already satisfied: python-dateutil>=2.8.1 in c:\\users\\kreat\\miniconda3\\envs\\tf-gpu\\lib\\site-packages (from pandas) (2.8.2)\n",
      "Requirement already satisfied: numpy>=1.20.3 in c:\\users\\kreat\\miniconda3\\envs\\tf-gpu\\lib\\site-packages (from pandas) (1.23.4)\n",
      "Requirement already satisfied: six>=1.5 in c:\\users\\kreat\\miniconda3\\envs\\tf-gpu\\lib\\site-packages (from python-dateutil>=2.8.1->pandas) (1.16.0)\n",
      "Requirement already satisfied: regex in c:\\users\\kreat\\miniconda3\\envs\\tf-gpu\\lib\\site-packages (2022.10.31)\n"
     ]
    }
   ],
   "source": [
    "# installation: \n",
    "! pip install lyricsgenius\n",
    "! pip install pandas\n",
    "! pip install regex"
   ]
  },
  {
   "cell_type": "code",
   "execution_count": 9,
   "metadata": {},
   "outputs": [],
   "source": [
    "# imports and setup\n",
    "import lyricsgenius\n",
    "import os\n",
    "import pandas as pd\n",
    "import regex as re\n"
   ]
  },
  {
   "cell_type": "code",
   "execution_count": 10,
   "metadata": {},
   "outputs": [],
   "source": [
    "# imports and setup\n",
    "import lyricsgenius\n",
    "import os\n",
    "import pandas as pd\n",
    "import regex as re\n"
   ]
  },
  {
   "cell_type": "code",
   "execution_count": 11,
   "metadata": {},
   "outputs": [],
   "source": [
    "# file paths\n",
    "root = './'\n",
    "kaggleDataset = root + 'datasets/kaggle/'\n",
    "geniusDataset = root + 'datasets/genius/'\n",
    "tokenPath = root + 'geniusToken.txt'"
   ]
  },
  {
   "cell_type": "markdown",
   "metadata": {},
   "source": [
    "## GeniusLyrics-crawler\n",
    "\n",
    "Using: \n",
    "- the Genius API from genius.com (https://docs.genius.com/#/getting-started-h1)\n",
    "- the LyricsGenius-Framework (https://github.com/johnwmillr/LyricsGenius)\n",
    "---"
   ]
  },
  {
   "cell_type": "code",
   "execution_count": 22,
   "metadata": {},
   "outputs": [],
   "source": [
    "# Genius API Access Token\n",
    "# get token at: https://genius.com/api-clients\n",
    "# load token from file\n",
    "with open(tokenPath, 'r') as file:\n",
    "    GENIUS_ACCESS_TOKEN = str(file.read())\n",
    "\n",
    "    # delete last newline character from token\n",
    "    GENIUS_ACCESS_TOKEN = GENIUS_ACCESS_TOKEN[:-1]\n",
    "    file.close()"
   ]
  },
  {
   "cell_type": "markdown",
   "metadata": {},
   "source": [
    "### test lyricsgenius framework"
   ]
  },
  {
   "cell_type": "code",
   "execution_count": 25,
   "metadata": {},
   "outputs": [
    {
     "name": "stdout",
     "output_type": "stream",
     "text": [
      "Searching for songs by coldplay...\n",
      "\n",
      "Changing artist name to 'Coldplay'\n"
     ]
    },
    {
     "ename": "Timeout",
     "evalue": "Request timed out:\nHTTPSConnectionPool(host='genius.com', port=443): Read timed out. (read timeout=5)",
     "output_type": "error",
     "traceback": [
      "\u001b[1;31m---------------------------------------------------------------------------\u001b[0m",
      "\u001b[1;31mtimeout\u001b[0m                                   Traceback (most recent call last)",
      "File \u001b[1;32mc:\\Users\\Kreat\\miniconda3\\envs\\tf-gpu\\lib\\site-packages\\urllib3\\connectionpool.py:449\u001b[0m, in \u001b[0;36mHTTPConnectionPool._make_request\u001b[1;34m(self, conn, method, url, timeout, chunked, **httplib_request_kw)\u001b[0m\n\u001b[0;32m    445\u001b[0m         \u001b[39mexcept\u001b[39;00m \u001b[39mBaseException\u001b[39;00m \u001b[39mas\u001b[39;00m e:\n\u001b[0;32m    446\u001b[0m             \u001b[39m# Remove the TypeError from the exception chain in\u001b[39;00m\n\u001b[0;32m    447\u001b[0m             \u001b[39m# Python 3 (including for exceptions like SystemExit).\u001b[39;00m\n\u001b[0;32m    448\u001b[0m             \u001b[39m# Otherwise it looks like a bug in the code.\u001b[39;00m\n\u001b[1;32m--> 449\u001b[0m             six\u001b[39m.\u001b[39;49mraise_from(e, \u001b[39mNone\u001b[39;49;00m)\n\u001b[0;32m    450\u001b[0m \u001b[39mexcept\u001b[39;00m (SocketTimeout, BaseSSLError, SocketError) \u001b[39mas\u001b[39;00m e:\n",
      "File \u001b[1;32m<string>:3\u001b[0m, in \u001b[0;36mraise_from\u001b[1;34m(value, from_value)\u001b[0m\n",
      "File \u001b[1;32mc:\\Users\\Kreat\\miniconda3\\envs\\tf-gpu\\lib\\site-packages\\urllib3\\connectionpool.py:444\u001b[0m, in \u001b[0;36mHTTPConnectionPool._make_request\u001b[1;34m(self, conn, method, url, timeout, chunked, **httplib_request_kw)\u001b[0m\n\u001b[0;32m    443\u001b[0m \u001b[39mtry\u001b[39;00m:\n\u001b[1;32m--> 444\u001b[0m     httplib_response \u001b[39m=\u001b[39m conn\u001b[39m.\u001b[39;49mgetresponse()\n\u001b[0;32m    445\u001b[0m \u001b[39mexcept\u001b[39;00m \u001b[39mBaseException\u001b[39;00m \u001b[39mas\u001b[39;00m e:\n\u001b[0;32m    446\u001b[0m     \u001b[39m# Remove the TypeError from the exception chain in\u001b[39;00m\n\u001b[0;32m    447\u001b[0m     \u001b[39m# Python 3 (including for exceptions like SystemExit).\u001b[39;00m\n\u001b[0;32m    448\u001b[0m     \u001b[39m# Otherwise it looks like a bug in the code.\u001b[39;00m\n",
      "File \u001b[1;32mc:\\Users\\Kreat\\miniconda3\\envs\\tf-gpu\\lib\\http\\client.py:1377\u001b[0m, in \u001b[0;36mHTTPConnection.getresponse\u001b[1;34m(self)\u001b[0m\n\u001b[0;32m   1376\u001b[0m \u001b[39mtry\u001b[39;00m:\n\u001b[1;32m-> 1377\u001b[0m     response\u001b[39m.\u001b[39;49mbegin()\n\u001b[0;32m   1378\u001b[0m \u001b[39mexcept\u001b[39;00m \u001b[39mConnectionError\u001b[39;00m:\n",
      "File \u001b[1;32mc:\\Users\\Kreat\\miniconda3\\envs\\tf-gpu\\lib\\http\\client.py:320\u001b[0m, in \u001b[0;36mHTTPResponse.begin\u001b[1;34m(self)\u001b[0m\n\u001b[0;32m    319\u001b[0m \u001b[39mwhile\u001b[39;00m \u001b[39mTrue\u001b[39;00m:\n\u001b[1;32m--> 320\u001b[0m     version, status, reason \u001b[39m=\u001b[39m \u001b[39mself\u001b[39;49m\u001b[39m.\u001b[39;49m_read_status()\n\u001b[0;32m    321\u001b[0m     \u001b[39mif\u001b[39;00m status \u001b[39m!=\u001b[39m CONTINUE:\n",
      "File \u001b[1;32mc:\\Users\\Kreat\\miniconda3\\envs\\tf-gpu\\lib\\http\\client.py:281\u001b[0m, in \u001b[0;36mHTTPResponse._read_status\u001b[1;34m(self)\u001b[0m\n\u001b[0;32m    280\u001b[0m \u001b[39mdef\u001b[39;00m \u001b[39m_read_status\u001b[39m(\u001b[39mself\u001b[39m):\n\u001b[1;32m--> 281\u001b[0m     line \u001b[39m=\u001b[39m \u001b[39mstr\u001b[39m(\u001b[39mself\u001b[39;49m\u001b[39m.\u001b[39;49mfp\u001b[39m.\u001b[39;49mreadline(_MAXLINE \u001b[39m+\u001b[39;49m \u001b[39m1\u001b[39;49m), \u001b[39m\"\u001b[39m\u001b[39miso-8859-1\u001b[39m\u001b[39m\"\u001b[39m)\n\u001b[0;32m    282\u001b[0m     \u001b[39mif\u001b[39;00m \u001b[39mlen\u001b[39m(line) \u001b[39m>\u001b[39m _MAXLINE:\n",
      "File \u001b[1;32mc:\\Users\\Kreat\\miniconda3\\envs\\tf-gpu\\lib\\socket.py:704\u001b[0m, in \u001b[0;36mSocketIO.readinto\u001b[1;34m(self, b)\u001b[0m\n\u001b[0;32m    703\u001b[0m \u001b[39mtry\u001b[39;00m:\n\u001b[1;32m--> 704\u001b[0m     \u001b[39mreturn\u001b[39;00m \u001b[39mself\u001b[39;49m\u001b[39m.\u001b[39;49m_sock\u001b[39m.\u001b[39;49mrecv_into(b)\n\u001b[0;32m    705\u001b[0m \u001b[39mexcept\u001b[39;00m timeout:\n",
      "File \u001b[1;32mc:\\Users\\Kreat\\miniconda3\\envs\\tf-gpu\\lib\\ssl.py:1242\u001b[0m, in \u001b[0;36mSSLSocket.recv_into\u001b[1;34m(self, buffer, nbytes, flags)\u001b[0m\n\u001b[0;32m   1239\u001b[0m         \u001b[39mraise\u001b[39;00m \u001b[39mValueError\u001b[39;00m(\n\u001b[0;32m   1240\u001b[0m           \u001b[39m\"\u001b[39m\u001b[39mnon-zero flags not allowed in calls to recv_into() on \u001b[39m\u001b[39m%s\u001b[39;00m\u001b[39m\"\u001b[39m \u001b[39m%\u001b[39m\n\u001b[0;32m   1241\u001b[0m           \u001b[39mself\u001b[39m\u001b[39m.\u001b[39m\u001b[39m__class__\u001b[39m)\n\u001b[1;32m-> 1242\u001b[0m     \u001b[39mreturn\u001b[39;00m \u001b[39mself\u001b[39;49m\u001b[39m.\u001b[39;49mread(nbytes, buffer)\n\u001b[0;32m   1243\u001b[0m \u001b[39melse\u001b[39;00m:\n",
      "File \u001b[1;32mc:\\Users\\Kreat\\miniconda3\\envs\\tf-gpu\\lib\\ssl.py:1100\u001b[0m, in \u001b[0;36mSSLSocket.read\u001b[1;34m(self, len, buffer)\u001b[0m\n\u001b[0;32m   1099\u001b[0m \u001b[39mif\u001b[39;00m buffer \u001b[39mis\u001b[39;00m \u001b[39mnot\u001b[39;00m \u001b[39mNone\u001b[39;00m:\n\u001b[1;32m-> 1100\u001b[0m     \u001b[39mreturn\u001b[39;00m \u001b[39mself\u001b[39;49m\u001b[39m.\u001b[39;49m_sslobj\u001b[39m.\u001b[39;49mread(\u001b[39mlen\u001b[39;49m, buffer)\n\u001b[0;32m   1101\u001b[0m \u001b[39melse\u001b[39;00m:\n",
      "\u001b[1;31mtimeout\u001b[0m: The read operation timed out",
      "\nDuring handling of the above exception, another exception occurred:\n",
      "\u001b[1;31mReadTimeoutError\u001b[0m                          Traceback (most recent call last)",
      "File \u001b[1;32mc:\\Users\\Kreat\\miniconda3\\envs\\tf-gpu\\lib\\site-packages\\requests\\adapters.py:489\u001b[0m, in \u001b[0;36mHTTPAdapter.send\u001b[1;34m(self, request, stream, timeout, verify, cert, proxies)\u001b[0m\n\u001b[0;32m    488\u001b[0m \u001b[39mif\u001b[39;00m \u001b[39mnot\u001b[39;00m chunked:\n\u001b[1;32m--> 489\u001b[0m     resp \u001b[39m=\u001b[39m conn\u001b[39m.\u001b[39;49murlopen(\n\u001b[0;32m    490\u001b[0m         method\u001b[39m=\u001b[39;49mrequest\u001b[39m.\u001b[39;49mmethod,\n\u001b[0;32m    491\u001b[0m         url\u001b[39m=\u001b[39;49murl,\n\u001b[0;32m    492\u001b[0m         body\u001b[39m=\u001b[39;49mrequest\u001b[39m.\u001b[39;49mbody,\n\u001b[0;32m    493\u001b[0m         headers\u001b[39m=\u001b[39;49mrequest\u001b[39m.\u001b[39;49mheaders,\n\u001b[0;32m    494\u001b[0m         redirect\u001b[39m=\u001b[39;49m\u001b[39mFalse\u001b[39;49;00m,\n\u001b[0;32m    495\u001b[0m         assert_same_host\u001b[39m=\u001b[39;49m\u001b[39mFalse\u001b[39;49;00m,\n\u001b[0;32m    496\u001b[0m         preload_content\u001b[39m=\u001b[39;49m\u001b[39mFalse\u001b[39;49;00m,\n\u001b[0;32m    497\u001b[0m         decode_content\u001b[39m=\u001b[39;49m\u001b[39mFalse\u001b[39;49;00m,\n\u001b[0;32m    498\u001b[0m         retries\u001b[39m=\u001b[39;49m\u001b[39mself\u001b[39;49m\u001b[39m.\u001b[39;49mmax_retries,\n\u001b[0;32m    499\u001b[0m         timeout\u001b[39m=\u001b[39;49mtimeout,\n\u001b[0;32m    500\u001b[0m     )\n\u001b[0;32m    502\u001b[0m \u001b[39m# Send the request.\u001b[39;00m\n\u001b[0;32m    503\u001b[0m \u001b[39melse\u001b[39;00m:\n",
      "File \u001b[1;32mc:\\Users\\Kreat\\miniconda3\\envs\\tf-gpu\\lib\\site-packages\\urllib3\\connectionpool.py:787\u001b[0m, in \u001b[0;36mHTTPConnectionPool.urlopen\u001b[1;34m(self, method, url, body, headers, retries, redirect, assert_same_host, timeout, pool_timeout, release_conn, chunked, body_pos, **response_kw)\u001b[0m\n\u001b[0;32m    785\u001b[0m     e \u001b[39m=\u001b[39m ProtocolError(\u001b[39m\"\u001b[39m\u001b[39mConnection aborted.\u001b[39m\u001b[39m\"\u001b[39m, e)\n\u001b[1;32m--> 787\u001b[0m retries \u001b[39m=\u001b[39m retries\u001b[39m.\u001b[39;49mincrement(\n\u001b[0;32m    788\u001b[0m     method, url, error\u001b[39m=\u001b[39;49me, _pool\u001b[39m=\u001b[39;49m\u001b[39mself\u001b[39;49m, _stacktrace\u001b[39m=\u001b[39;49msys\u001b[39m.\u001b[39;49mexc_info()[\u001b[39m2\u001b[39;49m]\n\u001b[0;32m    789\u001b[0m )\n\u001b[0;32m    790\u001b[0m retries\u001b[39m.\u001b[39msleep()\n",
      "File \u001b[1;32mc:\\Users\\Kreat\\miniconda3\\envs\\tf-gpu\\lib\\site-packages\\urllib3\\util\\retry.py:550\u001b[0m, in \u001b[0;36mRetry.increment\u001b[1;34m(self, method, url, response, error, _pool, _stacktrace)\u001b[0m\n\u001b[0;32m    549\u001b[0m \u001b[39mif\u001b[39;00m read \u001b[39mis\u001b[39;00m \u001b[39mFalse\u001b[39;00m \u001b[39mor\u001b[39;00m \u001b[39mnot\u001b[39;00m \u001b[39mself\u001b[39m\u001b[39m.\u001b[39m_is_method_retryable(method):\n\u001b[1;32m--> 550\u001b[0m     \u001b[39mraise\u001b[39;00m six\u001b[39m.\u001b[39;49mreraise(\u001b[39mtype\u001b[39;49m(error), error, _stacktrace)\n\u001b[0;32m    551\u001b[0m \u001b[39melif\u001b[39;00m read \u001b[39mis\u001b[39;00m \u001b[39mnot\u001b[39;00m \u001b[39mNone\u001b[39;00m:\n",
      "File \u001b[1;32mc:\\Users\\Kreat\\miniconda3\\envs\\tf-gpu\\lib\\site-packages\\urllib3\\packages\\six.py:770\u001b[0m, in \u001b[0;36mreraise\u001b[1;34m(tp, value, tb)\u001b[0m\n\u001b[0;32m    769\u001b[0m         \u001b[39mraise\u001b[39;00m value\u001b[39m.\u001b[39mwith_traceback(tb)\n\u001b[1;32m--> 770\u001b[0m     \u001b[39mraise\u001b[39;00m value\n\u001b[0;32m    771\u001b[0m \u001b[39mfinally\u001b[39;00m:\n",
      "File \u001b[1;32mc:\\Users\\Kreat\\miniconda3\\envs\\tf-gpu\\lib\\site-packages\\urllib3\\connectionpool.py:703\u001b[0m, in \u001b[0;36mHTTPConnectionPool.urlopen\u001b[1;34m(self, method, url, body, headers, retries, redirect, assert_same_host, timeout, pool_timeout, release_conn, chunked, body_pos, **response_kw)\u001b[0m\n\u001b[0;32m    702\u001b[0m \u001b[39m# Make the request on the httplib connection object.\u001b[39;00m\n\u001b[1;32m--> 703\u001b[0m httplib_response \u001b[39m=\u001b[39m \u001b[39mself\u001b[39;49m\u001b[39m.\u001b[39;49m_make_request(\n\u001b[0;32m    704\u001b[0m     conn,\n\u001b[0;32m    705\u001b[0m     method,\n\u001b[0;32m    706\u001b[0m     url,\n\u001b[0;32m    707\u001b[0m     timeout\u001b[39m=\u001b[39;49mtimeout_obj,\n\u001b[0;32m    708\u001b[0m     body\u001b[39m=\u001b[39;49mbody,\n\u001b[0;32m    709\u001b[0m     headers\u001b[39m=\u001b[39;49mheaders,\n\u001b[0;32m    710\u001b[0m     chunked\u001b[39m=\u001b[39;49mchunked,\n\u001b[0;32m    711\u001b[0m )\n\u001b[0;32m    713\u001b[0m \u001b[39m# If we're going to release the connection in ``finally:``, then\u001b[39;00m\n\u001b[0;32m    714\u001b[0m \u001b[39m# the response doesn't need to know about the connection. Otherwise\u001b[39;00m\n\u001b[0;32m    715\u001b[0m \u001b[39m# it will also try to release it and we'll have a double-release\u001b[39;00m\n\u001b[0;32m    716\u001b[0m \u001b[39m# mess.\u001b[39;00m\n",
      "File \u001b[1;32mc:\\Users\\Kreat\\miniconda3\\envs\\tf-gpu\\lib\\site-packages\\urllib3\\connectionpool.py:451\u001b[0m, in \u001b[0;36mHTTPConnectionPool._make_request\u001b[1;34m(self, conn, method, url, timeout, chunked, **httplib_request_kw)\u001b[0m\n\u001b[0;32m    450\u001b[0m \u001b[39mexcept\u001b[39;00m (SocketTimeout, BaseSSLError, SocketError) \u001b[39mas\u001b[39;00m e:\n\u001b[1;32m--> 451\u001b[0m     \u001b[39mself\u001b[39;49m\u001b[39m.\u001b[39;49m_raise_timeout(err\u001b[39m=\u001b[39;49me, url\u001b[39m=\u001b[39;49murl, timeout_value\u001b[39m=\u001b[39;49mread_timeout)\n\u001b[0;32m    452\u001b[0m     \u001b[39mraise\u001b[39;00m\n",
      "File \u001b[1;32mc:\\Users\\Kreat\\miniconda3\\envs\\tf-gpu\\lib\\site-packages\\urllib3\\connectionpool.py:340\u001b[0m, in \u001b[0;36mHTTPConnectionPool._raise_timeout\u001b[1;34m(self, err, url, timeout_value)\u001b[0m\n\u001b[0;32m    339\u001b[0m \u001b[39mif\u001b[39;00m \u001b[39misinstance\u001b[39m(err, SocketTimeout):\n\u001b[1;32m--> 340\u001b[0m     \u001b[39mraise\u001b[39;00m ReadTimeoutError(\n\u001b[0;32m    341\u001b[0m         \u001b[39mself\u001b[39m, url, \u001b[39m\"\u001b[39m\u001b[39mRead timed out. (read timeout=\u001b[39m\u001b[39m%s\u001b[39;00m\u001b[39m)\u001b[39m\u001b[39m\"\u001b[39m \u001b[39m%\u001b[39m timeout_value\n\u001b[0;32m    342\u001b[0m     )\n\u001b[0;32m    344\u001b[0m \u001b[39m# See the above comment about EAGAIN in Python 3. In Python 2 we have\u001b[39;00m\n\u001b[0;32m    345\u001b[0m \u001b[39m# to specifically catch it and throw the timeout error\u001b[39;00m\n",
      "\u001b[1;31mReadTimeoutError\u001b[0m: HTTPSConnectionPool(host='genius.com', port=443): Read timed out. (read timeout=5)",
      "\nDuring handling of the above exception, another exception occurred:\n",
      "\u001b[1;31mReadTimeout\u001b[0m                               Traceback (most recent call last)",
      "File \u001b[1;32mc:\\Users\\Kreat\\miniconda3\\envs\\tf-gpu\\lib\\site-packages\\lyricsgenius\\api\\base.py:75\u001b[0m, in \u001b[0;36mSender._make_request\u001b[1;34m(self, path, method, params_, public_api, web, **kwargs)\u001b[0m\n\u001b[0;32m     74\u001b[0m \u001b[39mtry\u001b[39;00m:\n\u001b[1;32m---> 75\u001b[0m     response \u001b[39m=\u001b[39m \u001b[39mself\u001b[39m\u001b[39m.\u001b[39m_session\u001b[39m.\u001b[39mrequest(method, uri,\n\u001b[0;32m     76\u001b[0m                                      timeout\u001b[39m=\u001b[39m\u001b[39mself\u001b[39m\u001b[39m.\u001b[39mtimeout,\n\u001b[0;32m     77\u001b[0m                                      params\u001b[39m=\u001b[39mparams_,\n\u001b[0;32m     78\u001b[0m                                      headers\u001b[39m=\u001b[39mheader,\n\u001b[0;32m     79\u001b[0m                                      \u001b[39m*\u001b[39m\u001b[39m*\u001b[39mkwargs)\n\u001b[0;32m     80\u001b[0m     response\u001b[39m.\u001b[39mraise_for_status()\n",
      "File \u001b[1;32mc:\\Users\\Kreat\\miniconda3\\envs\\tf-gpu\\lib\\site-packages\\requests\\sessions.py:587\u001b[0m, in \u001b[0;36mSession.request\u001b[1;34m(self, method, url, params, data, headers, cookies, files, auth, timeout, allow_redirects, proxies, hooks, stream, verify, cert, json)\u001b[0m\n\u001b[0;32m    586\u001b[0m send_kwargs\u001b[39m.\u001b[39mupdate(settings)\n\u001b[1;32m--> 587\u001b[0m resp \u001b[39m=\u001b[39m \u001b[39mself\u001b[39m\u001b[39m.\u001b[39msend(prep, \u001b[39m*\u001b[39m\u001b[39m*\u001b[39msend_kwargs)\n\u001b[0;32m    589\u001b[0m \u001b[39mreturn\u001b[39;00m resp\n",
      "File \u001b[1;32mc:\\Users\\Kreat\\miniconda3\\envs\\tf-gpu\\lib\\site-packages\\requests\\sessions.py:701\u001b[0m, in \u001b[0;36mSession.send\u001b[1;34m(self, request, **kwargs)\u001b[0m\n\u001b[0;32m    700\u001b[0m \u001b[39m# Send the request\u001b[39;00m\n\u001b[1;32m--> 701\u001b[0m r \u001b[39m=\u001b[39m adapter\u001b[39m.\u001b[39msend(request, \u001b[39m*\u001b[39m\u001b[39m*\u001b[39mkwargs)\n\u001b[0;32m    703\u001b[0m \u001b[39m# Total elapsed time of the request (approximately)\u001b[39;00m\n",
      "File \u001b[1;32mc:\\Users\\Kreat\\miniconda3\\envs\\tf-gpu\\lib\\site-packages\\requests\\adapters.py:578\u001b[0m, in \u001b[0;36mHTTPAdapter.send\u001b[1;34m(self, request, stream, timeout, verify, cert, proxies)\u001b[0m\n\u001b[0;32m    577\u001b[0m \u001b[39melif\u001b[39;00m \u001b[39misinstance\u001b[39m(e, ReadTimeoutError):\n\u001b[1;32m--> 578\u001b[0m     \u001b[39mraise\u001b[39;00m ReadTimeout(e, request\u001b[39m=\u001b[39mrequest)\n\u001b[0;32m    579\u001b[0m \u001b[39melif\u001b[39;00m \u001b[39misinstance\u001b[39m(e, _InvalidHeader):\n",
      "\u001b[1;31mReadTimeout\u001b[0m: HTTPSConnectionPool(host='genius.com', port=443): Read timed out. (read timeout=5)",
      "\nDuring handling of the above exception, another exception occurred:\n",
      "\u001b[1;31mTimeout\u001b[0m                                   Traceback (most recent call last)",
      "\u001b[1;32mc:\\Users\\Kreat\\OneDrive\\Dokumente\\Uni\\Master\\Semester 2\\KI-Lab\\NLP\\ML-NLP-LyricsGen-Transformer\\DataEngineering.ipynb Zelle 9\u001b[0m in \u001b[0;36m<cell line: 4>\u001b[1;34m()\u001b[0m\n\u001b[0;32m      <a href='vscode-notebook-cell:/c%3A/Users/Kreat/OneDrive/Dokumente/Uni/Master/Semester%202/KI-Lab/NLP/ML-NLP-LyricsGen-Transformer/DataEngineering.ipynb#X11sZmlsZQ%3D%3D?line=0'>1</a>\u001b[0m \u001b[39m# test connection'\u001b[39;00m\n\u001b[0;32m      <a href='vscode-notebook-cell:/c%3A/Users/Kreat/OneDrive/Dokumente/Uni/Master/Semester%202/KI-Lab/NLP/ML-NLP-LyricsGen-Transformer/DataEngineering.ipynb#X11sZmlsZQ%3D%3D?line=1'>2</a>\u001b[0m genius \u001b[39m=\u001b[39m lyricsgenius\u001b[39m.\u001b[39mGenius(GENIUS_ACCESS_TOKEN)\n\u001b[1;32m----> <a href='vscode-notebook-cell:/c%3A/Users/Kreat/OneDrive/Dokumente/Uni/Master/Semester%202/KI-Lab/NLP/ML-NLP-LyricsGen-Transformer/DataEngineering.ipynb#X11sZmlsZQ%3D%3D?line=3'>4</a>\u001b[0m artist \u001b[39m=\u001b[39m genius\u001b[39m.\u001b[39;49msearch_artist(\u001b[39m\"\u001b[39;49m\u001b[39mcoldplay\u001b[39;49m\u001b[39m\"\u001b[39;49m, max_songs\u001b[39m=\u001b[39;49m\u001b[39m2\u001b[39;49m, sort\u001b[39m=\u001b[39;49m\u001b[39m\"\u001b[39;49m\u001b[39mpopularity\u001b[39;49m\u001b[39m\"\u001b[39;49m)\n\u001b[0;32m      <a href='vscode-notebook-cell:/c%3A/Users/Kreat/OneDrive/Dokumente/Uni/Master/Semester%202/KI-Lab/NLP/ML-NLP-LyricsGen-Transformer/DataEngineering.ipynb#X11sZmlsZQ%3D%3D?line=4'>5</a>\u001b[0m \u001b[39mprint\u001b[39m(artist\u001b[39m.\u001b[39msongs)\n",
      "File \u001b[1;32mc:\\Users\\Kreat\\miniconda3\\envs\\tf-gpu\\lib\\site-packages\\lyricsgenius\\genius.py:564\u001b[0m, in \u001b[0;36mGenius.search_artist\u001b[1;34m(self, artist_name, max_songs, sort, per_page, get_full_info, allow_name_change, artist_id, include_features)\u001b[0m\n\u001b[0;32m    562\u001b[0m \u001b[39m# Create the Song object from lyrics and metadata\u001b[39;00m\n\u001b[0;32m    563\u001b[0m \u001b[39mif\u001b[39;00m song_info[\u001b[39m'\u001b[39m\u001b[39mlyrics_state\u001b[39m\u001b[39m'\u001b[39m] \u001b[39m==\u001b[39m \u001b[39m'\u001b[39m\u001b[39mcomplete\u001b[39m\u001b[39m'\u001b[39m:\n\u001b[1;32m--> 564\u001b[0m     lyrics \u001b[39m=\u001b[39m \u001b[39mself\u001b[39;49m\u001b[39m.\u001b[39;49mlyrics(song_url\u001b[39m=\u001b[39;49msong_info[\u001b[39m'\u001b[39;49m\u001b[39murl\u001b[39;49m\u001b[39m'\u001b[39;49m])\n\u001b[0;32m    565\u001b[0m \u001b[39melse\u001b[39;00m:\n\u001b[0;32m    566\u001b[0m     lyrics \u001b[39m=\u001b[39m \u001b[39m\"\u001b[39m\u001b[39m\"\u001b[39m\n",
      "File \u001b[1;32mc:\\Users\\Kreat\\miniconda3\\envs\\tf-gpu\\lib\\site-packages\\lyricsgenius\\genius.py:132\u001b[0m, in \u001b[0;36mGenius.lyrics\u001b[1;34m(self, song_id, song_url, remove_section_headers)\u001b[0m\n\u001b[0;32m    128\u001b[0m     path \u001b[39m=\u001b[39m \u001b[39mself\u001b[39m\u001b[39m.\u001b[39msong(song_id)[\u001b[39m'\u001b[39m\u001b[39msong\u001b[39m\u001b[39m'\u001b[39m][\u001b[39m'\u001b[39m\u001b[39mpath\u001b[39m\u001b[39m'\u001b[39m][\u001b[39m1\u001b[39m:]\n\u001b[0;32m    130\u001b[0m \u001b[39m# Scrape the song lyrics from the HTML\u001b[39;00m\n\u001b[0;32m    131\u001b[0m html \u001b[39m=\u001b[39m BeautifulSoup(\n\u001b[1;32m--> 132\u001b[0m     \u001b[39mself\u001b[39;49m\u001b[39m.\u001b[39;49m_make_request(path, web\u001b[39m=\u001b[39;49m\u001b[39mTrue\u001b[39;49;00m)\u001b[39m.\u001b[39mreplace(\u001b[39m'\u001b[39m\u001b[39m<br/>\u001b[39m\u001b[39m'\u001b[39m, \u001b[39m'\u001b[39m\u001b[39m\\n\u001b[39;00m\u001b[39m'\u001b[39m),\n\u001b[0;32m    133\u001b[0m     \u001b[39m\"\u001b[39m\u001b[39mhtml.parser\u001b[39m\u001b[39m\"\u001b[39m\n\u001b[0;32m    134\u001b[0m )\n\u001b[0;32m    136\u001b[0m \u001b[39m# Determine the class of the div\u001b[39;00m\n\u001b[0;32m    137\u001b[0m div \u001b[39m=\u001b[39m html\u001b[39m.\u001b[39mfind(\u001b[39m\"\u001b[39m\u001b[39mdiv\u001b[39m\u001b[39m\"\u001b[39m, class_\u001b[39m=\u001b[39mre\u001b[39m.\u001b[39mcompile(\u001b[39m\"\u001b[39m\u001b[39m^lyrics$|Lyrics__Root\u001b[39m\u001b[39m\"\u001b[39m))\n",
      "File \u001b[1;32mc:\\Users\\Kreat\\miniconda3\\envs\\tf-gpu\\lib\\site-packages\\lyricsgenius\\api\\base.py:84\u001b[0m, in \u001b[0;36mSender._make_request\u001b[1;34m(self, path, method, params_, public_api, web, **kwargs)\u001b[0m\n\u001b[0;32m     82\u001b[0m     error \u001b[39m=\u001b[39m \u001b[39m\"\u001b[39m\u001b[39mRequest timed out:\u001b[39m\u001b[39m\\n\u001b[39;00m\u001b[39m{e}\u001b[39;00m\u001b[39m\"\u001b[39m\u001b[39m.\u001b[39mformat(e\u001b[39m=\u001b[39me)\n\u001b[0;32m     83\u001b[0m     \u001b[39mif\u001b[39;00m tries \u001b[39m>\u001b[39m \u001b[39mself\u001b[39m\u001b[39m.\u001b[39mretries:\n\u001b[1;32m---> 84\u001b[0m         \u001b[39mraise\u001b[39;00m Timeout(error)\n\u001b[0;32m     85\u001b[0m \u001b[39mexcept\u001b[39;00m HTTPError \u001b[39mas\u001b[39;00m e:\n\u001b[0;32m     86\u001b[0m     error \u001b[39m=\u001b[39m get_description(e)\n",
      "\u001b[1;31mTimeout\u001b[0m: Request timed out:\nHTTPSConnectionPool(host='genius.com', port=443): Read timed out. (read timeout=5)"
     ]
    }
   ],
   "source": [
    "# test connection'\n",
    "genius = lyricsgenius.Genius(GENIUS_ACCESS_TOKEN)\n",
    "\n",
    "artist = genius.search_artist(\"coldplay\", max_songs=2, sort=\"popularity\")\n",
    "print(artist.songs)"
   ]
  },
  {
   "cell_type": "code",
   "execution_count": 7,
   "metadata": {},
   "outputs": [
    {
     "name": "stdout",
     "output_type": "stream",
     "text": [
      "TranslationsTürkçeEspañolPortuguêsΕλληνικάDeutschFrançaisShape of You Lyrics[Verse 1]\n",
      "The club isn't the best place to find a lover\n",
      "So the bar is where I go\n",
      "Me and my friends at the table doing shots\n",
      "Drinking fast and then we talk slow\n",
      "And you come over and start up a conversation with just me\n",
      "And trust me I'll give it a chance now\n",
      "Take my hand, stop, put Van the Man on the jukebox\n",
      "And then we start to dance, and now I'm singing like\n",
      "\n",
      "[Pre-Chorus]\n",
      "Girl, you know I want your love\n",
      "Your love was handmade for somebody like me\n",
      "Come on now, follow my lead\n",
      "I may be crazy, don't mind me\n",
      "Say, boy, let's not talk too much\n",
      "Grab on my waist and put that body on me\n",
      "Come on now, follow my lead\n",
      "Come, come on now, follow my lead\n",
      "[Chorus]\n",
      "I'm in love with the shape of you\n",
      "We push and pull like a magnet do\n",
      "Although my heart is falling too\n",
      "I'm in love with your body\n",
      "And last night you were in my room\n",
      "And now my bed sheets smell like you\n",
      "Every day discovering something brand new\n",
      "I'm in love with your body\n",
      "\n",
      "[Post-Chorus]\n",
      "Oh, I, oh, I, oh, I, oh, I\n",
      "I'm in love with your body\n",
      "Oh, I, oh, I, oh, I, oh, I\n",
      "I'm in love with your body\n",
      "Oh, I, oh, I, oh, I, oh, I\n",
      "I'm in love with your body\n",
      "Every day discovering something brand new\n",
      "I'm in love with the shape of you\n",
      "\n",
      "[Verse 2]\n",
      "One week in we let the story begin\n",
      "We're going out on our first date\n",
      "You and me are thrifty, so go all you can eat\n",
      "Fill up your bag and I fill up a plate\n",
      "We talk for hours and hours about the sweet and the sour\n",
      "And how your family is doing okay\n",
      "Leave and get in a taxi, then kiss in the backseat\n",
      "Tell the driver make the radio play, and I'm singing like\n",
      "You might also like[Pre-Chorus]\n",
      "Girl, you know I want your love\n",
      "Your love was handmade for somebody like me\n",
      "Come on now, follow my lead\n",
      "I may be crazy, don't mind me\n",
      "Say, boy, let's not talk too much\n",
      "Grab on my waist and put that body on me\n",
      "Come on now, follow my lead\n",
      "Come, come on now, follow my lead\n",
      "\n",
      "[Chorus]\n",
      "I'm in love with the shape of you\n",
      "We push and pull like a magnet do\n",
      "Although my heart is falling too\n",
      "I'm in love with your body\n",
      "And last night you were in my room\n",
      "And now my bed sheets smell like you\n",
      "Every day discovering something brand new\n",
      "I'm in love with your body\n",
      "\n",
      "[Post-Chorus]\n",
      "Oh, I, oh, I, oh, I, oh, I\n",
      "I'm in love with your body\n",
      "Oh, I, oh, I, oh, I, oh, I\n",
      "I'm in love with your body\n",
      "Oh, I, oh, I, oh, I, oh, I\n",
      "I'm in love with your body\n",
      "Every day discovering something brand new\n",
      "I'm in love with the shape of you\n",
      "[Bridge]\n",
      "Come on, be my baby, come on\n",
      "Come on, be my baby, come on\n",
      "Come on, be my baby, come on\n",
      "Come on, be my baby, come on\n",
      "Come on, be my baby, come on\n",
      "Come on, be my baby, come on\n",
      "Come on, be my baby, come on\n",
      "Come on, be my baby, come on\n",
      "\n",
      "[Chorus]\n",
      "I'm in love with the shape of you\n",
      "We push and pull like a magnet do\n",
      "Although my heart is falling too\n",
      "I'm in love with your body\n",
      "Last night you were in my room\n",
      "And now my bed sheets smell like you\n",
      "Every day discovering something brand new\n",
      "I'm in love with your body\n",
      "\n",
      "[Outro]\n",
      "Come on, be my baby, come on\n",
      "Come on, be my baby, come on\n",
      "I'm in love with your body\n",
      "Come on, be my baby, come on\n",
      "Come on, be my baby, come on\n",
      "I'm in love with your body\n",
      "Come on, be my baby, come on\n",
      "Come on, be my baby, come on\n",
      "I'm in love with your body\n",
      "Every day discovering something brand new\n",
      "I'm in love with the shape of you405Embed\n"
     ]
    }
   ],
   "source": [
    "print(artist.songs[0].lyrics)"
   ]
  },
  {
   "cell_type": "code",
   "execution_count": 8,
   "metadata": {},
   "outputs": [
    {
     "name": "stdout",
     "output_type": "stream",
     "text": [
      "Wrote Lyrics_EdSheeran.txt.\n"
     ]
    }
   ],
   "source": [
    "# save lyrics to path\n",
    "artist.save_lyrics(extension='txt', verbose=True)"
   ]
  },
  {
   "cell_type": "code",
   "execution_count": 9,
   "metadata": {},
   "outputs": [],
   "source": [
    "# move all files starting with 'Lyrics_' to '/datasets/genius'\n",
    "def moveLyricsFiles(fromPath, toPath):\n",
    "    for filename in os.listdir(fromPath):\n",
    "        if filename.startswith('Lyrics_'):\n",
    "            os.rename(filename, toPath + filename)\n",
    "\n",
    "# moveLyricsFiles(root, geniusDataset)"
   ]
  },
  {
   "cell_type": "markdown",
   "metadata": {},
   "source": [
    "### get the top 100 artists\n",
    "using:\n",
    "- https://www.kaggle.com/datasets/sashankpillai/spotify-top-200-charts-20202021"
   ]
  },
  {
   "cell_type": "code",
   "execution_count": 10,
   "metadata": {},
   "outputs": [],
   "source": [
    "# load csv to dataframe\n",
    "df = pd.read_csv(root + 'datasets/spotify_dataset.csv')\n"
   ]
  },
  {
   "cell_type": "code",
   "execution_count": 11,
   "metadata": {},
   "outputs": [
    {
     "data": {
      "text/html": [
       "<div>\n",
       "<style scoped>\n",
       "    .dataframe tbody tr th:only-of-type {\n",
       "        vertical-align: middle;\n",
       "    }\n",
       "\n",
       "    .dataframe tbody tr th {\n",
       "        vertical-align: top;\n",
       "    }\n",
       "\n",
       "    .dataframe thead th {\n",
       "        text-align: right;\n",
       "    }\n",
       "</style>\n",
       "<table border=\"1\" class=\"dataframe\">\n",
       "  <thead>\n",
       "    <tr style=\"text-align: right;\">\n",
       "      <th></th>\n",
       "      <th>Index</th>\n",
       "      <th>Highest Charting Position</th>\n",
       "      <th>Number of Times Charted</th>\n",
       "      <th>Week of Highest Charting</th>\n",
       "      <th>Song Name</th>\n",
       "      <th>Streams</th>\n",
       "      <th>Artist</th>\n",
       "      <th>Artist Followers</th>\n",
       "      <th>Song ID</th>\n",
       "      <th>Genre</th>\n",
       "      <th>...</th>\n",
       "      <th>Danceability</th>\n",
       "      <th>Energy</th>\n",
       "      <th>Loudness</th>\n",
       "      <th>Speechiness</th>\n",
       "      <th>Acousticness</th>\n",
       "      <th>Liveness</th>\n",
       "      <th>Tempo</th>\n",
       "      <th>Duration (ms)</th>\n",
       "      <th>Valence</th>\n",
       "      <th>Chord</th>\n",
       "    </tr>\n",
       "  </thead>\n",
       "  <tbody>\n",
       "    <tr>\n",
       "      <th>1380</th>\n",
       "      <td>1381</td>\n",
       "      <td>54</td>\n",
       "      <td>1</td>\n",
       "      <td>2020-02-21--2020-02-28</td>\n",
       "      <td>Louder than bombs</td>\n",
       "      <td>10,016,907</td>\n",
       "      <td>BTS</td>\n",
       "      <td>37151476</td>\n",
       "      <td>3op7HNwLli54MBjFGzIlZO</td>\n",
       "      <td>['k-pop', 'k-pop boy group']</td>\n",
       "      <td>...</td>\n",
       "      <td>0.643</td>\n",
       "      <td>0.667</td>\n",
       "      <td>-6.993</td>\n",
       "      <td>0.152</td>\n",
       "      <td>0.0433</td>\n",
       "      <td>0.0904</td>\n",
       "      <td>145.999</td>\n",
       "      <td>217404</td>\n",
       "      <td>0.485</td>\n",
       "      <td>C</td>\n",
       "    </tr>\n",
       "    <tr>\n",
       "      <th>479</th>\n",
       "      <td>480</td>\n",
       "      <td>60</td>\n",
       "      <td>1</td>\n",
       "      <td>2021-03-19--2021-03-26</td>\n",
       "      <td>Love You Different (feat. BEAM)</td>\n",
       "      <td>10,024,729</td>\n",
       "      <td>Justin Bieber</td>\n",
       "      <td>48544923</td>\n",
       "      <td>27UcQ6dAvQrgH9C880rCM3</td>\n",
       "      <td>['canadian pop', 'pop', 'post-teen pop']</td>\n",
       "      <td>...</td>\n",
       "      <td>0.759</td>\n",
       "      <td>0.584</td>\n",
       "      <td>-6.655</td>\n",
       "      <td>0.06</td>\n",
       "      <td>0.0652</td>\n",
       "      <td>0.16</td>\n",
       "      <td>127.138</td>\n",
       "      <td>186696</td>\n",
       "      <td>0.374</td>\n",
       "      <td>G#/Ab</td>\n",
       "    </tr>\n",
       "    <tr>\n",
       "      <th>48</th>\n",
       "      <td>49</td>\n",
       "      <td>29</td>\n",
       "      <td>6</td>\n",
       "      <td>2021-06-25--2021-07-02</td>\n",
       "      <td>Fiel - Remix</td>\n",
       "      <td>10,032,746</td>\n",
       "      <td>Wisin, Jhay Cortez, Anuel AA, Los Legendarios,...</td>\n",
       "      <td>6929075</td>\n",
       "      <td>43qcs9NpJhDxtG91zxFkj7</td>\n",
       "      <td>['latin', 'latin hip hop', 'reggaeton', 'trap ...</td>\n",
       "      <td>...</td>\n",
       "      <td>0.839</td>\n",
       "      <td>0.711</td>\n",
       "      <td>-4.733</td>\n",
       "      <td>0.0473</td>\n",
       "      <td>0.398</td>\n",
       "      <td>0.118</td>\n",
       "      <td>97.99</td>\n",
       "      <td>349547</td>\n",
       "      <td>0.573</td>\n",
       "      <td>F#/Gb</td>\n",
       "    </tr>\n",
       "    <tr>\n",
       "      <th>1278</th>\n",
       "      <td>1279</td>\n",
       "      <td>51</td>\n",
       "      <td>1</td>\n",
       "      <td>2020-03-20--2020-03-27</td>\n",
       "      <td>Repeat After Me (Interlude)</td>\n",
       "      <td>10,058,303</td>\n",
       "      <td>The Weeknd</td>\n",
       "      <td>35340069</td>\n",
       "      <td>40U8d12pC5UHqmHwXjHjjl</td>\n",
       "      <td>['canadian contemporary r&amp;b', 'canadian pop', ...</td>\n",
       "      <td>...</td>\n",
       "      <td>0.555</td>\n",
       "      <td>0.619</td>\n",
       "      <td>-7.918</td>\n",
       "      <td>0.0314</td>\n",
       "      <td>0.0323</td>\n",
       "      <td>0.0917</td>\n",
       "      <td>95.032</td>\n",
       "      <td>195813</td>\n",
       "      <td>0.141</td>\n",
       "      <td>C</td>\n",
       "    </tr>\n",
       "    <tr>\n",
       "      <th>1487</th>\n",
       "      <td>1488</td>\n",
       "      <td>62</td>\n",
       "      <td>1</td>\n",
       "      <td>2020-01-17--2020-01-24</td>\n",
       "      <td>I Can See</td>\n",
       "      <td>10,086,930</td>\n",
       "      <td>Mac Miller</td>\n",
       "      <td>6189454</td>\n",
       "      <td>3R8CyhJfVjvgIROd5RSGhQ</td>\n",
       "      <td>['hip hop', 'pittsburgh rap', 'rap']</td>\n",
       "      <td>...</td>\n",
       "      <td>0.699</td>\n",
       "      <td>0.503</td>\n",
       "      <td>-9.922</td>\n",
       "      <td>0.0882</td>\n",
       "      <td>0.391</td>\n",
       "      <td>0.0996</td>\n",
       "      <td>114.86</td>\n",
       "      <td>220853</td>\n",
       "      <td>0.0546</td>\n",
       "      <td>F</td>\n",
       "    </tr>\n",
       "  </tbody>\n",
       "</table>\n",
       "<p>5 rows × 23 columns</p>\n",
       "</div>"
      ],
      "text/plain": [
       "      Index  Highest Charting Position  Number of Times Charted  \\\n",
       "1380   1381                         54                        1   \n",
       "479     480                         60                        1   \n",
       "48       49                         29                        6   \n",
       "1278   1279                         51                        1   \n",
       "1487   1488                         62                        1   \n",
       "\n",
       "     Week of Highest Charting                        Song Name     Streams  \\\n",
       "1380   2020-02-21--2020-02-28                Louder than bombs  10,016,907   \n",
       "479    2021-03-19--2021-03-26  Love You Different (feat. BEAM)  10,024,729   \n",
       "48     2021-06-25--2021-07-02                     Fiel - Remix  10,032,746   \n",
       "1278   2020-03-20--2020-03-27      Repeat After Me (Interlude)  10,058,303   \n",
       "1487   2020-01-17--2020-01-24                        I Can See  10,086,930   \n",
       "\n",
       "                                                 Artist Artist Followers  \\\n",
       "1380                                                BTS         37151476   \n",
       "479                                       Justin Bieber         48544923   \n",
       "48    Wisin, Jhay Cortez, Anuel AA, Los Legendarios,...          6929075   \n",
       "1278                                         The Weeknd         35340069   \n",
       "1487                                         Mac Miller          6189454   \n",
       "\n",
       "                     Song ID  \\\n",
       "1380  3op7HNwLli54MBjFGzIlZO   \n",
       "479   27UcQ6dAvQrgH9C880rCM3   \n",
       "48    43qcs9NpJhDxtG91zxFkj7   \n",
       "1278  40U8d12pC5UHqmHwXjHjjl   \n",
       "1487  3R8CyhJfVjvgIROd5RSGhQ   \n",
       "\n",
       "                                                  Genre  ... Danceability  \\\n",
       "1380                       ['k-pop', 'k-pop boy group']  ...        0.643   \n",
       "479            ['canadian pop', 'pop', 'post-teen pop']  ...        0.759   \n",
       "48    ['latin', 'latin hip hop', 'reggaeton', 'trap ...  ...        0.839   \n",
       "1278  ['canadian contemporary r&b', 'canadian pop', ...  ...        0.555   \n",
       "1487               ['hip hop', 'pittsburgh rap', 'rap']  ...        0.699   \n",
       "\n",
       "     Energy Loudness Speechiness Acousticness Liveness    Tempo Duration (ms)  \\\n",
       "1380  0.667   -6.993       0.152       0.0433   0.0904  145.999        217404   \n",
       "479   0.584   -6.655        0.06       0.0652     0.16  127.138        186696   \n",
       "48    0.711   -4.733      0.0473        0.398    0.118    97.99        349547   \n",
       "1278  0.619   -7.918      0.0314       0.0323   0.0917   95.032        195813   \n",
       "1487  0.503   -9.922      0.0882        0.391   0.0996   114.86        220853   \n",
       "\n",
       "     Valence  Chord  \n",
       "1380   0.485      C  \n",
       "479    0.374  G#/Ab  \n",
       "48     0.573  F#/Gb  \n",
       "1278   0.141      C  \n",
       "1487  0.0546      F  \n",
       "\n",
       "[5 rows x 23 columns]"
      ]
     },
     "execution_count": 11,
     "metadata": {},
     "output_type": "execute_result"
    }
   ],
   "source": [
    "# sort the dataframe by Streams\n",
    "df = df.sort_values(by=['Streams'], ascending=True)\n",
    "df.head()"
   ]
  },
  {
   "cell_type": "code",
   "execution_count": 12,
   "metadata": {},
   "outputs": [
    {
     "name": "stdout",
     "output_type": "stream",
     "text": [
      "311\n"
     ]
    }
   ],
   "source": [
    "# get list of first 20 artists from df\n",
    "topArtists = df['Artist'].head(500).tolist()\n",
    "# topArtists.sort()\n",
    "# delete duplicates\n",
    "topArtists = list(dict.fromkeys(topArtists))\n",
    "print(len(topArtists))\n",
    "# print(topArtists)\n"
   ]
  },
  {
   "cell_type": "markdown",
   "metadata": {},
   "source": [
    "### generate genius-dataset\n",
    "using:\n",
    "- top 100 Artists from streaming numbers extracted from:\n",
    "    - https://www.kaggle.com/datasets/sashankpillai/spotify-top-200-charts-20202021\n",
    "- getting 20 songs from every artist\n",
    "    - getting it from genius.com with lyricsgenius\n",
    "        - https://github.com/johnwmillr/LyricsGenius\n",
    "    - sortet after popularity\n",
    "- writing a txt file for every artist and saving it to 'datasets/genius/'"
   ]
  },
  {
   "cell_type": "code",
   "execution_count": 13,
   "metadata": {},
   "outputs": [],
   "source": [
    "# constants\n",
    "NUM_SONGS = 20\n",
    "NUM_ARTISTS = 100"
   ]
  },
  {
   "cell_type": "code",
   "execution_count": 14,
   "metadata": {},
   "outputs": [],
   "source": [
    "topArtists = topArtists[:NUM_ARTISTS]\n",
    "# print(topArtists)\n"
   ]
  },
  {
   "cell_type": "code",
   "execution_count": 15,
   "metadata": {},
   "outputs": [],
   "source": [
    "# write top artists to file\n",
    "with open(root + 'datasets/topArtists.txt', 'w') as f:\n",
    "    for item in topArtists:\n",
    "        f.write(\"%s\\n\" % item)\n",
    "\n",
    "# insert new line for every ',' in file topArtists.txt\n",
    "with open(root + 'datasets/topArtists.txt', 'r') as f:\n",
    "    lines = f.readlines()\n",
    "    for i in range(len(lines)):\n",
    "        lines[i] = lines[i].replace(',', '\\n')\n",
    "        lines[i] = lines[i].replace('&', '\\n')\n",
    "    with open(root + 'datasets/topArtists.txt', 'w') as f:\n",
    "        f.writelines(lines)\n",
    "f.close()\n",
    "\n"
   ]
  },
  {
   "cell_type": "code",
   "execution_count": 16,
   "metadata": {},
   "outputs": [
    {
     "name": "stdout",
     "output_type": "stream",
     "text": [
      "['BTS', 'Justin Bieber', 'Wisin', ' Jhay Cortez', ' Anuel AA', ' Los Legendarios', ' Myke Towers', 'The Weeknd', 'Mac Miller', 'Tiago PZK', ' LIT killah', '24kGoldn', 'Galantis', 'Lady Gaga', 'Lil Uzi Vert', 'Coldplay', 'Band Aid', 'The Ronettes', 'Queen', 'Daryl Hall ', ' John Oates', 'Future', ' Drake', ' Young Thug', 'Kid Cudi', 'J. Cole', 'Bad Bunny', 'Tiësto', 'Frank Sinatra', 'Eminem', 'Dean Martin', 'Ariana Grande', 'Bad Bunny', ' ABRA', 'Taylor Swift', 'J Balvin', ' KAROL G', ' Nicky Jam', ' Crissin', ' Totoy El Frio', ' Natan ', ' Shander', 'Olivia Rodrigo', 'Internet Money', ' Gunna', ' Don Toliver', ' NAV', 'Tyler', ' The Creator', 'TINI', ' Maria Becerra', 'Bad Bunny', ' Jhay Cortez', 'Sech', ' Jhay Cortez', 'Doja Cat', ' The Weeknd', 'José Feliciano', 'Polo G', 'The Kid LAROI', 'Harry Styles', 'Kelly Clarkson', 'Sebastian Yatra', ' Myke Towers', 'Camila Cabello', 'Bruno Mars', ' Anderson .Paak', ' Silk Sonic', 'Masked Wolf', 'Riton', ' Nightcrawlers', 'Post Malone', 'Andy Williams', 'Farruko', 'Glass Animals', 'StaySolidRocky', ' Lil Uzi Vert', 'Michael Bublé', 'Doja Cat', 'Bobby Helms', 'Mora', ' Bad Bunny', ' Sech', 'Brenda Lee', 'Nio Garcia', ' J Balvin', ' Bad Bunny', 'Wham!', 'J Balvin', ' Maria Becerra', 'Mariah Carey', 'Dua Lipa', 'Måneskin', 'Rauw Alejandro', 'Justin Bieber', ' Quavo', 'Lil Nas X', 'Ed Sheeran', 'Lizzo', 'J Balvin', 'Sub Urban', 'Polo G', ' Stunna 4 Vegas', 'Twenty One Pilots', 'Lunay', ' Myke Towers', ' Ozuna', ' Chencho Corleone', ' Rauw Alejandro', 'Bazzi', 'Billie Eilish', 'YNW Melly', 'XXXTENTACION', 'G-Eazy', 'Bad Bunny', ' Don Omar', 'Sam Smith', 'Maroon 5', 'Selena Gomez', 'Rod Wave', 'Future', 'BLACKPINK', 'Bad Bunny', ' Tainy', 'Pashanim', 'PUBLIC', 'The Chainsmokers', ' ILLENIUM', ' Lennon Stella', 'Jonas Brothers', 'PARTYNEXTDOOR', ' Rihanna', 'BROCKHAMPTON', 'Shawn Mendes', 'Ellie Goulding', 'Don Toliver', 'NLE Choppa', 'Khalid', ' Disclosure', 'Boomdabash', ' Alessandra Amoroso', 'Juanfran', 'ITZY', 'Bad Bunny', ' Daddy Yankee', '5 Seconds of Summer', 'Jason Mraz', '']\n"
     ]
    }
   ],
   "source": [
    "# read top artists from file\n",
    "with open(root + 'datasets/topArtists.txt', 'r') as f:\n",
    "    topArtists = f.read().split('\\n')\n",
    "    \n",
    "print(topArtists)"
   ]
  },
  {
   "cell_type": "code",
   "execution_count": 34,
   "metadata": {},
   "outputs": [
    {
     "name": "stdout",
     "output_type": "stream",
     "text": [
      "Searching for songs by BTS...\n",
      "\n",
      "Error with  BTS\n",
      "Searching for songs by Justin Bieber...\n",
      "\n",
      "Error with  Justin Bieber\n",
      "Searching for songs by Wisin...\n",
      "\n",
      "Error with  Wisin\n",
      "Searching for songs by  Jhay Cortez...\n",
      "\n",
      "Changing artist name to 'Bad Bunny & Jhay Cortez'\n",
      "Song 1: \"DÁKITI\"\n",
      "Song 2: \"CÓMO SE SIENTE (Remix)\"\n",
      "Song 3: \"Tarot\"\n",
      "Song 4: \"DÁKITI (Remix)\"\n",
      "Done. Found 4 songs.\n",
      "Wrote Lyrics_BadBunnyJhayCortez.txt.\n",
      "Searching for songs by  Anuel AA...\n",
      "\n",
      "Changing artist name to 'Anuel AA'\n",
      "Error with   Anuel AA\n",
      "Searching for songs by  Los Legendarios...\n",
      "\n",
      "Changing artist name to 'Los Legendarios'\n"
     ]
    }
   ],
   "source": [
    "# get lyrics for top artists\n",
    "for person in topArtists:\n",
    "    try:\n",
    "        artistFile = genius.search_artist(person, max_songs=NUM_SONGS, sort=\"popularity\", verbose=True)\n",
    "        artistFile.save_lyrics(extension='txt', verbose=True)\n",
    "    except:\n",
    "        print('Error with:', person,'Got:', artistFile)"
   ]
  },
  {
   "cell_type": "code",
   "execution_count": 81,
   "metadata": {},
   "outputs": [],
   "source": [
    "# move lyrics files to geniusDataset\n",
    "moveLyricsFiles(root, geniusDataset)"
   ]
  },
  {
   "cell_type": "code",
   "execution_count": 82,
   "metadata": {},
   "outputs": [
    {
     "name": "stdout",
     "output_type": "stream",
     "text": [
      "49\n"
     ]
    }
   ],
   "source": [
    "# get number of files in geniusDataset\n",
    "print(len(os.listdir(geniusDataset)))"
   ]
  },
  {
   "cell_type": "markdown",
   "metadata": {},
   "source": [
    "### Cleaning Dataset"
   ]
  },
  {
   "cell_type": "markdown",
   "metadata": {},
   "source": [
    "what to delete:\n",
    "- all non englisch artists\n",
    "- `워`\n",
    "- `Translations`... to `\\n`\n",
    "- all non english characters\n",
    "- `()` --> Replace with whitespace\n",
    "- all between `[]`\n",
    "- number+`Embed`... to `\\n`\n",
    "- `like2Embed` to `\\n`"
   ]
  },
  {
   "cell_type": "code",
   "execution_count": 114,
   "metadata": {},
   "outputs": [],
   "source": [
    "# define function to delete al 워 from a txt file from directory path\n",
    "def deleteAllFromFiles(path):\n",
    "    for filename in os.listdir(path):\n",
    "        if filename.endswith('.txt'):\n",
    "            with open(path + filename, 'r') as f:\n",
    "                text = f.read()\n",
    "                # insert new line at end of text\n",
    "                text = text + '\\n'\n",
    "                text = text.replace('워', '')\n",
    "                text = text.replace('(', ' ')\n",
    "                text = text.replace(')', ' ')\n",
    "                # delete all between []\n",
    "                text = re.sub(r'\\[.*?\\]', '', text)\n",
    "                # delete all number + 'Embed' to \\n\n",
    "                text = re.sub(r'\\d*Embed.*?\\n', '', text)\n",
    "                # delete all from 'Translations' to \\n\n",
    "                text = re.sub(r'Translations*?\\n', '', text)\n",
    "                # delete all chinese characters\n",
    "                text = re.sub(r'[\\u4e00-\\u9fff]+', '', text)\n",
    "                # delete all non english characters\n",
    "                text = re.sub(r'[^a-zA-Z0-9\\s]', '', text)\n",
    "            \n",
    "                text = text.replace('You might also likeEmbed', '')\n",
    "                text = text.replace('Embed\\n', '\\n')\n",
    "                text = text.replace('You might also like', '\\n')\n",
    "\n",
    "            with open(path + filename, 'w') as f:\n",
    "                f.write(text)\n"
   ]
  },
  {
   "cell_type": "code",
   "execution_count": 115,
   "metadata": {},
   "outputs": [],
   "source": [
    "# test deleteAllFromFiles-function\n",
    "deleteAllFromFiles(root + 'datasets/geniusClean/')"
   ]
  },
  {
   "cell_type": "markdown",
   "metadata": {},
   "source": [
    "---\n"
   ]
  },
  {
   "cell_type": "markdown",
   "metadata": {},
   "source": []
  }
 ],
 "metadata": {
  "kernelspec": {
   "display_name": "Python 3.9.13 ('tf-gpu')",
   "language": "python",
   "name": "python3"
  },
  "language_info": {
   "codemirror_mode": {
    "name": "ipython",
    "version": 3
   },
   "file_extension": ".py",
   "mimetype": "text/x-python",
   "name": "python",
   "nbconvert_exporter": "python",
   "pygments_lexer": "ipython3",
   "version": "3.9.13"
  },
  "orig_nbformat": 4,
  "vscode": {
   "interpreter": {
    "hash": "9247843980a59c82d074dbaf44978d614257b5bffcf9ed02a94467dfa00386e5"
   }
  }
 },
 "nbformat": 4,
 "nbformat_minor": 2
}
