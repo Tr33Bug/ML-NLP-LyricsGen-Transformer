{
 "cells": [
  {
   "cell_type": "markdown",
   "metadata": {},
   "source": [
    "# Data Engineering\n",
    "`Donwloading and creating the dataset for the LyricsGenerator task.`"
   ]
  },
  {
   "cell_type": "code",
   "execution_count": 2,
   "metadata": {},
   "outputs": [
    {
     "name": "stdout",
     "output_type": "stream",
     "text": [
      "Requirement already satisfied: lyricsgenius in /Users/tree/miniconda3/envs/Ki-Lab3.9/lib/python3.9/site-packages (3.0.1)\n",
      "Requirement already satisfied: beautifulsoup4>=4.6.0 in /Users/tree/miniconda3/envs/Ki-Lab3.9/lib/python3.9/site-packages (from lyricsgenius) (4.11.1)\n",
      "Requirement already satisfied: requests>=2.20.0 in /Users/tree/miniconda3/envs/Ki-Lab3.9/lib/python3.9/site-packages (from lyricsgenius) (2.28.1)\n",
      "Requirement already satisfied: soupsieve>1.2 in /Users/tree/miniconda3/envs/Ki-Lab3.9/lib/python3.9/site-packages (from beautifulsoup4>=4.6.0->lyricsgenius) (2.3.2.post1)\n",
      "Requirement already satisfied: idna<4,>=2.5 in /Users/tree/miniconda3/envs/Ki-Lab3.9/lib/python3.9/site-packages (from requests>=2.20.0->lyricsgenius) (3.4)\n",
      "Requirement already satisfied: charset-normalizer<3,>=2 in /Users/tree/miniconda3/envs/Ki-Lab3.9/lib/python3.9/site-packages (from requests>=2.20.0->lyricsgenius) (2.1.1)\n",
      "Requirement already satisfied: urllib3<1.27,>=1.21.1 in /Users/tree/miniconda3/envs/Ki-Lab3.9/lib/python3.9/site-packages (from requests>=2.20.0->lyricsgenius) (1.26.13)\n",
      "Requirement already satisfied: certifi>=2017.4.17 in /Users/tree/miniconda3/envs/Ki-Lab3.9/lib/python3.9/site-packages (from requests>=2.20.0->lyricsgenius) (2022.9.24)\n",
      "Requirement already satisfied: pandas in /Users/tree/miniconda3/envs/Ki-Lab3.9/lib/python3.9/site-packages (1.5.2)\n",
      "Requirement already satisfied: numpy>=1.20.3 in /Users/tree/miniconda3/envs/Ki-Lab3.9/lib/python3.9/site-packages (from pandas) (1.23.5)\n",
      "Requirement already satisfied: pytz>=2020.1 in /Users/tree/miniconda3/envs/Ki-Lab3.9/lib/python3.9/site-packages (from pandas) (2022.6)\n",
      "Requirement already satisfied: python-dateutil>=2.8.1 in /Users/tree/miniconda3/envs/Ki-Lab3.9/lib/python3.9/site-packages (from pandas) (2.8.2)\n",
      "Requirement already satisfied: six>=1.5 in /Users/tree/miniconda3/envs/Ki-Lab3.9/lib/python3.9/site-packages (from python-dateutil>=2.8.1->pandas) (1.16.0)\n",
      "Requirement already satisfied: regex in /Users/tree/miniconda3/envs/Ki-Lab3.9/lib/python3.9/site-packages (2022.10.31)\n"
     ]
    }
   ],
   "source": [
    "# installation: \n",
    "! pip install lyricsgenius\n",
    "! pip install pandas\n",
    "! pip install regex"
   ]
  },
  {
   "cell_type": "code",
   "execution_count": 3,
   "metadata": {},
   "outputs": [],
   "source": [
    "# imports and setup\n",
    "import lyricsgenius\n",
    "import os\n",
    "import pandas as pd\n",
    "import regex as re\n"
   ]
  },
  {
   "cell_type": "code",
   "execution_count": 4,
   "metadata": {},
   "outputs": [],
   "source": [
    "# file paths\n",
    "root = './'\n",
    "kaggleDataset = root + 'datasets/kaggle/'\n",
    "geniusDataset = root + 'datasets/genius/'"
   ]
  },
  {
   "cell_type": "markdown",
   "metadata": {},
   "source": [
    "## GeniusLyrics-crawler\n",
    "\n",
    "Using: \n",
    "- the Genius API from genius.com (https://docs.genius.com/#/getting-started-h1)\n",
    "- the LyricsGenius-Framework (https://github.com/johnwmillr/LyricsGenius)\n",
    "---"
   ]
  },
  {
   "cell_type": "code",
   "execution_count": 5,
   "metadata": {},
   "outputs": [],
   "source": [
    "# Genius API Access Token\n",
    "GENIUS_ACCESS_TOKEN = 'NyTFYvAmDH69V0YgfeTOnTHfMZ69KwRmyQMWWDgLn4X1SvOujMM18Pe0bssgx3FR' # Your Genius access token"
   ]
  },
  {
   "cell_type": "markdown",
   "metadata": {},
   "source": [
    "### test lyricsgenius framework"
   ]
  },
  {
   "cell_type": "code",
   "execution_count": 6,
   "metadata": {},
   "outputs": [
    {
     "name": "stdout",
     "output_type": "stream",
     "text": [
      "Searching for songs by Ed Sheeran...\n",
      "\n",
      "Song 1: \"Shape of You\"\n",
      "Song 2: \"Perfect\"\n",
      "\n",
      "Reached user-specified song limit (2).\n",
      "Done. Found 2 songs.\n",
      "[Song(id, artist, ...), Song(id, artist, ...)]\n"
     ]
    }
   ],
   "source": [
    "# test connection\n",
    "genius = lyricsgenius.Genius(GENIUS_ACCESS_TOKEN)\n",
    "\n",
    "artist = genius.search_artist(\"Ed Sheeran\", max_songs=2, sort=\"popularity\")\n",
    "print(artist.songs)"
   ]
  },
  {
   "cell_type": "code",
   "execution_count": 7,
   "metadata": {},
   "outputs": [
    {
     "name": "stdout",
     "output_type": "stream",
     "text": [
      "TranslationsTürkçeEspañolPortuguêsΕλληνικάDeutschFrançaisShape of You Lyrics[Verse 1]\n",
      "The club isn't the best place to find a lover\n",
      "So the bar is where I go\n",
      "Me and my friends at the table doing shots\n",
      "Drinking fast and then we talk slow\n",
      "And you come over and start up a conversation with just me\n",
      "And trust me I'll give it a chance now\n",
      "Take my hand, stop, put Van the Man on the jukebox\n",
      "And then we start to dance, and now I'm singing like\n",
      "\n",
      "[Pre-Chorus]\n",
      "Girl, you know I want your love\n",
      "Your love was handmade for somebody like me\n",
      "Come on now, follow my lead\n",
      "I may be crazy, don't mind me\n",
      "Say, boy, let's not talk too much\n",
      "Grab on my waist and put that body on me\n",
      "Come on now, follow my lead\n",
      "Come, come on now, follow my lead\n",
      "[Chorus]\n",
      "I'm in love with the shape of you\n",
      "We push and pull like a magnet do\n",
      "Although my heart is falling too\n",
      "I'm in love with your body\n",
      "And last night you were in my room\n",
      "And now my bed sheets smell like you\n",
      "Every day discovering something brand new\n",
      "I'm in love with your body\n",
      "\n",
      "[Post-Chorus]\n",
      "Oh, I, oh, I, oh, I, oh, I\n",
      "I'm in love with your body\n",
      "Oh, I, oh, I, oh, I, oh, I\n",
      "I'm in love with your body\n",
      "Oh, I, oh, I, oh, I, oh, I\n",
      "I'm in love with your body\n",
      "Every day discovering something brand new\n",
      "I'm in love with the shape of you\n",
      "\n",
      "[Verse 2]\n",
      "One week in we let the story begin\n",
      "We're going out on our first date\n",
      "You and me are thrifty, so go all you can eat\n",
      "Fill up your bag and I fill up a plate\n",
      "We talk for hours and hours about the sweet and the sour\n",
      "And how your family is doing okay\n",
      "Leave and get in a taxi, then kiss in the backseat\n",
      "Tell the driver make the radio play, and I'm singing like\n",
      "You might also like[Pre-Chorus]\n",
      "Girl, you know I want your love\n",
      "Your love was handmade for somebody like me\n",
      "Come on now, follow my lead\n",
      "I may be crazy, don't mind me\n",
      "Say, boy, let's not talk too much\n",
      "Grab on my waist and put that body on me\n",
      "Come on now, follow my lead\n",
      "Come, come on now, follow my lead\n",
      "\n",
      "[Chorus]\n",
      "I'm in love with the shape of you\n",
      "We push and pull like a magnet do\n",
      "Although my heart is falling too\n",
      "I'm in love with your body\n",
      "And last night you were in my room\n",
      "And now my bed sheets smell like you\n",
      "Every day discovering something brand new\n",
      "I'm in love with your body\n",
      "\n",
      "[Post-Chorus]\n",
      "Oh, I, oh, I, oh, I, oh, I\n",
      "I'm in love with your body\n",
      "Oh, I, oh, I, oh, I, oh, I\n",
      "I'm in love with your body\n",
      "Oh, I, oh, I, oh, I, oh, I\n",
      "I'm in love with your body\n",
      "Every day discovering something brand new\n",
      "I'm in love with the shape of you\n",
      "[Bridge]\n",
      "Come on, be my baby, come on\n",
      "Come on, be my baby, come on\n",
      "Come on, be my baby, come on\n",
      "Come on, be my baby, come on\n",
      "Come on, be my baby, come on\n",
      "Come on, be my baby, come on\n",
      "Come on, be my baby, come on\n",
      "Come on, be my baby, come on\n",
      "\n",
      "[Chorus]\n",
      "I'm in love with the shape of you\n",
      "We push and pull like a magnet do\n",
      "Although my heart is falling too\n",
      "I'm in love with your body\n",
      "Last night you were in my room\n",
      "And now my bed sheets smell like you\n",
      "Every day discovering something brand new\n",
      "I'm in love with your body\n",
      "\n",
      "[Outro]\n",
      "Come on, be my baby, come on\n",
      "Come on, be my baby, come on\n",
      "I'm in love with your body\n",
      "Come on, be my baby, come on\n",
      "Come on, be my baby, come on\n",
      "I'm in love with your body\n",
      "Come on, be my baby, come on\n",
      "Come on, be my baby, come on\n",
      "I'm in love with your body\n",
      "Every day discovering something brand new\n",
      "I'm in love with the shape of you405Embed\n"
     ]
    }
   ],
   "source": [
    "print(artist.songs[0].lyrics)"
   ]
  },
  {
   "cell_type": "code",
   "execution_count": 8,
   "metadata": {},
   "outputs": [
    {
     "name": "stdout",
     "output_type": "stream",
     "text": [
      "Wrote Lyrics_EdSheeran.txt.\n"
     ]
    }
   ],
   "source": [
    "# save lyrics to path\n",
    "artist.save_lyrics(extension='txt', verbose=True)"
   ]
  },
  {
   "cell_type": "code",
   "execution_count": 9,
   "metadata": {},
   "outputs": [],
   "source": [
    "# move all files starting with 'Lyrics_' to '/datasets/genius'\n",
    "def moveLyricsFiles(fromPath, toPath):\n",
    "    for filename in os.listdir(fromPath):\n",
    "        if filename.startswith('Lyrics_'):\n",
    "            os.rename(filename, toPath + filename)\n",
    "\n",
    "# moveLyricsFiles(root, geniusDataset)"
   ]
  },
  {
   "cell_type": "markdown",
   "metadata": {},
   "source": [
    "### get the top 100 artists\n",
    "using:\n",
    "- https://www.kaggle.com/datasets/sashankpillai/spotify-top-200-charts-20202021"
   ]
  },
  {
   "cell_type": "code",
   "execution_count": 10,
   "metadata": {},
   "outputs": [],
   "source": [
    "# load csv to dataframe\n",
    "df = pd.read_csv(root + 'datasets/spotify_dataset.csv')\n"
   ]
  },
  {
   "cell_type": "code",
   "execution_count": 11,
   "metadata": {},
   "outputs": [
    {
     "data": {
      "text/html": [
       "<div>\n",
       "<style scoped>\n",
       "    .dataframe tbody tr th:only-of-type {\n",
       "        vertical-align: middle;\n",
       "    }\n",
       "\n",
       "    .dataframe tbody tr th {\n",
       "        vertical-align: top;\n",
       "    }\n",
       "\n",
       "    .dataframe thead th {\n",
       "        text-align: right;\n",
       "    }\n",
       "</style>\n",
       "<table border=\"1\" class=\"dataframe\">\n",
       "  <thead>\n",
       "    <tr style=\"text-align: right;\">\n",
       "      <th></th>\n",
       "      <th>Index</th>\n",
       "      <th>Highest Charting Position</th>\n",
       "      <th>Number of Times Charted</th>\n",
       "      <th>Week of Highest Charting</th>\n",
       "      <th>Song Name</th>\n",
       "      <th>Streams</th>\n",
       "      <th>Artist</th>\n",
       "      <th>Artist Followers</th>\n",
       "      <th>Song ID</th>\n",
       "      <th>Genre</th>\n",
       "      <th>...</th>\n",
       "      <th>Danceability</th>\n",
       "      <th>Energy</th>\n",
       "      <th>Loudness</th>\n",
       "      <th>Speechiness</th>\n",
       "      <th>Acousticness</th>\n",
       "      <th>Liveness</th>\n",
       "      <th>Tempo</th>\n",
       "      <th>Duration (ms)</th>\n",
       "      <th>Valence</th>\n",
       "      <th>Chord</th>\n",
       "    </tr>\n",
       "  </thead>\n",
       "  <tbody>\n",
       "    <tr>\n",
       "      <th>1380</th>\n",
       "      <td>1381</td>\n",
       "      <td>54</td>\n",
       "      <td>1</td>\n",
       "      <td>2020-02-21--2020-02-28</td>\n",
       "      <td>Louder than bombs</td>\n",
       "      <td>10,016,907</td>\n",
       "      <td>BTS</td>\n",
       "      <td>37151476</td>\n",
       "      <td>3op7HNwLli54MBjFGzIlZO</td>\n",
       "      <td>['k-pop', 'k-pop boy group']</td>\n",
       "      <td>...</td>\n",
       "      <td>0.643</td>\n",
       "      <td>0.667</td>\n",
       "      <td>-6.993</td>\n",
       "      <td>0.152</td>\n",
       "      <td>0.0433</td>\n",
       "      <td>0.0904</td>\n",
       "      <td>145.999</td>\n",
       "      <td>217404</td>\n",
       "      <td>0.485</td>\n",
       "      <td>C</td>\n",
       "    </tr>\n",
       "    <tr>\n",
       "      <th>479</th>\n",
       "      <td>480</td>\n",
       "      <td>60</td>\n",
       "      <td>1</td>\n",
       "      <td>2021-03-19--2021-03-26</td>\n",
       "      <td>Love You Different (feat. BEAM)</td>\n",
       "      <td>10,024,729</td>\n",
       "      <td>Justin Bieber</td>\n",
       "      <td>48544923</td>\n",
       "      <td>27UcQ6dAvQrgH9C880rCM3</td>\n",
       "      <td>['canadian pop', 'pop', 'post-teen pop']</td>\n",
       "      <td>...</td>\n",
       "      <td>0.759</td>\n",
       "      <td>0.584</td>\n",
       "      <td>-6.655</td>\n",
       "      <td>0.06</td>\n",
       "      <td>0.0652</td>\n",
       "      <td>0.16</td>\n",
       "      <td>127.138</td>\n",
       "      <td>186696</td>\n",
       "      <td>0.374</td>\n",
       "      <td>G#/Ab</td>\n",
       "    </tr>\n",
       "    <tr>\n",
       "      <th>48</th>\n",
       "      <td>49</td>\n",
       "      <td>29</td>\n",
       "      <td>6</td>\n",
       "      <td>2021-06-25--2021-07-02</td>\n",
       "      <td>Fiel - Remix</td>\n",
       "      <td>10,032,746</td>\n",
       "      <td>Wisin, Jhay Cortez, Anuel AA, Los Legendarios,...</td>\n",
       "      <td>6929075</td>\n",
       "      <td>43qcs9NpJhDxtG91zxFkj7</td>\n",
       "      <td>['latin', 'latin hip hop', 'reggaeton', 'trap ...</td>\n",
       "      <td>...</td>\n",
       "      <td>0.839</td>\n",
       "      <td>0.711</td>\n",
       "      <td>-4.733</td>\n",
       "      <td>0.0473</td>\n",
       "      <td>0.398</td>\n",
       "      <td>0.118</td>\n",
       "      <td>97.99</td>\n",
       "      <td>349547</td>\n",
       "      <td>0.573</td>\n",
       "      <td>F#/Gb</td>\n",
       "    </tr>\n",
       "    <tr>\n",
       "      <th>1278</th>\n",
       "      <td>1279</td>\n",
       "      <td>51</td>\n",
       "      <td>1</td>\n",
       "      <td>2020-03-20--2020-03-27</td>\n",
       "      <td>Repeat After Me (Interlude)</td>\n",
       "      <td>10,058,303</td>\n",
       "      <td>The Weeknd</td>\n",
       "      <td>35340069</td>\n",
       "      <td>40U8d12pC5UHqmHwXjHjjl</td>\n",
       "      <td>['canadian contemporary r&amp;b', 'canadian pop', ...</td>\n",
       "      <td>...</td>\n",
       "      <td>0.555</td>\n",
       "      <td>0.619</td>\n",
       "      <td>-7.918</td>\n",
       "      <td>0.0314</td>\n",
       "      <td>0.0323</td>\n",
       "      <td>0.0917</td>\n",
       "      <td>95.032</td>\n",
       "      <td>195813</td>\n",
       "      <td>0.141</td>\n",
       "      <td>C</td>\n",
       "    </tr>\n",
       "    <tr>\n",
       "      <th>1487</th>\n",
       "      <td>1488</td>\n",
       "      <td>62</td>\n",
       "      <td>1</td>\n",
       "      <td>2020-01-17--2020-01-24</td>\n",
       "      <td>I Can See</td>\n",
       "      <td>10,086,930</td>\n",
       "      <td>Mac Miller</td>\n",
       "      <td>6189454</td>\n",
       "      <td>3R8CyhJfVjvgIROd5RSGhQ</td>\n",
       "      <td>['hip hop', 'pittsburgh rap', 'rap']</td>\n",
       "      <td>...</td>\n",
       "      <td>0.699</td>\n",
       "      <td>0.503</td>\n",
       "      <td>-9.922</td>\n",
       "      <td>0.0882</td>\n",
       "      <td>0.391</td>\n",
       "      <td>0.0996</td>\n",
       "      <td>114.86</td>\n",
       "      <td>220853</td>\n",
       "      <td>0.0546</td>\n",
       "      <td>F</td>\n",
       "    </tr>\n",
       "  </tbody>\n",
       "</table>\n",
       "<p>5 rows × 23 columns</p>\n",
       "</div>"
      ],
      "text/plain": [
       "      Index  Highest Charting Position  Number of Times Charted  \\\n",
       "1380   1381                         54                        1   \n",
       "479     480                         60                        1   \n",
       "48       49                         29                        6   \n",
       "1278   1279                         51                        1   \n",
       "1487   1488                         62                        1   \n",
       "\n",
       "     Week of Highest Charting                        Song Name     Streams  \\\n",
       "1380   2020-02-21--2020-02-28                Louder than bombs  10,016,907   \n",
       "479    2021-03-19--2021-03-26  Love You Different (feat. BEAM)  10,024,729   \n",
       "48     2021-06-25--2021-07-02                     Fiel - Remix  10,032,746   \n",
       "1278   2020-03-20--2020-03-27      Repeat After Me (Interlude)  10,058,303   \n",
       "1487   2020-01-17--2020-01-24                        I Can See  10,086,930   \n",
       "\n",
       "                                                 Artist Artist Followers  \\\n",
       "1380                                                BTS         37151476   \n",
       "479                                       Justin Bieber         48544923   \n",
       "48    Wisin, Jhay Cortez, Anuel AA, Los Legendarios,...          6929075   \n",
       "1278                                         The Weeknd         35340069   \n",
       "1487                                         Mac Miller          6189454   \n",
       "\n",
       "                     Song ID  \\\n",
       "1380  3op7HNwLli54MBjFGzIlZO   \n",
       "479   27UcQ6dAvQrgH9C880rCM3   \n",
       "48    43qcs9NpJhDxtG91zxFkj7   \n",
       "1278  40U8d12pC5UHqmHwXjHjjl   \n",
       "1487  3R8CyhJfVjvgIROd5RSGhQ   \n",
       "\n",
       "                                                  Genre  ... Danceability  \\\n",
       "1380                       ['k-pop', 'k-pop boy group']  ...        0.643   \n",
       "479            ['canadian pop', 'pop', 'post-teen pop']  ...        0.759   \n",
       "48    ['latin', 'latin hip hop', 'reggaeton', 'trap ...  ...        0.839   \n",
       "1278  ['canadian contemporary r&b', 'canadian pop', ...  ...        0.555   \n",
       "1487               ['hip hop', 'pittsburgh rap', 'rap']  ...        0.699   \n",
       "\n",
       "     Energy Loudness Speechiness Acousticness Liveness    Tempo Duration (ms)  \\\n",
       "1380  0.667   -6.993       0.152       0.0433   0.0904  145.999        217404   \n",
       "479   0.584   -6.655        0.06       0.0652     0.16  127.138        186696   \n",
       "48    0.711   -4.733      0.0473        0.398    0.118    97.99        349547   \n",
       "1278  0.619   -7.918      0.0314       0.0323   0.0917   95.032        195813   \n",
       "1487  0.503   -9.922      0.0882        0.391   0.0996   114.86        220853   \n",
       "\n",
       "     Valence  Chord  \n",
       "1380   0.485      C  \n",
       "479    0.374  G#/Ab  \n",
       "48     0.573  F#/Gb  \n",
       "1278   0.141      C  \n",
       "1487  0.0546      F  \n",
       "\n",
       "[5 rows x 23 columns]"
      ]
     },
     "execution_count": 11,
     "metadata": {},
     "output_type": "execute_result"
    }
   ],
   "source": [
    "# sort the dataframe by Streams\n",
    "df = df.sort_values(by=['Streams'], ascending=True)\n",
    "df.head()"
   ]
  },
  {
   "cell_type": "code",
   "execution_count": 12,
   "metadata": {},
   "outputs": [
    {
     "name": "stdout",
     "output_type": "stream",
     "text": [
      "311\n"
     ]
    }
   ],
   "source": [
    "# get list of first 20 artists from df\n",
    "topArtists = df['Artist'].head(500).tolist()\n",
    "# topArtists.sort()\n",
    "# delete duplicates\n",
    "topArtists = list(dict.fromkeys(topArtists))\n",
    "print(len(topArtists))\n",
    "# print(topArtists)\n"
   ]
  },
  {
   "cell_type": "markdown",
   "metadata": {},
   "source": [
    "### generate genius-dataset\n",
    "using:\n",
    "- top 100 Artists from streaming numbers extracted from:\n",
    "    - https://www.kaggle.com/datasets/sashankpillai/spotify-top-200-charts-20202021\n",
    "- getting 20 songs from every artist\n",
    "    - getting it from genius.com with lyricsgenius\n",
    "        - https://github.com/johnwmillr/LyricsGenius\n",
    "    - sortet after popularity\n",
    "- writing a txt file for every artist and saving it to 'datasets/genius/'"
   ]
  },
  {
   "cell_type": "code",
   "execution_count": 13,
   "metadata": {},
   "outputs": [],
   "source": [
    "# constants\n",
    "NUM_SONGS = 20\n",
    "NUM_ARTISTS = 100"
   ]
  },
  {
   "cell_type": "code",
   "execution_count": 14,
   "metadata": {},
   "outputs": [],
   "source": [
    "topArtists = topArtists[:NUM_ARTISTS]\n",
    "# print(topArtists)\n"
   ]
  },
  {
   "cell_type": "code",
   "execution_count": 15,
   "metadata": {},
   "outputs": [],
   "source": [
    "# write top artists to file\n",
    "with open(root + 'datasets/topArtists.txt', 'w') as f:\n",
    "    for item in topArtists:\n",
    "        f.write(\"%s\\n\" % item)\n",
    "\n",
    "# insert new line for every ',' in file topArtists.txt\n",
    "with open(root + 'datasets/topArtists.txt', 'r') as f:\n",
    "    lines = f.readlines()\n",
    "    for i in range(len(lines)):\n",
    "        lines[i] = lines[i].replace(',', '\\n')\n",
    "        lines[i] = lines[i].replace('&', '\\n')\n",
    "    with open(root + 'datasets/topArtists.txt', 'w') as f:\n",
    "        f.writelines(lines)\n",
    "f.close()\n",
    "\n"
   ]
  },
  {
   "cell_type": "code",
   "execution_count": 16,
   "metadata": {},
   "outputs": [
    {
     "name": "stdout",
     "output_type": "stream",
     "text": [
      "['BTS', 'Justin Bieber', 'Wisin', ' Jhay Cortez', ' Anuel AA', ' Los Legendarios', ' Myke Towers', 'The Weeknd', 'Mac Miller', 'Tiago PZK', ' LIT killah', '24kGoldn', 'Galantis', 'Lady Gaga', 'Lil Uzi Vert', 'Coldplay', 'Band Aid', 'The Ronettes', 'Queen', 'Daryl Hall ', ' John Oates', 'Future', ' Drake', ' Young Thug', 'Kid Cudi', 'J. Cole', 'Bad Bunny', 'Tiësto', 'Frank Sinatra', 'Eminem', 'Dean Martin', 'Ariana Grande', 'Bad Bunny', ' ABRA', 'Taylor Swift', 'J Balvin', ' KAROL G', ' Nicky Jam', ' Crissin', ' Totoy El Frio', ' Natan ', ' Shander', 'Olivia Rodrigo', 'Internet Money', ' Gunna', ' Don Toliver', ' NAV', 'Tyler', ' The Creator', 'TINI', ' Maria Becerra', 'Bad Bunny', ' Jhay Cortez', 'Sech', ' Jhay Cortez', 'Doja Cat', ' The Weeknd', 'José Feliciano', 'Polo G', 'The Kid LAROI', 'Harry Styles', 'Kelly Clarkson', 'Sebastian Yatra', ' Myke Towers', 'Camila Cabello', 'Bruno Mars', ' Anderson .Paak', ' Silk Sonic', 'Masked Wolf', 'Riton', ' Nightcrawlers', 'Post Malone', 'Andy Williams', 'Farruko', 'Glass Animals', 'StaySolidRocky', ' Lil Uzi Vert', 'Michael Bublé', 'Doja Cat', 'Bobby Helms', 'Mora', ' Bad Bunny', ' Sech', 'Brenda Lee', 'Nio Garcia', ' J Balvin', ' Bad Bunny', 'Wham!', 'J Balvin', ' Maria Becerra', 'Mariah Carey', 'Dua Lipa', 'Måneskin', 'Rauw Alejandro', 'Justin Bieber', ' Quavo', 'Lil Nas X', 'Ed Sheeran', 'Lizzo', 'J Balvin', 'Sub Urban', 'Polo G', ' Stunna 4 Vegas', 'Twenty One Pilots', 'Lunay', ' Myke Towers', ' Ozuna', ' Chencho Corleone', ' Rauw Alejandro', 'Bazzi', 'Billie Eilish', 'YNW Melly', 'XXXTENTACION', 'G-Eazy', 'Bad Bunny', ' Don Omar', 'Sam Smith', 'Maroon 5', 'Selena Gomez', 'Rod Wave', 'Future', 'BLACKPINK', 'Bad Bunny', ' Tainy', 'Pashanim', 'PUBLIC', 'The Chainsmokers', ' ILLENIUM', ' Lennon Stella', 'Jonas Brothers', 'PARTYNEXTDOOR', ' Rihanna', 'BROCKHAMPTON', 'Shawn Mendes', 'Ellie Goulding', 'Don Toliver', 'NLE Choppa', 'Khalid', ' Disclosure', 'Boomdabash', ' Alessandra Amoroso', 'Juanfran', 'ITZY', 'Bad Bunny', ' Daddy Yankee', '5 Seconds of Summer', 'Jason Mraz', '']\n"
     ]
    }
   ],
   "source": [
    "# read top artists from file\n",
    "with open(root + 'datasets/topArtists.txt', 'r') as f:\n",
    "    topArtists = f.read().split('\\n')\n",
    "    \n",
    "print(topArtists)"
   ]
  },
  {
   "cell_type": "code",
   "execution_count": 34,
   "metadata": {},
   "outputs": [
    {
     "name": "stdout",
     "output_type": "stream",
     "text": [
      "Searching for songs by BTS...\n",
      "\n",
      "Error with  BTS\n",
      "Searching for songs by Justin Bieber...\n",
      "\n",
      "Error with  Justin Bieber\n",
      "Searching for songs by Wisin...\n",
      "\n",
      "Error with  Wisin\n",
      "Searching for songs by  Jhay Cortez...\n",
      "\n",
      "Changing artist name to 'Bad Bunny & Jhay Cortez'\n",
      "Song 1: \"DÁKITI\"\n",
      "Song 2: \"CÓMO SE SIENTE (Remix)\"\n",
      "Song 3: \"Tarot\"\n",
      "Song 4: \"DÁKITI (Remix)\"\n",
      "Done. Found 4 songs.\n",
      "Wrote Lyrics_BadBunnyJhayCortez.txt.\n",
      "Searching for songs by  Anuel AA...\n",
      "\n",
      "Changing artist name to 'Anuel AA'\n",
      "Error with   Anuel AA\n",
      "Searching for songs by  Los Legendarios...\n",
      "\n",
      "Changing artist name to 'Los Legendarios'\n"
     ]
    }
   ],
   "source": [
    "# get lyrics for top artists\n",
    "for person in topArtists:\n",
    "    try:\n",
    "        artistFile = genius.search_artist(person, max_songs=NUM_SONGS, sort=\"popularity\", verbose=True)\n",
    "        artistFile.save_lyrics(extension='txt', verbose=True)\n",
    "    except:\n",
    "        print('Error with:', person,'Got:', artistFile)"
   ]
  },
  {
   "cell_type": "code",
   "execution_count": 81,
   "metadata": {},
   "outputs": [],
   "source": [
    "# move lyrics files to geniusDataset\n",
    "moveLyricsFiles(root, geniusDataset)"
   ]
  },
  {
   "cell_type": "code",
   "execution_count": 82,
   "metadata": {},
   "outputs": [
    {
     "name": "stdout",
     "output_type": "stream",
     "text": [
      "49\n"
     ]
    }
   ],
   "source": [
    "# get number of files in geniusDataset\n",
    "print(len(os.listdir(geniusDataset)))"
   ]
  },
  {
   "cell_type": "markdown",
   "metadata": {},
   "source": [
    "### Cleaning Dataset"
   ]
  },
  {
   "cell_type": "markdown",
   "metadata": {},
   "source": [
    "what to delete:\n",
    "- all non englisch artists\n",
    "- `워`\n",
    "- `Translations`... to `\\n`\n",
    "- all non english characters\n",
    "- `()` --> Replace with whitespace\n",
    "- all between `[]`\n",
    "- number+`Embed`... to `\\n`\n",
    "- `like2Embed` to `\\n`"
   ]
  },
  {
   "cell_type": "code",
   "execution_count": 114,
   "metadata": {},
   "outputs": [],
   "source": [
    "# define function to delete al 워 from a txt file from directory path\n",
    "def deleteAllFromFiles(path):\n",
    "    for filename in os.listdir(path):\n",
    "        if filename.endswith('.txt'):\n",
    "            with open(path + filename, 'r') as f:\n",
    "                text = f.read()\n",
    "                # insert new line at end of text\n",
    "                text = text + '\\n'\n",
    "                text = text.replace('워', '')\n",
    "                text = text.replace('(', ' ')\n",
    "                text = text.replace(')', ' ')\n",
    "                # delete all between []\n",
    "                text = re.sub(r'\\[.*?\\]', '', text)\n",
    "                # delete all number + 'Embed' to \\n\n",
    "                text = re.sub(r'\\d*Embed.*?\\n', '', text)\n",
    "                # delete all from 'Translations' to \\n\n",
    "                text = re.sub(r'Translations*?\\n', '', text)\n",
    "                # delete all chinese characters\n",
    "                text = re.sub(r'[\\u4e00-\\u9fff]+', '', text)\n",
    "                # delete all non english characters\n",
    "                text = re.sub(r'[^a-zA-Z0-9\\s]', '', text)\n",
    "            \n",
    "                text = text.replace('You might also likeEmbed', '')\n",
    "                text = text.replace('Embed\\n', '\\n')\n",
    "                text = text.replace('You might also like', '\\n')\n",
    "\n",
    "            with open(path + filename, 'w') as f:\n",
    "                f.write(text)\n"
   ]
  },
  {
   "cell_type": "code",
   "execution_count": 115,
   "metadata": {},
   "outputs": [],
   "source": [
    "# test deleteAllFromFiles-function\n",
    "deleteAllFromFiles(root + 'datasets/geniusClean/')"
   ]
  },
  {
   "cell_type": "markdown",
   "metadata": {},
   "source": [
    "---\n"
   ]
  },
  {
   "cell_type": "markdown",
   "metadata": {},
   "source": []
  }
 ],
 "metadata": {
  "kernelspec": {
   "display_name": "Python 3.9.13 ('Ki-Lab3.9')",
   "language": "python",
   "name": "python3"
  },
  "language_info": {
   "codemirror_mode": {
    "name": "ipython",
    "version": 3
   },
   "file_extension": ".py",
   "mimetype": "text/x-python",
   "name": "python",
   "nbconvert_exporter": "python",
   "pygments_lexer": "ipython3",
   "version": "3.9.13"
  },
  "orig_nbformat": 4,
  "vscode": {
   "interpreter": {
    "hash": "401949f8f22344ab70dfcd116b53776ca8bac82eaa601e9464a5719ba1fa738c"
   }
  }
 },
 "nbformat": 4,
 "nbformat_minor": 2
}
