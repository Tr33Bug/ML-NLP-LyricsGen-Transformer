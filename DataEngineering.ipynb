{
 "cells": [
  {
   "cell_type": "markdown",
   "metadata": {},
   "source": [
    "# Data Engineering\n",
    "`Donwloading and creating the dataset for the LyricsGenerator task.`\n",
    "\n",
    "**Project Repository:** https://github.com/Tr33Bug/ML-NLP-LyricsGen-Transformer"
   ]
  },
  {
   "cell_type": "markdown",
   "metadata": {},
   "source": [
    "Ressources:\n",
    "- https://ruder.io/recent-advances-lm-fine-tuning/\n",
    "- https://towardsdatascience.com/how-to-fine-tune-gpt-2-for-text-generation-ae2ea53bc272\n",
    "- http://jalammar.github.io/illustrated-gpt2/"
   ]
  },
  {
   "cell_type": "markdown",
   "metadata": {},
   "source": [
    "## Notebook Setup\n"
   ]
  },
  {
   "cell_type": "code",
   "execution_count": 16,
   "metadata": {},
   "outputs": [
    {
     "name": "stdout",
     "output_type": "stream",
     "text": [
      "Requirement already satisfied: lyricsgenius in /Users/tree/miniconda3/envs/Ki-Lab3.9/lib/python3.9/site-packages (3.0.1)\n",
      "Requirement already satisfied: beautifulsoup4>=4.6.0 in /Users/tree/miniconda3/envs/Ki-Lab3.9/lib/python3.9/site-packages (from lyricsgenius) (4.11.1)\n",
      "Requirement already satisfied: requests>=2.20.0 in /Users/tree/miniconda3/envs/Ki-Lab3.9/lib/python3.9/site-packages (from lyricsgenius) (2.28.1)\n",
      "Requirement already satisfied: soupsieve>1.2 in /Users/tree/miniconda3/envs/Ki-Lab3.9/lib/python3.9/site-packages (from beautifulsoup4>=4.6.0->lyricsgenius) (2.3.2.post1)\n",
      "Requirement already satisfied: charset-normalizer<3,>=2 in /Users/tree/miniconda3/envs/Ki-Lab3.9/lib/python3.9/site-packages (from requests>=2.20.0->lyricsgenius) (2.1.1)\n",
      "Requirement already satisfied: idna<4,>=2.5 in /Users/tree/miniconda3/envs/Ki-Lab3.9/lib/python3.9/site-packages (from requests>=2.20.0->lyricsgenius) (3.4)\n",
      "Requirement already satisfied: certifi>=2017.4.17 in /Users/tree/miniconda3/envs/Ki-Lab3.9/lib/python3.9/site-packages (from requests>=2.20.0->lyricsgenius) (2022.9.24)\n",
      "Requirement already satisfied: urllib3<1.27,>=1.21.1 in /Users/tree/miniconda3/envs/Ki-Lab3.9/lib/python3.9/site-packages (from requests>=2.20.0->lyricsgenius) (1.26.13)\n",
      "Requirement already satisfied: pandas in /Users/tree/miniconda3/envs/Ki-Lab3.9/lib/python3.9/site-packages (1.5.2)\n",
      "Requirement already satisfied: python-dateutil>=2.8.1 in /Users/tree/miniconda3/envs/Ki-Lab3.9/lib/python3.9/site-packages (from pandas) (2.8.2)\n",
      "Requirement already satisfied: numpy>=1.20.3 in /Users/tree/miniconda3/envs/Ki-Lab3.9/lib/python3.9/site-packages (from pandas) (1.23.5)\n",
      "Requirement already satisfied: pytz>=2020.1 in /Users/tree/miniconda3/envs/Ki-Lab3.9/lib/python3.9/site-packages (from pandas) (2022.6)\n",
      "Requirement already satisfied: six>=1.5 in /Users/tree/miniconda3/envs/Ki-Lab3.9/lib/python3.9/site-packages (from python-dateutil>=2.8.1->pandas) (1.16.0)\n",
      "Requirement already satisfied: regex in /Users/tree/miniconda3/envs/Ki-Lab3.9/lib/python3.9/site-packages (2022.10.31)\n",
      "Requirement already satisfied: matplotlib in /Users/tree/miniconda3/envs/Ki-Lab3.9/lib/python3.9/site-packages (3.6.2)\n",
      "Requirement already satisfied: numpy>=1.19 in /Users/tree/miniconda3/envs/Ki-Lab3.9/lib/python3.9/site-packages (from matplotlib) (1.23.5)\n",
      "Requirement already satisfied: kiwisolver>=1.0.1 in /Users/tree/miniconda3/envs/Ki-Lab3.9/lib/python3.9/site-packages (from matplotlib) (1.4.4)\n",
      "Requirement already satisfied: pyparsing>=2.2.1 in /Users/tree/miniconda3/envs/Ki-Lab3.9/lib/python3.9/site-packages (from matplotlib) (3.0.9)\n",
      "Requirement already satisfied: cycler>=0.10 in /Users/tree/miniconda3/envs/Ki-Lab3.9/lib/python3.9/site-packages (from matplotlib) (0.11.0)\n",
      "Requirement already satisfied: pillow>=6.2.0 in /Users/tree/miniconda3/envs/Ki-Lab3.9/lib/python3.9/site-packages (from matplotlib) (9.3.0)\n",
      "Requirement already satisfied: packaging>=20.0 in /Users/tree/miniconda3/envs/Ki-Lab3.9/lib/python3.9/site-packages (from matplotlib) (21.3)\n",
      "Requirement already satisfied: contourpy>=1.0.1 in /Users/tree/miniconda3/envs/Ki-Lab3.9/lib/python3.9/site-packages (from matplotlib) (1.0.6)\n",
      "Requirement already satisfied: fonttools>=4.22.0 in /Users/tree/miniconda3/envs/Ki-Lab3.9/lib/python3.9/site-packages (from matplotlib) (4.38.0)\n",
      "Requirement already satisfied: python-dateutil>=2.7 in /Users/tree/miniconda3/envs/Ki-Lab3.9/lib/python3.9/site-packages (from matplotlib) (2.8.2)\n",
      "Requirement already satisfied: six>=1.5 in /Users/tree/miniconda3/envs/Ki-Lab3.9/lib/python3.9/site-packages (from python-dateutil>=2.7->matplotlib) (1.16.0)\n"
     ]
    }
   ],
   "source": [
    "# installation: \n",
    "! pip install lyricsgenius\n",
    "! pip install pandas\n",
    "! pip install regex\n",
    "! pip install matplotlib"
   ]
  },
  {
   "cell_type": "code",
   "execution_count": 17,
   "metadata": {},
   "outputs": [],
   "source": [
    "# imports and setup\n",
    "import lyricsgenius\n",
    "import os\n",
    "import pandas as pd\n",
    "import regex as re\n",
    "import matplotlib.pyplot as plt"
   ]
  },
  {
   "cell_type": "code",
   "execution_count": 18,
   "metadata": {},
   "outputs": [],
   "source": [
    "#### FILE PATHS\n",
    "# root path\n",
    "root = './'\n",
    "\n",
    "# dataset from spotify list (deprecated)\n",
    "geniusDataset = root + 'datasets/genius/'\n",
    "geniusCleanDataset = root + 'datasets/geniusClean/'\n",
    "\n",
    "# dataset from IMDP Top 100 Rap Artists\n",
    "geniusTopRapIMDB = root + 'datasets/geniusTopRapIMDB/'\n",
    "geniusTopRapIMDBClean = root + 'datasets/geniusTopRapIMDBClean/'\n",
    "\n",
    "# dataset from IMDP top 100 artists all time and top 21th century artists\n",
    "geniusTopIMDB = root + 'datasets/geniusTopIMDB/'\n",
    "geniusTopIMDBClean = root + 'datasets/geniusTopIMDBClean/'\n",
    "\n",
    "# API token path\n",
    "tokenPath = root + 'geniusToken.txt'\n"
   ]
  },
  {
   "cell_type": "markdown",
   "metadata": {},
   "source": [
    "## Setup API-Connection"
   ]
  },
  {
   "cell_type": "markdown",
   "metadata": {},
   "source": [
    "Using: \n",
    "- the Genius API from genius.com (https://docs.genius.com/#/getting-started-h1)\n",
    "- the LyricsGenius-Framework (https://github.com/johnwmillr/LyricsGenius)\n",
    "---"
   ]
  },
  {
   "cell_type": "code",
   "execution_count": 7,
   "metadata": {},
   "outputs": [
    {
     "name": "stdout",
     "output_type": "stream",
     "text": [
      "MWsM24sb6E35T_zgNTSHtAr1U9fmSJj2DU5G1BU6bbUjezqStqNMIStlLIL7VU5b\n"
     ]
    }
   ],
   "source": [
    "# Genius API Access Token\n",
    "# get token at: https://genius.com/api-clients\n",
    "# load token from file\n",
    "with open(tokenPath, 'r') as file:\n",
    "    GENIUS_ACCESS_TOKEN = str(file.read())\n",
    "\n",
    "    # delete last newline character from token\n",
    "    # GENIUS_ACCESS_TOKEN = GENIUS_ACCESS_TOKEN[:-1]\n",
    "    file.close()\n",
    "\n",
    "print(GENIUS_ACCESS_TOKEN)"
   ]
  },
  {
   "cell_type": "code",
   "execution_count": 8,
   "metadata": {},
   "outputs": [],
   "source": [
    "# test connection'\n",
    "genius = lyricsgenius.Genius(GENIUS_ACCESS_TOKEN)"
   ]
  },
  {
   "cell_type": "code",
   "execution_count": 19,
   "metadata": {},
   "outputs": [],
   "source": [
    "# function to save every song to one file\n",
    "def writeSongToFile(artist):\n",
    "    for song in artist.songs:\n",
    "        # save song in a file called artistname-songname.txt\n",
    "        song.save_lyrics(filename='Lyrics_' + song.artist + '_' + song.title, extension='txt', verbose=True)\n"
   ]
  },
  {
   "cell_type": "code",
   "execution_count": 20,
   "metadata": {},
   "outputs": [],
   "source": [
    "# function to move all files starting with 'Lyrics_' to path\n",
    "def moveLyricsFiles(fromPath, toPath):\n",
    "    for filename in os.listdir(fromPath):\n",
    "        if filename.startswith('Lyrics_'):\n",
    "            os.rename(filename, toPath + filename)\n"
   ]
  },
  {
   "cell_type": "markdown",
   "metadata": {},
   "source": [
    "### Test API-Connetction"
   ]
  },
  {
   "cell_type": "code",
   "execution_count": 9,
   "metadata": {},
   "outputs": [
    {
     "name": "stdout",
     "output_type": "stream",
     "text": [
      "Searching for songs by Coldplay...\n",
      "\n",
      "Song 1: \"Viva la Vida\"\n"
     ]
    },
    {
     "ename": "Timeout",
     "evalue": "Request timed out:\nHTTPSConnectionPool(host='genius.com', port=443): Read timed out. (read timeout=5)",
     "output_type": "error",
     "traceback": [
      "\u001b[0;31m---------------------------------------------------------------------------\u001b[0m",
      "\u001b[0;31mtimeout\u001b[0m                                   Traceback (most recent call last)",
      "File \u001b[0;32m~/miniconda3/envs/Ki-Lab3.9/lib/python3.9/site-packages/urllib3/connectionpool.py:449\u001b[0m, in \u001b[0;36mHTTPConnectionPool._make_request\u001b[0;34m(self, conn, method, url, timeout, chunked, **httplib_request_kw)\u001b[0m\n\u001b[1;32m    445\u001b[0m         \u001b[39mexcept\u001b[39;00m \u001b[39mBaseException\u001b[39;00m \u001b[39mas\u001b[39;00m e:\n\u001b[1;32m    446\u001b[0m             \u001b[39m# Remove the TypeError from the exception chain in\u001b[39;00m\n\u001b[1;32m    447\u001b[0m             \u001b[39m# Python 3 (including for exceptions like SystemExit).\u001b[39;00m\n\u001b[1;32m    448\u001b[0m             \u001b[39m# Otherwise it looks like a bug in the code.\u001b[39;00m\n\u001b[0;32m--> 449\u001b[0m             six\u001b[39m.\u001b[39;49mraise_from(e, \u001b[39mNone\u001b[39;49;00m)\n\u001b[1;32m    450\u001b[0m \u001b[39mexcept\u001b[39;00m (SocketTimeout, BaseSSLError, SocketError) \u001b[39mas\u001b[39;00m e:\n",
      "File \u001b[0;32m<string>:3\u001b[0m, in \u001b[0;36mraise_from\u001b[0;34m(value, from_value)\u001b[0m\n",
      "File \u001b[0;32m~/miniconda3/envs/Ki-Lab3.9/lib/python3.9/site-packages/urllib3/connectionpool.py:444\u001b[0m, in \u001b[0;36mHTTPConnectionPool._make_request\u001b[0;34m(self, conn, method, url, timeout, chunked, **httplib_request_kw)\u001b[0m\n\u001b[1;32m    443\u001b[0m \u001b[39mtry\u001b[39;00m:\n\u001b[0;32m--> 444\u001b[0m     httplib_response \u001b[39m=\u001b[39m conn\u001b[39m.\u001b[39;49mgetresponse()\n\u001b[1;32m    445\u001b[0m \u001b[39mexcept\u001b[39;00m \u001b[39mBaseException\u001b[39;00m \u001b[39mas\u001b[39;00m e:\n\u001b[1;32m    446\u001b[0m     \u001b[39m# Remove the TypeError from the exception chain in\u001b[39;00m\n\u001b[1;32m    447\u001b[0m     \u001b[39m# Python 3 (including for exceptions like SystemExit).\u001b[39;00m\n\u001b[1;32m    448\u001b[0m     \u001b[39m# Otherwise it looks like a bug in the code.\u001b[39;00m\n",
      "File \u001b[0;32m~/miniconda3/envs/Ki-Lab3.9/lib/python3.9/http/client.py:1377\u001b[0m, in \u001b[0;36mHTTPConnection.getresponse\u001b[0;34m(self)\u001b[0m\n\u001b[1;32m   1376\u001b[0m \u001b[39mtry\u001b[39;00m:\n\u001b[0;32m-> 1377\u001b[0m     response\u001b[39m.\u001b[39;49mbegin()\n\u001b[1;32m   1378\u001b[0m \u001b[39mexcept\u001b[39;00m \u001b[39mConnectionError\u001b[39;00m:\n",
      "File \u001b[0;32m~/miniconda3/envs/Ki-Lab3.9/lib/python3.9/http/client.py:320\u001b[0m, in \u001b[0;36mHTTPResponse.begin\u001b[0;34m(self)\u001b[0m\n\u001b[1;32m    319\u001b[0m \u001b[39mwhile\u001b[39;00m \u001b[39mTrue\u001b[39;00m:\n\u001b[0;32m--> 320\u001b[0m     version, status, reason \u001b[39m=\u001b[39m \u001b[39mself\u001b[39;49m\u001b[39m.\u001b[39;49m_read_status()\n\u001b[1;32m    321\u001b[0m     \u001b[39mif\u001b[39;00m status \u001b[39m!=\u001b[39m CONTINUE:\n",
      "File \u001b[0;32m~/miniconda3/envs/Ki-Lab3.9/lib/python3.9/http/client.py:281\u001b[0m, in \u001b[0;36mHTTPResponse._read_status\u001b[0;34m(self)\u001b[0m\n\u001b[1;32m    280\u001b[0m \u001b[39mdef\u001b[39;00m \u001b[39m_read_status\u001b[39m(\u001b[39mself\u001b[39m):\n\u001b[0;32m--> 281\u001b[0m     line \u001b[39m=\u001b[39m \u001b[39mstr\u001b[39m(\u001b[39mself\u001b[39;49m\u001b[39m.\u001b[39;49mfp\u001b[39m.\u001b[39;49mreadline(_MAXLINE \u001b[39m+\u001b[39;49m \u001b[39m1\u001b[39;49m), \u001b[39m\"\u001b[39m\u001b[39miso-8859-1\u001b[39m\u001b[39m\"\u001b[39m)\n\u001b[1;32m    282\u001b[0m     \u001b[39mif\u001b[39;00m \u001b[39mlen\u001b[39m(line) \u001b[39m>\u001b[39m _MAXLINE:\n",
      "File \u001b[0;32m~/miniconda3/envs/Ki-Lab3.9/lib/python3.9/socket.py:704\u001b[0m, in \u001b[0;36mSocketIO.readinto\u001b[0;34m(self, b)\u001b[0m\n\u001b[1;32m    703\u001b[0m \u001b[39mtry\u001b[39;00m:\n\u001b[0;32m--> 704\u001b[0m     \u001b[39mreturn\u001b[39;00m \u001b[39mself\u001b[39;49m\u001b[39m.\u001b[39;49m_sock\u001b[39m.\u001b[39;49mrecv_into(b)\n\u001b[1;32m    705\u001b[0m \u001b[39mexcept\u001b[39;00m timeout:\n",
      "File \u001b[0;32m~/miniconda3/envs/Ki-Lab3.9/lib/python3.9/ssl.py:1242\u001b[0m, in \u001b[0;36mSSLSocket.recv_into\u001b[0;34m(self, buffer, nbytes, flags)\u001b[0m\n\u001b[1;32m   1239\u001b[0m         \u001b[39mraise\u001b[39;00m \u001b[39mValueError\u001b[39;00m(\n\u001b[1;32m   1240\u001b[0m           \u001b[39m\"\u001b[39m\u001b[39mnon-zero flags not allowed in calls to recv_into() on \u001b[39m\u001b[39m%s\u001b[39;00m\u001b[39m\"\u001b[39m \u001b[39m%\u001b[39m\n\u001b[1;32m   1241\u001b[0m           \u001b[39mself\u001b[39m\u001b[39m.\u001b[39m\u001b[39m__class__\u001b[39m)\n\u001b[0;32m-> 1242\u001b[0m     \u001b[39mreturn\u001b[39;00m \u001b[39mself\u001b[39;49m\u001b[39m.\u001b[39;49mread(nbytes, buffer)\n\u001b[1;32m   1243\u001b[0m \u001b[39melse\u001b[39;00m:\n",
      "File \u001b[0;32m~/miniconda3/envs/Ki-Lab3.9/lib/python3.9/ssl.py:1100\u001b[0m, in \u001b[0;36mSSLSocket.read\u001b[0;34m(self, len, buffer)\u001b[0m\n\u001b[1;32m   1099\u001b[0m \u001b[39mif\u001b[39;00m buffer \u001b[39mis\u001b[39;00m \u001b[39mnot\u001b[39;00m \u001b[39mNone\u001b[39;00m:\n\u001b[0;32m-> 1100\u001b[0m     \u001b[39mreturn\u001b[39;00m \u001b[39mself\u001b[39;49m\u001b[39m.\u001b[39;49m_sslobj\u001b[39m.\u001b[39;49mread(\u001b[39mlen\u001b[39;49m, buffer)\n\u001b[1;32m   1101\u001b[0m \u001b[39melse\u001b[39;00m:\n",
      "\u001b[0;31mtimeout\u001b[0m: The read operation timed out",
      "\nDuring handling of the above exception, another exception occurred:\n",
      "\u001b[0;31mReadTimeoutError\u001b[0m                          Traceback (most recent call last)",
      "File \u001b[0;32m~/miniconda3/envs/Ki-Lab3.9/lib/python3.9/site-packages/requests/adapters.py:489\u001b[0m, in \u001b[0;36mHTTPAdapter.send\u001b[0;34m(self, request, stream, timeout, verify, cert, proxies)\u001b[0m\n\u001b[1;32m    488\u001b[0m \u001b[39mif\u001b[39;00m \u001b[39mnot\u001b[39;00m chunked:\n\u001b[0;32m--> 489\u001b[0m     resp \u001b[39m=\u001b[39m conn\u001b[39m.\u001b[39;49murlopen(\n\u001b[1;32m    490\u001b[0m         method\u001b[39m=\u001b[39;49mrequest\u001b[39m.\u001b[39;49mmethod,\n\u001b[1;32m    491\u001b[0m         url\u001b[39m=\u001b[39;49murl,\n\u001b[1;32m    492\u001b[0m         body\u001b[39m=\u001b[39;49mrequest\u001b[39m.\u001b[39;49mbody,\n\u001b[1;32m    493\u001b[0m         headers\u001b[39m=\u001b[39;49mrequest\u001b[39m.\u001b[39;49mheaders,\n\u001b[1;32m    494\u001b[0m         redirect\u001b[39m=\u001b[39;49m\u001b[39mFalse\u001b[39;49;00m,\n\u001b[1;32m    495\u001b[0m         assert_same_host\u001b[39m=\u001b[39;49m\u001b[39mFalse\u001b[39;49;00m,\n\u001b[1;32m    496\u001b[0m         preload_content\u001b[39m=\u001b[39;49m\u001b[39mFalse\u001b[39;49;00m,\n\u001b[1;32m    497\u001b[0m         decode_content\u001b[39m=\u001b[39;49m\u001b[39mFalse\u001b[39;49;00m,\n\u001b[1;32m    498\u001b[0m         retries\u001b[39m=\u001b[39;49m\u001b[39mself\u001b[39;49m\u001b[39m.\u001b[39;49mmax_retries,\n\u001b[1;32m    499\u001b[0m         timeout\u001b[39m=\u001b[39;49mtimeout,\n\u001b[1;32m    500\u001b[0m     )\n\u001b[1;32m    502\u001b[0m \u001b[39m# Send the request.\u001b[39;00m\n\u001b[1;32m    503\u001b[0m \u001b[39melse\u001b[39;00m:\n",
      "File \u001b[0;32m~/miniconda3/envs/Ki-Lab3.9/lib/python3.9/site-packages/urllib3/connectionpool.py:787\u001b[0m, in \u001b[0;36mHTTPConnectionPool.urlopen\u001b[0;34m(self, method, url, body, headers, retries, redirect, assert_same_host, timeout, pool_timeout, release_conn, chunked, body_pos, **response_kw)\u001b[0m\n\u001b[1;32m    785\u001b[0m     e \u001b[39m=\u001b[39m ProtocolError(\u001b[39m\"\u001b[39m\u001b[39mConnection aborted.\u001b[39m\u001b[39m\"\u001b[39m, e)\n\u001b[0;32m--> 787\u001b[0m retries \u001b[39m=\u001b[39m retries\u001b[39m.\u001b[39;49mincrement(\n\u001b[1;32m    788\u001b[0m     method, url, error\u001b[39m=\u001b[39;49me, _pool\u001b[39m=\u001b[39;49m\u001b[39mself\u001b[39;49m, _stacktrace\u001b[39m=\u001b[39;49msys\u001b[39m.\u001b[39;49mexc_info()[\u001b[39m2\u001b[39;49m]\n\u001b[1;32m    789\u001b[0m )\n\u001b[1;32m    790\u001b[0m retries\u001b[39m.\u001b[39msleep()\n",
      "File \u001b[0;32m~/miniconda3/envs/Ki-Lab3.9/lib/python3.9/site-packages/urllib3/util/retry.py:550\u001b[0m, in \u001b[0;36mRetry.increment\u001b[0;34m(self, method, url, response, error, _pool, _stacktrace)\u001b[0m\n\u001b[1;32m    549\u001b[0m \u001b[39mif\u001b[39;00m read \u001b[39mis\u001b[39;00m \u001b[39mFalse\u001b[39;00m \u001b[39mor\u001b[39;00m \u001b[39mnot\u001b[39;00m \u001b[39mself\u001b[39m\u001b[39m.\u001b[39m_is_method_retryable(method):\n\u001b[0;32m--> 550\u001b[0m     \u001b[39mraise\u001b[39;00m six\u001b[39m.\u001b[39;49mreraise(\u001b[39mtype\u001b[39;49m(error), error, _stacktrace)\n\u001b[1;32m    551\u001b[0m \u001b[39melif\u001b[39;00m read \u001b[39mis\u001b[39;00m \u001b[39mnot\u001b[39;00m \u001b[39mNone\u001b[39;00m:\n",
      "File \u001b[0;32m~/miniconda3/envs/Ki-Lab3.9/lib/python3.9/site-packages/urllib3/packages/six.py:770\u001b[0m, in \u001b[0;36mreraise\u001b[0;34m(tp, value, tb)\u001b[0m\n\u001b[1;32m    769\u001b[0m         \u001b[39mraise\u001b[39;00m value\u001b[39m.\u001b[39mwith_traceback(tb)\n\u001b[0;32m--> 770\u001b[0m     \u001b[39mraise\u001b[39;00m value\n\u001b[1;32m    771\u001b[0m \u001b[39mfinally\u001b[39;00m:\n",
      "File \u001b[0;32m~/miniconda3/envs/Ki-Lab3.9/lib/python3.9/site-packages/urllib3/connectionpool.py:703\u001b[0m, in \u001b[0;36mHTTPConnectionPool.urlopen\u001b[0;34m(self, method, url, body, headers, retries, redirect, assert_same_host, timeout, pool_timeout, release_conn, chunked, body_pos, **response_kw)\u001b[0m\n\u001b[1;32m    702\u001b[0m \u001b[39m# Make the request on the httplib connection object.\u001b[39;00m\n\u001b[0;32m--> 703\u001b[0m httplib_response \u001b[39m=\u001b[39m \u001b[39mself\u001b[39;49m\u001b[39m.\u001b[39;49m_make_request(\n\u001b[1;32m    704\u001b[0m     conn,\n\u001b[1;32m    705\u001b[0m     method,\n\u001b[1;32m    706\u001b[0m     url,\n\u001b[1;32m    707\u001b[0m     timeout\u001b[39m=\u001b[39;49mtimeout_obj,\n\u001b[1;32m    708\u001b[0m     body\u001b[39m=\u001b[39;49mbody,\n\u001b[1;32m    709\u001b[0m     headers\u001b[39m=\u001b[39;49mheaders,\n\u001b[1;32m    710\u001b[0m     chunked\u001b[39m=\u001b[39;49mchunked,\n\u001b[1;32m    711\u001b[0m )\n\u001b[1;32m    713\u001b[0m \u001b[39m# If we're going to release the connection in ``finally:``, then\u001b[39;00m\n\u001b[1;32m    714\u001b[0m \u001b[39m# the response doesn't need to know about the connection. Otherwise\u001b[39;00m\n\u001b[1;32m    715\u001b[0m \u001b[39m# it will also try to release it and we'll have a double-release\u001b[39;00m\n\u001b[1;32m    716\u001b[0m \u001b[39m# mess.\u001b[39;00m\n",
      "File \u001b[0;32m~/miniconda3/envs/Ki-Lab3.9/lib/python3.9/site-packages/urllib3/connectionpool.py:451\u001b[0m, in \u001b[0;36mHTTPConnectionPool._make_request\u001b[0;34m(self, conn, method, url, timeout, chunked, **httplib_request_kw)\u001b[0m\n\u001b[1;32m    450\u001b[0m \u001b[39mexcept\u001b[39;00m (SocketTimeout, BaseSSLError, SocketError) \u001b[39mas\u001b[39;00m e:\n\u001b[0;32m--> 451\u001b[0m     \u001b[39mself\u001b[39;49m\u001b[39m.\u001b[39;49m_raise_timeout(err\u001b[39m=\u001b[39;49me, url\u001b[39m=\u001b[39;49murl, timeout_value\u001b[39m=\u001b[39;49mread_timeout)\n\u001b[1;32m    452\u001b[0m     \u001b[39mraise\u001b[39;00m\n",
      "File \u001b[0;32m~/miniconda3/envs/Ki-Lab3.9/lib/python3.9/site-packages/urllib3/connectionpool.py:340\u001b[0m, in \u001b[0;36mHTTPConnectionPool._raise_timeout\u001b[0;34m(self, err, url, timeout_value)\u001b[0m\n\u001b[1;32m    339\u001b[0m \u001b[39mif\u001b[39;00m \u001b[39misinstance\u001b[39m(err, SocketTimeout):\n\u001b[0;32m--> 340\u001b[0m     \u001b[39mraise\u001b[39;00m ReadTimeoutError(\n\u001b[1;32m    341\u001b[0m         \u001b[39mself\u001b[39m, url, \u001b[39m\"\u001b[39m\u001b[39mRead timed out. (read timeout=\u001b[39m\u001b[39m%s\u001b[39;00m\u001b[39m)\u001b[39m\u001b[39m\"\u001b[39m \u001b[39m%\u001b[39m timeout_value\n\u001b[1;32m    342\u001b[0m     )\n\u001b[1;32m    344\u001b[0m \u001b[39m# See the above comment about EAGAIN in Python 3. In Python 2 we have\u001b[39;00m\n\u001b[1;32m    345\u001b[0m \u001b[39m# to specifically catch it and throw the timeout error\u001b[39;00m\n",
      "\u001b[0;31mReadTimeoutError\u001b[0m: HTTPSConnectionPool(host='genius.com', port=443): Read timed out. (read timeout=5)",
      "\nDuring handling of the above exception, another exception occurred:\n",
      "\u001b[0;31mReadTimeout\u001b[0m                               Traceback (most recent call last)",
      "File \u001b[0;32m~/miniconda3/envs/Ki-Lab3.9/lib/python3.9/site-packages/lyricsgenius/api/base.py:75\u001b[0m, in \u001b[0;36mSender._make_request\u001b[0;34m(self, path, method, params_, public_api, web, **kwargs)\u001b[0m\n\u001b[1;32m     74\u001b[0m \u001b[39mtry\u001b[39;00m:\n\u001b[0;32m---> 75\u001b[0m     response \u001b[39m=\u001b[39m \u001b[39mself\u001b[39;49m\u001b[39m.\u001b[39;49m_session\u001b[39m.\u001b[39;49mrequest(method, uri,\n\u001b[1;32m     76\u001b[0m                                      timeout\u001b[39m=\u001b[39;49m\u001b[39mself\u001b[39;49m\u001b[39m.\u001b[39;49mtimeout,\n\u001b[1;32m     77\u001b[0m                                      params\u001b[39m=\u001b[39;49mparams_,\n\u001b[1;32m     78\u001b[0m                                      headers\u001b[39m=\u001b[39;49mheader,\n\u001b[1;32m     79\u001b[0m                                      \u001b[39m*\u001b[39;49m\u001b[39m*\u001b[39;49mkwargs)\n\u001b[1;32m     80\u001b[0m     response\u001b[39m.\u001b[39mraise_for_status()\n",
      "File \u001b[0;32m~/miniconda3/envs/Ki-Lab3.9/lib/python3.9/site-packages/requests/sessions.py:587\u001b[0m, in \u001b[0;36mSession.request\u001b[0;34m(self, method, url, params, data, headers, cookies, files, auth, timeout, allow_redirects, proxies, hooks, stream, verify, cert, json)\u001b[0m\n\u001b[1;32m    586\u001b[0m send_kwargs\u001b[39m.\u001b[39mupdate(settings)\n\u001b[0;32m--> 587\u001b[0m resp \u001b[39m=\u001b[39m \u001b[39mself\u001b[39;49m\u001b[39m.\u001b[39;49msend(prep, \u001b[39m*\u001b[39;49m\u001b[39m*\u001b[39;49msend_kwargs)\n\u001b[1;32m    589\u001b[0m \u001b[39mreturn\u001b[39;00m resp\n",
      "File \u001b[0;32m~/miniconda3/envs/Ki-Lab3.9/lib/python3.9/site-packages/requests/sessions.py:701\u001b[0m, in \u001b[0;36mSession.send\u001b[0;34m(self, request, **kwargs)\u001b[0m\n\u001b[1;32m    700\u001b[0m \u001b[39m# Send the request\u001b[39;00m\n\u001b[0;32m--> 701\u001b[0m r \u001b[39m=\u001b[39m adapter\u001b[39m.\u001b[39;49msend(request, \u001b[39m*\u001b[39;49m\u001b[39m*\u001b[39;49mkwargs)\n\u001b[1;32m    703\u001b[0m \u001b[39m# Total elapsed time of the request (approximately)\u001b[39;00m\n",
      "File \u001b[0;32m~/miniconda3/envs/Ki-Lab3.9/lib/python3.9/site-packages/requests/adapters.py:578\u001b[0m, in \u001b[0;36mHTTPAdapter.send\u001b[0;34m(self, request, stream, timeout, verify, cert, proxies)\u001b[0m\n\u001b[1;32m    577\u001b[0m \u001b[39melif\u001b[39;00m \u001b[39misinstance\u001b[39m(e, ReadTimeoutError):\n\u001b[0;32m--> 578\u001b[0m     \u001b[39mraise\u001b[39;00m ReadTimeout(e, request\u001b[39m=\u001b[39mrequest)\n\u001b[1;32m    579\u001b[0m \u001b[39melif\u001b[39;00m \u001b[39misinstance\u001b[39m(e, _InvalidHeader):\n",
      "\u001b[0;31mReadTimeout\u001b[0m: HTTPSConnectionPool(host='genius.com', port=443): Read timed out. (read timeout=5)",
      "\nDuring handling of the above exception, another exception occurred:\n",
      "\u001b[0;31mTimeout\u001b[0m                                   Traceback (most recent call last)",
      "Cell \u001b[0;32mIn [9], line 2\u001b[0m\n\u001b[1;32m      1\u001b[0m \u001b[39m# test connection with Colplay as example\u001b[39;00m\n\u001b[0;32m----> 2\u001b[0m artist \u001b[39m=\u001b[39m genius\u001b[39m.\u001b[39msearch_artist(\u001b[39m\"\u001b[39m\u001b[39mColdplay\u001b[39m\u001b[39m\"\u001b[39m, max_songs\u001b[39m=\u001b[39m\u001b[39m2\u001b[39m, sort\u001b[39m=\u001b[39m\u001b[39m\"\u001b[39m\u001b[39mpopularity\u001b[39m\u001b[39m\"\u001b[39m)\n\u001b[1;32m      3\u001b[0m \u001b[39mprint\u001b[39m(artist\u001b[39m.\u001b[39msongs)\n",
      "File \u001b[0;32m~/miniconda3/envs/Ki-Lab3.9/lib/python3.9/site-packages/lyricsgenius/genius.py:564\u001b[0m, in \u001b[0;36mGenius.search_artist\u001b[0;34m(self, artist_name, max_songs, sort, per_page, get_full_info, allow_name_change, artist_id, include_features)\u001b[0m\n\u001b[1;32m    562\u001b[0m \u001b[39m# Create the Song object from lyrics and metadata\u001b[39;00m\n\u001b[1;32m    563\u001b[0m \u001b[39mif\u001b[39;00m song_info[\u001b[39m'\u001b[39m\u001b[39mlyrics_state\u001b[39m\u001b[39m'\u001b[39m] \u001b[39m==\u001b[39m \u001b[39m'\u001b[39m\u001b[39mcomplete\u001b[39m\u001b[39m'\u001b[39m:\n\u001b[0;32m--> 564\u001b[0m     lyrics \u001b[39m=\u001b[39m \u001b[39mself\u001b[39;49m\u001b[39m.\u001b[39;49mlyrics(song_url\u001b[39m=\u001b[39;49msong_info[\u001b[39m'\u001b[39;49m\u001b[39murl\u001b[39;49m\u001b[39m'\u001b[39;49m])\n\u001b[1;32m    565\u001b[0m \u001b[39melse\u001b[39;00m:\n\u001b[1;32m    566\u001b[0m     lyrics \u001b[39m=\u001b[39m \u001b[39m\"\u001b[39m\u001b[39m\"\u001b[39m\n",
      "File \u001b[0;32m~/miniconda3/envs/Ki-Lab3.9/lib/python3.9/site-packages/lyricsgenius/genius.py:132\u001b[0m, in \u001b[0;36mGenius.lyrics\u001b[0;34m(self, song_id, song_url, remove_section_headers)\u001b[0m\n\u001b[1;32m    128\u001b[0m     path \u001b[39m=\u001b[39m \u001b[39mself\u001b[39m\u001b[39m.\u001b[39msong(song_id)[\u001b[39m'\u001b[39m\u001b[39msong\u001b[39m\u001b[39m'\u001b[39m][\u001b[39m'\u001b[39m\u001b[39mpath\u001b[39m\u001b[39m'\u001b[39m][\u001b[39m1\u001b[39m:]\n\u001b[1;32m    130\u001b[0m \u001b[39m# Scrape the song lyrics from the HTML\u001b[39;00m\n\u001b[1;32m    131\u001b[0m html \u001b[39m=\u001b[39m BeautifulSoup(\n\u001b[0;32m--> 132\u001b[0m     \u001b[39mself\u001b[39;49m\u001b[39m.\u001b[39;49m_make_request(path, web\u001b[39m=\u001b[39;49m\u001b[39mTrue\u001b[39;49;00m)\u001b[39m.\u001b[39mreplace(\u001b[39m'\u001b[39m\u001b[39m<br/>\u001b[39m\u001b[39m'\u001b[39m, \u001b[39m'\u001b[39m\u001b[39m\\n\u001b[39;00m\u001b[39m'\u001b[39m),\n\u001b[1;32m    133\u001b[0m     \u001b[39m\"\u001b[39m\u001b[39mhtml.parser\u001b[39m\u001b[39m\"\u001b[39m\n\u001b[1;32m    134\u001b[0m )\n\u001b[1;32m    136\u001b[0m \u001b[39m# Determine the class of the div\u001b[39;00m\n\u001b[1;32m    137\u001b[0m div \u001b[39m=\u001b[39m html\u001b[39m.\u001b[39mfind(\u001b[39m\"\u001b[39m\u001b[39mdiv\u001b[39m\u001b[39m\"\u001b[39m, class_\u001b[39m=\u001b[39mre\u001b[39m.\u001b[39mcompile(\u001b[39m\"\u001b[39m\u001b[39m^lyrics$|Lyrics__Root\u001b[39m\u001b[39m\"\u001b[39m))\n",
      "File \u001b[0;32m~/miniconda3/envs/Ki-Lab3.9/lib/python3.9/site-packages/lyricsgenius/api/base.py:84\u001b[0m, in \u001b[0;36mSender._make_request\u001b[0;34m(self, path, method, params_, public_api, web, **kwargs)\u001b[0m\n\u001b[1;32m     82\u001b[0m     error \u001b[39m=\u001b[39m \u001b[39m\"\u001b[39m\u001b[39mRequest timed out:\u001b[39m\u001b[39m\\n\u001b[39;00m\u001b[39m{e}\u001b[39;00m\u001b[39m\"\u001b[39m\u001b[39m.\u001b[39mformat(e\u001b[39m=\u001b[39me)\n\u001b[1;32m     83\u001b[0m     \u001b[39mif\u001b[39;00m tries \u001b[39m>\u001b[39m \u001b[39mself\u001b[39m\u001b[39m.\u001b[39mretries:\n\u001b[0;32m---> 84\u001b[0m         \u001b[39mraise\u001b[39;00m Timeout(error)\n\u001b[1;32m     85\u001b[0m \u001b[39mexcept\u001b[39;00m HTTPError \u001b[39mas\u001b[39;00m e:\n\u001b[1;32m     86\u001b[0m     error \u001b[39m=\u001b[39m get_description(e)\n",
      "\u001b[0;31mTimeout\u001b[0m: Request timed out:\nHTTPSConnectionPool(host='genius.com', port=443): Read timed out. (read timeout=5)"
     ]
    }
   ],
   "source": [
    "# test connection with Colplay as example\n",
    "artist = genius.search_artist(\"Coldplay\", max_songs=2, sort=\"popularity\")\n",
    "print(artist.songs)"
   ]
  },
  {
   "cell_type": "code",
   "execution_count": 19,
   "metadata": {},
   "outputs": [
    {
     "name": "stdout",
     "output_type": "stream",
     "text": [
      "Translationsहिन्दीTürkçeEspañolPortuguêsDeutschFrançaisViva la Vida Lyrics[Verse 1: Chris Martin]\n",
      "I used to rule the world\n",
      "Seas would rise when I gave the word\n",
      "Now in the morning, I sleep alone\n",
      "Sweep the streets I used to own\n",
      "\n",
      "[Interlude]\n",
      "\n",
      "[Verse 2: Chris Martin]\n",
      "I used to roll the dice\n",
      "Feel the fear in my enemies' eyes\n",
      "Listen as the crowd would sing\n",
      "\"Now the old king is dead, long live the king\"\n",
      "One minute, I held the key\n",
      "Next, the walls were closed on me\n",
      "And I discovered that my castles stand\n",
      "Upon pillars of salt and pillars of sand\n",
      "[Chorus: Chris Martin]\n",
      "I hear Jerusalem bells a-ringin'\n",
      "Roman cavalry choirs are singin'\n",
      "Be my mirror, my sword and shield\n",
      "My missionaries in a foreign field\n",
      "For some reason I can't explain\n",
      "Once you'd gone, there was never\n",
      "Never an honest word\n",
      "And that was when I ruled the world\n",
      "\n",
      "[Interlude]\n",
      "\n",
      "[Verse 3: Chris Martin]\n",
      "It was the wicked and wild wind\n",
      "Blew down the doors to let me in\n",
      "Shattered windows and the sound of drums\n",
      "People couldn't believe what I'd become\n",
      "And revolutionaries wait\n",
      "For my head on a silver plate\n",
      "Just a puppet on a lonely string (Mmm, mmm)\n",
      "Aw, who would ever wanna be king?\n",
      "\n",
      "[Chorus: Chris Martin]\n",
      "I hear Jerusalem bells a-ringin'\n",
      "Roman cavalry choirs are singin'\n",
      "Be my mirror, my sword and shield\n",
      "My missionaries in a foreign field\n",
      "For some reason I can't explain\n",
      "I know Saint Peter won't call my name\n",
      "Never an honest word\n",
      "But that was when I ruled the world\n",
      "You might also like[Bridge: Brian Eno, Guy Berryman, Jonny Buckland & Will Champion]\n",
      "Oh-oh-oh, oh-oh, oh\n",
      "Oh-oh-oh, oh-oh, oh\n",
      "Oh-oh-oh, oh-oh, oh\n",
      "Oh-oh-oh, oh-oh, oh\n",
      "\n",
      "[Chorus: Chris Martin, Brian Eno, Guy Berryman, Jonny Buckland & Will Champion]\n",
      "(Oh-oh-oh, oh-oh, oh)\n",
      "Hear Jerusalem bells a-ringin'\n",
      "(Oh-oh-oh, oh-oh, oh)\n",
      "Roman cavalry choirs are singin'\n",
      "(Oh-oh-oh, oh-oh, oh)\n",
      "Be my mirror, my sword and shield\n",
      "(Oh-oh-oh, oh-oh, oh)\n",
      "My missionaries in a foreign field\n",
      "(Oh-oh-oh, oh-oh, oh)\n",
      "For some reason I can't explain\n",
      "(Oh-oh-oh, oh-oh, oh)\n",
      "I know Saint Peter won't call my name\n",
      "Never an honest word\n",
      "But that was when I ruled the world\n",
      "\n",
      "[Outro]\n",
      "Mmm, mmm, mmm, mmm\n",
      "Mmm, mmm, mmm, mmm\n",
      "Mmm, mmm234Embed\n"
     ]
    }
   ],
   "source": [
    "# print lyrics of first song from example\n",
    "print(artist.songs[0].lyrics)"
   ]
  },
  {
   "cell_type": "code",
   "execution_count": 20,
   "metadata": {},
   "outputs": [],
   "source": [
    "# test writing lyrics to file function for example\n",
    "#writeSongToFile(artist)"
   ]
  },
  {
   "cell_type": "code",
   "execution_count": 21,
   "metadata": {},
   "outputs": [],
   "source": [
    "# test moving lyrics files to dataset folder for example\n",
    "#moveLyricsFiles(root, geniusDataset)"
   ]
  },
  {
   "cell_type": "markdown",
   "metadata": {},
   "source": [
    "## Create Artist Lists"
   ]
  },
  {
   "cell_type": "markdown",
   "metadata": {},
   "source": [
    "Ressources:\n",
    "- Top 49 20th Century: https://www.imdb.com/list/ls058480497/\n",
    "- Top 100 AllTime: https://www.imdb.com/list/ls064818015/\n",
    "- Top Rapper: https://www.imdb.com/list/ls054191097/\n",
    "- Spotify Dataset: https://www.kaggle.com/datasets/sashankpillai/spotify-top-200-charts-20202021 **(deprected)**\n",
    "---"
   ]
  },
  {
   "cell_type": "code",
   "execution_count": 15,
   "metadata": {},
   "outputs": [],
   "source": [
    "# load csv to dataframe\n",
    "# df = pd.read_csv(root + 'datasets/spotify_dataset.csv')\n",
    "\n",
    "# list of top musicians from IMDB\n",
    "df_top49 = pd.read_csv(root + 'datasets/Top100GreatestMusicArtistsofAll-TimeIMDB.csv')\n",
    "df_top20s = pd.read_csv(root + 'datasets/Top100GreatestMusiciansSincethe20thCenturyIMDB.csv')\n",
    "df_topRap = pd.read_csv(root + 'datasets/Top100rappersIMDB.csv')\n",
    "\n",
    "# create list of all dataframes\n",
    "df_list = [df_top49, df_top20s, df_topRap]"
   ]
  },
  {
   "cell_type": "code",
   "execution_count": 16,
   "metadata": {},
   "outputs": [
    {
     "name": "stdout",
     "output_type": "stream",
     "text": [
      "49\n",
      "100\n",
      "100\n"
     ]
    },
    {
     "name": "stderr",
     "output_type": "stream",
     "text": [
      "/var/folders/6s/slt28qxd6zg11_5c2pz6clj40000gn/T/ipykernel_73635/3590710727.py:6: FutureWarning: In a future version of pandas all arguments of DataFrame.drop except for the argument 'labels' will be keyword-only.\n",
      "  df.drop(df.columns.difference(['Name']), 1, inplace=True)\n"
     ]
    }
   ],
   "source": [
    "\n",
    "for df in df_list:\n",
    "    # sort all dataframe by Name\n",
    "    df.sort_values(by=['Name'], inplace=True, ascending=True)\n",
    "\n",
    "    # remove all rows except for the Name\n",
    "    df.drop(df.columns.difference(['Name']), 1, inplace=True)\n",
    "\n",
    "    # print len of dataframes\n",
    "    print(len(df))"
   ]
  },
  {
   "cell_type": "code",
   "execution_count": 10,
   "metadata": {},
   "outputs": [
    {
     "data": {
      "text/html": [
       "<div>\n",
       "<style scoped>\n",
       "    .dataframe tbody tr th:only-of-type {\n",
       "        vertical-align: middle;\n",
       "    }\n",
       "\n",
       "    .dataframe tbody tr th {\n",
       "        vertical-align: top;\n",
       "    }\n",
       "\n",
       "    .dataframe thead th {\n",
       "        text-align: right;\n",
       "    }\n",
       "</style>\n",
       "<table border=\"1\" class=\"dataframe\">\n",
       "  <thead>\n",
       "    <tr style=\"text-align: right;\">\n",
       "      <th></th>\n",
       "      <th>Name</th>\n",
       "    </tr>\n",
       "  </thead>\n",
       "  <tbody>\n",
       "    <tr>\n",
       "      <th>62</th>\n",
       "      <td>AC/DC</td>\n",
       "    </tr>\n",
       "    <tr>\n",
       "      <th>54</th>\n",
       "      <td>Aerosmith</td>\n",
       "    </tr>\n",
       "    <tr>\n",
       "      <th>36</th>\n",
       "      <td>Alice Cooper</td>\n",
       "    </tr>\n",
       "    <tr>\n",
       "      <th>97</th>\n",
       "      <td>Amy Winehouse</td>\n",
       "    </tr>\n",
       "    <tr>\n",
       "      <th>79</th>\n",
       "      <td>Anthrax</td>\n",
       "    </tr>\n",
       "  </tbody>\n",
       "</table>\n",
       "</div>"
      ],
      "text/plain": [
       "             Name\n",
       "62          AC/DC\n",
       "54      Aerosmith\n",
       "36   Alice Cooper\n",
       "97  Amy Winehouse\n",
       "79        Anthrax"
      ]
     },
     "execution_count": 10,
     "metadata": {},
     "output_type": "execute_result"
    }
   ],
   "source": [
    "df_top20s.head()"
   ]
  },
  {
   "cell_type": "code",
   "execution_count": 11,
   "metadata": {},
   "outputs": [
    {
     "data": {
      "text/html": [
       "<div>\n",
       "<style scoped>\n",
       "    .dataframe tbody tr th:only-of-type {\n",
       "        vertical-align: middle;\n",
       "    }\n",
       "\n",
       "    .dataframe tbody tr th {\n",
       "        vertical-align: top;\n",
       "    }\n",
       "\n",
       "    .dataframe thead th {\n",
       "        text-align: right;\n",
       "    }\n",
       "</style>\n",
       "<table border=\"1\" class=\"dataframe\">\n",
       "  <thead>\n",
       "    <tr style=\"text-align: right;\">\n",
       "      <th></th>\n",
       "      <th>Name</th>\n",
       "    </tr>\n",
       "  </thead>\n",
       "  <tbody>\n",
       "    <tr>\n",
       "      <th>22</th>\n",
       "      <td>AC/DC</td>\n",
       "    </tr>\n",
       "    <tr>\n",
       "      <th>25</th>\n",
       "      <td>Aretha Franklin</td>\n",
       "    </tr>\n",
       "    <tr>\n",
       "      <th>47</th>\n",
       "      <td>Beyoncé</td>\n",
       "    </tr>\n",
       "    <tr>\n",
       "      <th>6</th>\n",
       "      <td>Bob Dylan</td>\n",
       "    </tr>\n",
       "    <tr>\n",
       "      <th>9</th>\n",
       "      <td>Bob Marley</td>\n",
       "    </tr>\n",
       "  </tbody>\n",
       "</table>\n",
       "</div>"
      ],
      "text/plain": [
       "               Name\n",
       "22            AC/DC\n",
       "25  Aretha Franklin\n",
       "47          Beyoncé\n",
       "6         Bob Dylan\n",
       "9        Bob Marley"
      ]
     },
     "execution_count": 11,
     "metadata": {},
     "output_type": "execute_result"
    }
   ],
   "source": [
    "df_top49.head()"
   ]
  },
  {
   "cell_type": "code",
   "execution_count": 12,
   "metadata": {},
   "outputs": [
    {
     "data": {
      "text/html": [
       "<div>\n",
       "<style scoped>\n",
       "    .dataframe tbody tr th:only-of-type {\n",
       "        vertical-align: middle;\n",
       "    }\n",
       "\n",
       "    .dataframe tbody tr th {\n",
       "        vertical-align: top;\n",
       "    }\n",
       "\n",
       "    .dataframe thead th {\n",
       "        text-align: right;\n",
       "    }\n",
       "</style>\n",
       "<table border=\"1\" class=\"dataframe\">\n",
       "  <thead>\n",
       "    <tr style=\"text-align: right;\">\n",
       "      <th></th>\n",
       "      <th>Name</th>\n",
       "    </tr>\n",
       "  </thead>\n",
       "  <tbody>\n",
       "    <tr>\n",
       "      <th>31</th>\n",
       "      <td>50 Cent</td>\n",
       "    </tr>\n",
       "    <tr>\n",
       "      <th>39</th>\n",
       "      <td>AZ</td>\n",
       "    </tr>\n",
       "    <tr>\n",
       "      <th>10</th>\n",
       "      <td>André 3000</td>\n",
       "    </tr>\n",
       "    <tr>\n",
       "      <th>54</th>\n",
       "      <td>Anthony 'Treach' Criss</td>\n",
       "    </tr>\n",
       "    <tr>\n",
       "      <th>46</th>\n",
       "      <td>Beanie Sigel</td>\n",
       "    </tr>\n",
       "  </tbody>\n",
       "</table>\n",
       "</div>"
      ],
      "text/plain": [
       "                      Name\n",
       "31                 50 Cent\n",
       "39                      AZ\n",
       "10              André 3000\n",
       "54  Anthony 'Treach' Criss\n",
       "46            Beanie Sigel"
      ]
     },
     "execution_count": 12,
     "metadata": {},
     "output_type": "execute_result"
    }
   ],
   "source": [
    "df_topRap.head()"
   ]
  },
  {
   "cell_type": "code",
   "execution_count": 13,
   "metadata": {},
   "outputs": [],
   "source": [
    "#### MERGE TOP 49 AND TOP 20s INTO ONE DATAFRAME topArtists\n",
    "# get all Names from df_top49 and df_top20s in a list\n",
    "names_top49 = df_top49['Name'].tolist()\n",
    "names_top20s = df_top20s['Name'].tolist()\n",
    "\n",
    "# merge both lists\n",
    "topArtistsList = names_top49 + names_top20s\n",
    "topRapper = df_topRap['Name'].tolist()\n",
    "\n",
    "# remove duplicates\n",
    "topArtistsList = list(dict.fromkeys(topArtistsList))\n",
    "\n",
    "# print(topArtistsList)\n",
    "# print(len(topArtistsList))"
   ]
  },
  {
   "cell_type": "code",
   "execution_count": 14,
   "metadata": {},
   "outputs": [
    {
     "name": "stdout",
     "output_type": "stream",
     "text": [
      "93\n"
     ]
    }
   ],
   "source": [
    "\n",
    "#### GENEREATE TOP 100 RAPPER LIST\n",
    "# delete all entries from topRapper that are also in topArtistsList\n",
    "topRapper = [x for x in topRapper if x not in topArtistsList]\n",
    "\n",
    "# sort list\n",
    "topRapper.sort()\n",
    "\n",
    "# generate topRapper list\n",
    "topRapper = list(filter(None, topRapper))\n",
    "\n",
    "# remove whitespaces from start and end of strings\n",
    "topRapper = [x.strip() for x in topRapper]\n",
    "\n",
    "# print(topRapper)\n",
    "print(len(topRapper))"
   ]
  },
  {
   "cell_type": "code",
   "execution_count": 15,
   "metadata": {},
   "outputs": [
    {
     "name": "stdout",
     "output_type": "stream",
     "text": [
      "Total number of Artists is: 201\n"
     ]
    }
   ],
   "source": [
    "# print total number of Artists \n",
    "print('Total number of Artists is:', len(topArtistsList) + len(topRapper))"
   ]
  },
  {
   "cell_type": "markdown",
   "metadata": {},
   "source": [
    "## Generate Dataset"
   ]
  },
  {
   "cell_type": "markdown",
   "metadata": {},
   "source": [
    "using:\n",
    "- top 100 Artists from streaming numbers extracted from:\n",
    "    - https://www.kaggle.com/datasets/sashankpillai/spotify-top-200-charts-20202021\n",
    "- getting 20 songs from every artist\n",
    "    - getting it from genius.com with lyricsgenius\n",
    "        - https://github.com/johnwmillr/LyricsGenius\n",
    "    - sortet after popularity\n",
    "- writing a txt file for every artist and saving it to 'datasets/genius/'\n",
    "---"
   ]
  },
  {
   "cell_type": "code",
   "execution_count": 12,
   "metadata": {},
   "outputs": [],
   "source": [
    "# constants\n",
    "NUM_SONGS = 50\n",
    "LIST_TO_USE = 'Rap' # 'Top' or 'Rap'"
   ]
  },
  {
   "cell_type": "code",
   "execution_count": 18,
   "metadata": {},
   "outputs": [
    {
     "ename": "NameError",
     "evalue": "name 'topArtistsList' is not defined",
     "output_type": "error",
     "traceback": [
      "\u001b[0;31m---------------------------------------------------------------------------\u001b[0m",
      "\u001b[0;31mNameError\u001b[0m                                 Traceback (most recent call last)",
      "Cell \u001b[0;32mIn [18], line 2\u001b[0m\n\u001b[1;32m      1\u001b[0m \u001b[39m# lists to get songs from\u001b[39;00m\n\u001b[0;32m----> 2\u001b[0m \u001b[39mprint\u001b[39m(\u001b[39mlen\u001b[39m(topArtistsList))\n\u001b[1;32m      3\u001b[0m \u001b[39mprint\u001b[39m(\u001b[39mlen\u001b[39m(topRapper))\n",
      "\u001b[0;31mNameError\u001b[0m: name 'topArtistsList' is not defined"
     ]
    }
   ],
   "source": [
    "# lists to get songs from\n",
    "print(len(topArtistsList))\n",
    "print(len(topRapper))"
   ]
  },
  {
   "cell_type": "code",
   "execution_count": 13,
   "metadata": {},
   "outputs": [
    {
     "ename": "NameError",
     "evalue": "name 'topRapper' is not defined",
     "output_type": "error",
     "traceback": [
      "\u001b[0;31m---------------------------------------------------------------------------\u001b[0m",
      "\u001b[0;31mNameError\u001b[0m                                 Traceback (most recent call last)",
      "Cell \u001b[0;32mIn [13], line 5\u001b[0m\n\u001b[1;32m      3\u001b[0m     artistList \u001b[39m=\u001b[39m topArtistsList\n\u001b[1;32m      4\u001b[0m \u001b[39melif\u001b[39;00m LIST_TO_USE \u001b[39m==\u001b[39m \u001b[39m'\u001b[39m\u001b[39mRap\u001b[39m\u001b[39m'\u001b[39m:\n\u001b[0;32m----> 5\u001b[0m     artistList \u001b[39m=\u001b[39m topRapper\n\u001b[1;32m      6\u001b[0m \u001b[39melse\u001b[39;00m:\n\u001b[1;32m      7\u001b[0m     \u001b[39mprint\u001b[39m(\u001b[39m'\u001b[39m\u001b[39mError: LIST_TO_USE not set correctly\u001b[39m\u001b[39m'\u001b[39m)\n",
      "\u001b[0;31mNameError\u001b[0m: name 'topRapper' is not defined"
     ]
    }
   ],
   "source": [
    "# define list to use with genius api\n",
    "if LIST_TO_USE == 'Top':\n",
    "    artistList = topArtistsList\n",
    "elif LIST_TO_USE == 'Rap':\n",
    "    artistList = topRapper\n",
    "else:\n",
    "    print('Error: LIST_TO_USE not set correctly')\n",
    "\n",
    "print('Current list:', LIST_TO_USE, '\\nLen:', len(artistList))\n",
    "\n",
    "\n"
   ]
  },
  {
   "cell_type": "code",
   "execution_count": 3,
   "metadata": {},
   "outputs": [
    {
     "ename": "NameError",
     "evalue": "name 'root' is not defined",
     "output_type": "error",
     "traceback": [
      "\u001b[0;31m---------------------------------------------------------------------------\u001b[0m",
      "\u001b[0;31mNameError\u001b[0m                                 Traceback (most recent call last)",
      "Cell \u001b[0;32mIn [3], line 2\u001b[0m\n\u001b[1;32m      1\u001b[0m \u001b[39m# write top artists to file\u001b[39;00m\n\u001b[0;32m----> 2\u001b[0m \u001b[39mwith\u001b[39;00m \u001b[39mopen\u001b[39m(root \u001b[39m+\u001b[39m \u001b[39m'\u001b[39m\u001b[39mdatasets/topArtists.txt\u001b[39m\u001b[39m'\u001b[39m, \u001b[39m'\u001b[39m\u001b[39mw\u001b[39m\u001b[39m'\u001b[39m) \u001b[39mas\u001b[39;00m f:\n\u001b[1;32m      3\u001b[0m     \u001b[39mfor\u001b[39;00m item \u001b[39min\u001b[39;00m artistList:\n\u001b[1;32m      4\u001b[0m         f\u001b[39m.\u001b[39mwrite(\u001b[39m\"\u001b[39m\u001b[39m%s\u001b[39;00m\u001b[39m\\n\u001b[39;00m\u001b[39m\"\u001b[39m \u001b[39m%\u001b[39m item)\n",
      "\u001b[0;31mNameError\u001b[0m: name 'root' is not defined"
     ]
    }
   ],
   "source": [
    "# write top artists to file\n",
    "with open(root + 'datasets/topArtists.txt', 'w') as f:\n",
    "    for item in artistList:\n",
    "        f.write(\"%s\\n\" % item)\n",
    "\n",
    "# insert new line for every ',' in file topArtists.txt\n",
    "with open(root + 'datasets/topArtists.txt', 'r') as f:\n",
    "    lines = f.readlines()\n",
    "    for i in range(len(lines)):\n",
    "        lines[i] = lines[i].replace(',', '\\n')\n",
    "    with open(root + 'datasets/topArtists.txt', 'w') as f:\n",
    "        f.writelines(lines)\n",
    "f.close()\n",
    "\n"
   ]
  },
  {
   "cell_type": "code",
   "execution_count": 14,
   "metadata": {},
   "outputs": [
    {
     "name": "stdout",
     "output_type": "stream",
     "text": [
      "44\n"
     ]
    }
   ],
   "source": [
    "# read top artists from file\n",
    "with open(root + 'datasets/topArtists.txt', 'r') as f:\n",
    "    artistList = f.read().split('\\n')\n",
    "    \n",
    "# sort list alphabetically\n",
    "artistList.sort()\n",
    "\n",
    "# remove empty strings from list\n",
    "artistList = list(filter(None, artistList))\n",
    "\n",
    "# remove whitespaces from start and end of strings\n",
    "artistList = [x.strip() for x in artistList]\n",
    "\n",
    "# remove duplicates\n",
    "artistList = list(dict.fromkeys(artistList))\n",
    "\n",
    "\n",
    "# print every artist from list \n",
    "#for artist in artistList:\n",
    "#    print(artist)\n",
    "    \n",
    "print(len(artistList))\n",
    "\n"
   ]
  },
  {
   "cell_type": "code",
   "execution_count": 20,
   "metadata": {},
   "outputs": [
    {
     "name": "stdout",
     "output_type": "stream",
     "text": [
      "Lil Wayne\n",
      "Searching for songs by Lil Wayne...\n",
      "\n",
      "Error with: Lil Wayne Got: []\n",
      "Searching for songs by Lil Wayne...\n",
      "\n",
      "Error with: Lil Wayne Got: []\n",
      "Searching for songs by Lil Wayne...\n",
      "\n",
      "Song 1: \"Love Me\"\n",
      "Song 2: \"Mona Lisa\"\n",
      "Song 3: \"Believe Me\"\n",
      "Error with: Lil Wayne Got: []\n",
      "Searching for songs by Lil Wayne...\n",
      "\n",
      "Song 1: \"Love Me\"\n",
      "Song 2: \"Mona Lisa\"\n",
      "Song 3: \"Believe Me\"\n",
      "Song 4: \"6 Foot 7 Foot\"\n",
      "Error with: Lil Wayne Got: []\n",
      "Searching for songs by Lil Wayne...\n",
      "\n",
      "Song 1: \"Love Me\"\n",
      "Song 2: \"Mona Lisa\"\n",
      "Song 3: \"Believe Me\"\n",
      "Song 4: \"6 Foot 7 Foot\"\n",
      "Song 5: \"Mirror\"\n",
      "Error with: Lil Wayne Got: []\n",
      "Searching for songs by Lil Wayne...\n",
      "\n",
      "Song 1: \"Love Me\"\n",
      "Song 2: \"Mona Lisa\"\n",
      "Song 3: \"Believe Me\"\n",
      "Song 4: \"6 Foot 7 Foot\"\n",
      "Error with: Lil Wayne Got: []\n",
      "Searching for songs by Lil Wayne...\n",
      "\n",
      "Song 1: \"Love Me\"\n",
      "Song 2: \"Mona Lisa\"\n",
      "Song 3: \"Believe Me\"\n",
      "Song 4: \"6 Foot 7 Foot\"\n",
      "Song 5: \"Mirror\"\n",
      "Song 6: \"Rich As Fuck\"\n",
      "Error with: Lil Wayne Got: []\n",
      "Searching for songs by Lil Wayne...\n",
      "\n",
      "Song 1: \"Love Me\"\n",
      "Song 2: \"Mona Lisa\"\n",
      "Song 3: \"Believe Me\"\n",
      "Song 4: \"6 Foot 7 Foot\"\n",
      "Song 5: \"Mirror\"\n",
      "Song 6: \"Rich As Fuck\"\n",
      "Song 7: \"A Milli\"\n",
      "Song 8: \"She Will\"\n",
      "Error with: Lil Wayne Got: []\n",
      "Searching for songs by Lil Wayne...\n",
      "\n",
      "Song 1: \"Love Me\"\n",
      "Song 2: \"Mona Lisa\"\n",
      "Song 3: \"Believe Me\"\n",
      "Song 4: \"6 Foot 7 Foot\"\n",
      "Song 5: \"Mirror\"\n",
      "Song 6: \"Rich As Fuck\"\n",
      "Song 7: \"A Milli\"\n",
      "Song 8: \"She Will\"\n",
      "Song 9: \"Don’t Cry\"\n",
      "Song 10: \"Blunt Blowin’\"\n",
      "Song 11: \"Right Above It\"\n",
      "Song 12: \"Uproar\"\n",
      "Song 13: \"No Worries\"\n",
      "Song 14: \"Lollipop (Remix)\"\n",
      "Song 15: \"Drop the World\"\n",
      "Song 16: \"John\"\n",
      "Song 17: \"How to Love\"\n",
      "Song 18: \"Mr. Carter\"\n",
      "Song 19: \"Lollipop\"\n",
      "Song 20: \"Dedicate\"\n",
      "Error with: Lil Wayne Got: []\n",
      "Searching for songs by Lil Wayne...\n",
      "\n",
      "Song 1: \"Love Me\"\n",
      "Song 2: \"Mona Lisa\"\n",
      "Song 3: \"Believe Me\"\n",
      "Song 4: \"6 Foot 7 Foot\"\n",
      "Song 5: \"Mirror\"\n",
      "Song 6: \"Rich As Fuck\"\n",
      "Song 7: \"A Milli\"\n",
      "Song 8: \"She Will\"\n",
      "Song 9: \"Don’t Cry\"\n",
      "Song 10: \"Blunt Blowin’\"\n",
      "Song 11: \"Right Above It\"\n",
      "Song 12: \"Uproar\"\n",
      "Song 13: \"No Worries\"\n",
      "Song 14: \"Lollipop (Remix)\"\n",
      "Song 15: \"Drop the World\"\n",
      "Song 16: \"John\"\n",
      "Song 17: \"How to Love\"\n",
      "Song 18: \"Mr. Carter\"\n",
      "Song 19: \"Lollipop\"\n",
      "Song 20: \"Dedicate\"\n",
      "Song 21: \"God Bless Amerika\"\n",
      "Song 22: \"Let It Fly\"\n",
      "Song 23: \"My Homies Still\"\n",
      "Song 24: \"Can’t Be Broken\"\n",
      "Song 25: \"Glory\"\n",
      "Song 26: \"Grindin’\"\n",
      "Song 27: \"It’s Good\"\n",
      "Song 28: \"How to Hate\"\n",
      "Song 29: \"President Carter\"\n",
      "Song 30: \"I’m Good (Dedication 5)\"\n",
      "Song 31: \"Let It All Work Out\"\n",
      "Song 32: \"Family Feud\"\n",
      "Song 33: \"CoCo\"\n",
      "Song 34: \"I’m Single\"\n",
      "Song 35: \"Pussy Money Weed\"\n",
      "Song 36: \"Wowzers\"\n",
      "Song 37: \"Dark Side of the Moon\"\n",
      "Song 38: \"I Feel Like Dying\"\n",
      "Song 39: \"5 Star\"\n",
      "Song 40: \"Typa Way\"\n",
      "Song 41: \"Mercy\"\n",
      "Song 42: \"Turn On the Lights\"\n",
      "Song 43: \"You Song\"\n",
      "Song 44: \"Mrs. Officer\"\n",
      "Error with: Lil Wayne Got: []\n",
      "Lloyd Banks\n",
      "Searching for songs by Lloyd Banks...\n",
      "\n",
      "Error with: Lloyd Banks Got: []\n",
      "Searching for songs by Lloyd Banks...\n",
      "\n",
      "Song 1: \"Where I’m At\"\n",
      "Song 2: \"Start It Up\"\n",
      "Song 3: \"Karma\"\n",
      "Song 4: \"Beamer, Benz, or Bentley\"\n",
      "Song 5: \"Beamer, Benz, or Bentley Remix\"\n",
      "Song 6: \"I’m So Fly\"\n",
      "Song 7: \"Warrior, Pt. 2\"\n",
      "Song 8: \"Make It Stack\"\n",
      "Song 9: \"Bring It Back\"\n",
      "Song 10: \"I Don’t Deserve You\"\n",
      "Song 11: \"On Fire\"\n",
      "Song 12: \"Hands Up\"\n",
      "Song 13: \"House Pride\"\n",
      "Song 14: \"Til The End\"\n",
      "Song 15: \"Jackpot\"\n",
      "Song 16: \"Failure’s No Option\"\n",
      "Song 17: \"Celebrity (Remix)\"\n",
      "Song 18: \"Keep Up\"\n",
      "Song 19: \"Officer Down\"\n",
      "Song 20: \"Warrior\"\n",
      "Song 21: \"They Love Me In The Hood\"\n",
      "Song 22: \"Keep Your Cool\"\n",
      "Song 23: \"Transition\"\n",
      "Song 24: \"Help\"\n",
      "Song 25: \"Work Magic\"\n",
      "Song 26: \"No Love\"\n",
      "Song 27: \"You Wish\"\n",
      "Song 28: \"Victory\"\n",
      "Song 29: \"Home Sweet Home\"\n",
      "Song 30: \"Tour Stories\"\n",
      "Song 31: \"Ain’t No Click\"\n",
      "Song 32: \"Empathy\"\n",
      "Song 33: \"Porno Star\"\n",
      "Song 34: \"Gettin’ By\"\n",
      "Song 35: \"Hot 97 Freestyle\"\n",
      "Song 36: \"No Surrender\"\n",
      "Song 37: \"Reminder\"\n",
      "Song 38: \"Stranger Things\"\n",
      "Song 39: \"South Side Story\"\n",
      "Song 40: \"Hate You More\"\n",
      "Song 41: \"Pain In Variety\"\n",
      "Song 42: \"Propane\"\n",
      "Song 43: \"Jokes on You\"\n",
      "Song 44: \"Big Bully\"\n",
      "Song 45: \"Cover Me\"\n",
      "Song 46: \"Mind Over Matter\"\n",
      "Song 47: \"Daily Betrayal\"\n",
      "Song 48: \"Reap What You Sow\"\n",
      "Song 49: \"C O T I\"\n",
      "Song 50: \"The Natural\"\n",
      "\n",
      "Reached user-specified song limit (50).\n",
      "Done. Found 50 songs.\n",
      "Wrote Lyrics_Lloyd Banks_Where Im At.txt.\n",
      "Wrote Lyrics_Lloyd Banks_Start It Up.txt.\n",
      "Wrote Lyrics_Lloyd Banks_Karma.txt.\n",
      "Wrote Lyrics_Lloyd Banks_Beamer Benz or Bentley.txt.\n",
      "Wrote Lyrics_Lloyd Banks_Beamer Benz or Bentley Remix.txt.\n",
      "Wrote Lyrics_Lloyd Banks_Im So Fly.txt.\n",
      "Wrote Lyrics_Lloyd Banks_Warrior Pt.2.txt.\n",
      "Wrote Lyrics_Lloyd Banks_Make It Stack.txt.\n",
      "Wrote Lyrics_Lloyd Banks_Bring It Back.txt.\n",
      "Wrote Lyrics_Lloyd Banks_I Dont Deserve You.txt.\n",
      "Wrote Lyrics_Lloyd Banks_On Fire.txt.\n",
      "Wrote Lyrics_Lloyd Banks_Hands Up.txt.\n",
      "Wrote Lyrics_Lloyd Banks_House Pride.txt.\n",
      "Wrote Lyrics_Lloyd Banks_Til The End.txt.\n",
      "Wrote Lyrics_Lloyd Banks_Jackpot.txt.\n",
      "Wrote Lyrics_Lloyd Banks_Failures No Option.txt.\n",
      "Wrote Lyrics_Lloyd Banks_Celebrity Remix.txt.\n",
      "Wrote Lyrics_Lloyd Banks_Keep Up.txt.\n",
      "Wrote Lyrics_Lloyd Banks_Officer Down.txt.\n",
      "Wrote Lyrics_Lloyd Banks_Warrior.txt.\n",
      "Wrote Lyrics_Lloyd Banks_They Love Me In The Hood.txt.\n",
      "Wrote Lyrics_Lloyd Banks_Keep Your Cool.txt.\n",
      "Wrote Lyrics_Lloyd Banks_Transition.txt.\n",
      "Wrote Lyrics_Lloyd Banks_Help.txt.\n",
      "Wrote Lyrics_Lloyd Banks_Work Magic.txt.\n",
      "Wrote Lyrics_Lloyd Banks_No Love.txt.\n",
      "Wrote Lyrics_Lloyd Banks_You Wish.txt.\n",
      "Wrote Lyrics_Lloyd Banks_Victory.txt.\n",
      "Wrote Lyrics_Lloyd Banks_Home Sweet Home.txt.\n",
      "Wrote Lyrics_Lloyd Banks_Tour Stories.txt.\n",
      "Wrote Lyrics_Lloyd Banks_Aint No Click.txt.\n",
      "Wrote Lyrics_Lloyd Banks_Empathy.txt.\n",
      "Wrote Lyrics_Lloyd Banks_Porno Star.txt.\n",
      "Wrote Lyrics_Lloyd Banks_Gettin By.txt.\n",
      "Wrote Lyrics_Lloyd Banks_Hot 97 Freestyle.txt.\n",
      "Wrote Lyrics_Lloyd Banks_No Surrender.txt.\n",
      "Wrote Lyrics_Lloyd Banks_Reminder.txt.\n",
      "Wrote Lyrics_Lloyd Banks_Stranger Things.txt.\n",
      "Wrote Lyrics_Lloyd Banks_South Side Story.txt.\n",
      "Wrote Lyrics_Lloyd Banks_Hate You More.txt.\n",
      "Wrote Lyrics_Lloyd Banks_Pain In Variety.txt.\n",
      "Wrote Lyrics_Lloyd Banks_Propane.txt.\n",
      "Wrote Lyrics_Lloyd Banks_Jokes on You.txt.\n",
      "Wrote Lyrics_Lloyd Banks_Big Bully.txt.\n",
      "Wrote Lyrics_Lloyd Banks_Cover Me.txt.\n",
      "Wrote Lyrics_Lloyd Banks_Mind Over Matter.txt.\n",
      "Wrote Lyrics_Lloyd Banks_Daily Betrayal.txt.\n",
      "Wrote Lyrics_Lloyd Banks_Reap What You Sow.txt.\n",
      "Wrote Lyrics_Lloyd Banks_C O T I.txt.\n",
      "Wrote Lyrics_Lloyd Banks_The Natural.txt.\n",
      "Ludacris\n",
      "Searching for songs by Ludacris...\n",
      "\n",
      "Error with: Ludacris Got: Lloyd Banks, 50 songs\n",
      "Searching for songs by Ludacris...\n",
      "\n",
      "Song 1: \"My Chick Bad\"\n",
      "Song 2: \"Area Codes\"\n",
      "Song 3: \"Party Girls\"\n",
      "Song 4: \"Move Bitch\"\n",
      "Error with: Ludacris Got: Lloyd Banks, 50 songs\n",
      "Searching for songs by Ludacris...\n",
      "\n",
      "Song 1: \"My Chick Bad\"\n",
      "Song 2: \"Area Codes\"\n",
      "Song 3: \"Party Girls\"\n",
      "Song 4: \"Move Bitch\"\n",
      "Song 5: \"Good Lovin\"\n",
      "Song 6: \"What’s Your Fantasy\"\n",
      "Song 7: \"Runaway Love\"\n",
      "Song 8: \"Rest of My Life\"\n",
      "Song 9: \"Southern Hospitality\"\n",
      "Error with: Ludacris Got: Lloyd Banks, 50 songs\n",
      "Searching for songs by Ludacris...\n",
      "\n",
      "Song 1: \"My Chick Bad\"\n",
      "Song 2: \"Area Codes\"\n",
      "Song 3: \"Party Girls\"\n",
      "Song 4: \"Move Bitch\"\n",
      "Song 5: \"Good Lovin\"\n",
      "Song 6: \"What’s Your Fantasy\"\n",
      "Song 7: \"Runaway Love\"\n",
      "Song 8: \"Rest of My Life\"\n",
      "Song 9: \"Southern Hospitality\"\n",
      "Song 10: \"Stand Up\"\n",
      "Song 11: \"Get Back\"\n",
      "Song 12: \"Ho\"\n",
      "Song 13: \"How Low\"\n",
      "Song 14: \"Act A Fool (2 Fast 2 Furious)\"\n",
      "Song 15: \"Rollout (My Business)\"\n",
      "Error with: Ludacris Got: Lloyd Banks, 50 songs\n",
      "Searching for songs by Ludacris...\n",
      "\n",
      "Song 1: \"My Chick Bad\"\n",
      "Song 2: \"Area Codes\"\n",
      "Song 3: \"Party Girls\"\n",
      "Song 4: \"Move Bitch\"\n",
      "Song 5: \"Good Lovin\"\n",
      "Song 6: \"What’s Your Fantasy\"\n",
      "Song 7: \"Runaway Love\"\n",
      "Song 8: \"Rest of My Life\"\n",
      "Song 9: \"Southern Hospitality\"\n",
      "Song 10: \"Stand Up\"\n",
      "Song 11: \"Get Back\"\n",
      "Song 12: \"Ho\"\n",
      "Song 13: \"How Low\"\n",
      "Song 14: \"Act A Fool (2 Fast 2 Furious)\"\n",
      "Song 15: \"Rollout (My Business)\"\n",
      "Song 16: \"Tell Me What They Mad For\"\n",
      "Song 17: \"Representin\"\n",
      "Song 18: \"Pimpin’ All Over the World\"\n",
      "Song 19: \"Vitamin D\"\n",
      "Song 20: \"Sex Room\"\n",
      "Song 21: \"Hip Hop Quotables\"\n",
      "Song 22: \"My Chick Bad (Remix)\"\n",
      "Song 23: \"Growing Pains\"\n",
      "Song 24: \"Say It To My Face\"\n",
      "Song 25: \"Llama Mama\"\n",
      "Song 26: \"Money Maker\"\n",
      "Song 27: \"What’s Your Fantasy (Remix)\"\n",
      "Song 28: \"Mad Fo\"\n",
      "Song 29: \"Number One Spot\"\n",
      "Song 30: \"Beast Mode\"\n",
      "Song 31: \"Last of a Dying Breed\"\n",
      "Song 32: \"Blueberry Yum Yum\"\n",
      "Song 33: \"Badaboom\"\n",
      "Song 34: \"Call Ya Bluff\"\n",
      "Song 35: \"Grew Up A Screw Up\"\n",
      "Song 36: \"Pussy Poppin (P-Poppin)\"\n",
      "Song 37: \"Coming 2 America\"\n",
      "Song 38: \"I Do It for Hip Hop\"\n",
      "Song 39: \"Burning Bridges\"\n",
      "Song 40: \"Ludaversal (Intro)\"\n",
      "Song 41: \"Freaky Thangs\"\n",
      "Song 42: \"Saturday (Oooh! Oooh!)\"\n",
      "Song 43: \"Nasty Girl\"\n",
      "Song 44: \"Georgia\"\n",
      "Song 45: \"Grass Is Always Greener\"\n",
      "Song 46: \"Splash Waterfalls\"\n",
      "Song 47: \"The Potion\"\n",
      "Song 48: \"One More Drink\"\n",
      "Song 49: \"Face The Truth\"\n",
      "Song 50: \"Undisputed\"\n",
      "\n",
      "Reached user-specified song limit (50).\n",
      "Done. Found 50 songs.\n",
      "Wrote Lyrics_Ludacris_My Chick Bad.txt.\n",
      "Wrote Lyrics_Ludacris_Area Codes.txt.\n",
      "Wrote Lyrics_Ludacris_Party Girls.txt.\n",
      "Wrote Lyrics_Ludacris_Move Bitch.txt.\n",
      "Wrote Lyrics_Ludacris_Good Lovin.txt.\n",
      "Wrote Lyrics_Ludacris_Whats Your Fantasy.txt.\n",
      "Wrote Lyrics_Ludacris_Runaway Love.txt.\n",
      "Wrote Lyrics_Ludacris_Rest of My Life.txt.\n",
      "Wrote Lyrics_Ludacris_Southern Hospitality.txt.\n",
      "Wrote Lyrics_Ludacris_Stand Up.txt.\n",
      "Wrote Lyrics_Ludacris_Get Back.txt.\n",
      "Wrote Lyrics_Ludacris_Ho.txt.\n",
      "Wrote Lyrics_Ludacris_How Low.txt.\n",
      "Wrote Lyrics_Ludacris_Act A Fool 2 Fast 2 Furious.txt.\n",
      "Wrote Lyrics_Ludacris_Rollout My Business.txt.\n",
      "Wrote Lyrics_Ludacris_Tell Me What They Mad For.txt.\n",
      "Wrote Lyrics_Ludacris_Representin.txt.\n",
      "Wrote Lyrics_Ludacris_Pimpin All Over the World.txt.\n",
      "Wrote Lyrics_Ludacris_Vitamin D.txt.\n",
      "Wrote Lyrics_Ludacris_Sex Room.txt.\n",
      "Wrote Lyrics_Ludacris_Hip Hop Quotables.txt.\n",
      "Wrote Lyrics_Ludacris_My Chick Bad Remix.txt.\n",
      "Wrote Lyrics_Ludacris_Growing Pains.txt.\n",
      "Wrote Lyrics_Ludacris_Say It To My Face.txt.\n",
      "Wrote Lyrics_Ludacris_Llama Mama.txt.\n",
      "Wrote Lyrics_Ludacris_Money Maker.txt.\n",
      "Wrote Lyrics_Ludacris_Whats Your Fantasy Remix.txt.\n",
      "Wrote Lyrics_Ludacris_Mad Fo.txt.\n",
      "Wrote Lyrics_Ludacris_Number One Spot.txt.\n",
      "Wrote Lyrics_Ludacris_Beast Mode.txt.\n",
      "Wrote Lyrics_Ludacris_Last of a Dying Breed.txt.\n",
      "Wrote Lyrics_Ludacris_Blueberry Yum Yum.txt.\n",
      "Wrote Lyrics_Ludacris_Badaboom.txt.\n",
      "Wrote Lyrics_Ludacris_Call Ya Bluff.txt.\n",
      "Wrote Lyrics_Ludacris_Grew Up A Screw Up.txt.\n",
      "Wrote Lyrics_Ludacris_Pussy Poppin PPoppin.txt.\n",
      "Wrote Lyrics_Ludacris_Coming 2 America.txt.\n",
      "Wrote Lyrics_Ludacris_I Do It for Hip Hop.txt.\n",
      "Wrote Lyrics_Ludacris_Burning Bridges.txt.\n",
      "Wrote Lyrics_Ludacris_Ludaversal Intro.txt.\n",
      "Wrote Lyrics_Ludacris_Freaky Thangs.txt.\n",
      "Wrote Lyrics_Ludacris_Saturday Oooh Oooh.txt.\n",
      "Wrote Lyrics_Ludacris_Nasty Girl.txt.\n",
      "Wrote Lyrics_Ludacris_Georgia.txt.\n",
      "Wrote Lyrics_Ludacris_Grass Is Always Greener.txt.\n",
      "Wrote Lyrics_Ludacris_Splash Waterfalls.txt.\n",
      "Wrote Lyrics_Ludacris_The Potion.txt.\n",
      "Wrote Lyrics_Ludacris_One More Drink.txt.\n",
      "Wrote Lyrics_Ludacris_Face The Truth.txt.\n",
      "Wrote Lyrics_Ludacris_Undisputed.txt.\n",
      "Lupe Fiasco\n",
      "Searching for songs by Lupe Fiasco...\n",
      "\n",
      "Error with: Lupe Fiasco Got: Ludacris, 50 songs\n",
      "Searching for songs by Lupe Fiasco...\n",
      "\n"
     ]
    }
   ],
   "source": [
    "import time\n",
    "# get lyrics for top artists\n",
    "artistFile = []\n",
    "for person in artistList:\n",
    "    print(person)\n",
    "    for i in range(10):\n",
    "        try:\n",
    "            artistFile = genius.search_artist(person, max_songs=NUM_SONGS, sort=\"popularity\")\n",
    "            # artistFile.save_lyrics(extension='txt', verbose=True)\n",
    "            # if songs found, write to file\n",
    "            if artistFile.songs:\n",
    "                writeSongToFile(artistFile)\n",
    "            else:\n",
    "                print('No songs found for ' + person)\n",
    "            break\n",
    "        except:\n",
    "            time.sleep(10)\n",
    "            print('Error with:', person,'Got:', artistFile)"
   ]
  },
  {
   "cell_type": "code",
   "execution_count": 15,
   "metadata": {},
   "outputs": [],
   "source": [
    "# define dataset path depending on list used\n",
    "if LIST_TO_USE == 'Top':\n",
    "    datasetPath = geniusTopIMDB\n",
    "elif LIST_TO_USE == 'Rap':\n",
    "    datasetPath = geniusTopRapIMDB\n",
    "else:\n",
    "    print('Error: LIST_TO_USE not set correctly')\n",
    "\n",
    "# move lyrics files to geniusDataset\n",
    "moveLyricsFiles(root, datasetPath)"
   ]
  },
  {
   "cell_type": "code",
   "execution_count": null,
   "metadata": {},
   "outputs": [
    {
     "name": "stdout",
     "output_type": "stream",
     "text": [
      "GeniusTopRap: 724\n",
      "GeniusTop: 801\n",
      "Genius: 0\n",
      "GeniusClean: 48\n"
     ]
    }
   ],
   "source": [
    "# get number of files in geniusDataset\n",
    "print('GeniusTopRap:', len(os.listdir(geniusTopRapIMDB)))\n",
    "print('GeniusTop:',len(os.listdir(geniusTopIMDB)))\n",
    "\n",
    "print('Genius:', len(os.listdir(geniusDataset)))\n",
    "print('GeniusClean:', len(os.listdir(geniusCleanDataset)))\n",
    "\n"
   ]
  },
  {
   "cell_type": "markdown",
   "metadata": {},
   "source": [
    "## Cleaning Dataset"
   ]
  },
  {
   "cell_type": "markdown",
   "metadata": {},
   "source": [
    "what to delete:\n",
    "- all non englisch artists\n",
    "- `워`\n",
    "- `Translations`... to `\\n`\n",
    "- all non english characters\n",
    "- `()` --> Replace with whitespace\n",
    "- all between `[]`\n",
    "- number+`Embed`... to `\\n`\n",
    "- `like2Embed` to `\\n`"
   ]
  },
  {
   "cell_type": "markdown",
   "metadata": {},
   "source": [
    "--> delete all non english files manual"
   ]
  },
  {
   "cell_type": "code",
   "execution_count": 24,
   "metadata": {},
   "outputs": [],
   "source": [
    "# define dataset paths\n",
    "geniusTopIMDBClean = root + 'datasets/geniusTopIMDBClean/'\n",
    "geniusTopRapIMDBClean = root + 'datasets/geniusTopRapIMDBClean/'\n",
    "geniusCleanDataset = root + 'datasets/geniusClean/'"
   ]
  },
  {
   "cell_type": "code",
   "execution_count": 25,
   "metadata": {},
   "outputs": [],
   "source": [
    "# define function to delete al 워 from a txt file from directory path\n",
    "def cleanFiles(path):\n",
    "    for filename in os.listdir(path):\n",
    "        if filename.endswith('.txt'):\n",
    "            with open(path + filename, 'r') as f:\n",
    "                text = f.read()\n",
    "                # insert new line at end of text\n",
    "                text = text + '\\n'\n",
    "                text = text.replace('워', '')\n",
    "                text = text.replace('(', ' ')\n",
    "                text = text.replace(')', ' ')\n",
    "                # delete all between []\n",
    "                text = re.sub(r'\\[.*?\\]', '', text)\n",
    "                # delete all number + 'Embed' to \\n\n",
    "                text = re.sub(r'\\d*Embed.*?\\n', '', text)\n",
    "                # delete all from 'Translations' to \\n\n",
    "                text = re.sub(r'Translations*?\\n', '', text)\n",
    "                # delete all chinese characters\n",
    "                text = re.sub(r'[\\u4e00-\\u9fff]+', '', text)\n",
    "                # delete all non english characters\n",
    "                text = re.sub(r'[^a-zA-Z0-9\\s]', '', text)\n",
    "                # delete all empty lines except the last in the file\n",
    "                text = re.sub(r'(?m)^\\s*?\\n', '', text)\n",
    "                # delete all whitespace in front of a line\n",
    "                text = re.sub(r'(?m)^\\s+', '', text)\n",
    "\n",
    "                # get songname from filename\n",
    "                try:\n",
    "                    songname = filename.split('_')[2]\n",
    "                except:\n",
    "                    songname = filename\n",
    "\n",
    "\n",
    "                # delete .txt from songname\n",
    "                songname = songname.replace('.txt', '')\n",
    "                \n",
    "                \n",
    "                # delete songtext + Lyrics from textfile\n",
    "                text = text.replace(songname + ' Lyrics', '')\n",
    "\n",
    "            \n",
    "                text = text.replace('You might also likeEmbed', '')\n",
    "                text = text.replace('Embed\\n', '\\n')\n",
    "                text = text.replace('You might also like', '\\n')\n",
    "\n",
    "            with open(path + filename, 'w') as f:\n",
    "                f.write(text)\n",
    "            \n",
    "    print('✅ --> Cleaning', path, 'done!')\n"
   ]
  },
  {
   "cell_type": "code",
   "execution_count": 26,
   "metadata": {},
   "outputs": [
    {
     "name": "stdout",
     "output_type": "stream",
     "text": [
      "✅ --> Cleaning ./datasets/geniusTopIMDBClean/ done!\n",
      "✅ --> Cleaning ./datasets/geniusTopRapIMDBClean/ done!\n",
      "✅ --> Cleaning ./datasets/geniusClean/ done!\n"
     ]
    }
   ],
   "source": [
    "# run function to clean files on clean folders\n",
    "cleanFiles(geniusTopIMDBClean)\n",
    "cleanFiles(geniusTopRapIMDBClean)\n",
    "cleanFiles(geniusCleanDataset)"
   ]
  },
  {
   "cell_type": "markdown",
   "metadata": {},
   "source": [
    "## Explore datasets\n"
   ]
  },
  {
   "cell_type": "markdown",
   "metadata": {},
   "source": [
    "Creating dataframe from folders and exploring them\n",
    "\n",
    "--- "
   ]
  },
  {
   "cell_type": "markdown",
   "metadata": {},
   "source": [
    "### Load datasets from file"
   ]
  },
  {
   "cell_type": "code",
   "execution_count": 27,
   "metadata": {},
   "outputs": [],
   "source": [
    "def createDfFromFiles(path):\n",
    "\n",
    "    # delete '.' from path, if path is relative with '.' in beginning\n",
    "    if path.startswith('./'):\n",
    "        path = path[1:]\n",
    "    \n",
    "\n",
    "    # make the path from current directory and the input path\n",
    "    pathComp = os.getcwd() + path\n",
    "\n",
    "    # create a tuple from files in path dataset with the file name and the file content, with latin-1 encoding\n",
    "    files = [(file, open(pathComp + file, 'r', encoding='latin-1').read()) for file in os.listdir(pathComp)]\n",
    "\n",
    "    # delete all .txt from filename\n",
    "    files = [(file.replace('.txt', ''), content) for file, content in files]\n",
    "\n",
    "    # delete all Lyrics_ from filename\n",
    "    files = [(file.replace('Lyrics_', ''), content) for file, content in files]\n",
    "\n",
    "    # replace all \\n with space\n",
    "    files = [(file, content.replace('\\n', ' ')) for file, content in files]\n",
    "\n",
    "    # replace all double spaces with single space\n",
    "    files = [(file, content.replace('  ', ' ')) for file, content in files]\n",
    "\n",
    "    # delete all spaces at the beginning of the string\n",
    "    files = [(file, content.lstrip()) for file, content in files]\n",
    "\n",
    "    # create a dataframe from the tuple\n",
    "    df = pd.DataFrame(files, columns=['Artist', 'Lyrics'])\n",
    "\n",
    "    # split artist name into artist and song devided by _\n",
    "    df[['Artist', 'Song']] = df.Artist.str.split(\"_\", expand=True)\n",
    "\n",
    "    # rearrange colums to artist, song, lyrics\n",
    "    df = df[['Artist', 'Song', 'Lyrics']]\n",
    "    \n",
    "\n",
    "    print('✅ --> Creating dataframe from', path, 'done!')\n",
    "    return df"
   ]
  },
  {
   "cell_type": "code",
   "execution_count": 28,
   "metadata": {},
   "outputs": [
    {
     "name": "stdout",
     "output_type": "stream",
     "text": [
      "✅ --> Creating dataframe from /datasets/geniusTopIMDBClean/ done!\n"
     ]
    },
    {
     "data": {
      "text/html": [
       "<div>\n",
       "<style scoped>\n",
       "    .dataframe tbody tr th:only-of-type {\n",
       "        vertical-align: middle;\n",
       "    }\n",
       "\n",
       "    .dataframe tbody tr th {\n",
       "        vertical-align: top;\n",
       "    }\n",
       "\n",
       "    .dataframe thead th {\n",
       "        text-align: right;\n",
       "    }\n",
       "</style>\n",
       "<table border=\"1\" class=\"dataframe\">\n",
       "  <thead>\n",
       "    <tr style=\"text-align: right;\">\n",
       "      <th></th>\n",
       "      <th>Artist</th>\n",
       "      <th>Song</th>\n",
       "      <th>Lyrics</th>\n",
       "    </tr>\n",
       "  </thead>\n",
       "  <tbody>\n",
       "    <tr>\n",
       "      <th>0</th>\n",
       "      <td>Eurythmics</td>\n",
       "      <td>Sex Crime 1984</td>\n",
       "      <td>Sex Crime 1984 LyricsSex sex sex Sex sex sex S...</td>\n",
       "    </tr>\n",
       "    <tr>\n",
       "      <th>1</th>\n",
       "      <td>Amy Winehouse</td>\n",
       "      <td>Fuck Me Pumps</td>\n",
       "      <td>Woo When you walk in the bar And youre dressed...</td>\n",
       "    </tr>\n",
       "    <tr>\n",
       "      <th>2</th>\n",
       "      <td>Aerosmith</td>\n",
       "      <td>No More No More</td>\n",
       "      <td>Blood stains the ivories Of my daddys baby gra...</td>\n",
       "    </tr>\n",
       "    <tr>\n",
       "      <th>3</th>\n",
       "      <td>Elvis Costello</td>\n",
       "      <td>Whats So Funny Bout Peace Love and Understanding</td>\n",
       "      <td>Whats So Funny Bout Peace Love and Understandi...</td>\n",
       "    </tr>\n",
       "    <tr>\n",
       "      <th>4</th>\n",
       "      <td>Jimi Hendrix</td>\n",
       "      <td>Machine Gun  Live at Fillmore East 1170 First ...</td>\n",
       "      <td>Machine Gun Live at Fillmore East 1170 Lyrics ...</td>\n",
       "    </tr>\n",
       "  </tbody>\n",
       "</table>\n",
       "</div>"
      ],
      "text/plain": [
       "           Artist                                               Song  \\\n",
       "0      Eurythmics                                     Sex Crime 1984   \n",
       "1   Amy Winehouse                                      Fuck Me Pumps   \n",
       "2       Aerosmith                                    No More No More   \n",
       "3  Elvis Costello   Whats So Funny Bout Peace Love and Understanding   \n",
       "4    Jimi Hendrix  Machine Gun  Live at Fillmore East 1170 First ...   \n",
       "\n",
       "                                              Lyrics  \n",
       "0  Sex Crime 1984 LyricsSex sex sex Sex sex sex S...  \n",
       "1  Woo When you walk in the bar And youre dressed...  \n",
       "2  Blood stains the ivories Of my daddys baby gra...  \n",
       "3  Whats So Funny Bout Peace Love and Understandi...  \n",
       "4  Machine Gun Live at Fillmore East 1170 Lyrics ...  "
      ]
     },
     "execution_count": 28,
     "metadata": {},
     "output_type": "execute_result"
    }
   ],
   "source": [
    "df_top = createDfFromFiles(geniusTopIMDBClean)\n",
    "df_top.head()"
   ]
  },
  {
   "cell_type": "code",
   "execution_count": 29,
   "metadata": {},
   "outputs": [
    {
     "name": "stdout",
     "output_type": "stream",
     "text": [
      "✅ --> Creating dataframe from /datasets/geniusTopRapIMDBClean/ done!\n"
     ]
    },
    {
     "data": {
      "text/html": [
       "<div>\n",
       "<style scoped>\n",
       "    .dataframe tbody tr th:only-of-type {\n",
       "        vertical-align: middle;\n",
       "    }\n",
       "\n",
       "    .dataframe tbody tr th {\n",
       "        vertical-align: top;\n",
       "    }\n",
       "\n",
       "    .dataframe thead th {\n",
       "        text-align: right;\n",
       "    }\n",
       "</style>\n",
       "<table border=\"1\" class=\"dataframe\">\n",
       "  <thead>\n",
       "    <tr style=\"text-align: right;\">\n",
       "      <th></th>\n",
       "      <th>Artist</th>\n",
       "      <th>Song</th>\n",
       "      <th>Lyrics</th>\n",
       "    </tr>\n",
       "  </thead>\n",
       "  <tbody>\n",
       "    <tr>\n",
       "      <th>0</th>\n",
       "      <td>50 Cent</td>\n",
       "      <td>Ill Still Kill</td>\n",
       "      <td>Oh dont even look at me wrong when I come thro...</td>\n",
       "    </tr>\n",
       "    <tr>\n",
       "      <th>1</th>\n",
       "      <td>Iggy Azalea</td>\n",
       "      <td>The Last Song</td>\n",
       "      <td>Can I help you You wanna buy some ignorant art...</td>\n",
       "    </tr>\n",
       "    <tr>\n",
       "      <th>2</th>\n",
       "      <td>Killer Mike</td>\n",
       "      <td>JoJos Chillin</td>\n",
       "      <td>This album was created entirely by Jaime and M...</td>\n",
       "    </tr>\n",
       "    <tr>\n",
       "      <th>3</th>\n",
       "      <td>Busta Rhymes</td>\n",
       "      <td>Holla</td>\n",
       "      <td>Yeah yeah This shit sound like One two oclock ...</td>\n",
       "    </tr>\n",
       "    <tr>\n",
       "      <th>4</th>\n",
       "      <td>Gucci Mane</td>\n",
       "      <td>BiPolar</td>\n",
       "      <td>Ahh ggot it on Smash OG Parker go Bipolar brr ...</td>\n",
       "    </tr>\n",
       "  </tbody>\n",
       "</table>\n",
       "</div>"
      ],
      "text/plain": [
       "         Artist            Song  \\\n",
       "0       50 Cent  Ill Still Kill   \n",
       "1   Iggy Azalea   The Last Song   \n",
       "2   Killer Mike   JoJos Chillin   \n",
       "3  Busta Rhymes           Holla   \n",
       "4    Gucci Mane         BiPolar   \n",
       "\n",
       "                                              Lyrics  \n",
       "0  Oh dont even look at me wrong when I come thro...  \n",
       "1  Can I help you You wanna buy some ignorant art...  \n",
       "2  This album was created entirely by Jaime and M...  \n",
       "3  Yeah yeah This shit sound like One two oclock ...  \n",
       "4  Ahh ggot it on Smash OG Parker go Bipolar brr ...  "
      ]
     },
     "execution_count": 29,
     "metadata": {},
     "output_type": "execute_result"
    }
   ],
   "source": [
    "df_rap = createDfFromFiles(geniusTopRapIMDBClean)\n",
    "df_rap.head()"
   ]
  },
  {
   "cell_type": "markdown",
   "metadata": {},
   "source": [
    "### Describe datasets"
   ]
  },
  {
   "cell_type": "code",
   "execution_count": 30,
   "metadata": {},
   "outputs": [
    {
     "data": {
      "text/html": [
       "<div>\n",
       "<style scoped>\n",
       "    .dataframe tbody tr th:only-of-type {\n",
       "        vertical-align: middle;\n",
       "    }\n",
       "\n",
       "    .dataframe tbody tr th {\n",
       "        vertical-align: top;\n",
       "    }\n",
       "\n",
       "    .dataframe thead th {\n",
       "        text-align: right;\n",
       "    }\n",
       "</style>\n",
       "<table border=\"1\" class=\"dataframe\">\n",
       "  <thead>\n",
       "    <tr style=\"text-align: right;\">\n",
       "      <th></th>\n",
       "      <th>Artist</th>\n",
       "      <th>Song</th>\n",
       "      <th>Lyrics</th>\n",
       "    </tr>\n",
       "  </thead>\n",
       "  <tbody>\n",
       "    <tr>\n",
       "      <th>count</th>\n",
       "      <td>801</td>\n",
       "      <td>801</td>\n",
       "      <td>801</td>\n",
       "    </tr>\n",
       "    <tr>\n",
       "      <th>unique</th>\n",
       "      <td>17</td>\n",
       "      <td>795</td>\n",
       "      <td>798</td>\n",
       "    </tr>\n",
       "    <tr>\n",
       "      <th>top</th>\n",
       "      <td>Eurythmics</td>\n",
       "      <td>Catfish Blues</td>\n",
       "      <td></td>\n",
       "    </tr>\n",
       "    <tr>\n",
       "      <th>freq</th>\n",
       "      <td>50</td>\n",
       "      <td>2</td>\n",
       "      <td>4</td>\n",
       "    </tr>\n",
       "  </tbody>\n",
       "</table>\n",
       "</div>"
      ],
      "text/plain": [
       "            Artist           Song Lyrics\n",
       "count          801            801    801\n",
       "unique          17            795    798\n",
       "top     Eurythmics  Catfish Blues       \n",
       "freq            50              2      4"
      ]
     },
     "execution_count": 30,
     "metadata": {},
     "output_type": "execute_result"
    }
   ],
   "source": [
    "df_top.describe()"
   ]
  },
  {
   "cell_type": "code",
   "execution_count": 31,
   "metadata": {},
   "outputs": [
    {
     "data": {
      "text/html": [
       "<div>\n",
       "<style scoped>\n",
       "    .dataframe tbody tr th:only-of-type {\n",
       "        vertical-align: middle;\n",
       "    }\n",
       "\n",
       "    .dataframe tbody tr th {\n",
       "        vertical-align: top;\n",
       "    }\n",
       "\n",
       "    .dataframe thead th {\n",
       "        text-align: right;\n",
       "    }\n",
       "</style>\n",
       "<table border=\"1\" class=\"dataframe\">\n",
       "  <thead>\n",
       "    <tr style=\"text-align: right;\">\n",
       "      <th></th>\n",
       "      <th>Artist</th>\n",
       "      <th>Song</th>\n",
       "      <th>Lyrics</th>\n",
       "    </tr>\n",
       "  </thead>\n",
       "  <tbody>\n",
       "    <tr>\n",
       "      <th>count</th>\n",
       "      <td>2750</td>\n",
       "      <td>2750</td>\n",
       "      <td>2750</td>\n",
       "    </tr>\n",
       "    <tr>\n",
       "      <th>unique</th>\n",
       "      <td>58</td>\n",
       "      <td>2661</td>\n",
       "      <td>2750</td>\n",
       "    </tr>\n",
       "    <tr>\n",
       "      <th>top</th>\n",
       "      <td>50 Cent</td>\n",
       "      <td>Intro</td>\n",
       "      <td>Oh dont even look at me wrong when I come thro...</td>\n",
       "    </tr>\n",
       "    <tr>\n",
       "      <th>freq</th>\n",
       "      <td>50</td>\n",
       "      <td>8</td>\n",
       "      <td>1</td>\n",
       "    </tr>\n",
       "  </tbody>\n",
       "</table>\n",
       "</div>"
      ],
      "text/plain": [
       "         Artist   Song                                             Lyrics\n",
       "count      2750   2750                                               2750\n",
       "unique       58   2661                                               2750\n",
       "top     50 Cent  Intro  Oh dont even look at me wrong when I come thro...\n",
       "freq         50      8                                                  1"
      ]
     },
     "execution_count": 31,
     "metadata": {},
     "output_type": "execute_result"
    }
   ],
   "source": [
    "df_rap.describe()"
   ]
  },
  {
   "cell_type": "markdown",
   "metadata": {},
   "source": [
    "### Explore datasets"
   ]
  },
  {
   "cell_type": "code",
   "execution_count": 32,
   "metadata": {},
   "outputs": [
    {
     "name": "stdout",
     "output_type": "stream",
     "text": [
      "df_top: False\n",
      "df_rap: False\n"
     ]
    }
   ],
   "source": [
    "# check for empty entries in dataframes\n",
    "print('df_top:', df_top.isnull().values.any())\n",
    "print('df_rap:', df_rap.isnull().values.any())"
   ]
  },
  {
   "cell_type": "code",
   "execution_count": 33,
   "metadata": {},
   "outputs": [
    {
     "name": "stdout",
     "output_type": "stream",
     "text": [
      "df_top: 17\n",
      "df_rap: 58\n",
      "total: 75\n"
     ]
    }
   ],
   "source": [
    "# print number of artists in top and rap\n",
    "print('df_top:', len(df_top['Artist'].unique()))\n",
    "print('df_rap:', len(df_rap['Artist'].unique()))\n",
    "print('total:', len(df_top['Artist'].unique()) + len(df_rap['Artist'].unique()))\n"
   ]
  },
  {
   "cell_type": "code",
   "execution_count": 34,
   "metadata": {},
   "outputs": [
    {
     "data": {
      "image/png": "[encoded data removed]",
      "text/plain": [
       "<Figure size 2000x500 with 2 Axes>"
      ]
     },
     "metadata": {},
     "output_type": "display_data"
    }
   ],
   "source": [
    "# plot number of songs per artists and name where artist has less than 50 songs for df_top and df_rap in a subplot\n",
    "fig, (ax1, ax2) = plt.subplots(1, 2, figsize=(20, 5))\n",
    "df_top.groupby('Artist').count()['Song'].hist(bins=50, ax=ax1)\n",
    "ax1.set_title('Top')\n",
    "ax1.set_xlabel('Number of songs')\n",
    "ax1.set_ylabel('Number of artists')\n",
    "df_rap.groupby('Artist').count()['Song'].hist(bins=50, ax=ax2)\n",
    "ax2.set_title('Rap')\n",
    "ax2.set_xlabel('Number of songs')\n",
    "ax2.set_ylabel('Number of artists')\n",
    "plt.show()"
   ]
  },
  {
   "cell_type": "code",
   "execution_count": 35,
   "metadata": {},
   "outputs": [
    {
     "name": "stdout",
     "output_type": "stream",
     "text": [
      "6\n",
      "ParliamentFunkadelic has 1 songs\n",
      "Chuck D has 25 songs\n",
      "André 3000 has 23 songs\n",
      "Stack Bundles has 24 songs\n",
      "Donald Glover has 22 songs\n",
      "Treach has 6 songs\n"
     ]
    }
   ],
   "source": [
    "# print names of artists with less than 50 songs\n",
    "less50 = []\n",
    "# for each artist in df_top append artist name and number of songs to less50 if number of songs is less than 50\n",
    "for artist in df_top['Artist'].unique():\n",
    "    if len(df_top[df_top['Artist'] == artist]) < 50:\n",
    "        less50.append((artist, len(df_top[df_top['Artist'] == artist])))\n",
    "\n",
    "for artist in df_rap['Artist'].unique():\n",
    "    if len(df_rap[df_rap['Artist'] == artist]) < 50:\n",
    "        less50.append((artist, len(df_rap[df_rap['Artist'] == artist])))\n",
    "\n",
    "print(len(less50))\n",
    "\n",
    "# print less50 artists with number of songs\n",
    "for artist, songs in less50:\n",
    "    print(artist, 'has', songs, 'songs')"
   ]
  },
  {
   "cell_type": "code",
   "execution_count": 36,
   "metadata": {},
   "outputs": [
    {
     "name": "stdout",
     "output_type": "stream",
     "text": [
      "df_top: 16\n",
      "df_rap: 53\n"
     ]
    }
   ],
   "source": [
    "# drop artists from less 50 from df_top and df_rap\n",
    "for artist, songs in less50:\n",
    "    df_top = df_top[df_top['Artist'] != artist]\n",
    "    df_rap = df_rap[df_rap['Artist'] != artist]\n",
    "\n",
    "\n",
    "# print number of artists in top and rap\n",
    "print('df_top:', len(df_top['Artist'].unique()))\n",
    "print('df_rap:', len(df_rap['Artist'].unique()))"
   ]
  },
  {
   "cell_type": "markdown",
   "metadata": {},
   "source": [
    "### Merge datasets"
   ]
  },
  {
   "cell_type": "code",
   "execution_count": 37,
   "metadata": {},
   "outputs": [
    {
     "data": {
      "text/html": [
       "<div>\n",
       "<style scoped>\n",
       "    .dataframe tbody tr th:only-of-type {\n",
       "        vertical-align: middle;\n",
       "    }\n",
       "\n",
       "    .dataframe tbody tr th {\n",
       "        vertical-align: top;\n",
       "    }\n",
       "\n",
       "    .dataframe thead th {\n",
       "        text-align: right;\n",
       "    }\n",
       "</style>\n",
       "<table border=\"1\" class=\"dataframe\">\n",
       "  <thead>\n",
       "    <tr style=\"text-align: right;\">\n",
       "      <th></th>\n",
       "      <th>Artist</th>\n",
       "      <th>Song</th>\n",
       "      <th>Lyrics</th>\n",
       "    </tr>\n",
       "  </thead>\n",
       "  <tbody>\n",
       "    <tr>\n",
       "      <th>0</th>\n",
       "      <td>Eurythmics</td>\n",
       "      <td>Sex Crime 1984</td>\n",
       "      <td>Sex Crime 1984 LyricsSex sex sex Sex sex sex S...</td>\n",
       "    </tr>\n",
       "    <tr>\n",
       "      <th>1</th>\n",
       "      <td>Amy Winehouse</td>\n",
       "      <td>Fuck Me Pumps</td>\n",
       "      <td>Woo When you walk in the bar And youre dressed...</td>\n",
       "    </tr>\n",
       "    <tr>\n",
       "      <th>2</th>\n",
       "      <td>Aerosmith</td>\n",
       "      <td>No More No More</td>\n",
       "      <td>Blood stains the ivories Of my daddys baby gra...</td>\n",
       "    </tr>\n",
       "    <tr>\n",
       "      <th>3</th>\n",
       "      <td>Elvis Costello</td>\n",
       "      <td>Whats So Funny Bout Peace Love and Understanding</td>\n",
       "      <td>Whats So Funny Bout Peace Love and Understandi...</td>\n",
       "    </tr>\n",
       "    <tr>\n",
       "      <th>4</th>\n",
       "      <td>Jimi Hendrix</td>\n",
       "      <td>Machine Gun  Live at Fillmore East 1170 First ...</td>\n",
       "      <td>Machine Gun Live at Fillmore East 1170 Lyrics ...</td>\n",
       "    </tr>\n",
       "  </tbody>\n",
       "</table>\n",
       "</div>"
      ],
      "text/plain": [
       "           Artist                                               Song  \\\n",
       "0      Eurythmics                                     Sex Crime 1984   \n",
       "1   Amy Winehouse                                      Fuck Me Pumps   \n",
       "2       Aerosmith                                    No More No More   \n",
       "3  Elvis Costello   Whats So Funny Bout Peace Love and Understanding   \n",
       "4    Jimi Hendrix  Machine Gun  Live at Fillmore East 1170 First ...   \n",
       "\n",
       "                                              Lyrics  \n",
       "0  Sex Crime 1984 LyricsSex sex sex Sex sex sex S...  \n",
       "1  Woo When you walk in the bar And youre dressed...  \n",
       "2  Blood stains the ivories Of my daddys baby gra...  \n",
       "3  Whats So Funny Bout Peace Love and Understandi...  \n",
       "4  Machine Gun Live at Fillmore East 1170 Lyrics ...  "
      ]
     },
     "execution_count": 37,
     "metadata": {},
     "output_type": "execute_result"
    }
   ],
   "source": [
    "# merge datasets\n",
    "df_songs = pd.concat([df_top, df_rap], ignore_index=True)\n",
    "df_songs.head()"
   ]
  },
  {
   "cell_type": "code",
   "execution_count": 38,
   "metadata": {},
   "outputs": [
    {
     "name": "stdout",
     "output_type": "stream",
     "text": [
      "df_top: False\n",
      "df_rap: False\n"
     ]
    }
   ],
   "source": [
    "# check for empty entries in dataframes\n",
    "print('df_top:', df_top.isnull().values.any())\n",
    "print('df_rap:', df_rap.isnull().values.any())"
   ]
  },
  {
   "cell_type": "markdown",
   "metadata": {},
   "source": [
    "### Drop short songs"
   ]
  },
  {
   "cell_type": "code",
   "execution_count": 39,
   "metadata": {},
   "outputs": [
    {
     "name": "stdout",
     "output_type": "stream",
     "text": [
      "min: 0\n",
      "max: 9802\n"
     ]
    }
   ],
   "source": [
    "# print min and max of words per song\n",
    "print('min:', df_songs['Lyrics'].str.split().str.len().min())\n",
    "print('max:', df_songs['Lyrics'].str.split().str.len().max())"
   ]
  },
  {
   "cell_type": "code",
   "execution_count": 40,
   "metadata": {},
   "outputs": [
    {
     "name": "stdout",
     "output_type": "stream",
     "text": [
      "artist: Eurythmics song: Ministry of Love is empty!\n",
      "artist: Kraftwerk song: Dentaku is empty!\n",
      "artist: Slayer song: Delusions of Saviour is empty!\n",
      "artist: Jimi Hendrix song: Jungle is empty!\n"
     ]
    }
   ],
   "source": [
    "# print artist and song name where lyrics are empty\n",
    "for index, row in df_songs.iterrows():\n",
    "    if row['Lyrics'] == '':\n",
    "        print('artist:', row['Artist'],'song:', row['Song'], 'is empty!')\n",
    "\n",
    "        # drop artist and song from df_songs\n",
    "        df_songs = df_songs.drop(index)\n",
    "\n",
    "        "
   ]
  },
  {
   "cell_type": "code",
   "execution_count": 42,
   "metadata": {},
   "outputs": [
    {
     "data": {
      "text/html": [
       "<div>\n",
       "<style scoped>\n",
       "    .dataframe tbody tr th:only-of-type {\n",
       "        vertical-align: middle;\n",
       "    }\n",
       "\n",
       "    .dataframe tbody tr th {\n",
       "        vertical-align: top;\n",
       "    }\n",
       "\n",
       "    .dataframe thead th {\n",
       "        text-align: right;\n",
       "    }\n",
       "</style>\n",
       "<table border=\"1\" class=\"dataframe\">\n",
       "  <thead>\n",
       "    <tr style=\"text-align: right;\">\n",
       "      <th></th>\n",
       "      <th>Artist</th>\n",
       "      <th>Song</th>\n",
       "      <th>Lyrics</th>\n",
       "      <th>LyricsWordCount</th>\n",
       "    </tr>\n",
       "  </thead>\n",
       "  <tbody>\n",
       "    <tr>\n",
       "      <th>2058</th>\n",
       "      <td>Big Pun</td>\n",
       "      <td>Intermission Capital Punishment</td>\n",
       "      <td>Intermission Capital Punishment Lyrics</td>\n",
       "      <td>4</td>\n",
       "    </tr>\n",
       "    <tr>\n",
       "      <th>688</th>\n",
       "      <td>Kraftwerk</td>\n",
       "      <td>Metropolis</td>\n",
       "      <td>Metropolis Metropolis Metropolis Metropolis Me...</td>\n",
       "      <td>6</td>\n",
       "    </tr>\n",
       "    <tr>\n",
       "      <th>93</th>\n",
       "      <td>Kraftwerk</td>\n",
       "      <td>Spacelab</td>\n",
       "      <td>Spacelab Spacelab Spacelab Spacelab Spacelab S...</td>\n",
       "      <td>6</td>\n",
       "    </tr>\n",
       "    <tr>\n",
       "      <th>805</th>\n",
       "      <td>Gift of Gab</td>\n",
       "      <td>Intro Finding Inspiration Somehow</td>\n",
       "      <td>Intro Finding Inspiration Somehow LyricsFindin...</td>\n",
       "      <td>7</td>\n",
       "    </tr>\n",
       "    <tr>\n",
       "      <th>660</th>\n",
       "      <td>Kraftwerk</td>\n",
       "      <td>Its More Fun to Compute</td>\n",
       "      <td>Its more fun to compute Its more fun to compute</td>\n",
       "      <td>10</td>\n",
       "    </tr>\n",
       "  </tbody>\n",
       "</table>\n",
       "</div>"
      ],
      "text/plain": [
       "           Artist                               Song  \\\n",
       "2058      Big Pun    Intermission Capital Punishment   \n",
       "688     Kraftwerk                         Metropolis   \n",
       "93      Kraftwerk                           Spacelab   \n",
       "805   Gift of Gab  Intro Finding Inspiration Somehow   \n",
       "660     Kraftwerk            Its More Fun to Compute   \n",
       "\n",
       "                                                 Lyrics  LyricsWordCount  \n",
       "2058            Intermission Capital Punishment Lyrics                 4  \n",
       "688   Metropolis Metropolis Metropolis Metropolis Me...                6  \n",
       "93    Spacelab Spacelab Spacelab Spacelab Spacelab S...                6  \n",
       "805   Intro Finding Inspiration Somehow LyricsFindin...                7  \n",
       "660    Its more fun to compute Its more fun to compute                10  "
      ]
     },
     "execution_count": 42,
     "metadata": {},
     "output_type": "execute_result"
    }
   ],
   "source": [
    "# append lyrics word count to df_songs\n",
    "df_songs['LyricsWordCount'] = df_songs['Lyrics'].str.split().str.len()\n",
    "\n",
    "# sort df_songs by lyrics word count\n",
    "df_songs = df_songs.sort_values(by=['LyricsWordCount'], ascending=True)\n",
    "\n",
    "df_songs.head()"
   ]
  },
  {
   "cell_type": "code",
   "execution_count": 43,
   "metadata": {},
   "outputs": [
    {
     "data": {
      "image/png": "[encoded data removed]",
      "text/plain": [
       "<Figure size 640x480 with 1 Axes>"
      ]
     },
     "metadata": {},
     "output_type": "display_data"
    }
   ],
   "source": [
    "# plot histogram of lyrics word count\n",
    "df_songs['LyricsWordCount'].hist(bins=100)\n",
    "plt.title('Lyrics word count')\n",
    "plt.xlabel('Number of words')\n",
    "plt.ylabel('Number of songs')\n",
    "plt.show()\n"
   ]
  },
  {
   "cell_type": "code",
   "execution_count": 44,
   "metadata": {},
   "outputs": [
    {
     "name": "stdout",
     "output_type": "stream",
     "text": [
      "Big Pun Intermission Capital Punishment\n",
      "Kraftwerk Metropolis\n",
      "Kraftwerk Spacelab\n",
      "Gift of Gab Intro Finding Inspiration Somehow\n",
      "Kraftwerk Its More Fun to Compute\n",
      "Kraftwerk Radioactivity Japanese Version  Houshanou\n",
      "Eurythmics Monkey Monkey\n",
      "Kraftwerk Neon Lights\n",
      "Kraftwerk Boing Boom Tschak\n",
      "Kraftwerk Computer World 2\n",
      "Kraftwerk The ManMachine\n",
      "Jimi Hendrix Drifting\n",
      "Kraftwerk Electric Café\n",
      "Kraftwerk Neonlicht\n",
      "Kraftwerk Home Computer\n",
      "B.B. King Nobody Loves Me But My Mother\n",
      "Hank Williams Ill Fly Away\n",
      "Kraftwerk Vitamin\n",
      "Lauryn Hill Intro\n",
      "The Velvet Underground European Son\n",
      "Kraftwerk Musik Non Stop\n",
      "Black Thought Experience Interlude\n",
      "B.B. King Guess Who\n",
      "Kraftwerk Airwaves\n",
      "IceT Warning\n",
      "Kraftwerk Die Roboter\n",
      "Alice Cooper The Awakening\n",
      "Jimi Hendrix Voodoo Chile Blues\n",
      "Jimi Hendrix Little Wing Concerts\n",
      "Sam Cooke Tennessee Waltz\n",
      "Kraftwerk Die MenschMaschine\n",
      "Sam Cooke Summertime\n",
      "Kraftwerk Numbers\n",
      "Kraftwerk Radioaktivität\n",
      "Kraftwerk TransEuropa Express\n",
      "Kraftwerk Abzug\n",
      "Alice Cooper Years Ago\n",
      "Kraftwerk TransEurope Express\n",
      "Kraftwerk Computerliebe\n",
      "Slayer Raining Blood\n",
      "Kraftwerk Tour de France Étape 1\n",
      "Kraftwerk Europe Endless\n",
      "The Velvet Underground Jesus\n",
      "The Velvet Underground Ride Into the Sun Session Outtake\n",
      "The Velvet Underground Thats the Story of My Life\n",
      "Kraftwerk Pocket Calculator\n",
      "Kraftwerk Computer World\n",
      "Amy Winehouse There Is No Greater Love\n",
      "Eurythmics Jennifer\n",
      "Jimi Hendrix Star Spangled Banner live\n",
      "Big Pun Intro\n",
      "Jimi Hendrix Send My Love to Linda\n",
      "Kraftwerk Radioactivity The Mix Version\n",
      "B.B. King Darlin You Know I Love You\n",
      "Kraftwerk Radioland\n",
      "Jimi Hendrix Lover Man\n",
      "Kraftwerk Computerwelt\n",
      "Kraftwerk Taschenrechner\n",
      "The Velvet Underground Sad Song\n",
      "EazyE Exxtra Special Thankz\n",
      "Kraftwerk Europa Endlos\n",
      "The Velvet Underground Over You 1969 The Velvet Underground Live\n",
      "Gift of Gab Introlude\n",
      "B.B. King Rock Me Baby\n",
      "Kraftwerk Das Modell\n",
      "Slayer Epidemic\n",
      "Kool G Rap Intro\n",
      "Jimi Hendrix May This Be Love aka. Waterfall\n",
      "Sam Cooke Im in the Mood for Love\n",
      "Hank Williams Im So Lonesome I Could Cry\n",
      "The Kinks Sitting by the Riverside\n",
      "B.B. King Stand By Me\n"
     ]
    }
   ],
   "source": [
    "# show artists of songs with less than 100 words\n",
    "for index, row in df_songs.iterrows():\n",
    "    if row['LyricsWordCount'] < 100:\n",
    "        print(row['Artist'], row['Song'])\n",
    "        "
   ]
  },
  {
   "cell_type": "code",
   "execution_count": 45,
   "metadata": {},
   "outputs": [
    {
     "name": "stderr",
     "output_type": "stream",
     "text": [
      "/var/folders/6s/slt28qxd6zg11_5c2pz6clj40000gn/T/ipykernel_74690/2150824440.py:2: FutureWarning: The default value of numeric_only in DataFrameGroupBy.mean is deprecated. In a future version, numeric_only will default to False. Either specify numeric_only or select only columns which should be valid for the function.\n",
      "  df_songs.groupby('Artist').mean()['LyricsWordCount'].sort_values(ascending=True).plot(kind='barh', figsize=(20, 20))\n"
     ]
    },
    {
     "data": {
      "image/png": "[encoded data removed]",
      "text/plain": [
       "<Figure size 2000x2000 with 1 Axes>"
      ]
     },
     "metadata": {},
     "output_type": "display_data"
    }
   ],
   "source": [
    "# plot lyrics word count per artist\n",
    "df_songs.groupby('Artist').mean()['LyricsWordCount'].sort_values(ascending=True).plot(kind='barh', figsize=(20, 20))\n",
    "plt.title('Lyrics word count per artist')\n",
    "plt.xlabel('Number of words')\n",
    "plt.ylabel('Artist')\n",
    "plt.show()"
   ]
  },
  {
   "cell_type": "code",
   "execution_count": 46,
   "metadata": {},
   "outputs": [
    {
     "data": {
      "text/html": [
       "<div>\n",
       "<style scoped>\n",
       "    .dataframe tbody tr th:only-of-type {\n",
       "        vertical-align: middle;\n",
       "    }\n",
       "\n",
       "    .dataframe tbody tr th {\n",
       "        vertical-align: top;\n",
       "    }\n",
       "\n",
       "    .dataframe thead th {\n",
       "        text-align: right;\n",
       "    }\n",
       "</style>\n",
       "<table border=\"1\" class=\"dataframe\">\n",
       "  <thead>\n",
       "    <tr style=\"text-align: right;\">\n",
       "      <th></th>\n",
       "      <th>Artist</th>\n",
       "      <th>Song</th>\n",
       "      <th>Lyrics</th>\n",
       "      <th>LyricsWordCount</th>\n",
       "    </tr>\n",
       "  </thead>\n",
       "  <tbody>\n",
       "    <tr>\n",
       "      <th>67</th>\n",
       "      <td>Kraftwerk</td>\n",
       "      <td>Europe Endless</td>\n",
       "      <td>Europe endless Endless endless endless endless...</td>\n",
       "      <td>80</td>\n",
       "    </tr>\n",
       "    <tr>\n",
       "      <th>779</th>\n",
       "      <td>The Velvet Underground</td>\n",
       "      <td>Jesus</td>\n",
       "      <td>Jesus help me find my proper place Jesus help ...</td>\n",
       "      <td>81</td>\n",
       "    </tr>\n",
       "    <tr>\n",
       "      <th>724</th>\n",
       "      <td>The Velvet Underground</td>\n",
       "      <td>Ride Into the Sun Session Outtake</td>\n",
       "      <td>Ride Into the Sun Session Outtake Lyrics Looki...</td>\n",
       "      <td>81</td>\n",
       "    </tr>\n",
       "    <tr>\n",
       "      <th>635</th>\n",
       "      <td>The Velvet Underground</td>\n",
       "      <td>Thats the Story of My Life</td>\n",
       "      <td>Thats the story of my life Thats the differenc...</td>\n",
       "      <td>82</td>\n",
       "    </tr>\n",
       "    <tr>\n",
       "      <th>757</th>\n",
       "      <td>Kraftwerk</td>\n",
       "      <td>Pocket Calculator</td>\n",
       "      <td>Im the operator With my pocket calculator Im t...</td>\n",
       "      <td>82</td>\n",
       "    </tr>\n",
       "  </tbody>\n",
       "</table>\n",
       "</div>"
      ],
      "text/plain": [
       "                     Artist                               Song  \\\n",
       "67                Kraftwerk                     Europe Endless   \n",
       "779  The Velvet Underground                              Jesus   \n",
       "724  The Velvet Underground  Ride Into the Sun Session Outtake   \n",
       "635  The Velvet Underground         Thats the Story of My Life   \n",
       "757               Kraftwerk                  Pocket Calculator   \n",
       "\n",
       "                                                Lyrics  LyricsWordCount  \n",
       "67   Europe endless Endless endless endless endless...               80  \n",
       "779  Jesus help me find my proper place Jesus help ...               81  \n",
       "724  Ride Into the Sun Session Outtake Lyrics Looki...               81  \n",
       "635  Thats the story of my life Thats the differenc...               82  \n",
       "757  Im the operator With my pocket calculator Im t...               82  "
      ]
     },
     "execution_count": 46,
     "metadata": {},
     "output_type": "execute_result"
    }
   ],
   "source": [
    "# drop all songs with less than 80 words\n",
    "df_songs = df_songs[df_songs['LyricsWordCount'] >= 80]\n",
    "\n",
    "df_songs.head()"
   ]
  },
  {
   "cell_type": "code",
   "execution_count": 48,
   "metadata": {},
   "outputs": [
    {
     "data": {
      "text/plain": [
       "Artist\n",
       "Kraftwerk       26\n",
       "Jimi Hendrix    46\n",
       "Eurythmics      48\n",
       "Alice Cooper    48\n",
       "Slayer          48\n",
       "                ..\n",
       "Ice Cube        50\n",
       "Too hort        50\n",
       "Iggy Azalea     50\n",
       "DMX             50\n",
       "Twista          50\n",
       "Name: Lyrics, Length: 69, dtype: int64"
      ]
     },
     "execution_count": 48,
     "metadata": {},
     "output_type": "execute_result"
    }
   ],
   "source": [
    "# print number of lyrics per artist\n",
    "df_songs.groupby('Artist').count()['Lyrics'].sort_values(ascending=True)"
   ]
  },
  {
   "cell_type": "code",
   "execution_count": 49,
   "metadata": {},
   "outputs": [],
   "source": [
    "# drop artists with less than 30 songs\n",
    "for artist in df_songs['Artist'].unique():\n",
    "    if len(df_songs[df_songs['Artist'] == artist]) < 30:\n",
    "        df_songs = df_songs[df_songs['Artist'] != artist]"
   ]
  },
  {
   "cell_type": "code",
   "execution_count": 50,
   "metadata": {},
   "outputs": [
    {
     "data": {
      "text/html": [
       "<div>\n",
       "<style scoped>\n",
       "    .dataframe tbody tr th:only-of-type {\n",
       "        vertical-align: middle;\n",
       "    }\n",
       "\n",
       "    .dataframe tbody tr th {\n",
       "        vertical-align: top;\n",
       "    }\n",
       "\n",
       "    .dataframe thead th {\n",
       "        text-align: right;\n",
       "    }\n",
       "</style>\n",
       "<table border=\"1\" class=\"dataframe\">\n",
       "  <thead>\n",
       "    <tr style=\"text-align: right;\">\n",
       "      <th></th>\n",
       "      <th>Artist</th>\n",
       "      <th>Song</th>\n",
       "      <th>Lyrics</th>\n",
       "      <th>LyricsWordCount</th>\n",
       "    </tr>\n",
       "  </thead>\n",
       "  <tbody>\n",
       "    <tr>\n",
       "      <th>779</th>\n",
       "      <td>The Velvet Underground</td>\n",
       "      <td>Jesus</td>\n",
       "      <td>Jesus help me find my proper place Jesus help ...</td>\n",
       "      <td>81</td>\n",
       "    </tr>\n",
       "    <tr>\n",
       "      <th>724</th>\n",
       "      <td>The Velvet Underground</td>\n",
       "      <td>Ride Into the Sun Session Outtake</td>\n",
       "      <td>Ride Into the Sun Session Outtake Lyrics Looki...</td>\n",
       "      <td>81</td>\n",
       "    </tr>\n",
       "    <tr>\n",
       "      <th>635</th>\n",
       "      <td>The Velvet Underground</td>\n",
       "      <td>Thats the Story of My Life</td>\n",
       "      <td>Thats the story of my life Thats the differenc...</td>\n",
       "      <td>82</td>\n",
       "    </tr>\n",
       "    <tr>\n",
       "      <th>799</th>\n",
       "      <td>Amy Winehouse</td>\n",
       "      <td>There Is No Greater Love</td>\n",
       "      <td>There Is No Greater Love Lyrics There is no gr...</td>\n",
       "      <td>85</td>\n",
       "    </tr>\n",
       "    <tr>\n",
       "      <th>414</th>\n",
       "      <td>Eurythmics</td>\n",
       "      <td>Jennifer</td>\n",
       "      <td>Jennifer with your orange hair Jennifer with y...</td>\n",
       "      <td>85</td>\n",
       "    </tr>\n",
       "  </tbody>\n",
       "</table>\n",
       "</div>"
      ],
      "text/plain": [
       "                     Artist                               Song  \\\n",
       "779  The Velvet Underground                              Jesus   \n",
       "724  The Velvet Underground  Ride Into the Sun Session Outtake   \n",
       "635  The Velvet Underground         Thats the Story of My Life   \n",
       "799           Amy Winehouse           There Is No Greater Love   \n",
       "414              Eurythmics                           Jennifer   \n",
       "\n",
       "                                                Lyrics  LyricsWordCount  \n",
       "779  Jesus help me find my proper place Jesus help ...               81  \n",
       "724  Ride Into the Sun Session Outtake Lyrics Looki...               81  \n",
       "635  Thats the story of my life Thats the differenc...               82  \n",
       "799  There Is No Greater Love Lyrics There is no gr...               85  \n",
       "414  Jennifer with your orange hair Jennifer with y...               85  "
      ]
     },
     "execution_count": 50,
     "metadata": {},
     "output_type": "execute_result"
    }
   ],
   "source": [
    "df_songs.head()"
   ]
  },
  {
   "cell_type": "code",
   "execution_count": 51,
   "metadata": {},
   "outputs": [
    {
     "data": {
      "text/html": [
       "<div>\n",
       "<style scoped>\n",
       "    .dataframe tbody tr th:only-of-type {\n",
       "        vertical-align: middle;\n",
       "    }\n",
       "\n",
       "    .dataframe tbody tr th {\n",
       "        vertical-align: top;\n",
       "    }\n",
       "\n",
       "    .dataframe thead th {\n",
       "        text-align: right;\n",
       "    }\n",
       "</style>\n",
       "<table border=\"1\" class=\"dataframe\">\n",
       "  <thead>\n",
       "    <tr style=\"text-align: right;\">\n",
       "      <th></th>\n",
       "      <th>Artist</th>\n",
       "      <th>Song</th>\n",
       "      <th>Lyrics</th>\n",
       "      <th>LyricsWordCount</th>\n",
       "    </tr>\n",
       "  </thead>\n",
       "  <tbody>\n",
       "    <tr>\n",
       "      <th>1658</th>\n",
       "      <td>Canibus</td>\n",
       "      <td>Poet Laureate Infinity</td>\n",
       "      <td>I got bored with 4 beats to the measure Profes...</td>\n",
       "      <td>9802</td>\n",
       "    </tr>\n",
       "  </tbody>\n",
       "</table>\n",
       "</div>"
      ],
      "text/plain": [
       "       Artist                    Song  \\\n",
       "1658  Canibus  Poet Laureate Infinity   \n",
       "\n",
       "                                                 Lyrics  LyricsWordCount  \n",
       "1658  I got bored with 4 beats to the measure Profes...             9802  "
      ]
     },
     "execution_count": 51,
     "metadata": {},
     "output_type": "execute_result"
    }
   ],
   "source": [
    "# print df-entry of longest song\n",
    "df_songs[df_songs['LyricsWordCount'] == df_songs['LyricsWordCount'].max()]"
   ]
  },
  {
   "cell_type": "code",
   "execution_count": 52,
   "metadata": {},
   "outputs": [
    {
     "data": {
      "text/html": [
       "<div>\n",
       "<style scoped>\n",
       "    .dataframe tbody tr th:only-of-type {\n",
       "        vertical-align: middle;\n",
       "    }\n",
       "\n",
       "    .dataframe tbody tr th {\n",
       "        vertical-align: top;\n",
       "    }\n",
       "\n",
       "    .dataframe thead th {\n",
       "        text-align: right;\n",
       "    }\n",
       "</style>\n",
       "<table border=\"1\" class=\"dataframe\">\n",
       "  <thead>\n",
       "    <tr style=\"text-align: right;\">\n",
       "      <th></th>\n",
       "      <th>Artist</th>\n",
       "      <th>Song</th>\n",
       "      <th>Lyrics</th>\n",
       "      <th>LyricsWordCount</th>\n",
       "    </tr>\n",
       "  </thead>\n",
       "  <tbody>\n",
       "    <tr>\n",
       "      <th>779</th>\n",
       "      <td>The Velvet Underground</td>\n",
       "      <td>Jesus</td>\n",
       "      <td>Jesus help me find my proper place Jesus help ...</td>\n",
       "      <td>81</td>\n",
       "    </tr>\n",
       "    <tr>\n",
       "      <th>724</th>\n",
       "      <td>The Velvet Underground</td>\n",
       "      <td>Ride Into the Sun Session Outtake</td>\n",
       "      <td>Ride Into the Sun Session Outtake Lyrics Looki...</td>\n",
       "      <td>81</td>\n",
       "    </tr>\n",
       "  </tbody>\n",
       "</table>\n",
       "</div>"
      ],
      "text/plain": [
       "                     Artist                               Song  \\\n",
       "779  The Velvet Underground                              Jesus   \n",
       "724  The Velvet Underground  Ride Into the Sun Session Outtake   \n",
       "\n",
       "                                                Lyrics  LyricsWordCount  \n",
       "779  Jesus help me find my proper place Jesus help ...               81  \n",
       "724  Ride Into the Sun Session Outtake Lyrics Looki...               81  "
      ]
     },
     "execution_count": 52,
     "metadata": {},
     "output_type": "execute_result"
    }
   ],
   "source": [
    "# print df-entry of shortest song\n",
    "df_songs[df_songs['LyricsWordCount'] == df_songs['LyricsWordCount'].min()]"
   ]
  },
  {
   "cell_type": "markdown",
   "metadata": {},
   "source": [
    "### Most used words"
   ]
  },
  {
   "cell_type": "code",
   "execution_count": 92,
   "metadata": {},
   "outputs": [],
   "source": [
    "# get n most used words in lyrics from df\n",
    "def getMostUsedWords(df, n):\n",
    "    # get all words from lyrics\n",
    "    words = ' '.join(df['Lyrics']).split()\n",
    "\n",
    "    # create a dictionary with the words as keys and the number of times it appears as value\n",
    "    wordsDict = {word: words.count(word) for word in words}\n",
    "\n",
    "    # sort the dictionary by the values\n",
    "    wordsDict = {k: v for k, v in sorted(wordsDict.items(), key=lambda item: item[1], reverse=True)}\n",
    "\n",
    "    # get the first n words from the dictionary\n",
    "    words = list(wordsDict.keys())[:n]\n",
    "\n",
    "    # get the first n values from the dictionary\n",
    "    values = list(wordsDict.values())[:n]\n",
    "\n",
    "    # return the words and values\n",
    "    return words, values"
   ]
  },
  {
   "cell_type": "code",
   "execution_count": 93,
   "metadata": {},
   "outputs": [],
   "source": [
    "# mostUsed = getMostUsedWords(df_songs, 10)"
   ]
  },
  {
   "cell_type": "markdown",
   "metadata": {},
   "source": [
    "---\n",
    "\n",
    "## Export as csv"
   ]
  },
  {
   "cell_type": "code",
   "execution_count": 53,
   "metadata": {},
   "outputs": [],
   "source": [
    "exportPath = './datasets/df_songs.csv'"
   ]
  },
  {
   "cell_type": "code",
   "execution_count": 54,
   "metadata": {},
   "outputs": [],
   "source": [
    "# export dataframe to csv to path\n",
    "df_songs.to_csv(exportPath, index=False)"
   ]
  },
  {
   "cell_type": "code",
   "execution_count": null,
   "metadata": {},
   "outputs": [],
   "source": []
  }
 ],
 "metadata": {
  "kernelspec": {
   "display_name": "Python 3.9.13 ('Ki-Lab3.9')",
   "language": "python",
   "name": "python3"
  },
  "language_info": {
   "codemirror_mode": {
    "name": "ipython",
    "version": 3
   },
   "file_extension": ".py",
   "mimetype": "text/x-python",
   "name": "python",
   "nbconvert_exporter": "python",
   "pygments_lexer": "ipython3",
   "version": "3.9.13"
  },
  "orig_nbformat": 4,
  "vscode": {
   "interpreter": {
    "hash": "401949f8f22344ab70dfcd116b53776ca8bac82eaa601e9464a5719ba1fa738c"
   }
  }
 },
 "nbformat": 4,
 "nbformat_minor": 2
}
