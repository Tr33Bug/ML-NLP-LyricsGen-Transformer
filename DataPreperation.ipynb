{
 "cells": [
  {
   "cell_type": "code",
   "execution_count": 89,
   "metadata": {},
   "outputs": [
    {
     "name": "stdout",
     "output_type": "stream",
     "text": [
      "Requirement already satisfied: lyricsgenius in /Users/tree/miniconda3/envs/Ki-Lab3.9/lib/python3.9/site-packages (3.0.1)\n",
      "Requirement already satisfied: requests>=2.20.0 in /Users/tree/miniconda3/envs/Ki-Lab3.9/lib/python3.9/site-packages (from lyricsgenius) (2.28.1)\n",
      "Requirement already satisfied: beautifulsoup4>=4.6.0 in /Users/tree/miniconda3/envs/Ki-Lab3.9/lib/python3.9/site-packages (from lyricsgenius) (4.11.1)\n",
      "Requirement already satisfied: soupsieve>1.2 in /Users/tree/miniconda3/envs/Ki-Lab3.9/lib/python3.9/site-packages (from beautifulsoup4>=4.6.0->lyricsgenius) (2.3.2.post1)\n",
      "Requirement already satisfied: certifi>=2017.4.17 in /Users/tree/miniconda3/envs/Ki-Lab3.9/lib/python3.9/site-packages (from requests>=2.20.0->lyricsgenius) (2022.9.24)\n",
      "Requirement already satisfied: idna<4,>=2.5 in /Users/tree/miniconda3/envs/Ki-Lab3.9/lib/python3.9/site-packages (from requests>=2.20.0->lyricsgenius) (3.4)\n",
      "Requirement already satisfied: urllib3<1.27,>=1.21.1 in /Users/tree/miniconda3/envs/Ki-Lab3.9/lib/python3.9/site-packages (from requests>=2.20.0->lyricsgenius) (1.26.13)\n",
      "Requirement already satisfied: charset-normalizer<3,>=2 in /Users/tree/miniconda3/envs/Ki-Lab3.9/lib/python3.9/site-packages (from requests>=2.20.0->lyricsgenius) (2.1.1)\n",
      "Requirement already satisfied: pandas in /Users/tree/miniconda3/envs/Ki-Lab3.9/lib/python3.9/site-packages (1.5.2)\n",
      "Requirement already satisfied: pytz>=2020.1 in /Users/tree/miniconda3/envs/Ki-Lab3.9/lib/python3.9/site-packages (from pandas) (2022.6)\n",
      "Requirement already satisfied: python-dateutil>=2.8.1 in /Users/tree/miniconda3/envs/Ki-Lab3.9/lib/python3.9/site-packages (from pandas) (2.8.2)\n",
      "Requirement already satisfied: numpy>=1.20.3 in /Users/tree/miniconda3/envs/Ki-Lab3.9/lib/python3.9/site-packages (from pandas) (1.23.5)\n",
      "Requirement already satisfied: six>=1.5 in /Users/tree/miniconda3/envs/Ki-Lab3.9/lib/python3.9/site-packages (from python-dateutil>=2.8.1->pandas) (1.16.0)\n",
      "Requirement already satisfied: regex in /Users/tree/miniconda3/envs/Ki-Lab3.9/lib/python3.9/site-packages (2022.10.31)\n",
      "Collecting matplotlib\n",
      "  Downloading matplotlib-3.6.2-cp39-cp39-macosx_11_0_arm64.whl (7.2 MB)\n",
      "\u001b[2K     \u001b[90m━━━━━━━━━━━━━━━━━━━━━━━━━━━━━━━━━━━━━━━━\u001b[0m \u001b[32m7.2/7.2 MB\u001b[0m \u001b[31m1.5 MB/s\u001b[0m eta \u001b[36m0:00:00\u001b[0m00:01\u001b[0m00:01\u001b[0m\n",
      "\u001b[?25hCollecting fonttools>=4.22.0\n",
      "  Downloading fonttools-4.38.0-py3-none-any.whl (965 kB)\n",
      "\u001b[2K     \u001b[90m━━━━━━━━━━━━━━━━━━━━━━━━━━━━━━━━━━━━━━━\u001b[0m \u001b[32m965.4/965.4 kB\u001b[0m \u001b[31m2.1 MB/s\u001b[0m eta \u001b[36m0:00:00\u001b[0ma \u001b[36m0:00:01\u001b[0m\n",
      "\u001b[?25hCollecting pillow>=6.2.0\n",
      "  Downloading Pillow-9.3.0-cp39-cp39-macosx_11_0_arm64.whl (2.9 MB)\n",
      "\u001b[2K     \u001b[90m━━━━━━━━━━━━━━━━━━━━━━━━━━━━━━━━━━━━━━━━\u001b[0m \u001b[32m2.9/2.9 MB\u001b[0m \u001b[31m2.4 MB/s\u001b[0m eta \u001b[36m0:00:00\u001b[0m00:01\u001b[0m00:01\u001b[0m\n",
      "\u001b[?25hCollecting cycler>=0.10\n",
      "  Using cached cycler-0.11.0-py3-none-any.whl (6.4 kB)\n",
      "Requirement already satisfied: packaging>=20.0 in /Users/tree/miniconda3/envs/Ki-Lab3.9/lib/python3.9/site-packages (from matplotlib) (21.3)\n",
      "Collecting kiwisolver>=1.0.1\n",
      "  Downloading kiwisolver-1.4.4-cp39-cp39-macosx_11_0_arm64.whl (63 kB)\n",
      "\u001b[2K     \u001b[90m━━━━━━━━━━━━━━━━━━━━━━━━━━━━━━━━━━━━━━━━\u001b[0m \u001b[32m63.2/63.2 kB\u001b[0m \u001b[31m2.6 MB/s\u001b[0m eta \u001b[36m0:00:00\u001b[0m\n",
      "\u001b[?25hRequirement already satisfied: pyparsing>=2.2.1 in /Users/tree/miniconda3/envs/Ki-Lab3.9/lib/python3.9/site-packages (from matplotlib) (3.0.9)\n",
      "Collecting contourpy>=1.0.1\n",
      "  Downloading contourpy-1.0.6-cp39-cp39-macosx_11_0_arm64.whl (226 kB)\n",
      "\u001b[2K     \u001b[90m━━━━━━━━━━━━━━━━━━━━━━━━━━━━━━━━━━━━━━━\u001b[0m \u001b[32m226.0/226.0 kB\u001b[0m \u001b[31m4.6 MB/s\u001b[0m eta \u001b[36m0:00:00\u001b[0ma \u001b[36m0:00:01\u001b[0m\n",
      "\u001b[?25hRequirement already satisfied: numpy>=1.19 in /Users/tree/miniconda3/envs/Ki-Lab3.9/lib/python3.9/site-packages (from matplotlib) (1.23.5)\n",
      "Requirement already satisfied: python-dateutil>=2.7 in /Users/tree/miniconda3/envs/Ki-Lab3.9/lib/python3.9/site-packages (from matplotlib) (2.8.2)\n",
      "Requirement already satisfied: six>=1.5 in /Users/tree/miniconda3/envs/Ki-Lab3.9/lib/python3.9/site-packages (from python-dateutil>=2.7->matplotlib) (1.16.0)\n",
      "Installing collected packages: pillow, kiwisolver, fonttools, cycler, contourpy, matplotlib\n",
      "Successfully installed contourpy-1.0.6 cycler-0.11.0 fonttools-4.38.0 kiwisolver-1.4.4 matplotlib-3.6.2 pillow-9.3.0\n"
     ]
    }
   ],
   "source": [
    "# installation: \n",
    "! pip install lyricsgenius\n",
    "! pip install pandas\n",
    "! pip install regex\n",
    "! pip install matplotlib"
   ]
  },
  {
   "cell_type": "code",
   "execution_count": 90,
   "metadata": {},
   "outputs": [],
   "source": [
    "import pandas as pd\n",
    "import numpy as np\n",
    "import os\n",
    "import matplotlib.pyplot as plt\n",
    "from keras.preprocessing.text import Tokenizer"
   ]
  },
  {
   "cell_type": "code",
   "execution_count": 72,
   "metadata": {},
   "outputs": [],
   "source": [
    "# file paths\n",
    "root = '/'\n",
    "kaggleDataset = root + 'datasets/kaggleData/'\n",
    "geniusDataset = root + 'datasets/geniusCopy/'\n"
   ]
  },
  {
   "cell_type": "code",
   "execution_count": 76,
   "metadata": {},
   "outputs": [],
   "source": [
    "# make a function out of the above code with the file path as input\n",
    "def createDfFromFiles(path):\n",
    "    # make the path from current directory and the input path\n",
    "    pathComp = os.getcwd() + path\n",
    "\n",
    "    # create a tuple from files in kaggle dataset with the file name and the file content, with latin-1 encoding\n",
    "    files = [(file, open(pathComp + file, 'r', encoding='latin-1').read()) for file in os.listdir(pathComp)]\n",
    "\n",
    "    # delete all .txt from filename\n",
    "    files = [(file.replace('.txt', ''), content) for file, content in files]\n",
    "\n",
    "    # delete all Lyrics_ from filename\n",
    "    files = [(file.replace('Lyrics_', ''), content) for file, content in files]\n",
    "\n",
    "    # replace all \\n with space\n",
    "    files = [(file, content.replace('\\n', ' ')) for file, content in files]\n",
    "\n",
    "    # replace all double spaces with single space\n",
    "    files = [(file, content.replace('  ', ' ')) for file, content in files]\n",
    "\n",
    "    # delete all spaces at the beginning of the string\n",
    "    files = [(file, content.lstrip()) for file, content in files]\n",
    "\n",
    "    # create a dataframe from the tuple\n",
    "    df = pd.DataFrame(files, columns=['artist', 'lyrics'])\n",
    "\n",
    "    return df\n",
    "\n",
    "kaggle_df = createDfFromFiles(kaggleDataset)\n",
    "genius_df = createDfFromFiles(geniusDataset)"
   ]
  },
  {
   "cell_type": "code",
   "execution_count": 82,
   "metadata": {},
   "outputs": [],
   "source": [
    "# add number of words to the dataframe\n",
    "kaggle_df['num_words'] = kaggle_df['lyrics'].apply(lambda x: len(x.split()))\n",
    "genius_df['num_words'] = genius_df['lyrics'].apply(lambda x: len(x.split()))"
   ]
  },
  {
   "cell_type": "code",
   "execution_count": 83,
   "metadata": {},
   "outputs": [
    {
     "name": "stdout",
     "output_type": "stream",
     "text": [
      "(50, 3)\n"
     ]
    },
    {
     "data": {
      "text/html": [
       "<div>\n",
       "<style scoped>\n",
       "    .dataframe tbody tr th:only-of-type {\n",
       "        vertical-align: middle;\n",
       "    }\n",
       "\n",
       "    .dataframe tbody tr th {\n",
       "        vertical-align: top;\n",
       "    }\n",
       "\n",
       "    .dataframe thead th {\n",
       "        text-align: right;\n",
       "    }\n",
       "</style>\n",
       "<table border=\"1\" class=\"dataframe\">\n",
       "  <thead>\n",
       "    <tr style=\"text-align: right;\">\n",
       "      <th></th>\n",
       "      <th>artist</th>\n",
       "      <th>lyrics</th>\n",
       "      <th>num_words</th>\n",
       "    </tr>\n",
       "  </thead>\n",
       "  <tbody>\n",
       "    <tr>\n",
       "      <th>0</th>\n",
       "      <td>prince</td>\n",
       "      <td>All of this and more is for you With love, sin...</td>\n",
       "      <td>62774</td>\n",
       "    </tr>\n",
       "    <tr>\n",
       "      <th>1</th>\n",
       "      <td>dickinson</td>\n",
       "      <td>I. LIFE.   I. SUCCESS. [Published in \"A Masque...</td>\n",
       "      <td>29948</td>\n",
       "    </tr>\n",
       "    <tr>\n",
       "      <th>2</th>\n",
       "      <td>notorious-big</td>\n",
       "      <td>ï»¿baby It was all a dream I used to read Word...</td>\n",
       "      <td>46234</td>\n",
       "    </tr>\n",
       "    <tr>\n",
       "      <th>3</th>\n",
       "      <td>beatles</td>\n",
       "      <td>Yesterday, all my troubles seemed so far away ...</td>\n",
       "      <td>14340</td>\n",
       "    </tr>\n",
       "    <tr>\n",
       "      <th>4</th>\n",
       "      <td>bob-dylan</td>\n",
       "      <td>âThere must be some way out of here,â said...</td>\n",
       "      <td>38203</td>\n",
       "    </tr>\n",
       "  </tbody>\n",
       "</table>\n",
       "</div>"
      ],
      "text/plain": [
       "          artist                                             lyrics  num_words\n",
       "0         prince  All of this and more is for you With love, sin...      62774\n",
       "1      dickinson  I. LIFE.   I. SUCCESS. [Published in \"A Masque...      29948\n",
       "2  notorious-big  ï»¿baby It was all a dream I used to read Word...      46234\n",
       "3        beatles  Yesterday, all my troubles seemed so far away ...      14340\n",
       "4      bob-dylan  âThere must be some way out of here,â said...      38203"
      ]
     },
     "execution_count": 83,
     "metadata": {},
     "output_type": "execute_result"
    }
   ],
   "source": [
    "print(kaggle_df.shape)\n",
    "kaggle_df.head()\n"
   ]
  },
  {
   "cell_type": "code",
   "execution_count": 84,
   "metadata": {},
   "outputs": [
    {
     "name": "stdout",
     "output_type": "stream",
     "text": [
      "(48, 3)\n"
     ]
    },
    {
     "data": {
      "text/html": [
       "<div>\n",
       "<style scoped>\n",
       "    .dataframe tbody tr th:only-of-type {\n",
       "        vertical-align: middle;\n",
       "    }\n",
       "\n",
       "    .dataframe tbody tr th {\n",
       "        vertical-align: top;\n",
       "    }\n",
       "\n",
       "    .dataframe thead th {\n",
       "        text-align: right;\n",
       "    }\n",
       "</style>\n",
       "<table border=\"1\" class=\"dataframe\">\n",
       "  <thead>\n",
       "    <tr style=\"text-align: right;\">\n",
       "      <th></th>\n",
       "      <th>artist</th>\n",
       "      <th>lyrics</th>\n",
       "      <th>num_words</th>\n",
       "    </tr>\n",
       "  </thead>\n",
       "  <tbody>\n",
       "    <tr>\n",
       "      <th>0</th>\n",
       "      <td>Juanfran</td>\n",
       "      <td>Como Llora Lyrics  La Movie baby  La vi cuando...</td>\n",
       "      <td>3504</td>\n",
       "    </tr>\n",
       "    <tr>\n",
       "      <th>1</th>\n",
       "      <td>JoséFeliciano</td>\n",
       "      <td>Feliz Navidad Lyrics  Feliz Navidad Feliz Navi...</td>\n",
       "      <td>3524</td>\n",
       "    </tr>\n",
       "    <tr>\n",
       "      <th>2</th>\n",
       "      <td>JBalvinMaríaBecerra</td>\n",
       "      <td>TranslationsDeutschQu Ms Pues Lyrics  Qu ms pu...</td>\n",
       "      <td>496</td>\n",
       "    </tr>\n",
       "    <tr>\n",
       "      <th>3</th>\n",
       "      <td>PASHANIM</td>\n",
       "      <td>Shababs botten Lyrics  Ey KKKingsnake Ey Pasha...</td>\n",
       "      <td>5719</td>\n",
       "    </tr>\n",
       "    <tr>\n",
       "      <th>4</th>\n",
       "      <td>TINIMaríaBecerra</td>\n",
       "      <td>Minteme Lyrics  Ay me ests grabando ya s Te de...</td>\n",
       "      <td>772</td>\n",
       "    </tr>\n",
       "  </tbody>\n",
       "</table>\n",
       "</div>"
      ],
      "text/plain": [
       "                artist                                             lyrics  \\\n",
       "0             Juanfran  Como Llora Lyrics  La Movie baby  La vi cuando...   \n",
       "1        JoséFeliciano  Feliz Navidad Lyrics  Feliz Navidad Feliz Navi...   \n",
       "2  JBalvinMaríaBecerra  TranslationsDeutschQu Ms Pues Lyrics  Qu ms pu...   \n",
       "3             PASHANIM  Shababs botten Lyrics  Ey KKKingsnake Ey Pasha...   \n",
       "4     TINIMaríaBecerra  Minteme Lyrics  Ay me ests grabando ya s Te de...   \n",
       "\n",
       "   num_words  \n",
       "0       3504  \n",
       "1       3524  \n",
       "2        496  \n",
       "3       5719  \n",
       "4        772  "
      ]
     },
     "execution_count": 84,
     "metadata": {},
     "output_type": "execute_result"
    }
   ],
   "source": [
    "print(genius_df.shape)\n",
    "genius_df.head()"
   ]
  },
  {
   "cell_type": "code",
   "execution_count": 87,
   "metadata": {},
   "outputs": [
    {
     "data": {
      "text/plain": [
       "count       50.000000\n",
       "mean     26954.440000\n",
       "std      14842.299298\n",
       "min         21.000000\n",
       "25%      16234.250000\n",
       "50%      22446.000000\n",
       "75%      37431.750000\n",
       "max      64483.000000\n",
       "Name: num_words, dtype: float64"
      ]
     },
     "execution_count": 87,
     "metadata": {},
     "output_type": "execute_result"
    }
   ],
   "source": [
    "kaggle_df['num_words'].describe()"
   ]
  },
  {
   "cell_type": "code",
   "execution_count": 93,
   "metadata": {},
   "outputs": [
    {
     "data": {
      "image/png": "[encoded data removed]",
      "text/plain": [
       "<Figure size 1500x500 with 2 Axes>"
      ]
     },
     "metadata": {},
     "output_type": "display_data"
    }
   ],
   "source": [
    "# plot frequency distribution of number of words for genius_df and kaggle_df dataset in seperate plots\n",
    "fig, ax = plt.subplots(1, 2, figsize=(15, 5))\n",
    "ax[0].hist(kaggle_df['num_words'], bins=100)\n",
    "ax[0].set_title('Kaggle Dataset')\n",
    "ax[1].hist(genius_df['num_words'], bins=100)\n",
    "ax[1].set_title('Genius Dataset')\n",
    "plt.show()\n"
   ]
  },
  {
   "cell_type": "code",
   "execution_count": 95,
   "metadata": {},
   "outputs": [],
   "source": [
    "# get 10 most used words in lyrics from df\n",
    "def getMostUsedWords(df, n):\n",
    "    # get all words from lyrics\n",
    "    words = ' '.join(df['lyrics']).split()\n",
    "\n",
    "    # create a dictionary with the words as keys and the number of times it appears as value\n",
    "    wordsDict = {word: words.count(word) for word in words}\n",
    "\n",
    "    # sort the dictionary by the values\n",
    "    wordsDict = {k: v for k, v in sorted(wordsDict.items(), key=lambda item: item[1], reverse=True)}\n",
    "\n",
    "    # get the first n words from the dictionary\n",
    "    words = list(wordsDict.keys())[:n]\n",
    "\n",
    "    # get the first n values from the dictionary\n",
    "    values = list(wordsDict.values())[:n]\n",
    "\n",
    "    # return the words and values\n",
    "    return words, values\n",
    "\n",
    "\n"
   ]
  },
  {
   "cell_type": "code",
   "execution_count": 96,
   "metadata": {},
   "outputs": [],
   "source": [
    "kaggle_mostUsedWords = getMostUsedWords(kaggle_df, 30)\n",
    "genius_mostUsedWords = getMostUsedWords(genius_df, 30)\n",
    "\n",
    "print(kaggle_mostUsedWords)\n",
    "print(genius_mostUsedWords)"
   ]
  },
  {
   "cell_type": "markdown",
   "metadata": {},
   "source": [
    "## Tokenization"
   ]
  },
  {
   "cell_type": "code",
   "execution_count": null,
   "metadata": {},
   "outputs": [],
   "source": []
  }
 ],
 "metadata": {
  "kernelspec": {
   "display_name": "Python 3.9.13 ('Ki-Lab3.9')",
   "language": "python",
   "name": "python3"
  },
  "language_info": {
   "codemirror_mode": {
    "name": "ipython",
    "version": 3
   },
   "file_extension": ".py",
   "mimetype": "text/x-python",
   "name": "python",
   "nbconvert_exporter": "python",
   "pygments_lexer": "ipython3",
   "version": "3.9.13"
  },
  "orig_nbformat": 4,
  "vscode": {
   "interpreter": {
    "hash": "401949f8f22344ab70dfcd116b53776ca8bac82eaa601e9464a5719ba1fa738c"
   }
  }
 },
 "nbformat": 4,
 "nbformat_minor": 2
}
