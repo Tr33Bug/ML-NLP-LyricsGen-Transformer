{
 "cells": [
  {
   "cell_type": "code",
   "execution_count": 1,
   "metadata": {},
   "outputs": [
    {
     "name": "stdout",
     "output_type": "stream",
     "text": [
      "Requirement already satisfied: lyricsgenius in c:\\users\\kreat\\miniconda3\\envs\\tf-gpu\\lib\\site-packages (3.0.1)\n",
      "Requirement already satisfied: requests>=2.20.0 in c:\\users\\kreat\\miniconda3\\envs\\tf-gpu\\lib\\site-packages (from lyricsgenius) (2.28.1)\n",
      "Requirement already satisfied: beautifulsoup4>=4.6.0 in c:\\users\\kreat\\miniconda3\\envs\\tf-gpu\\lib\\site-packages (from lyricsgenius) (4.11.1)\n",
      "Requirement already satisfied: soupsieve>1.2 in c:\\users\\kreat\\miniconda3\\envs\\tf-gpu\\lib\\site-packages (from beautifulsoup4>=4.6.0->lyricsgenius) (2.3.2.post1)\n",
      "Requirement already satisfied: urllib3<1.27,>=1.21.1 in c:\\users\\kreat\\miniconda3\\envs\\tf-gpu\\lib\\site-packages (from requests>=2.20.0->lyricsgenius) (1.26.12)\n",
      "Requirement already satisfied: idna<4,>=2.5 in c:\\users\\kreat\\miniconda3\\envs\\tf-gpu\\lib\\site-packages (from requests>=2.20.0->lyricsgenius) (3.4)\n",
      "Requirement already satisfied: certifi>=2017.4.17 in c:\\users\\kreat\\miniconda3\\envs\\tf-gpu\\lib\\site-packages (from requests>=2.20.0->lyricsgenius) (2022.9.24)\n",
      "Requirement already satisfied: charset-normalizer<3,>=2 in c:\\users\\kreat\\miniconda3\\envs\\tf-gpu\\lib\\site-packages (from requests>=2.20.0->lyricsgenius) (2.1.1)\n",
      "Requirement already satisfied: pandas in c:\\users\\kreat\\miniconda3\\envs\\tf-gpu\\lib\\site-packages (1.5.1)\n",
      "Requirement already satisfied: python-dateutil>=2.8.1 in c:\\users\\kreat\\miniconda3\\envs\\tf-gpu\\lib\\site-packages (from pandas) (2.8.2)\n",
      "Requirement already satisfied: pytz>=2020.1 in c:\\users\\kreat\\miniconda3\\envs\\tf-gpu\\lib\\site-packages (from pandas) (2022.6)\n",
      "Requirement already satisfied: numpy>=1.20.3 in c:\\users\\kreat\\miniconda3\\envs\\tf-gpu\\lib\\site-packages (from pandas) (1.23.4)\n",
      "Requirement already satisfied: six>=1.5 in c:\\users\\kreat\\miniconda3\\envs\\tf-gpu\\lib\\site-packages (from python-dateutil>=2.8.1->pandas) (1.16.0)\n",
      "Requirement already satisfied: regex in c:\\users\\kreat\\miniconda3\\envs\\tf-gpu\\lib\\site-packages (2022.10.31)\n",
      "Requirement already satisfied: matplotlib in c:\\users\\kreat\\miniconda3\\envs\\tf-gpu\\lib\\site-packages (3.6.1)\n",
      "Requirement already satisfied: kiwisolver>=1.0.1 in c:\\users\\kreat\\miniconda3\\envs\\tf-gpu\\lib\\site-packages (from matplotlib) (1.4.4)\n",
      "Requirement already satisfied: cycler>=0.10 in c:\\users\\kreat\\miniconda3\\envs\\tf-gpu\\lib\\site-packages (from matplotlib) (0.11.0)\n",
      "Requirement already satisfied: pillow>=6.2.0 in c:\\users\\kreat\\miniconda3\\envs\\tf-gpu\\lib\\site-packages (from matplotlib) (9.3.0)\n",
      "Requirement already satisfied: contourpy>=1.0.1 in c:\\users\\kreat\\miniconda3\\envs\\tf-gpu\\lib\\site-packages (from matplotlib) (1.0.6)\n",
      "Requirement already satisfied: numpy>=1.19 in c:\\users\\kreat\\miniconda3\\envs\\tf-gpu\\lib\\site-packages (from matplotlib) (1.23.4)\n",
      "Requirement already satisfied: fonttools>=4.22.0 in c:\\users\\kreat\\miniconda3\\envs\\tf-gpu\\lib\\site-packages (from matplotlib) (4.38.0)\n",
      "Requirement already satisfied: packaging>=20.0 in c:\\users\\kreat\\miniconda3\\envs\\tf-gpu\\lib\\site-packages (from matplotlib) (21.3)\n",
      "Requirement already satisfied: pyparsing>=2.2.1 in c:\\users\\kreat\\miniconda3\\envs\\tf-gpu\\lib\\site-packages (from matplotlib) (3.0.9)\n",
      "Requirement already satisfied: python-dateutil>=2.7 in c:\\users\\kreat\\miniconda3\\envs\\tf-gpu\\lib\\site-packages (from matplotlib) (2.8.2)\n",
      "Requirement already satisfied: six>=1.5 in c:\\users\\kreat\\miniconda3\\envs\\tf-gpu\\lib\\site-packages (from python-dateutil>=2.7->matplotlib) (1.16.0)\n",
      "Requirement already satisfied: tensorflow in c:\\users\\kreat\\miniconda3\\envs\\tf-gpu\\lib\\site-packages (2.9.1)\n",
      "Requirement already satisfied: keras-preprocessing>=1.1.1 in c:\\users\\kreat\\miniconda3\\envs\\tf-gpu\\lib\\site-packages (from tensorflow) (1.1.2)\n",
      "Requirement already satisfied: grpcio<2.0,>=1.24.3 in c:\\users\\kreat\\miniconda3\\envs\\tf-gpu\\lib\\site-packages (from tensorflow) (1.50.0)\n",
      "Requirement already satisfied: tensorflow-io-gcs-filesystem>=0.23.1 in c:\\users\\kreat\\miniconda3\\envs\\tf-gpu\\lib\\site-packages (from tensorflow) (0.27.0)\n",
      "Requirement already satisfied: six>=1.12.0 in c:\\users\\kreat\\miniconda3\\envs\\tf-gpu\\lib\\site-packages (from tensorflow) (1.16.0)\n",
      "Requirement already satisfied: numpy>=1.20 in c:\\users\\kreat\\miniconda3\\envs\\tf-gpu\\lib\\site-packages (from tensorflow) (1.23.4)\n",
      "Requirement already satisfied: flatbuffers<2,>=1.12 in c:\\users\\kreat\\miniconda3\\envs\\tf-gpu\\lib\\site-packages (from tensorflow) (1.12)\n",
      "Requirement already satisfied: protobuf<3.20,>=3.9.2 in c:\\users\\kreat\\miniconda3\\envs\\tf-gpu\\lib\\site-packages (from tensorflow) (3.19.6)\n",
      "Requirement already satisfied: h5py>=2.9.0 in c:\\users\\kreat\\miniconda3\\envs\\tf-gpu\\lib\\site-packages (from tensorflow) (3.7.0)\n",
      "Requirement already satisfied: libclang>=13.0.0 in c:\\users\\kreat\\miniconda3\\envs\\tf-gpu\\lib\\site-packages (from tensorflow) (14.0.6)\n",
      "Requirement already satisfied: keras<2.10.0,>=2.9.0rc0 in c:\\users\\kreat\\miniconda3\\envs\\tf-gpu\\lib\\site-packages (from tensorflow) (2.9.0)\n",
      "Requirement already satisfied: tensorboard<2.10,>=2.9 in c:\\users\\kreat\\miniconda3\\envs\\tf-gpu\\lib\\site-packages (from tensorflow) (2.9.1)\n",
      "Requirement already satisfied: setuptools in c:\\users\\kreat\\miniconda3\\envs\\tf-gpu\\lib\\site-packages (from tensorflow) (65.5.0)\n",
      "Requirement already satisfied: termcolor>=1.1.0 in c:\\users\\kreat\\miniconda3\\envs\\tf-gpu\\lib\\site-packages (from tensorflow) (2.1.0)\n",
      "Requirement already satisfied: wrapt>=1.11.0 in c:\\users\\kreat\\miniconda3\\envs\\tf-gpu\\lib\\site-packages (from tensorflow) (1.14.1)\n",
      "Requirement already satisfied: typing-extensions>=3.6.6 in c:\\users\\kreat\\miniconda3\\envs\\tf-gpu\\lib\\site-packages (from tensorflow) (4.4.0)\n",
      "Requirement already satisfied: gast<=0.4.0,>=0.2.1 in c:\\users\\kreat\\miniconda3\\envs\\tf-gpu\\lib\\site-packages (from tensorflow) (0.4.0)\n",
      "Requirement already satisfied: packaging in c:\\users\\kreat\\miniconda3\\envs\\tf-gpu\\lib\\site-packages (from tensorflow) (21.3)\n",
      "Requirement already satisfied: opt-einsum>=2.3.2 in c:\\users\\kreat\\miniconda3\\envs\\tf-gpu\\lib\\site-packages (from tensorflow) (3.3.0)\n",
      "Requirement already satisfied: google-pasta>=0.1.1 in c:\\users\\kreat\\miniconda3\\envs\\tf-gpu\\lib\\site-packages (from tensorflow) (0.2.0)\n",
      "Requirement already satisfied: absl-py>=1.0.0 in c:\\users\\kreat\\miniconda3\\envs\\tf-gpu\\lib\\site-packages (from tensorflow) (1.3.0)\n",
      "Requirement already satisfied: tensorflow-estimator<2.10.0,>=2.9.0rc0 in c:\\users\\kreat\\miniconda3\\envs\\tf-gpu\\lib\\site-packages (from tensorflow) (2.9.0)\n",
      "Requirement already satisfied: astunparse>=1.6.0 in c:\\users\\kreat\\miniconda3\\envs\\tf-gpu\\lib\\site-packages (from tensorflow) (1.6.3)\n",
      "Requirement already satisfied: wheel<1.0,>=0.23.0 in c:\\users\\kreat\\miniconda3\\envs\\tf-gpu\\lib\\site-packages (from astunparse>=1.6.0->tensorflow) (0.37.1)\n",
      "Requirement already satisfied: tensorboard-data-server<0.7.0,>=0.6.0 in c:\\users\\kreat\\miniconda3\\envs\\tf-gpu\\lib\\site-packages (from tensorboard<2.10,>=2.9->tensorflow) (0.6.1)\n",
      "Requirement already satisfied: requests<3,>=2.21.0 in c:\\users\\kreat\\miniconda3\\envs\\tf-gpu\\lib\\site-packages (from tensorboard<2.10,>=2.9->tensorflow) (2.28.1)\n",
      "Requirement already satisfied: google-auth<3,>=1.6.3 in c:\\users\\kreat\\miniconda3\\envs\\tf-gpu\\lib\\site-packages (from tensorboard<2.10,>=2.9->tensorflow) (2.14.0)\n",
      "Requirement already satisfied: google-auth-oauthlib<0.5,>=0.4.1 in c:\\users\\kreat\\miniconda3\\envs\\tf-gpu\\lib\\site-packages (from tensorboard<2.10,>=2.9->tensorflow) (0.4.6)\n",
      "Requirement already satisfied: werkzeug>=1.0.1 in c:\\users\\kreat\\miniconda3\\envs\\tf-gpu\\lib\\site-packages (from tensorboard<2.10,>=2.9->tensorflow) (2.2.2)\n",
      "Requirement already satisfied: markdown>=2.6.8 in c:\\users\\kreat\\miniconda3\\envs\\tf-gpu\\lib\\site-packages (from tensorboard<2.10,>=2.9->tensorflow) (3.4.1)\n",
      "Requirement already satisfied: tensorboard-plugin-wit>=1.6.0 in c:\\users\\kreat\\miniconda3\\envs\\tf-gpu\\lib\\site-packages (from tensorboard<2.10,>=2.9->tensorflow) (1.8.1)\n",
      "Requirement already satisfied: pyparsing!=3.0.5,>=2.0.2 in c:\\users\\kreat\\miniconda3\\envs\\tf-gpu\\lib\\site-packages (from packaging->tensorflow) (3.0.9)\n",
      "Requirement already satisfied: pyasn1-modules>=0.2.1 in c:\\users\\kreat\\miniconda3\\envs\\tf-gpu\\lib\\site-packages (from google-auth<3,>=1.6.3->tensorboard<2.10,>=2.9->tensorflow) (0.2.8)\n",
      "Requirement already satisfied: cachetools<6.0,>=2.0.0 in c:\\users\\kreat\\miniconda3\\envs\\tf-gpu\\lib\\site-packages (from google-auth<3,>=1.6.3->tensorboard<2.10,>=2.9->tensorflow) (5.2.0)\n",
      "Requirement already satisfied: rsa<5,>=3.1.4 in c:\\users\\kreat\\miniconda3\\envs\\tf-gpu\\lib\\site-packages (from google-auth<3,>=1.6.3->tensorboard<2.10,>=2.9->tensorflow) (4.9)\n",
      "Requirement already satisfied: requests-oauthlib>=0.7.0 in c:\\users\\kreat\\miniconda3\\envs\\tf-gpu\\lib\\site-packages (from google-auth-oauthlib<0.5,>=0.4.1->tensorboard<2.10,>=2.9->tensorflow) (1.3.1)\n",
      "Requirement already satisfied: importlib-metadata>=4.4 in c:\\users\\kreat\\miniconda3\\envs\\tf-gpu\\lib\\site-packages (from markdown>=2.6.8->tensorboard<2.10,>=2.9->tensorflow) (5.0.0)\n",
      "Requirement already satisfied: charset-normalizer<3,>=2 in c:\\users\\kreat\\miniconda3\\envs\\tf-gpu\\lib\\site-packages (from requests<3,>=2.21.0->tensorboard<2.10,>=2.9->tensorflow) (2.1.1)\n",
      "Requirement already satisfied: certifi>=2017.4.17 in c:\\users\\kreat\\miniconda3\\envs\\tf-gpu\\lib\\site-packages (from requests<3,>=2.21.0->tensorboard<2.10,>=2.9->tensorflow) (2022.9.24)\n",
      "Requirement already satisfied: urllib3<1.27,>=1.21.1 in c:\\users\\kreat\\miniconda3\\envs\\tf-gpu\\lib\\site-packages (from requests<3,>=2.21.0->tensorboard<2.10,>=2.9->tensorflow) (1.26.12)\n",
      "Requirement already satisfied: idna<4,>=2.5 in c:\\users\\kreat\\miniconda3\\envs\\tf-gpu\\lib\\site-packages (from requests<3,>=2.21.0->tensorboard<2.10,>=2.9->tensorflow) (3.4)\n",
      "Requirement already satisfied: MarkupSafe>=2.1.1 in c:\\users\\kreat\\miniconda3\\envs\\tf-gpu\\lib\\site-packages (from werkzeug>=1.0.1->tensorboard<2.10,>=2.9->tensorflow) (2.1.1)\n",
      "Requirement already satisfied: zipp>=0.5 in c:\\users\\kreat\\miniconda3\\envs\\tf-gpu\\lib\\site-packages (from importlib-metadata>=4.4->markdown>=2.6.8->tensorboard<2.10,>=2.9->tensorflow) (3.10.0)\n",
      "Requirement already satisfied: pyasn1<0.5.0,>=0.4.6 in c:\\users\\kreat\\miniconda3\\envs\\tf-gpu\\lib\\site-packages (from pyasn1-modules>=0.2.1->google-auth<3,>=1.6.3->tensorboard<2.10,>=2.9->tensorflow) (0.4.8)\n",
      "Requirement already satisfied: oauthlib>=3.0.0 in c:\\users\\kreat\\miniconda3\\envs\\tf-gpu\\lib\\site-packages (from requests-oauthlib>=0.7.0->google-auth-oauthlib<0.5,>=0.4.1->tensorboard<2.10,>=2.9->tensorflow) (3.2.2)\n"
     ]
    }
   ],
   "source": [
    "# installation: \n",
    "! pip install lyricsgenius\n",
    "! pip install pandas\n",
    "! pip install regex\n",
    "! pip install matplotlib\n",
    "! pip install tensorflow"
   ]
  },
  {
   "cell_type": "code",
   "execution_count": 2,
   "metadata": {},
   "outputs": [],
   "source": [
    "import pandas as pd\n",
    "import numpy as np\n",
    "import os\n",
    "import matplotlib.pyplot as plt\n",
    "from keras.preprocessing.text import Tokenizer"
   ]
  },
  {
   "cell_type": "code",
   "execution_count": 3,
   "metadata": {},
   "outputs": [],
   "source": [
    "# file paths\n",
    "root = '/'\n",
    "kaggleDataset = root + 'datasets/kaggleData/'\n",
    "geniusDataset = root + 'datasets/geniusClean/'\n"
   ]
  },
  {
   "cell_type": "code",
   "execution_count": 4,
   "metadata": {},
   "outputs": [],
   "source": [
    "# make a function out of the above code with the file path as input\n",
    "def createDfFromFiles(path):\n",
    "    # make the path from current directory and the input path\n",
    "    pathComp = os.getcwd() + path\n",
    "\n",
    "    # create a tuple from files in kaggle dataset with the file name and the file content, with latin-1 encoding\n",
    "    files = [(file, open(pathComp + file, 'r', encoding='latin-1').read()) for file in os.listdir(pathComp)]\n",
    "\n",
    "    # delete all .txt from filename\n",
    "    files = [(file.replace('.txt', ''), content) for file, content in files]\n",
    "\n",
    "    # delete all Lyrics_ from filename\n",
    "    files = [(file.replace('Lyrics_', ''), content) for file, content in files]\n",
    "\n",
    "    # replace all \\n with space\n",
    "    files = [(file, content.replace('\\n', ' ')) for file, content in files]\n",
    "\n",
    "    # replace all double spaces with single space\n",
    "    files = [(file, content.replace('  ', ' ')) for file, content in files]\n",
    "\n",
    "    # delete all spaces at the beginning of the string\n",
    "    files = [(file, content.lstrip()) for file, content in files]\n",
    "\n",
    "    # create a dataframe from the tuple\n",
    "    df = pd.DataFrame(files, columns=['artist', 'lyrics'])\n",
    "\n",
    "    return df\n",
    "\n",
    "kaggle_df = createDfFromFiles(kaggleDataset)\n",
    "genius_df = createDfFromFiles(geniusDataset)"
   ]
  },
  {
   "cell_type": "code",
   "execution_count": 5,
   "metadata": {},
   "outputs": [],
   "source": [
    "# add number of words to the dataframe\n",
    "kaggle_df['num_words'] = kaggle_df['lyrics'].apply(lambda x: len(x.split()))\n",
    "genius_df['num_words'] = genius_df['lyrics'].apply(lambda x: len(x.split()))"
   ]
  },
  {
   "cell_type": "code",
   "execution_count": 6,
   "metadata": {},
   "outputs": [
    {
     "name": "stdout",
     "output_type": "stream",
     "text": [
      "(49, 3)\n"
     ]
    },
    {
     "data": {
      "text/html": [
       "<div>\n",
       "<style scoped>\n",
       "    .dataframe tbody tr th:only-of-type {\n",
       "        vertical-align: middle;\n",
       "    }\n",
       "\n",
       "    .dataframe tbody tr th {\n",
       "        vertical-align: top;\n",
       "    }\n",
       "\n",
       "    .dataframe thead th {\n",
       "        text-align: right;\n",
       "    }\n",
       "</style>\n",
       "<table border=\"1\" class=\"dataframe\">\n",
       "  <thead>\n",
       "    <tr style=\"text-align: right;\">\n",
       "      <th></th>\n",
       "      <th>artist</th>\n",
       "      <th>lyrics</th>\n",
       "      <th>num_words</th>\n",
       "    </tr>\n",
       "  </thead>\n",
       "  <tbody>\n",
       "    <tr>\n",
       "      <th>0</th>\n",
       "      <td>adele</td>\n",
       "      <td>Looking for some education Made my way into th...</td>\n",
       "      <td>18978</td>\n",
       "    </tr>\n",
       "    <tr>\n",
       "      <th>1</th>\n",
       "      <td>al-green</td>\n",
       "      <td>Let's stay together I, I'm I'm so in love with...</td>\n",
       "      <td>16637</td>\n",
       "    </tr>\n",
       "    <tr>\n",
       "      <th>2</th>\n",
       "      <td>alicia-keys</td>\n",
       "      <td>Ooh....... New York x2 Grew up in a town that ...</td>\n",
       "      <td>23241</td>\n",
       "    </tr>\n",
       "    <tr>\n",
       "      <th>3</th>\n",
       "      <td>amy-winehouse</td>\n",
       "      <td>Build your dreams to the stars above But when ...</td>\n",
       "      <td>15604</td>\n",
       "    </tr>\n",
       "    <tr>\n",
       "      <th>4</th>\n",
       "      <td>beatles</td>\n",
       "      <td>Yesterday, all my troubles seemed so far away ...</td>\n",
       "      <td>14340</td>\n",
       "    </tr>\n",
       "  </tbody>\n",
       "</table>\n",
       "</div>"
      ],
      "text/plain": [
       "          artist                                             lyrics  num_words\n",
       "0          adele  Looking for some education Made my way into th...      18978\n",
       "1       al-green  Let's stay together I, I'm I'm so in love with...      16637\n",
       "2    alicia-keys  Ooh....... New York x2 Grew up in a town that ...      23241\n",
       "3  amy-winehouse  Build your dreams to the stars above But when ...      15604\n",
       "4        beatles  Yesterday, all my troubles seemed so far away ...      14340"
      ]
     },
     "execution_count": 6,
     "metadata": {},
     "output_type": "execute_result"
    }
   ],
   "source": [
    "print(kaggle_df.shape)\n",
    "kaggle_df.head()\n"
   ]
  },
  {
   "cell_type": "code",
   "execution_count": 7,
   "metadata": {},
   "outputs": [
    {
     "name": "stdout",
     "output_type": "stream",
     "text": [
      "(48, 3)\n"
     ]
    },
    {
     "data": {
      "text/html": [
       "<div>\n",
       "<style scoped>\n",
       "    .dataframe tbody tr th:only-of-type {\n",
       "        vertical-align: middle;\n",
       "    }\n",
       "\n",
       "    .dataframe tbody tr th {\n",
       "        vertical-align: top;\n",
       "    }\n",
       "\n",
       "    .dataframe thead th {\n",
       "        text-align: right;\n",
       "    }\n",
       "</style>\n",
       "<table border=\"1\" class=\"dataframe\">\n",
       "  <thead>\n",
       "    <tr style=\"text-align: right;\">\n",
       "      <th></th>\n",
       "      <th>artist</th>\n",
       "      <th>lyrics</th>\n",
       "      <th>num_words</th>\n",
       "    </tr>\n",
       "  </thead>\n",
       "  <tbody>\n",
       "    <tr>\n",
       "      <th>0</th>\n",
       "      <td>AndyWilliams</td>\n",
       "      <td>Moon River LyricsMoon river wider than a mile ...</td>\n",
       "      <td>3212</td>\n",
       "    </tr>\n",
       "    <tr>\n",
       "      <th>1</th>\n",
       "      <td>BadBunnyABRA</td>\n",
       "      <td>TranslationsEnglishDeutschSORRY PAPI Lyrics  E...</td>\n",
       "      <td>358</td>\n",
       "    </tr>\n",
       "    <tr>\n",
       "      <th>2</th>\n",
       "      <td>BadBunnyDaddyYankee</td>\n",
       "      <td>TranslationsDeutschFranaisEnglishLa Santa Lyri...</td>\n",
       "      <td>533</td>\n",
       "    </tr>\n",
       "    <tr>\n",
       "      <th>3</th>\n",
       "      <td>BadBunnyDonOmar</td>\n",
       "      <td>TranslationsEnglishDeutschPA ROMPERLA Lyrics  ...</td>\n",
       "      <td>454</td>\n",
       "    </tr>\n",
       "    <tr>\n",
       "      <th>4</th>\n",
       "      <td>BadBunnyJhayCortez</td>\n",
       "      <td>TranslationsTrkePortugusDeutschEnglishDKITI Ly...</td>\n",
       "      <td>1925</td>\n",
       "    </tr>\n",
       "  </tbody>\n",
       "</table>\n",
       "</div>"
      ],
      "text/plain": [
       "                artist                                             lyrics  \\\n",
       "0         AndyWilliams  Moon River LyricsMoon river wider than a mile ...   \n",
       "1         BadBunnyABRA  TranslationsEnglishDeutschSORRY PAPI Lyrics  E...   \n",
       "2  BadBunnyDaddyYankee  TranslationsDeutschFranaisEnglishLa Santa Lyri...   \n",
       "3      BadBunnyDonOmar  TranslationsEnglishDeutschPA ROMPERLA Lyrics  ...   \n",
       "4   BadBunnyJhayCortez  TranslationsTrkePortugusDeutschEnglishDKITI Ly...   \n",
       "\n",
       "   num_words  \n",
       "0       3212  \n",
       "1        358  \n",
       "2        533  \n",
       "3        454  \n",
       "4       1925  "
      ]
     },
     "execution_count": 7,
     "metadata": {},
     "output_type": "execute_result"
    }
   ],
   "source": [
    "print(genius_df.shape)\n",
    "genius_df.head()"
   ]
  },
  {
   "cell_type": "code",
   "execution_count": 8,
   "metadata": {},
   "outputs": [
    {
     "data": {
      "text/plain": [
       "count       49.000000\n",
       "mean     27504.102041\n",
       "std      14472.807904\n",
       "min       6343.000000\n",
       "25%      16637.000000\n",
       "50%      23241.000000\n",
       "75%      38203.000000\n",
       "max      64483.000000\n",
       "Name: num_words, dtype: float64"
      ]
     },
     "execution_count": 8,
     "metadata": {},
     "output_type": "execute_result"
    }
   ],
   "source": [
    "kaggle_df['num_words'].describe()"
   ]
  },
  {
   "cell_type": "code",
   "execution_count": 9,
   "metadata": {},
   "outputs": [
    {
     "data": {
      "image/png": "[encoded data removed]",
      "text/plain": [
       "<Figure size 1500x500 with 2 Axes>"
      ]
     },
     "metadata": {},
     "output_type": "display_data"
    }
   ],
   "source": [
    "# plot frequency distribution of number of words for genius_df and kaggle_df dataset in seperate plots\n",
    "fig, ax = plt.subplots(1, 2, figsize=(15, 5))\n",
    "ax[0].hist(kaggle_df['num_words'], bins=100)\n",
    "ax[0].set_title('Kaggle Dataset')\n",
    "ax[1].hist(genius_df['num_words'], bins=100)\n",
    "ax[1].set_title('Genius Dataset')\n",
    "plt.show()\n"
   ]
  },
  {
   "cell_type": "code",
   "execution_count": 10,
   "metadata": {},
   "outputs": [],
   "source": [
    "# get 10 most used words in lyrics from df\n",
    "def getMostUsedWords(df, n):\n",
    "    # get all words from lyrics\n",
    "    words = ' '.join(df['lyrics']).split()\n",
    "\n",
    "    # create a dictionary with the words as keys and the number of times it appears as value\n",
    "    wordsDict = {word: words.count(word) for word in words}\n",
    "\n",
    "    # sort the dictionary by the values\n",
    "    wordsDict = {k: v for k, v in sorted(wordsDict.items(), key=lambda item: item[1], reverse=True)}\n",
    "\n",
    "    # get the first n words from the dictionary\n",
    "    words = list(wordsDict.keys())[:n]\n",
    "\n",
    "    # get the first n values from the dictionary\n",
    "    values = list(wordsDict.values())[:n]\n",
    "\n",
    "    # return the words and values\n",
    "    return words, values\n",
    "\n",
    "\n"
   ]
  },
  {
   "cell_type": "code",
   "execution_count": 11,
   "metadata": {},
   "outputs": [],
   "source": [
    "#kaggle_mostUsedWords = getMostUsedWords(kaggle_df, 30)\n",
    "#genius_mostUsedWords = getMostUsedWords(genius_df, 30)\n",
    "\n",
    "#print(kaggle_mostUsedWords)\n",
    "#print(genius_mostUsedWords)"
   ]
  },
  {
   "cell_type": "markdown",
   "metadata": {},
   "source": [
    "### Merge Lyrics Datasets"
   ]
  },
  {
   "cell_type": "code",
   "execution_count": 12,
   "metadata": {},
   "outputs": [
    {
     "data": {
      "text/html": [
       "<div>\n",
       "<style scoped>\n",
       "    .dataframe tbody tr th:only-of-type {\n",
       "        vertical-align: middle;\n",
       "    }\n",
       "\n",
       "    .dataframe tbody tr th {\n",
       "        vertical-align: top;\n",
       "    }\n",
       "\n",
       "    .dataframe thead th {\n",
       "        text-align: right;\n",
       "    }\n",
       "</style>\n",
       "<table border=\"1\" class=\"dataframe\">\n",
       "  <thead>\n",
       "    <tr style=\"text-align: right;\">\n",
       "      <th></th>\n",
       "      <th>artist</th>\n",
       "      <th>lyrics</th>\n",
       "      <th>num_words</th>\n",
       "    </tr>\n",
       "  </thead>\n",
       "  <tbody>\n",
       "    <tr>\n",
       "      <th>0</th>\n",
       "      <td>adele</td>\n",
       "      <td>Looking for some education Made my way into th...</td>\n",
       "      <td>18978</td>\n",
       "    </tr>\n",
       "    <tr>\n",
       "      <th>1</th>\n",
       "      <td>al-green</td>\n",
       "      <td>Let's stay together I, I'm I'm so in love with...</td>\n",
       "      <td>16637</td>\n",
       "    </tr>\n",
       "    <tr>\n",
       "      <th>2</th>\n",
       "      <td>alicia-keys</td>\n",
       "      <td>Ooh....... New York x2 Grew up in a town that ...</td>\n",
       "      <td>23241</td>\n",
       "    </tr>\n",
       "    <tr>\n",
       "      <th>3</th>\n",
       "      <td>amy-winehouse</td>\n",
       "      <td>Build your dreams to the stars above But when ...</td>\n",
       "      <td>15604</td>\n",
       "    </tr>\n",
       "    <tr>\n",
       "      <th>4</th>\n",
       "      <td>beatles</td>\n",
       "      <td>Yesterday, all my troubles seemed so far away ...</td>\n",
       "      <td>14340</td>\n",
       "    </tr>\n",
       "  </tbody>\n",
       "</table>\n",
       "</div>"
      ],
      "text/plain": [
       "          artist                                             lyrics  num_words\n",
       "0          adele  Looking for some education Made my way into th...      18978\n",
       "1       al-green  Let's stay together I, I'm I'm so in love with...      16637\n",
       "2    alicia-keys  Ooh....... New York x2 Grew up in a town that ...      23241\n",
       "3  amy-winehouse  Build your dreams to the stars above But when ...      15604\n",
       "4        beatles  Yesterday, all my troubles seemed so far away ...      14340"
      ]
     },
     "execution_count": 12,
     "metadata": {},
     "output_type": "execute_result"
    }
   ],
   "source": [
    "# merge lyrics from genius_df and kaggle_df\n",
    "lyrics_df = pd.concat([kaggle_df, genius_df], ignore_index=True)\n",
    "lyrics_df.head()"
   ]
  },
  {
   "cell_type": "code",
   "execution_count": 13,
   "metadata": {},
   "outputs": [
    {
     "data": {
      "text/html": [
       "<div>\n",
       "<style scoped>\n",
       "    .dataframe tbody tr th:only-of-type {\n",
       "        vertical-align: middle;\n",
       "    }\n",
       "\n",
       "    .dataframe tbody tr th {\n",
       "        vertical-align: top;\n",
       "    }\n",
       "\n",
       "    .dataframe thead th {\n",
       "        text-align: right;\n",
       "    }\n",
       "</style>\n",
       "<table border=\"1\" class=\"dataframe\">\n",
       "  <thead>\n",
       "    <tr style=\"text-align: right;\">\n",
       "      <th></th>\n",
       "      <th>num_words</th>\n",
       "    </tr>\n",
       "  </thead>\n",
       "  <tbody>\n",
       "    <tr>\n",
       "      <th>count</th>\n",
       "      <td>97.000000</td>\n",
       "    </tr>\n",
       "    <tr>\n",
       "      <th>mean</th>\n",
       "      <td>15903.463918</td>\n",
       "    </tr>\n",
       "    <tr>\n",
       "      <th>std</th>\n",
       "      <td>15791.908510</td>\n",
       "    </tr>\n",
       "    <tr>\n",
       "      <th>min</th>\n",
       "      <td>250.000000</td>\n",
       "    </tr>\n",
       "    <tr>\n",
       "      <th>25%</th>\n",
       "      <td>3690.000000</td>\n",
       "    </tr>\n",
       "    <tr>\n",
       "      <th>50%</th>\n",
       "      <td>11102.000000</td>\n",
       "    </tr>\n",
       "    <tr>\n",
       "      <th>75%</th>\n",
       "      <td>23241.000000</td>\n",
       "    </tr>\n",
       "    <tr>\n",
       "      <th>max</th>\n",
       "      <td>64483.000000</td>\n",
       "    </tr>\n",
       "  </tbody>\n",
       "</table>\n",
       "</div>"
      ],
      "text/plain": [
       "          num_words\n",
       "count     97.000000\n",
       "mean   15903.463918\n",
       "std    15791.908510\n",
       "min      250.000000\n",
       "25%     3690.000000\n",
       "50%    11102.000000\n",
       "75%    23241.000000\n",
       "max    64483.000000"
      ]
     },
     "execution_count": 13,
     "metadata": {},
     "output_type": "execute_result"
    }
   ],
   "source": [
    "lyrics_df.describe()"
   ]
  },
  {
   "cell_type": "markdown",
   "metadata": {},
   "source": [
    "## Tokenization"
   ]
  },
  {
   "cell_type": "code",
   "execution_count": 14,
   "metadata": {},
   "outputs": [
    {
     "name": "stdout",
     "output_type": "stream",
     "text": [
      "37428\n"
     ]
    }
   ],
   "source": [
    "# define Toekeizer\n",
    "kerasTokenizer = Tokenizer()\n",
    "\n",
    "# fit the tokenizer on the lyrics\n",
    "kerasTokenizer.fit_on_texts(lyrics_df['lyrics'].astype(str).str.lower())\n",
    "\n",
    "num_words = len(kerasTokenizer.word_index) + 1\n",
    "print(num_words)\n",
    "\n",
    "tokenSentences = kerasTokenizer.texts_to_sequences(lyrics_df['lyrics'].astype(str).str.lower())\n",
    "\n",
    "#print(tokenSentences[0])"
   ]
  },
  {
   "cell_type": "code",
   "execution_count": 15,
   "metadata": {},
   "outputs": [],
   "source": [
    "# sequence into n-grams\n",
    "input_seq = list()\n",
    "\n",
    "for i in tokenSentences:\n",
    "    for j in range(1, len(i)):\n",
    "        n_gram_sequence = i[:j+1]\n",
    "        input_seq.append(n_gram_sequence)\n",
    "\n"
   ]
  },
  {
   "cell_type": "code",
   "execution_count": null,
   "metadata": {},
   "outputs": [],
   "source": []
  }
 ],
 "metadata": {
  "kernelspec": {
   "display_name": "Python 3.9.13 ('tf-gpu')",
   "language": "python",
   "name": "python3"
  },
  "language_info": {
   "codemirror_mode": {
    "name": "ipython",
    "version": 3
   },
   "file_extension": ".py",
   "mimetype": "text/x-python",
   "name": "python",
   "nbconvert_exporter": "python",
   "pygments_lexer": "ipython3",
   "version": "3.9.13"
  },
  "orig_nbformat": 4,
  "vscode": {
   "interpreter": {
    "hash": "9247843980a59c82d074dbaf44978d614257b5bffcf9ed02a94467dfa00386e5"
   }
  }
 },
 "nbformat": 4,
 "nbformat_minor": 2
}
